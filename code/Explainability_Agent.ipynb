{
 "cells": [
  {
   "cell_type": "markdown",
   "metadata": {},
   "source": [
    "# Explainability Agent"
   ]
  },
  {
   "cell_type": "markdown",
   "metadata": {},
   "source": [
    "zu klären:\n",
    "- lime: as_list\n",
    "- shap: https://github.com/slundberg/shap/issues/632\n",
    "- ebm Output = Feature importance?\n",
    "\n",
    "Goal: nur model, welches wir am Ende nehmen, erklären\n",
    "\n",
    "Overall: nach activity agent bestes model (accuracy) hier rein, kommt aus Kai's Liste für verschiedene Households --> feature importance als input für recommendation\n",
    "\n",
    "Recommendation verlängern: Unsere Empfehlung sprechen wir aus, weil wir denken, dass du heute den tumble dryer benutzt, weil 3 höchste feature importances. \n",
    "\n",
    "Features in Lesbares umwandeln, z.B. activity_lag_1 --> Du warst in den letzten 24 Stunden zuhause.\n",
    "--> Wenn aber alle 3 letzten Features activity_lags sind, nehmen wir die 4. feature importance statt der 2. und 3. oder so\n",
    "\n",
    "Plot: \n",
    "- shap: feature importance: image = True\n",
    "- lime: \n",
    "\n",
    "Recommendation an sich: \n",
    "- relative savings aus Alonas Paper?"
   ]
  },
  {
   "cell_type": "code",
   "execution_count": null,
   "metadata": {},
   "outputs": [],
   "source": [
    "class Explainability_Agent:\n",
    "    def __init__(self, pred_model, X_train_activity, X_test_activity, best_hour):\n",
    "        self.pred_model = pred_model\n",
    "        self.X_train_activity = X_train_activity\n",
    "        self.X_test_activity = X_test_activity\n",
    "        self.best_hour = best_hour\n",
    "\n",
    "        if model_type == \"logit\":\n",
    "            X_train_summary = shap.kmeans(X_train_activity, 10)\n",
    "            explainer = shap.KernelExplainer(model_activity.predict_proba, X_train_summary)\n",
    "\n",
    "        elif model_type == \"ada\":\n",
    "            X_train_summary = shap.kmeans(X_train_activity, 10)\n",
    "            explainer = shap.KernelExplainer(model_activity.predict_proba, X_train_summary)\n",
    "\n",
    "        elif model_type == \"knn\":\n",
    "            X_train_summary = shap.kmeans(X_train_activity, 10)\n",
    "            explainer = shap.KernelExplainer(model_activity.predict_proba, X_train_summary)\n",
    "\n",
    "        elif model_type == \"random forest\":\n",
    "            explainer = shap.TreeExplainer(model_activity, X_train_activity)\n",
    "\n",
    "        elif model_type == \"xgboost\":\n",
    "            explainer = shap.TreeExplainer(model_activity, X_train_activity, model_output='predict_proba')\n",
    "        else:\n",
    "            raise InputError(\"Unknown model type.\")\n",
    "\n",
    "        shap_values = explainer.shap_values(\n",
    "                        X_test_activity.iloc[best_hour, :])\n",
    "\n",
    "        vals= np.abs(shap_values).mean(0)\n",
    "\n",
    "        feature_importance = pd.DataFrame(list(zip(features.columns, sum(vals))), columns=['col_name','feature_importance_vals'])\n",
    "        feature_importance.sort_values(by=['feature_importance_vals'], ascending=False,inplace=True)\n",
    "        feature_importance.head()\n",
    "\n",
    "        return feature_importance"
   ]
  }
 ],
 "metadata": {
  "kernelspec": {
   "display_name": "Python 3",
   "language": "python",
   "name": "python3"
  },
  "language_info": {
   "codemirror_mode": {
    "name": "ipython",
    "version": 3
   },
   "file_extension": ".py",
   "mimetype": "text/x-python",
   "name": "python",
   "nbconvert_exporter": "python",
   "pygments_lexer": "ipython3",
   "version": "3.8.3"
  }
 },
 "nbformat": 4,
 "nbformat_minor": 2
}