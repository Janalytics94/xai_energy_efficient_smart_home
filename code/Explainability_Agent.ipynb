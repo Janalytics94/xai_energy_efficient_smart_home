{
 "cells": [
  {
   "cell_type": "markdown",
   "metadata": {},
   "source": [
    "# Explainability Agent"
   ]
  },
  {
   "cell_type": "markdown",
   "metadata": {},
   "source": [
    "zu klären:\n",
    "- lime: as_list\n",
    "- shap: https://github.com/slundberg/shap/issues/632\n",
    "- logit: fällt wahrscheinlich raus / zu schlecht, ada wahrscheinlich auch\n",
    "- ebm Output = Feature importance?\n",
    "- verschiedene Modelle für activity & usage? --> hinterher die pickles zusammenwerfen?\n",
    "\n",
    "Goal: nur model, welches wir am Ende nehmen, erklären\n",
    "\n",
    "Overall: nach activity agent bestes model (accuracy) hier rein, kommt aus Kai's Liste für verschiedene Households --> feature importance als input für recommendation\n",
    "\n",
    "Recommendation verlängern: Unsere Empfehlung sprechen wir aus, weil wir denken, dass du heute den tumble dryer benutzt, weil 3 höchste feature importances. \n",
    "\n",
    "Features in Lesbares umwandeln, z.B. activity_lag_1 --> Du warst in den letzten 24 Stunden zuhause.\n",
    "--> Wenn aber alle 3 letzten Features activity_lags sind, nehmen wir die 4. feature importance statt der 2. und 3. oder so\n",
    "\n",
    "Plot: \n",
    "- shap: feature importance: image = True\n",
    "- lime: \n",
    "\n",
    "Recommendation an sich: \n",
    "- relative savings aus Alonas Paper?"
   ]
  },
  {
   "cell_type": "code",
   "execution_count": null,
   "metadata": {},
   "outputs": [],
   "source": [
    "class Explainability_Agent:\n",
    "    def __init__(self):\n",
    "        ### Agents as input ?\n",
    "        ### get feature importances \n",
    "        "
   ]
  }
 ],
 "metadata": {
  "kernelspec": {
   "display_name": "Python 3",
   "language": "python",
   "name": "python3"
  },
  "language_info": {
   "codemirror_mode": {
    "name": "ipython",
    "version": 3
   },
   "file_extension": ".py",
   "mimetype": "text/x-python",
   "name": "python",
   "nbconvert_exporter": "python",
   "pygments_lexer": "ipython3",
   "version": "3.8.3"
  }
 },
 "nbformat": 4,
 "nbformat_minor": 2
}