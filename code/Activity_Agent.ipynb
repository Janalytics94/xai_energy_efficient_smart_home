{
 "cells": [
  {
   "cell_type": "markdown",
   "metadata": {
    "id": "eWcGAGgFE_M7"
   },
   "source": [
    "# **Activity Agent**\n",
    "\n",
    "The activity agent will be responsible for predicting the user's activity for a given day. It will produce activity probabilities for the given user and the given day on an hourly level. These hourly activity probabilities will be processed by the subsequent recommendation agent to determine for which hours our framework should make recommendations. As input the activity agent receives the prepared data from the preparation agent.\n",
    "\n",
    "We will define an activity agent class, add necessary functions to the agent, explain each step and build our final activity agent pipeline. A complete activity agent class definition will be available in the appendix to this notebook."
   ]
  },
  {
   "cell_type": "markdown",
   "metadata": {
    "id": "OrrXBEI4s6zc"
   },
   "source": [
    "## **1. Preparing the Environment**"
   ]
  },
  {
   "cell_type": "markdown",
   "metadata": {
    "id": "tJ4EHWrhW6_m"
   },
   "source": [
    "### **1.1 Loading the Libraries and the Data**\n",
    "\n",
    "Steps to set up the environment for the activity agent include loading the necessary libraries, data and preceding agents.\n"
   ]
  },
  {
   "cell_type": "code",
   "execution_count": 1,
   "metadata": {
    "executionInfo": {
     "elapsed": 38554,
     "status": "ok",
     "timestamp": 1607622434744,
     "user": {
      "displayName": "Leon H",
      "photoUrl": "",
      "userId": "10150017554198726068"
     },
     "user_tz": -60
    },
    "id": "VzS_qOg8teXQ"
   },
   "outputs": [],
   "source": [
    "import pandas as pd\n",
    "import numpy as np\n",
    "\n",
    "from helper_functions import Helper\n",
    "from agents import Preparation_Agent\n",
    "\n",
    "helper = Helper()"
   ]
  },
  {
   "cell_type": "code",
   "execution_count": 2,
   "metadata": {},
   "outputs": [],
   "source": [
    "# ML Models\n",
    "\n",
    "# More ML Models\n",
    "import sklearn as sk \n",
    "from sklearn.linear_model import LogisticRegression\n",
    "from sklearn.neural_network import MLPClassifier\n",
    "from sklearn.neighbors import KNeighborsClassifier\n",
    "from sklearn.svm import SVC\n",
    "from sklearn.gaussian_process import GaussianProcessClassifier\n",
    "from sklearn.gaussian_process.kernels import RBF\n",
    "from sklearn.tree import DecisionTreeClassifier\n",
    "from sklearn.ensemble import RandomForestClassifier, AdaBoostClassifier\n",
    "from sklearn.naive_bayes import GaussianNB\n",
    "from sklearn.discriminant_analysis import QuadraticDiscriminantAnalysis"
   ]
  },
  {
   "cell_type": "code",
   "execution_count": 3,
   "metadata": {},
   "outputs": [],
   "source": [
    "DATA_PATH = '../data/'"
   ]
  },
  {
   "cell_type": "code",
   "execution_count": 4,
   "metadata": {
    "executionInfo": {
     "elapsed": 50814,
     "status": "ok",
     "timestamp": 1607622447009,
     "user": {
      "displayName": "Leon H",
      "photoUrl": "",
      "userId": "10150017554198726068"
     },
     "user_tz": -60
    },
    "id": "qCjWp7PIAeSZ"
   },
   "outputs": [],
   "source": [
    "# load household data\n",
    "household = helper.load_household(DATA_PATH, 1)"
   ]
  },
  {
   "cell_type": "markdown",
   "metadata": {
    "id": "QisezqyFAt39"
   },
   "source": [
    "### **1.2 Calling the Preparation Agent**\n",
    "\n",
    "To receive the necessary input for the activity agent, we will call the activity pipeline function of the preparation agent. We will specify the input data and the necessary configurations. As a quick validation that the preparation pipeline worked properly, we will plot the hourly activity of the household.\n",
    "\n",
    "The current input data includes only a few time features and activity lags. However, our agent architecture allows to expand the inputs to the activity agent to further features or further data sources (e.g. whether data). For the purpose of demonstrating the functionality of our framework, we only use the inputs from the prepared REFIT data. \n"
   ]
  },
  {
   "cell_type": "code",
   "execution_count": 6,
   "metadata": {
    "executionInfo": {
     "elapsed": 50821,
     "status": "ok",
     "timestamp": 1607622447021,
     "user": {
      "displayName": "Leon H",
      "photoUrl": "",
      "userId": "10150017554198726068"
     },
     "user_tz": -60
    },
    "id": "CP1f_6EvAygB"
   },
   "outputs": [],
   "source": [
    "truncation_params = {\n",
    "    'features': 'all', \n",
    "    'factor': 1.5, \n",
    "    'verbose': 1\n",
    "}\n",
    "\n",
    "scale_params = {\n",
    "    'features': 'all', \n",
    "    'kind': 'MinMax', \n",
    "    'verbose': 1\n",
    "}\n",
    "\n",
    "aggregate_params = {\n",
    "    'resample_param': '60T'\n",
    "}\n",
    "\n",
    "activity_params = {\n",
    "    'active_appliances': ['Tumble Dryer', 'Washing Machine', 'Dishwasher', 'Computer Site', 'Television Site'],\n",
    "    'threshold': .15\n",
    "}\n",
    "\n",
    "time_params = {\n",
    "    'features': ['hour', 'day_name']\n",
    "}\n",
    "\n",
    "activity_lag_params = {\n",
    "    'features': ['activity'],\n",
    "    'lags': [24, 48, 72]\n",
    "}\n",
    "\n",
    "activity_pipe_params = {\n",
    "    'truncate': truncation_params,\n",
    "    'scale': scale_params,\n",
    "    'aggregate': aggregate_params,\n",
    "    'activity': activity_params,\n",
    "    'time': time_params,\n",
    "    'activity_lag': activity_lag_params\n",
    "}"
   ]
  },
  {
   "cell_type": "code",
   "execution_count": 7,
   "metadata": {
    "colab": {
     "base_uri": "https://localhost:8080/",
     "height": 1000
    },
    "executionInfo": {
     "elapsed": 108175,
     "status": "ok",
     "timestamp": 1607622504415,
     "user": {
      "displayName": "Leon H",
      "photoUrl": "",
      "userId": "10150017554198726068"
     },
     "user_tz": -60
    },
    "id": "NOrSOdufBY5q",
    "outputId": "c00ab194-b017-4105-c8a4-336e8f38820d"
   },
   "outputs": [],
   "source": [
    "# calling the preparation pipeline\n",
    "prep = Preparation_Agent(household)\n",
    "df = prep.pipeline_activity(household, activity_pipe_params)\n",
    "df"
   ]
  },
  {
   "cell_type": "code",
   "execution_count": 31,
   "metadata": {
    "colab": {
     "base_uri": "https://localhost:8080/",
     "height": 295
    },
    "executionInfo": {
     "elapsed": 108144,
     "status": "ok",
     "timestamp": 1607622504422,
     "user": {
      "displayName": "Leon H",
      "photoUrl": "",
      "userId": "10150017554198726068"
     },
     "user_tz": -60
    },
    "id": "XMEj_9y2CnVv",
    "outputId": "28c159c0-4117-4647-df05-a6ed797ee05a"
   },
   "outputs": [
    {
     "output_type": "display_data",
     "data": {
      "text/plain": "<Figure size 432x288 with 1 Axes>",
      "image/svg+xml": "<?xml version=\"1.0\" encoding=\"utf-8\" standalone=\"no\"?>\n<!DOCTYPE svg PUBLIC \"-//W3C//DTD SVG 1.1//EN\"\n  \"http://www.w3.org/Graphics/SVG/1.1/DTD/svg11.dtd\">\n<svg height=\"277.314375pt\" version=\"1.1\" viewBox=\"0 0 372.103125 277.314375\" width=\"372.103125pt\" xmlns=\"http://www.w3.org/2000/svg\" xmlns:xlink=\"http://www.w3.org/1999/xlink\">\n <metadata>\n  <rdf:RDF xmlns:cc=\"http://creativecommons.org/ns#\" xmlns:dc=\"http://purl.org/dc/elements/1.1/\" xmlns:rdf=\"http://www.w3.org/1999/02/22-rdf-syntax-ns#\">\n   <cc:Work>\n    <dc:type rdf:resource=\"http://purl.org/dc/dcmitype/StillImage\"/>\n    <dc:date>2021-05-29T05:37:50.994584</dc:date>\n    <dc:format>image/svg+xml</dc:format>\n    <dc:creator>\n     <cc:Agent>\n      <dc:title>Matplotlib v3.4.2, https://matplotlib.org/</dc:title>\n     </cc:Agent>\n    </dc:creator>\n   </cc:Work>\n  </rdf:RDF>\n </metadata>\n <defs>\n  <style type=\"text/css\">*{stroke-linecap:butt;stroke-linejoin:round;}</style>\n </defs>\n <g id=\"figure_1\">\n  <g id=\"patch_1\">\n   <path d=\"M 0 277.314375 \nL 372.103125 277.314375 \nL 372.103125 0 \nL 0 0 \nz\n\" style=\"fill:none;\"/>\n  </g>\n  <g id=\"axes_1\">\n   <g id=\"patch_2\">\n    <path d=\"M 30.103125 239.758125 \nL 364.903125 239.758125 \nL 364.903125 22.318125 \nL 30.103125 22.318125 \nz\n\" style=\"fill:#ffffff;\"/>\n   </g>\n   <g id=\"matplotlib.axis_1\">\n    <g id=\"xtick_1\">\n     <g id=\"line2d_1\">\n      <defs>\n       <path d=\"M 0 0 \nL 0 3.5 \n\" id=\"me302ba59a4\" style=\"stroke:#000000;stroke-width:0.8;\"/>\n      </defs>\n      <g>\n       <use style=\"stroke:#000000;stroke-width:0.8;\" x=\"45.321307\" xlink:href=\"#me302ba59a4\" y=\"239.758125\"/>\n      </g>\n     </g>\n     <g id=\"text_1\">\n      <!-- 0 -->\n      <g transform=\"translate(42.140057 254.356562)scale(0.1 -0.1)\">\n       <defs>\n        <path d=\"M 2034 4250 \nQ 1547 4250 1301 3770 \nQ 1056 3291 1056 2328 \nQ 1056 1369 1301 889 \nQ 1547 409 2034 409 \nQ 2525 409 2770 889 \nQ 3016 1369 3016 2328 \nQ 3016 3291 2770 3770 \nQ 2525 4250 2034 4250 \nz\nM 2034 4750 \nQ 2819 4750 3233 4129 \nQ 3647 3509 3647 2328 \nQ 3647 1150 3233 529 \nQ 2819 -91 2034 -91 \nQ 1250 -91 836 529 \nQ 422 1150 422 2328 \nQ 422 3509 836 4129 \nQ 1250 4750 2034 4750 \nz\n\" id=\"DejaVuSans-30\" transform=\"scale(0.015625)\"/>\n       </defs>\n       <use xlink:href=\"#DejaVuSans-30\"/>\n      </g>\n     </g>\n    </g>\n    <g id=\"xtick_2\">\n     <g id=\"line2d_2\">\n      <g>\n       <use style=\"stroke:#000000;stroke-width:0.8;\" x=\"111.487315\" xlink:href=\"#me302ba59a4\" y=\"239.758125\"/>\n      </g>\n     </g>\n     <g id=\"text_2\">\n      <!-- 5 -->\n      <g transform=\"translate(108.306065 254.356562)scale(0.1 -0.1)\">\n       <defs>\n        <path d=\"M 691 4666 \nL 3169 4666 \nL 3169 4134 \nL 1269 4134 \nL 1269 2991 \nQ 1406 3038 1543 3061 \nQ 1681 3084 1819 3084 \nQ 2600 3084 3056 2656 \nQ 3513 2228 3513 1497 \nQ 3513 744 3044 326 \nQ 2575 -91 1722 -91 \nQ 1428 -91 1123 -41 \nQ 819 9 494 109 \nL 494 744 \nQ 775 591 1075 516 \nQ 1375 441 1709 441 \nQ 2250 441 2565 725 \nQ 2881 1009 2881 1497 \nQ 2881 1984 2565 2268 \nQ 2250 2553 1709 2553 \nQ 1456 2553 1204 2497 \nQ 953 2441 691 2322 \nL 691 4666 \nz\n\" id=\"DejaVuSans-35\" transform=\"scale(0.015625)\"/>\n       </defs>\n       <use xlink:href=\"#DejaVuSans-35\"/>\n      </g>\n     </g>\n    </g>\n    <g id=\"xtick_3\">\n     <g id=\"line2d_3\">\n      <g>\n       <use style=\"stroke:#000000;stroke-width:0.8;\" x=\"177.653323\" xlink:href=\"#me302ba59a4\" y=\"239.758125\"/>\n      </g>\n     </g>\n     <g id=\"text_3\">\n      <!-- 10 -->\n      <g transform=\"translate(171.290823 254.356562)scale(0.1 -0.1)\">\n       <defs>\n        <path d=\"M 794 531 \nL 1825 531 \nL 1825 4091 \nL 703 3866 \nL 703 4441 \nL 1819 4666 \nL 2450 4666 \nL 2450 531 \nL 3481 531 \nL 3481 0 \nL 794 0 \nL 794 531 \nz\n\" id=\"DejaVuSans-31\" transform=\"scale(0.015625)\"/>\n       </defs>\n       <use xlink:href=\"#DejaVuSans-31\"/>\n       <use x=\"63.623047\" xlink:href=\"#DejaVuSans-30\"/>\n      </g>\n     </g>\n    </g>\n    <g id=\"xtick_4\">\n     <g id=\"line2d_4\">\n      <g>\n       <use style=\"stroke:#000000;stroke-width:0.8;\" x=\"243.819331\" xlink:href=\"#me302ba59a4\" y=\"239.758125\"/>\n      </g>\n     </g>\n     <g id=\"text_4\">\n      <!-- 15 -->\n      <g transform=\"translate(237.456831 254.356562)scale(0.1 -0.1)\">\n       <use xlink:href=\"#DejaVuSans-31\"/>\n       <use x=\"63.623047\" xlink:href=\"#DejaVuSans-35\"/>\n      </g>\n     </g>\n    </g>\n    <g id=\"xtick_5\">\n     <g id=\"line2d_5\">\n      <g>\n       <use style=\"stroke:#000000;stroke-width:0.8;\" x=\"309.985338\" xlink:href=\"#me302ba59a4\" y=\"239.758125\"/>\n      </g>\n     </g>\n     <g id=\"text_5\">\n      <!-- 20 -->\n      <g transform=\"translate(303.622838 254.356562)scale(0.1 -0.1)\">\n       <defs>\n        <path d=\"M 1228 531 \nL 3431 531 \nL 3431 0 \nL 469 0 \nL 469 531 \nQ 828 903 1448 1529 \nQ 2069 2156 2228 2338 \nQ 2531 2678 2651 2914 \nQ 2772 3150 2772 3378 \nQ 2772 3750 2511 3984 \nQ 2250 4219 1831 4219 \nQ 1534 4219 1204 4116 \nQ 875 4013 500 3803 \nL 500 4441 \nQ 881 4594 1212 4672 \nQ 1544 4750 1819 4750 \nQ 2544 4750 2975 4387 \nQ 3406 4025 3406 3419 \nQ 3406 3131 3298 2873 \nQ 3191 2616 2906 2266 \nQ 2828 2175 2409 1742 \nQ 1991 1309 1228 531 \nz\n\" id=\"DejaVuSans-32\" transform=\"scale(0.015625)\"/>\n       </defs>\n       <use xlink:href=\"#DejaVuSans-32\"/>\n       <use x=\"63.623047\" xlink:href=\"#DejaVuSans-30\"/>\n      </g>\n     </g>\n    </g>\n    <g id=\"text_6\">\n     <!-- hour -->\n     <g transform=\"translate(186.050781 268.034687)scale(0.1 -0.1)\">\n      <defs>\n       <path d=\"M 3513 2113 \nL 3513 0 \nL 2938 0 \nL 2938 2094 \nQ 2938 2591 2744 2837 \nQ 2550 3084 2163 3084 \nQ 1697 3084 1428 2787 \nQ 1159 2491 1159 1978 \nL 1159 0 \nL 581 0 \nL 581 4863 \nL 1159 4863 \nL 1159 2956 \nQ 1366 3272 1645 3428 \nQ 1925 3584 2291 3584 \nQ 2894 3584 3203 3211 \nQ 3513 2838 3513 2113 \nz\n\" id=\"DejaVuSans-68\" transform=\"scale(0.015625)\"/>\n       <path d=\"M 1959 3097 \nQ 1497 3097 1228 2736 \nQ 959 2375 959 1747 \nQ 959 1119 1226 758 \nQ 1494 397 1959 397 \nQ 2419 397 2687 759 \nQ 2956 1122 2956 1747 \nQ 2956 2369 2687 2733 \nQ 2419 3097 1959 3097 \nz\nM 1959 3584 \nQ 2709 3584 3137 3096 \nQ 3566 2609 3566 1747 \nQ 3566 888 3137 398 \nQ 2709 -91 1959 -91 \nQ 1206 -91 779 398 \nQ 353 888 353 1747 \nQ 353 2609 779 3096 \nQ 1206 3584 1959 3584 \nz\n\" id=\"DejaVuSans-6f\" transform=\"scale(0.015625)\"/>\n       <path d=\"M 544 1381 \nL 544 3500 \nL 1119 3500 \nL 1119 1403 \nQ 1119 906 1312 657 \nQ 1506 409 1894 409 \nQ 2359 409 2629 706 \nQ 2900 1003 2900 1516 \nL 2900 3500 \nL 3475 3500 \nL 3475 0 \nL 2900 0 \nL 2900 538 \nQ 2691 219 2414 64 \nQ 2138 -91 1772 -91 \nQ 1169 -91 856 284 \nQ 544 659 544 1381 \nz\nM 1991 3584 \nL 1991 3584 \nz\n\" id=\"DejaVuSans-75\" transform=\"scale(0.015625)\"/>\n       <path d=\"M 2631 2963 \nQ 2534 3019 2420 3045 \nQ 2306 3072 2169 3072 \nQ 1681 3072 1420 2755 \nQ 1159 2438 1159 1844 \nL 1159 0 \nL 581 0 \nL 581 3500 \nL 1159 3500 \nL 1159 2956 \nQ 1341 3275 1631 3429 \nQ 1922 3584 2338 3584 \nQ 2397 3584 2469 3576 \nQ 2541 3569 2628 3553 \nL 2631 2963 \nz\n\" id=\"DejaVuSans-72\" transform=\"scale(0.015625)\"/>\n      </defs>\n      <use xlink:href=\"#DejaVuSans-68\"/>\n      <use x=\"63.378906\" xlink:href=\"#DejaVuSans-6f\"/>\n      <use x=\"124.560547\" xlink:href=\"#DejaVuSans-75\"/>\n      <use x=\"187.939453\" xlink:href=\"#DejaVuSans-72\"/>\n     </g>\n    </g>\n   </g>\n   <g id=\"matplotlib.axis_2\">\n    <g id=\"ytick_1\">\n     <g id=\"line2d_6\">\n      <defs>\n       <path d=\"M 0 0 \nL -3.5 0 \n\" id=\"mdad2f3f4b2\" style=\"stroke:#000000;stroke-width:0.8;\"/>\n      </defs>\n      <g>\n       <use style=\"stroke:#000000;stroke-width:0.8;\" x=\"30.103125\" xlink:href=\"#mdad2f3f4b2\" y=\"221.638125\"/>\n      </g>\n     </g>\n     <g id=\"text_7\">\n      <!-- 0.0 -->\n      <g transform=\"translate(7.2 225.437344)scale(0.1 -0.1)\">\n       <defs>\n        <path d=\"M 684 794 \nL 1344 794 \nL 1344 0 \nL 684 0 \nL 684 794 \nz\n\" id=\"DejaVuSans-2e\" transform=\"scale(0.015625)\"/>\n       </defs>\n       <use xlink:href=\"#DejaVuSans-30\"/>\n       <use x=\"63.623047\" xlink:href=\"#DejaVuSans-2e\"/>\n       <use x=\"95.410156\" xlink:href=\"#DejaVuSans-30\"/>\n      </g>\n     </g>\n    </g>\n    <g id=\"ytick_2\">\n     <g id=\"line2d_7\">\n      <g>\n       <use style=\"stroke:#000000;stroke-width:0.8;\" x=\"30.103125\" xlink:href=\"#mdad2f3f4b2\" y=\"185.398125\"/>\n      </g>\n     </g>\n     <g id=\"text_8\">\n      <!-- 0.2 -->\n      <g transform=\"translate(7.2 189.197344)scale(0.1 -0.1)\">\n       <use xlink:href=\"#DejaVuSans-30\"/>\n       <use x=\"63.623047\" xlink:href=\"#DejaVuSans-2e\"/>\n       <use x=\"95.410156\" xlink:href=\"#DejaVuSans-32\"/>\n      </g>\n     </g>\n    </g>\n    <g id=\"ytick_3\">\n     <g id=\"line2d_8\">\n      <g>\n       <use style=\"stroke:#000000;stroke-width:0.8;\" x=\"30.103125\" xlink:href=\"#mdad2f3f4b2\" y=\"149.158125\"/>\n      </g>\n     </g>\n     <g id=\"text_9\">\n      <!-- 0.4 -->\n      <g transform=\"translate(7.2 152.957344)scale(0.1 -0.1)\">\n       <defs>\n        <path d=\"M 2419 4116 \nL 825 1625 \nL 2419 1625 \nL 2419 4116 \nz\nM 2253 4666 \nL 3047 4666 \nL 3047 1625 \nL 3713 1625 \nL 3713 1100 \nL 3047 1100 \nL 3047 0 \nL 2419 0 \nL 2419 1100 \nL 313 1100 \nL 313 1709 \nL 2253 4666 \nz\n\" id=\"DejaVuSans-34\" transform=\"scale(0.015625)\"/>\n       </defs>\n       <use xlink:href=\"#DejaVuSans-30\"/>\n       <use x=\"63.623047\" xlink:href=\"#DejaVuSans-2e\"/>\n       <use x=\"95.410156\" xlink:href=\"#DejaVuSans-34\"/>\n      </g>\n     </g>\n    </g>\n    <g id=\"ytick_4\">\n     <g id=\"line2d_9\">\n      <g>\n       <use style=\"stroke:#000000;stroke-width:0.8;\" x=\"30.103125\" xlink:href=\"#mdad2f3f4b2\" y=\"112.918125\"/>\n      </g>\n     </g>\n     <g id=\"text_10\">\n      <!-- 0.6 -->\n      <g transform=\"translate(7.2 116.717344)scale(0.1 -0.1)\">\n       <defs>\n        <path d=\"M 2113 2584 \nQ 1688 2584 1439 2293 \nQ 1191 2003 1191 1497 \nQ 1191 994 1439 701 \nQ 1688 409 2113 409 \nQ 2538 409 2786 701 \nQ 3034 994 3034 1497 \nQ 3034 2003 2786 2293 \nQ 2538 2584 2113 2584 \nz\nM 3366 4563 \nL 3366 3988 \nQ 3128 4100 2886 4159 \nQ 2644 4219 2406 4219 \nQ 1781 4219 1451 3797 \nQ 1122 3375 1075 2522 \nQ 1259 2794 1537 2939 \nQ 1816 3084 2150 3084 \nQ 2853 3084 3261 2657 \nQ 3669 2231 3669 1497 \nQ 3669 778 3244 343 \nQ 2819 -91 2113 -91 \nQ 1303 -91 875 529 \nQ 447 1150 447 2328 \nQ 447 3434 972 4092 \nQ 1497 4750 2381 4750 \nQ 2619 4750 2861 4703 \nQ 3103 4656 3366 4563 \nz\n\" id=\"DejaVuSans-36\" transform=\"scale(0.015625)\"/>\n       </defs>\n       <use xlink:href=\"#DejaVuSans-30\"/>\n       <use x=\"63.623047\" xlink:href=\"#DejaVuSans-2e\"/>\n       <use x=\"95.410156\" xlink:href=\"#DejaVuSans-36\"/>\n      </g>\n     </g>\n    </g>\n    <g id=\"ytick_5\">\n     <g id=\"line2d_10\">\n      <g>\n       <use style=\"stroke:#000000;stroke-width:0.8;\" x=\"30.103125\" xlink:href=\"#mdad2f3f4b2\" y=\"76.678125\"/>\n      </g>\n     </g>\n     <g id=\"text_11\">\n      <!-- 0.8 -->\n      <g transform=\"translate(7.2 80.477344)scale(0.1 -0.1)\">\n       <defs>\n        <path d=\"M 2034 2216 \nQ 1584 2216 1326 1975 \nQ 1069 1734 1069 1313 \nQ 1069 891 1326 650 \nQ 1584 409 2034 409 \nQ 2484 409 2743 651 \nQ 3003 894 3003 1313 \nQ 3003 1734 2745 1975 \nQ 2488 2216 2034 2216 \nz\nM 1403 2484 \nQ 997 2584 770 2862 \nQ 544 3141 544 3541 \nQ 544 4100 942 4425 \nQ 1341 4750 2034 4750 \nQ 2731 4750 3128 4425 \nQ 3525 4100 3525 3541 \nQ 3525 3141 3298 2862 \nQ 3072 2584 2669 2484 \nQ 3125 2378 3379 2068 \nQ 3634 1759 3634 1313 \nQ 3634 634 3220 271 \nQ 2806 -91 2034 -91 \nQ 1263 -91 848 271 \nQ 434 634 434 1313 \nQ 434 1759 690 2068 \nQ 947 2378 1403 2484 \nz\nM 1172 3481 \nQ 1172 3119 1398 2916 \nQ 1625 2713 2034 2713 \nQ 2441 2713 2670 2916 \nQ 2900 3119 2900 3481 \nQ 2900 3844 2670 4047 \nQ 2441 4250 2034 4250 \nQ 1625 4250 1398 4047 \nQ 1172 3844 1172 3481 \nz\n\" id=\"DejaVuSans-38\" transform=\"scale(0.015625)\"/>\n       </defs>\n       <use xlink:href=\"#DejaVuSans-30\"/>\n       <use x=\"63.623047\" xlink:href=\"#DejaVuSans-2e\"/>\n       <use x=\"95.410156\" xlink:href=\"#DejaVuSans-38\"/>\n      </g>\n     </g>\n    </g>\n    <g id=\"ytick_6\">\n     <g id=\"line2d_11\">\n      <g>\n       <use style=\"stroke:#000000;stroke-width:0.8;\" x=\"30.103125\" xlink:href=\"#mdad2f3f4b2\" y=\"40.438125\"/>\n      </g>\n     </g>\n     <g id=\"text_12\">\n      <!-- 1.0 -->\n      <g transform=\"translate(7.2 44.237344)scale(0.1 -0.1)\">\n       <use xlink:href=\"#DejaVuSans-31\"/>\n       <use x=\"63.623047\" xlink:href=\"#DejaVuSans-2e\"/>\n       <use x=\"95.410156\" xlink:href=\"#DejaVuSans-30\"/>\n      </g>\n     </g>\n    </g>\n   </g>\n   <g id=\"line2d_12\">\n    <path clip-path=\"url(#p771fdc034d)\" d=\"M 45.321307 174.565825 \nL 58.554508 180.520754 \nL 71.78771 191.579909 \nL 85.020912 203.489768 \nL 98.254113 203.2062 \nL 111.487315 207.176153 \nL 124.720516 212.847515 \nL 137.953718 196.116998 \nL 151.186919 181.655026 \nL 164.420121 183.356435 \nL 177.653323 178.819346 \nL 190.886524 175.132961 \nL 204.119726 165.11963 \nL 217.352927 163.50667 \nL 230.586129 160.670989 \nL 243.819331 159.536717 \nL 257.052532 142.8062 \nL 270.285734 132.314181 \nL 283.518935 132.597749 \nL 296.752137 134.01559 \nL 309.985338 120.971458 \nL 323.21854 113.598688 \nL 336.451742 113.882256 \nL 349.684943 143.089768 \n\" style=\"fill:none;stroke:#1f77b4;stroke-linecap:square;stroke-width:1.5;\"/>\n   </g>\n   <g id=\"patch_3\">\n    <path d=\"M 30.103125 239.758125 \nL 30.103125 22.318125 \n\" style=\"fill:none;stroke:#000000;stroke-linecap:square;stroke-linejoin:miter;stroke-width:0.8;\"/>\n   </g>\n   <g id=\"patch_4\">\n    <path d=\"M 364.903125 239.758125 \nL 364.903125 22.318125 \n\" style=\"fill:none;stroke:#000000;stroke-linecap:square;stroke-linejoin:miter;stroke-width:0.8;\"/>\n   </g>\n   <g id=\"patch_5\">\n    <path d=\"M 30.103125 239.758125 \nL 364.903125 239.758125 \n\" style=\"fill:none;stroke:#000000;stroke-linecap:square;stroke-linejoin:miter;stroke-width:0.8;\"/>\n   </g>\n   <g id=\"patch_6\">\n    <path d=\"M 30.103125 22.318125 \nL 364.903125 22.318125 \n\" style=\"fill:none;stroke:#000000;stroke-linecap:square;stroke-linejoin:miter;stroke-width:0.8;\"/>\n   </g>\n   <g id=\"text_13\">\n    <!-- Average hourly activity -->\n    <g transform=\"translate(127.9725 16.318125)scale(0.12 -0.12)\">\n     <defs>\n      <path d=\"M 2188 4044 \nL 1331 1722 \nL 3047 1722 \nL 2188 4044 \nz\nM 1831 4666 \nL 2547 4666 \nL 4325 0 \nL 3669 0 \nL 3244 1197 \nL 1141 1197 \nL 716 0 \nL 50 0 \nL 1831 4666 \nz\n\" id=\"DejaVuSans-41\" transform=\"scale(0.015625)\"/>\n      <path d=\"M 191 3500 \nL 800 3500 \nL 1894 563 \nL 2988 3500 \nL 3597 3500 \nL 2284 0 \nL 1503 0 \nL 191 3500 \nz\n\" id=\"DejaVuSans-76\" transform=\"scale(0.015625)\"/>\n      <path d=\"M 3597 1894 \nL 3597 1613 \nL 953 1613 \nQ 991 1019 1311 708 \nQ 1631 397 2203 397 \nQ 2534 397 2845 478 \nQ 3156 559 3463 722 \nL 3463 178 \nQ 3153 47 2828 -22 \nQ 2503 -91 2169 -91 \nQ 1331 -91 842 396 \nQ 353 884 353 1716 \nQ 353 2575 817 3079 \nQ 1281 3584 2069 3584 \nQ 2775 3584 3186 3129 \nQ 3597 2675 3597 1894 \nz\nM 3022 2063 \nQ 3016 2534 2758 2815 \nQ 2500 3097 2075 3097 \nQ 1594 3097 1305 2825 \nQ 1016 2553 972 2059 \nL 3022 2063 \nz\n\" id=\"DejaVuSans-65\" transform=\"scale(0.015625)\"/>\n      <path d=\"M 2194 1759 \nQ 1497 1759 1228 1600 \nQ 959 1441 959 1056 \nQ 959 750 1161 570 \nQ 1363 391 1709 391 \nQ 2188 391 2477 730 \nQ 2766 1069 2766 1631 \nL 2766 1759 \nL 2194 1759 \nz\nM 3341 1997 \nL 3341 0 \nL 2766 0 \nL 2766 531 \nQ 2569 213 2275 61 \nQ 1981 -91 1556 -91 \nQ 1019 -91 701 211 \nQ 384 513 384 1019 \nQ 384 1609 779 1909 \nQ 1175 2209 1959 2209 \nL 2766 2209 \nL 2766 2266 \nQ 2766 2663 2505 2880 \nQ 2244 3097 1772 3097 \nQ 1472 3097 1187 3025 \nQ 903 2953 641 2809 \nL 641 3341 \nQ 956 3463 1253 3523 \nQ 1550 3584 1831 3584 \nQ 2591 3584 2966 3190 \nQ 3341 2797 3341 1997 \nz\n\" id=\"DejaVuSans-61\" transform=\"scale(0.015625)\"/>\n      <path d=\"M 2906 1791 \nQ 2906 2416 2648 2759 \nQ 2391 3103 1925 3103 \nQ 1463 3103 1205 2759 \nQ 947 2416 947 1791 \nQ 947 1169 1205 825 \nQ 1463 481 1925 481 \nQ 2391 481 2648 825 \nQ 2906 1169 2906 1791 \nz\nM 3481 434 \nQ 3481 -459 3084 -895 \nQ 2688 -1331 1869 -1331 \nQ 1566 -1331 1297 -1286 \nQ 1028 -1241 775 -1147 \nL 775 -588 \nQ 1028 -725 1275 -790 \nQ 1522 -856 1778 -856 \nQ 2344 -856 2625 -561 \nQ 2906 -266 2906 331 \nL 2906 616 \nQ 2728 306 2450 153 \nQ 2172 0 1784 0 \nQ 1141 0 747 490 \nQ 353 981 353 1791 \nQ 353 2603 747 3093 \nQ 1141 3584 1784 3584 \nQ 2172 3584 2450 3431 \nQ 2728 3278 2906 2969 \nL 2906 3500 \nL 3481 3500 \nL 3481 434 \nz\n\" id=\"DejaVuSans-67\" transform=\"scale(0.015625)\"/>\n      <path id=\"DejaVuSans-20\" transform=\"scale(0.015625)\"/>\n      <path d=\"M 603 4863 \nL 1178 4863 \nL 1178 0 \nL 603 0 \nL 603 4863 \nz\n\" id=\"DejaVuSans-6c\" transform=\"scale(0.015625)\"/>\n      <path d=\"M 2059 -325 \nQ 1816 -950 1584 -1140 \nQ 1353 -1331 966 -1331 \nL 506 -1331 \nL 506 -850 \nL 844 -850 \nQ 1081 -850 1212 -737 \nQ 1344 -625 1503 -206 \nL 1606 56 \nL 191 3500 \nL 800 3500 \nL 1894 763 \nL 2988 3500 \nL 3597 3500 \nL 2059 -325 \nz\n\" id=\"DejaVuSans-79\" transform=\"scale(0.015625)\"/>\n      <path d=\"M 3122 3366 \nL 3122 2828 \nQ 2878 2963 2633 3030 \nQ 2388 3097 2138 3097 \nQ 1578 3097 1268 2742 \nQ 959 2388 959 1747 \nQ 959 1106 1268 751 \nQ 1578 397 2138 397 \nQ 2388 397 2633 464 \nQ 2878 531 3122 666 \nL 3122 134 \nQ 2881 22 2623 -34 \nQ 2366 -91 2075 -91 \nQ 1284 -91 818 406 \nQ 353 903 353 1747 \nQ 353 2603 823 3093 \nQ 1294 3584 2113 3584 \nQ 2378 3584 2631 3529 \nQ 2884 3475 3122 3366 \nz\n\" id=\"DejaVuSans-63\" transform=\"scale(0.015625)\"/>\n      <path d=\"M 1172 4494 \nL 1172 3500 \nL 2356 3500 \nL 2356 3053 \nL 1172 3053 \nL 1172 1153 \nQ 1172 725 1289 603 \nQ 1406 481 1766 481 \nL 2356 481 \nL 2356 0 \nL 1766 0 \nQ 1100 0 847 248 \nQ 594 497 594 1153 \nL 594 3053 \nL 172 3053 \nL 172 3500 \nL 594 3500 \nL 594 4494 \nL 1172 4494 \nz\n\" id=\"DejaVuSans-74\" transform=\"scale(0.015625)\"/>\n      <path d=\"M 603 3500 \nL 1178 3500 \nL 1178 0 \nL 603 0 \nL 603 3500 \nz\nM 603 4863 \nL 1178 4863 \nL 1178 4134 \nL 603 4134 \nL 603 4863 \nz\n\" id=\"DejaVuSans-69\" transform=\"scale(0.015625)\"/>\n     </defs>\n     <use xlink:href=\"#DejaVuSans-41\"/>\n     <use x=\"62.533203\" xlink:href=\"#DejaVuSans-76\"/>\n     <use x=\"121.712891\" xlink:href=\"#DejaVuSans-65\"/>\n     <use x=\"183.236328\" xlink:href=\"#DejaVuSans-72\"/>\n     <use x=\"224.349609\" xlink:href=\"#DejaVuSans-61\"/>\n     <use x=\"285.628906\" xlink:href=\"#DejaVuSans-67\"/>\n     <use x=\"349.105469\" xlink:href=\"#DejaVuSans-65\"/>\n     <use x=\"410.628906\" xlink:href=\"#DejaVuSans-20\"/>\n     <use x=\"442.416016\" xlink:href=\"#DejaVuSans-68\"/>\n     <use x=\"505.794922\" xlink:href=\"#DejaVuSans-6f\"/>\n     <use x=\"566.976562\" xlink:href=\"#DejaVuSans-75\"/>\n     <use x=\"630.355469\" xlink:href=\"#DejaVuSans-72\"/>\n     <use x=\"671.46875\" xlink:href=\"#DejaVuSans-6c\"/>\n     <use x=\"699.251953\" xlink:href=\"#DejaVuSans-79\"/>\n     <use x=\"758.431641\" xlink:href=\"#DejaVuSans-20\"/>\n     <use x=\"790.21875\" xlink:href=\"#DejaVuSans-61\"/>\n     <use x=\"851.498047\" xlink:href=\"#DejaVuSans-63\"/>\n     <use x=\"906.478516\" xlink:href=\"#DejaVuSans-74\"/>\n     <use x=\"945.6875\" xlink:href=\"#DejaVuSans-69\"/>\n     <use x=\"973.470703\" xlink:href=\"#DejaVuSans-76\"/>\n     <use x=\"1032.650391\" xlink:href=\"#DejaVuSans-69\"/>\n     <use x=\"1060.433594\" xlink:href=\"#DejaVuSans-74\"/>\n     <use x=\"1099.642578\" xlink:href=\"#DejaVuSans-79\"/>\n    </g>\n   </g>\n  </g>\n </g>\n <defs>\n  <clipPath id=\"p771fdc034d\">\n   <rect height=\"217.44\" width=\"334.8\" x=\"30.103125\" y=\"22.318125\"/>\n  </clipPath>\n </defs>\n</svg>\n",
      "image/png": "[encoded data removed]"
     },
     "metadata": {
      "needs_background": "light"
     }
    }
   ],
   "source": [
    "import matplotlib.pyplot as plt\n",
    "\n",
    "df.groupby(by='hour').mean()['activity'].plot();\n",
    "plt.title('Average hourly activity')\n",
    "plt.ylim(-0.1, 1.1);\n"
   ]
  },
  {
   "cell_type": "markdown",
   "metadata": {
    "id": "T1CTQIKBDCXO"
   },
   "source": [
    "## **2. Creating the Activity Agent**"
   ]
  },
  {
   "cell_type": "code",
   "execution_count": 32,
   "metadata": {
    "executionInfo": {
     "elapsed": 108144,
     "status": "ok",
     "timestamp": 1607622504425,
     "user": {
      "displayName": "Leon H",
      "photoUrl": "",
      "userId": "10150017554198726068"
     },
     "user_tz": -60
    },
    "id": "rK6ASFf4DFso"
   },
   "outputs": [],
   "source": [
    "class Activity_Agent:\n",
    "\n",
    "    def __init__(self, activity_input_df):\n",
    "        self.input = activity_input_df"
   ]
  },
  {
   "cell_type": "markdown",
   "metadata": {
    "id": "EZumht1rEkBL"
   },
   "source": [
    "### **2.1 Train Test Split**\n",
    "\n",
    "As our recommendation framework will provide recommendations for a given day, our activity agent must be able to provide activity predictions for each day. However, for each day to be predicted we are only allowed to use information from the past to prevent leakage. Therefore, we will create a custom train test split function to meet the time series requirements. \n",
    "\n",
    "Our train test split function will enable us to conveniently split our data in the train and test data sets for each day to be predicted while allowing for further configurations of the split (i.e. size of the train and test data sets)."
   ]
  },
  {
   "cell_type": "markdown",
   "metadata": {
    "id": "CqWrmBl6NZi0"
   },
   "source": [
    "**X_test**"
   ]
  },
  {
   "cell_type": "code",
   "execution_count": 33,
   "metadata": {
    "executionInfo": {
     "elapsed": 108140,
     "status": "ok",
     "timestamp": 1607622504427,
     "user": {
      "displayName": "Leon H",
      "photoUrl": "",
      "userId": "10150017554198726068"
     },
     "user_tz": -60
    },
    "id": "DriEbbpvNbmH"
   },
   "outputs": [],
   "source": [
    "def get_Xtest(self, df, date, time_delta='all', target='activity'):\n",
    "    import pandas as pd\n",
    "    from helper_functions import Helper\n",
    "\n",
    "    helper = Helper()\n",
    "    \n",
    "    if time_delta == 'all':\n",
    "        output = df.loc[pd.to_datetime(date):, df.columns != target]\n",
    "    else:\n",
    "        df = helper.get_timespan(df, date, time_delta)\n",
    "        output = df.loc[:, df.columns != target]\n",
    "    return output\n",
    "\n",
    "# add to Activity agent\n",
    "setattr(Activity_Agent, 'get_Xtest', get_Xtest)\n",
    "del get_Xtest"
   ]
  },
  {
   "cell_type": "code",
   "execution_count": 34,
   "metadata": {
    "colab": {
     "base_uri": "https://localhost:8080/",
     "height": 810
    },
    "executionInfo": {
     "elapsed": 108103,
     "status": "ok",
     "timestamp": 1607622504428,
     "user": {
      "displayName": "Leon H",
      "photoUrl": "",
      "userId": "10150017554198726068"
     },
     "user_tz": -60
    },
    "id": "qt9snGWeNtV9",
    "outputId": "438200f4-cc4d-4cb6-b5c2-03f92c44ac41"
   },
   "outputs": [
    {
     "output_type": "execute_result",
     "data": {
      "text/plain": [
       "                     hour  activity_lag_24  activity_lag_48  activity_lag_72  \\\n",
       "Time                                                                           \n",
       "2014-01-01 00:00:00     0              0.0              1.0              1.0   \n",
       "2014-01-01 01:00:00     1              1.0              1.0              0.0   \n",
       "2014-01-01 02:00:00     2              1.0              0.0              1.0   \n",
       "2014-01-01 03:00:00     3              1.0              0.0              0.0   \n",
       "2014-01-01 04:00:00     4              0.0              1.0              0.0   \n",
       "...                   ...              ...              ...              ...   \n",
       "2015-07-10 07:00:00     7              0.0              0.0              0.0   \n",
       "2015-07-10 08:00:00     8              0.0              0.0              0.0   \n",
       "2015-07-10 09:00:00     9              0.0              0.0              0.0   \n",
       "2015-07-10 10:00:00    10              0.0              0.0              0.0   \n",
       "2015-07-10 11:00:00    11              0.0              0.0              1.0   \n",
       "\n",
       "                     day_name_Monday  day_name_Saturday  day_name_Sunday  \\\n",
       "Time                                                                       \n",
       "2014-01-01 00:00:00                0                  0                0   \n",
       "2014-01-01 01:00:00                0                  0                0   \n",
       "2014-01-01 02:00:00                0                  0                0   \n",
       "2014-01-01 03:00:00                0                  0                0   \n",
       "2014-01-01 04:00:00                0                  0                0   \n",
       "...                              ...                ...              ...   \n",
       "2015-07-10 07:00:00                0                  0                0   \n",
       "2015-07-10 08:00:00                0                  0                0   \n",
       "2015-07-10 09:00:00                0                  0                0   \n",
       "2015-07-10 10:00:00                0                  0                0   \n",
       "2015-07-10 11:00:00                0                  0                0   \n",
       "\n",
       "                     day_name_Thursday  day_name_Tuesday  day_name_Wednesday  \n",
       "Time                                                                          \n",
       "2014-01-01 00:00:00                  0                 0                   1  \n",
       "2014-01-01 01:00:00                  0                 0                   1  \n",
       "2014-01-01 02:00:00                  0                 0                   1  \n",
       "2014-01-01 03:00:00                  0                 0                   1  \n",
       "2014-01-01 04:00:00                  0                 0                   1  \n",
       "...                                ...               ...                 ...  \n",
       "2015-07-10 07:00:00                  0                 0                   0  \n",
       "2015-07-10 08:00:00                  0                 0                   0  \n",
       "2015-07-10 09:00:00                  0                 0                   0  \n",
       "2015-07-10 10:00:00                  0                 0                   0  \n",
       "2015-07-10 11:00:00                  0                 0                   0  \n",
       "\n",
       "[13332 rows x 10 columns]"
      ],
      "text/html": "<div>\n<style scoped>\n    .dataframe tbody tr th:only-of-type {\n        vertical-align: middle;\n    }\n\n    .dataframe tbody tr th {\n        vertical-align: top;\n    }\n\n    .dataframe thead th {\n        text-align: right;\n    }\n</style>\n<table border=\"1\" class=\"dataframe\">\n  <thead>\n    <tr style=\"text-align: right;\">\n      <th></th>\n      <th>hour</th>\n      <th>activity_lag_24</th>\n      <th>activity_lag_48</th>\n      <th>activity_lag_72</th>\n      <th>day_name_Monday</th>\n      <th>day_name_Saturday</th>\n      <th>day_name_Sunday</th>\n      <th>day_name_Thursday</th>\n      <th>day_name_Tuesday</th>\n      <th>day_name_Wednesday</th>\n    </tr>\n    <tr>\n      <th>Time</th>\n      <th></th>\n      <th></th>\n      <th></th>\n      <th></th>\n      <th></th>\n      <th></th>\n      <th></th>\n      <th></th>\n      <th></th>\n      <th></th>\n    </tr>\n  </thead>\n  <tbody>\n    <tr>\n      <th>2014-01-01 00:00:00</th>\n      <td>0</td>\n      <td>0.0</td>\n      <td>1.0</td>\n      <td>1.0</td>\n      <td>0</td>\n      <td>0</td>\n      <td>0</td>\n      <td>0</td>\n      <td>0</td>\n      <td>1</td>\n    </tr>\n    <tr>\n      <th>2014-01-01 01:00:00</th>\n      <td>1</td>\n      <td>1.0</td>\n      <td>1.0</td>\n      <td>0.0</td>\n      <td>0</td>\n      <td>0</td>\n      <td>0</td>\n      <td>0</td>\n      <td>0</td>\n      <td>1</td>\n    </tr>\n    <tr>\n      <th>2014-01-01 02:00:00</th>\n      <td>2</td>\n      <td>1.0</td>\n      <td>0.0</td>\n      <td>1.0</td>\n      <td>0</td>\n      <td>0</td>\n      <td>0</td>\n      <td>0</td>\n      <td>0</td>\n      <td>1</td>\n    </tr>\n    <tr>\n      <th>2014-01-01 03:00:00</th>\n      <td>3</td>\n      <td>1.0</td>\n      <td>0.0</td>\n      <td>0.0</td>\n      <td>0</td>\n      <td>0</td>\n      <td>0</td>\n      <td>0</td>\n      <td>0</td>\n      <td>1</td>\n    </tr>\n    <tr>\n      <th>2014-01-01 04:00:00</th>\n      <td>4</td>\n      <td>0.0</td>\n      <td>1.0</td>\n      <td>0.0</td>\n      <td>0</td>\n      <td>0</td>\n      <td>0</td>\n      <td>0</td>\n      <td>0</td>\n      <td>1</td>\n    </tr>\n    <tr>\n      <th>...</th>\n      <td>...</td>\n      <td>...</td>\n      <td>...</td>\n      <td>...</td>\n      <td>...</td>\n      <td>...</td>\n      <td>...</td>\n      <td>...</td>\n      <td>...</td>\n      <td>...</td>\n    </tr>\n    <tr>\n      <th>2015-07-10 07:00:00</th>\n      <td>7</td>\n      <td>0.0</td>\n      <td>0.0</td>\n      <td>0.0</td>\n      <td>0</td>\n      <td>0</td>\n      <td>0</td>\n      <td>0</td>\n      <td>0</td>\n      <td>0</td>\n    </tr>\n    <tr>\n      <th>2015-07-10 08:00:00</th>\n      <td>8</td>\n      <td>0.0</td>\n      <td>0.0</td>\n      <td>0.0</td>\n      <td>0</td>\n      <td>0</td>\n      <td>0</td>\n      <td>0</td>\n      <td>0</td>\n      <td>0</td>\n    </tr>\n    <tr>\n      <th>2015-07-10 09:00:00</th>\n      <td>9</td>\n      <td>0.0</td>\n      <td>0.0</td>\n      <td>0.0</td>\n      <td>0</td>\n      <td>0</td>\n      <td>0</td>\n      <td>0</td>\n      <td>0</td>\n      <td>0</td>\n    </tr>\n    <tr>\n      <th>2015-07-10 10:00:00</th>\n      <td>10</td>\n      <td>0.0</td>\n      <td>0.0</td>\n      <td>0.0</td>\n      <td>0</td>\n      <td>0</td>\n      <td>0</td>\n      <td>0</td>\n      <td>0</td>\n      <td>0</td>\n    </tr>\n    <tr>\n      <th>2015-07-10 11:00:00</th>\n      <td>11</td>\n      <td>0.0</td>\n      <td>0.0</td>\n      <td>1.0</td>\n      <td>0</td>\n      <td>0</td>\n      <td>0</td>\n      <td>0</td>\n      <td>0</td>\n      <td>0</td>\n    </tr>\n  </tbody>\n</table>\n<p>13332 rows × 10 columns</p>\n</div>"
     },
     "metadata": {},
     "execution_count": 34
    }
   ],
   "source": [
    "date = '2014-01-01'\n",
    "activity = Activity_Agent(df)\n",
    "X_test = activity.get_Xtest(df, date)\n",
    "X_test"
   ]
  },
  {
   "cell_type": "code",
   "execution_count": 35,
   "metadata": {
    "colab": {
     "base_uri": "https://localhost:8080/",
     "height": 1000
    },
    "executionInfo": {
     "elapsed": 108073,
     "status": "ok",
     "timestamp": 1607622504434,
     "user": {
      "displayName": "Leon H",
      "photoUrl": "",
      "userId": "10150017554198726068"
     },
     "user_tz": -60
    },
    "id": "UtZ9wkb_GTcS",
    "outputId": "501b3dd6-e182-4fd1-fbf9-b01327d88457"
   },
   "outputs": [
    {
     "output_type": "execute_result",
     "data": {
      "text/plain": [
       "                     hour  activity_lag_24  activity_lag_48  activity_lag_72  \\\n",
       "Time                                                                           \n",
       "2014-01-01 00:00:00     0              0.0              1.0              1.0   \n",
       "2014-01-01 01:00:00     1              1.0              1.0              0.0   \n",
       "2014-01-01 02:00:00     2              1.0              0.0              1.0   \n",
       "2014-01-01 03:00:00     3              1.0              0.0              0.0   \n",
       "2014-01-01 04:00:00     4              0.0              1.0              0.0   \n",
       "2014-01-01 05:00:00     5              1.0              0.0              0.0   \n",
       "2014-01-01 06:00:00     6              0.0              0.0              0.0   \n",
       "2014-01-01 07:00:00     7              0.0              1.0              0.0   \n",
       "2014-01-01 08:00:00     8              0.0              1.0              0.0   \n",
       "2014-01-01 09:00:00     9              0.0              0.0              0.0   \n",
       "2014-01-01 10:00:00    10              0.0              1.0              0.0   \n",
       "2014-01-01 11:00:00    11              0.0              0.0              0.0   \n",
       "2014-01-01 12:00:00    12              1.0              0.0              1.0   \n",
       "2014-01-01 13:00:00    13              1.0              0.0              1.0   \n",
       "2014-01-01 14:00:00    14              1.0              0.0              1.0   \n",
       "2014-01-01 15:00:00    15              1.0              0.0              1.0   \n",
       "2014-01-01 16:00:00    16              1.0              1.0              1.0   \n",
       "2014-01-01 17:00:00    17              1.0              1.0              1.0   \n",
       "2014-01-01 18:00:00    18              1.0              1.0              0.0   \n",
       "2014-01-01 19:00:00    19              1.0              1.0              1.0   \n",
       "2014-01-01 20:00:00    20              1.0              1.0              1.0   \n",
       "2014-01-01 21:00:00    21              1.0              1.0              1.0   \n",
       "2014-01-01 22:00:00    22              1.0              1.0              1.0   \n",
       "2014-01-01 23:00:00    23              1.0              1.0              1.0   \n",
       "\n",
       "                     day_name_Monday  day_name_Saturday  day_name_Sunday  \\\n",
       "Time                                                                       \n",
       "2014-01-01 00:00:00                0                  0                0   \n",
       "2014-01-01 01:00:00                0                  0                0   \n",
       "2014-01-01 02:00:00                0                  0                0   \n",
       "2014-01-01 03:00:00                0                  0                0   \n",
       "2014-01-01 04:00:00                0                  0                0   \n",
       "2014-01-01 05:00:00                0                  0                0   \n",
       "2014-01-01 06:00:00                0                  0                0   \n",
       "2014-01-01 07:00:00                0                  0                0   \n",
       "2014-01-01 08:00:00                0                  0                0   \n",
       "2014-01-01 09:00:00                0                  0                0   \n",
       "2014-01-01 10:00:00                0                  0                0   \n",
       "2014-01-01 11:00:00                0                  0                0   \n",
       "2014-01-01 12:00:00                0                  0                0   \n",
       "2014-01-01 13:00:00                0                  0                0   \n",
       "2014-01-01 14:00:00                0                  0                0   \n",
       "2014-01-01 15:00:00                0                  0                0   \n",
       "2014-01-01 16:00:00                0                  0                0   \n",
       "2014-01-01 17:00:00                0                  0                0   \n",
       "2014-01-01 18:00:00                0                  0                0   \n",
       "2014-01-01 19:00:00                0                  0                0   \n",
       "2014-01-01 20:00:00                0                  0                0   \n",
       "2014-01-01 21:00:00                0                  0                0   \n",
       "2014-01-01 22:00:00                0                  0                0   \n",
       "2014-01-01 23:00:00                0                  0                0   \n",
       "\n",
       "                     day_name_Thursday  day_name_Tuesday  day_name_Wednesday  \n",
       "Time                                                                          \n",
       "2014-01-01 00:00:00                  0                 0                   1  \n",
       "2014-01-01 01:00:00                  0                 0                   1  \n",
       "2014-01-01 02:00:00                  0                 0                   1  \n",
       "2014-01-01 03:00:00                  0                 0                   1  \n",
       "2014-01-01 04:00:00                  0                 0                   1  \n",
       "2014-01-01 05:00:00                  0                 0                   1  \n",
       "2014-01-01 06:00:00                  0                 0                   1  \n",
       "2014-01-01 07:00:00                  0                 0                   1  \n",
       "2014-01-01 08:00:00                  0                 0                   1  \n",
       "2014-01-01 09:00:00                  0                 0                   1  \n",
       "2014-01-01 10:00:00                  0                 0                   1  \n",
       "2014-01-01 11:00:00                  0                 0                   1  \n",
       "2014-01-01 12:00:00                  0                 0                   1  \n",
       "2014-01-01 13:00:00                  0                 0                   1  \n",
       "2014-01-01 14:00:00                  0                 0                   1  \n",
       "2014-01-01 15:00:00                  0                 0                   1  \n",
       "2014-01-01 16:00:00                  0                 0                   1  \n",
       "2014-01-01 17:00:00                  0                 0                   1  \n",
       "2014-01-01 18:00:00                  0                 0                   1  \n",
       "2014-01-01 19:00:00                  0                 0                   1  \n",
       "2014-01-01 20:00:00                  0                 0                   1  \n",
       "2014-01-01 21:00:00                  0                 0                   1  \n",
       "2014-01-01 22:00:00                  0                 0                   1  \n",
       "2014-01-01 23:00:00                  0                 0                   1  "
      ],
      "text/html": "<div>\n<style scoped>\n    .dataframe tbody tr th:only-of-type {\n        vertical-align: middle;\n    }\n\n    .dataframe tbody tr th {\n        vertical-align: top;\n    }\n\n    .dataframe thead th {\n        text-align: right;\n    }\n</style>\n<table border=\"1\" class=\"dataframe\">\n  <thead>\n    <tr style=\"text-align: right;\">\n      <th></th>\n      <th>hour</th>\n      <th>activity_lag_24</th>\n      <th>activity_lag_48</th>\n      <th>activity_lag_72</th>\n      <th>day_name_Monday</th>\n      <th>day_name_Saturday</th>\n      <th>day_name_Sunday</th>\n      <th>day_name_Thursday</th>\n      <th>day_name_Tuesday</th>\n      <th>day_name_Wednesday</th>\n    </tr>\n    <tr>\n      <th>Time</th>\n      <th></th>\n      <th></th>\n      <th></th>\n      <th></th>\n      <th></th>\n      <th></th>\n      <th></th>\n      <th></th>\n      <th></th>\n      <th></th>\n    </tr>\n  </thead>\n  <tbody>\n    <tr>\n      <th>2014-01-01 00:00:00</th>\n      <td>0</td>\n      <td>0.0</td>\n      <td>1.0</td>\n      <td>1.0</td>\n      <td>0</td>\n      <td>0</td>\n      <td>0</td>\n      <td>0</td>\n      <td>0</td>\n      <td>1</td>\n    </tr>\n    <tr>\n      <th>2014-01-01 01:00:00</th>\n      <td>1</td>\n      <td>1.0</td>\n      <td>1.0</td>\n      <td>0.0</td>\n      <td>0</td>\n      <td>0</td>\n      <td>0</td>\n      <td>0</td>\n      <td>0</td>\n      <td>1</td>\n    </tr>\n    <tr>\n      <th>2014-01-01 02:00:00</th>\n      <td>2</td>\n      <td>1.0</td>\n      <td>0.0</td>\n      <td>1.0</td>\n      <td>0</td>\n      <td>0</td>\n      <td>0</td>\n      <td>0</td>\n      <td>0</td>\n      <td>1</td>\n    </tr>\n    <tr>\n      <th>2014-01-01 03:00:00</th>\n      <td>3</td>\n      <td>1.0</td>\n      <td>0.0</td>\n      <td>0.0</td>\n      <td>0</td>\n      <td>0</td>\n      <td>0</td>\n      <td>0</td>\n      <td>0</td>\n      <td>1</td>\n    </tr>\n    <tr>\n      <th>2014-01-01 04:00:00</th>\n      <td>4</td>\n      <td>0.0</td>\n      <td>1.0</td>\n      <td>0.0</td>\n      <td>0</td>\n      <td>0</td>\n      <td>0</td>\n      <td>0</td>\n      <td>0</td>\n      <td>1</td>\n    </tr>\n    <tr>\n      <th>2014-01-01 05:00:00</th>\n      <td>5</td>\n      <td>1.0</td>\n      <td>0.0</td>\n      <td>0.0</td>\n      <td>0</td>\n      <td>0</td>\n      <td>0</td>\n      <td>0</td>\n      <td>0</td>\n      <td>1</td>\n    </tr>\n    <tr>\n      <th>2014-01-01 06:00:00</th>\n      <td>6</td>\n      <td>0.0</td>\n      <td>0.0</td>\n      <td>0.0</td>\n      <td>0</td>\n      <td>0</td>\n      <td>0</td>\n      <td>0</td>\n      <td>0</td>\n      <td>1</td>\n    </tr>\n    <tr>\n      <th>2014-01-01 07:00:00</th>\n      <td>7</td>\n      <td>0.0</td>\n      <td>1.0</td>\n      <td>0.0</td>\n      <td>0</td>\n      <td>0</td>\n      <td>0</td>\n      <td>0</td>\n      <td>0</td>\n      <td>1</td>\n    </tr>\n    <tr>\n      <th>2014-01-01 08:00:00</th>\n      <td>8</td>\n      <td>0.0</td>\n      <td>1.0</td>\n      <td>0.0</td>\n      <td>0</td>\n      <td>0</td>\n      <td>0</td>\n      <td>0</td>\n      <td>0</td>\n      <td>1</td>\n    </tr>\n    <tr>\n      <th>2014-01-01 09:00:00</th>\n      <td>9</td>\n      <td>0.0</td>\n      <td>0.0</td>\n      <td>0.0</td>\n      <td>0</td>\n      <td>0</td>\n      <td>0</td>\n      <td>0</td>\n      <td>0</td>\n      <td>1</td>\n    </tr>\n    <tr>\n      <th>2014-01-01 10:00:00</th>\n      <td>10</td>\n      <td>0.0</td>\n      <td>1.0</td>\n      <td>0.0</td>\n      <td>0</td>\n      <td>0</td>\n      <td>0</td>\n      <td>0</td>\n      <td>0</td>\n      <td>1</td>\n    </tr>\n    <tr>\n      <th>2014-01-01 11:00:00</th>\n      <td>11</td>\n      <td>0.0</td>\n      <td>0.0</td>\n      <td>0.0</td>\n      <td>0</td>\n      <td>0</td>\n      <td>0</td>\n      <td>0</td>\n      <td>0</td>\n      <td>1</td>\n    </tr>\n    <tr>\n      <th>2014-01-01 12:00:00</th>\n      <td>12</td>\n      <td>1.0</td>\n      <td>0.0</td>\n      <td>1.0</td>\n      <td>0</td>\n      <td>0</td>\n      <td>0</td>\n      <td>0</td>\n      <td>0</td>\n      <td>1</td>\n    </tr>\n    <tr>\n      <th>2014-01-01 13:00:00</th>\n      <td>13</td>\n      <td>1.0</td>\n      <td>0.0</td>\n      <td>1.0</td>\n      <td>0</td>\n      <td>0</td>\n      <td>0</td>\n      <td>0</td>\n      <td>0</td>\n      <td>1</td>\n    </tr>\n    <tr>\n      <th>2014-01-01 14:00:00</th>\n      <td>14</td>\n      <td>1.0</td>\n      <td>0.0</td>\n      <td>1.0</td>\n      <td>0</td>\n      <td>0</td>\n      <td>0</td>\n      <td>0</td>\n      <td>0</td>\n      <td>1</td>\n    </tr>\n    <tr>\n      <th>2014-01-01 15:00:00</th>\n      <td>15</td>\n      <td>1.0</td>\n      <td>0.0</td>\n      <td>1.0</td>\n      <td>0</td>\n      <td>0</td>\n      <td>0</td>\n      <td>0</td>\n      <td>0</td>\n      <td>1</td>\n    </tr>\n    <tr>\n      <th>2014-01-01 16:00:00</th>\n      <td>16</td>\n      <td>1.0</td>\n      <td>1.0</td>\n      <td>1.0</td>\n      <td>0</td>\n      <td>0</td>\n      <td>0</td>\n      <td>0</td>\n      <td>0</td>\n      <td>1</td>\n    </tr>\n    <tr>\n      <th>2014-01-01 17:00:00</th>\n      <td>17</td>\n      <td>1.0</td>\n      <td>1.0</td>\n      <td>1.0</td>\n      <td>0</td>\n      <td>0</td>\n      <td>0</td>\n      <td>0</td>\n      <td>0</td>\n      <td>1</td>\n    </tr>\n    <tr>\n      <th>2014-01-01 18:00:00</th>\n      <td>18</td>\n      <td>1.0</td>\n      <td>1.0</td>\n      <td>0.0</td>\n      <td>0</td>\n      <td>0</td>\n      <td>0</td>\n      <td>0</td>\n      <td>0</td>\n      <td>1</td>\n    </tr>\n    <tr>\n      <th>2014-01-01 19:00:00</th>\n      <td>19</td>\n      <td>1.0</td>\n      <td>1.0</td>\n      <td>1.0</td>\n      <td>0</td>\n      <td>0</td>\n      <td>0</td>\n      <td>0</td>\n      <td>0</td>\n      <td>1</td>\n    </tr>\n    <tr>\n      <th>2014-01-01 20:00:00</th>\n      <td>20</td>\n      <td>1.0</td>\n      <td>1.0</td>\n      <td>1.0</td>\n      <td>0</td>\n      <td>0</td>\n      <td>0</td>\n      <td>0</td>\n      <td>0</td>\n      <td>1</td>\n    </tr>\n    <tr>\n      <th>2014-01-01 21:00:00</th>\n      <td>21</td>\n      <td>1.0</td>\n      <td>1.0</td>\n      <td>1.0</td>\n      <td>0</td>\n      <td>0</td>\n      <td>0</td>\n      <td>0</td>\n      <td>0</td>\n      <td>1</td>\n    </tr>\n    <tr>\n      <th>2014-01-01 22:00:00</th>\n      <td>22</td>\n      <td>1.0</td>\n      <td>1.0</td>\n      <td>1.0</td>\n      <td>0</td>\n      <td>0</td>\n      <td>0</td>\n      <td>0</td>\n      <td>0</td>\n      <td>1</td>\n    </tr>\n    <tr>\n      <th>2014-01-01 23:00:00</th>\n      <td>23</td>\n      <td>1.0</td>\n      <td>1.0</td>\n      <td>1.0</td>\n      <td>0</td>\n      <td>0</td>\n      <td>0</td>\n      <td>0</td>\n      <td>0</td>\n      <td>1</td>\n    </tr>\n  </tbody>\n</table>\n</div>"
     },
     "metadata": {},
     "execution_count": 35
    }
   ],
   "source": [
    "date = '2014-01-01'\n",
    "activity = Activity_Agent(df)\n",
    "time_delta = {'days': 1, 'seconds': -1}\n",
    "X_test = activity.get_Xtest(df, date, time_delta=time_delta)\n",
    "X_test"
   ]
  },
  {
   "cell_type": "code",
   "execution_count": 11,
   "metadata": {
    "colab": {
     "base_uri": "https://localhost:8080/",
     "height": 810
    },
    "executionInfo": {
     "elapsed": 109187,
     "status": "ok",
     "timestamp": 1607622505587,
     "user": {
      "displayName": "Leon H",
      "photoUrl": "",
      "userId": "10150017554198726068"
     },
     "user_tz": -60
    },
    "id": "NrVhitY0ISQU",
    "outputId": "203e7bf7-d66b-481c-c18f-71d3094aabeb"
   },
   "outputs": [
    {
     "data": {
      "text/html": [
       "<div>\n",
       "<style scoped>\n",
       "    .dataframe tbody tr th:only-of-type {\n",
       "        vertical-align: middle;\n",
       "    }\n",
       "\n",
       "    .dataframe tbody tr th {\n",
       "        vertical-align: top;\n",
       "    }\n",
       "\n",
       "    .dataframe thead th {\n",
       "        text-align: right;\n",
       "    }\n",
       "</style>\n",
       "<table border=\"1\" class=\"dataframe\">\n",
       "  <thead>\n",
       "    <tr style=\"text-align: right;\">\n",
       "      <th></th>\n",
       "      <th>hour</th>\n",
       "      <th>activity_lag_24</th>\n",
       "      <th>activity_lag_48</th>\n",
       "      <th>activity_lag_72</th>\n",
       "      <th>day_name_Monday</th>\n",
       "      <th>day_name_Saturday</th>\n",
       "      <th>day_name_Sunday</th>\n",
       "      <th>day_name_Thursday</th>\n",
       "      <th>day_name_Tuesday</th>\n",
       "      <th>day_name_Wednesday</th>\n",
       "    </tr>\n",
       "    <tr>\n",
       "      <th>Time</th>\n",
       "      <th></th>\n",
       "      <th></th>\n",
       "      <th></th>\n",
       "      <th></th>\n",
       "      <th></th>\n",
       "      <th></th>\n",
       "      <th></th>\n",
       "      <th></th>\n",
       "      <th></th>\n",
       "      <th></th>\n",
       "    </tr>\n",
       "  </thead>\n",
       "  <tbody>\n",
       "    <tr>\n",
       "      <th>2014-01-01 00:00:00</th>\n",
       "      <td>0</td>\n",
       "      <td>0.0</td>\n",
       "      <td>1.0</td>\n",
       "      <td>1.0</td>\n",
       "      <td>0</td>\n",
       "      <td>0</td>\n",
       "      <td>0</td>\n",
       "      <td>0</td>\n",
       "      <td>0</td>\n",
       "      <td>1</td>\n",
       "    </tr>\n",
       "    <tr>\n",
       "      <th>2014-01-01 01:00:00</th>\n",
       "      <td>1</td>\n",
       "      <td>1.0</td>\n",
       "      <td>1.0</td>\n",
       "      <td>0.0</td>\n",
       "      <td>0</td>\n",
       "      <td>0</td>\n",
       "      <td>0</td>\n",
       "      <td>0</td>\n",
       "      <td>0</td>\n",
       "      <td>1</td>\n",
       "    </tr>\n",
       "    <tr>\n",
       "      <th>2014-01-01 02:00:00</th>\n",
       "      <td>2</td>\n",
       "      <td>1.0</td>\n",
       "      <td>0.0</td>\n",
       "      <td>1.0</td>\n",
       "      <td>0</td>\n",
       "      <td>0</td>\n",
       "      <td>0</td>\n",
       "      <td>0</td>\n",
       "      <td>0</td>\n",
       "      <td>1</td>\n",
       "    </tr>\n",
       "    <tr>\n",
       "      <th>2014-01-01 03:00:00</th>\n",
       "      <td>3</td>\n",
       "      <td>1.0</td>\n",
       "      <td>0.0</td>\n",
       "      <td>0.0</td>\n",
       "      <td>0</td>\n",
       "      <td>0</td>\n",
       "      <td>0</td>\n",
       "      <td>0</td>\n",
       "      <td>0</td>\n",
       "      <td>1</td>\n",
       "    </tr>\n",
       "    <tr>\n",
       "      <th>2014-01-01 04:00:00</th>\n",
       "      <td>4</td>\n",
       "      <td>0.0</td>\n",
       "      <td>1.0</td>\n",
       "      <td>0.0</td>\n",
       "      <td>0</td>\n",
       "      <td>0</td>\n",
       "      <td>0</td>\n",
       "      <td>0</td>\n",
       "      <td>0</td>\n",
       "      <td>1</td>\n",
       "    </tr>\n",
       "    <tr>\n",
       "      <th>...</th>\n",
       "      <td>...</td>\n",
       "      <td>...</td>\n",
       "      <td>...</td>\n",
       "      <td>...</td>\n",
       "      <td>...</td>\n",
       "      <td>...</td>\n",
       "      <td>...</td>\n",
       "      <td>...</td>\n",
       "      <td>...</td>\n",
       "      <td>...</td>\n",
       "    </tr>\n",
       "    <tr>\n",
       "      <th>2014-01-07 19:00:00</th>\n",
       "      <td>19</td>\n",
       "      <td>1.0</td>\n",
       "      <td>1.0</td>\n",
       "      <td>1.0</td>\n",
       "      <td>0</td>\n",
       "      <td>0</td>\n",
       "      <td>0</td>\n",
       "      <td>0</td>\n",
       "      <td>1</td>\n",
       "      <td>0</td>\n",
       "    </tr>\n",
       "    <tr>\n",
       "      <th>2014-01-07 20:00:00</th>\n",
       "      <td>20</td>\n",
       "      <td>1.0</td>\n",
       "      <td>1.0</td>\n",
       "      <td>1.0</td>\n",
       "      <td>0</td>\n",
       "      <td>0</td>\n",
       "      <td>0</td>\n",
       "      <td>0</td>\n",
       "      <td>1</td>\n",
       "      <td>0</td>\n",
       "    </tr>\n",
       "    <tr>\n",
       "      <th>2014-01-07 21:00:00</th>\n",
       "      <td>21</td>\n",
       "      <td>1.0</td>\n",
       "      <td>1.0</td>\n",
       "      <td>1.0</td>\n",
       "      <td>0</td>\n",
       "      <td>0</td>\n",
       "      <td>0</td>\n",
       "      <td>0</td>\n",
       "      <td>1</td>\n",
       "      <td>0</td>\n",
       "    </tr>\n",
       "    <tr>\n",
       "      <th>2014-01-07 22:00:00</th>\n",
       "      <td>22</td>\n",
       "      <td>1.0</td>\n",
       "      <td>1.0</td>\n",
       "      <td>1.0</td>\n",
       "      <td>0</td>\n",
       "      <td>0</td>\n",
       "      <td>0</td>\n",
       "      <td>0</td>\n",
       "      <td>1</td>\n",
       "      <td>0</td>\n",
       "    </tr>\n",
       "    <tr>\n",
       "      <th>2014-01-07 23:00:00</th>\n",
       "      <td>23</td>\n",
       "      <td>0.0</td>\n",
       "      <td>1.0</td>\n",
       "      <td>1.0</td>\n",
       "      <td>0</td>\n",
       "      <td>0</td>\n",
       "      <td>0</td>\n",
       "      <td>0</td>\n",
       "      <td>1</td>\n",
       "      <td>0</td>\n",
       "    </tr>\n",
       "  </tbody>\n",
       "</table>\n",
       "<p>168 rows × 10 columns</p>\n",
       "</div>"
      ],
      "text/plain": [
       "                     hour  activity_lag_24  activity_lag_48  activity_lag_72  \\\n",
       "Time                                                                           \n",
       "2014-01-01 00:00:00     0              0.0              1.0              1.0   \n",
       "2014-01-01 01:00:00     1              1.0              1.0              0.0   \n",
       "2014-01-01 02:00:00     2              1.0              0.0              1.0   \n",
       "2014-01-01 03:00:00     3              1.0              0.0              0.0   \n",
       "2014-01-01 04:00:00     4              0.0              1.0              0.0   \n",
       "...                   ...              ...              ...              ...   \n",
       "2014-01-07 19:00:00    19              1.0              1.0              1.0   \n",
       "2014-01-07 20:00:00    20              1.0              1.0              1.0   \n",
       "2014-01-07 21:00:00    21              1.0              1.0              1.0   \n",
       "2014-01-07 22:00:00    22              1.0              1.0              1.0   \n",
       "2014-01-07 23:00:00    23              0.0              1.0              1.0   \n",
       "\n",
       "                     day_name_Monday  day_name_Saturday  day_name_Sunday  \\\n",
       "Time                                                                       \n",
       "2014-01-01 00:00:00                0                  0                0   \n",
       "2014-01-01 01:00:00                0                  0                0   \n",
       "2014-01-01 02:00:00                0                  0                0   \n",
       "2014-01-01 03:00:00                0                  0                0   \n",
       "2014-01-01 04:00:00                0                  0                0   \n",
       "...                              ...                ...              ...   \n",
       "2014-01-07 19:00:00                0                  0                0   \n",
       "2014-01-07 20:00:00                0                  0                0   \n",
       "2014-01-07 21:00:00                0                  0                0   \n",
       "2014-01-07 22:00:00                0                  0                0   \n",
       "2014-01-07 23:00:00                0                  0                0   \n",
       "\n",
       "                     day_name_Thursday  day_name_Tuesday  day_name_Wednesday  \n",
       "Time                                                                          \n",
       "2014-01-01 00:00:00                  0                 0                   1  \n",
       "2014-01-01 01:00:00                  0                 0                   1  \n",
       "2014-01-01 02:00:00                  0                 0                   1  \n",
       "2014-01-01 03:00:00                  0                 0                   1  \n",
       "2014-01-01 04:00:00                  0                 0                   1  \n",
       "...                                ...               ...                 ...  \n",
       "2014-01-07 19:00:00                  0                 1                   0  \n",
       "2014-01-07 20:00:00                  0                 1                   0  \n",
       "2014-01-07 21:00:00                  0                 1                   0  \n",
       "2014-01-07 22:00:00                  0                 1                   0  \n",
       "2014-01-07 23:00:00                  0                 1                   0  \n",
       "\n",
       "[168 rows x 10 columns]"
      ]
     },
     "execution_count": 11,
     "metadata": {},
     "output_type": "execute_result"
    }
   ],
   "source": [
    "date = '2014-01-01'\n",
    "activity = Activity_Agent(df)\n",
    "time_delta = {'days': 7, 'seconds': -1}\n",
    "X_test = activity.get_Xtest(df, date, time_delta=time_delta)\n",
    "X_test"
   ]
  },
  {
   "cell_type": "markdown",
   "metadata": {
    "id": "rVjq9VF-LUI8"
   },
   "source": [
    "**y_test**"
   ]
  },
  {
   "cell_type": "code",
   "execution_count": 36,
   "metadata": {
    "executionInfo": {
     "elapsed": 109183,
     "status": "ok",
     "timestamp": 1607622505588,
     "user": {
      "displayName": "Leon H",
      "photoUrl": "",
      "userId": "10150017554198726068"
     },
     "user_tz": -60
    },
    "id": "5PaQ0TOdJ5_m"
   },
   "outputs": [],
   "source": [
    "def get_ytest(self, df, date, time_delta='all', target='activity'):\n",
    "    import pandas as pd\n",
    "    from helper_functions import Helper\n",
    "\n",
    "    helper = Helper()\n",
    "    \n",
    "    if time_delta == 'all':\n",
    "        output = df.loc[pd.to_datetime(date):, target]\n",
    "    else:\n",
    "        output = helper.get_timespan(df, date, time_delta)[target]\n",
    "    return output\n",
    "\n",
    "# add to Activity agent\n",
    "setattr(Activity_Agent, 'get_ytest', get_ytest)\n",
    "del get_ytest"
   ]
  },
  {
   "cell_type": "code",
   "execution_count": 37,
   "metadata": {
    "colab": {
     "base_uri": "https://localhost:8080/"
    },
    "executionInfo": {
     "elapsed": 109153,
     "status": "ok",
     "timestamp": 1607622505591,
     "user": {
      "displayName": "Leon H",
      "photoUrl": "",
      "userId": "10150017554198726068"
     },
     "user_tz": -60
    },
    "id": "INl50_xGLFTK",
    "outputId": "9272ce37-41b8-40ce-952f-3aee8d411b22"
   },
   "outputs": [
    {
     "output_type": "execute_result",
     "data": {
      "text/plain": [
       "Time\n",
       "2014-01-01 00:00:00    1\n",
       "2014-01-01 01:00:00    0\n",
       "2014-01-01 02:00:00    1\n",
       "2014-01-01 03:00:00    1\n",
       "2014-01-01 04:00:00    1\n",
       "                      ..\n",
       "2015-07-10 07:00:00    0\n",
       "2015-07-10 08:00:00    0\n",
       "2015-07-10 09:00:00    0\n",
       "2015-07-10 10:00:00    0\n",
       "2015-07-10 11:00:00    0\n",
       "Freq: 60T, Name: activity, Length: 13332, dtype: int64"
      ]
     },
     "metadata": {},
     "execution_count": 37
    }
   ],
   "source": [
    "date = '2014-01-01'\n",
    "activity = Activity_Agent(df)\n",
    "y_test = activity.get_ytest(df, date)\n",
    "y_test"
   ]
  },
  {
   "cell_type": "code",
   "execution_count": 38,
   "metadata": {
    "colab": {
     "base_uri": "https://localhost:8080/"
    },
    "executionInfo": {
     "elapsed": 109123,
     "status": "ok",
     "timestamp": 1607622505594,
     "user": {
      "displayName": "Leon H",
      "photoUrl": "",
      "userId": "10150017554198726068"
     },
     "user_tz": -60
    },
    "id": "mAyHkoLVJAau",
    "outputId": "6e4e698d-d03a-4c92-b58b-6a1452b0d9ce"
   },
   "outputs": [
    {
     "output_type": "execute_result",
     "data": {
      "text/plain": [
       "Time\n",
       "2014-01-01 00:00:00    1\n",
       "2014-01-01 01:00:00    0\n",
       "2014-01-01 02:00:00    1\n",
       "2014-01-01 03:00:00    1\n",
       "2014-01-01 04:00:00    1\n",
       "                      ..\n",
       "2014-01-07 19:00:00    0\n",
       "2014-01-07 20:00:00    1\n",
       "2014-01-07 21:00:00    1\n",
       "2014-01-07 22:00:00    1\n",
       "2014-01-07 23:00:00    1\n",
       "Freq: 60T, Name: activity, Length: 168, dtype: int64"
      ]
     },
     "metadata": {},
     "execution_count": 38
    }
   ],
   "source": [
    "date = '2014-01-01'\n",
    "\n",
    "activity = Activity_Agent(df)\n",
    "time_delta = {'days': 7, 'seconds': -1}\n",
    "\n",
    "y_test = activity.get_ytest(df, date, time_delta=time_delta)\n",
    "y_test"
   ]
  },
  {
   "cell_type": "markdown",
   "metadata": {
    "id": "rmS0_1n8LW7o"
   },
   "source": [
    "**X_train**"
   ]
  },
  {
   "cell_type": "code",
   "execution_count": 39,
   "metadata": {
    "executionInfo": {
     "elapsed": 109122,
     "status": "ok",
     "timestamp": 1607622505598,
     "user": {
      "displayName": "Leon H",
      "photoUrl": "",
      "userId": "10150017554198726068"
     },
     "user_tz": -60
    },
    "id": "TXxe0UmALiLu"
   },
   "outputs": [],
   "source": [
    "# start = int (e.g. -100) --> 100 days before the day to be predicted will represent the train data\n",
    "def get_Xtrain(self, df, date, start='2013-11-01', target='activity'):\n",
    "    import pandas as pd\n",
    "\n",
    "    if type(start) == int:\n",
    "        start = pd.to_datetime(date) + pd.Timedelta(days= start)\n",
    "        start = pd.to_datetime('2013-11-01') if start < pd.to_datetime('2013-11-01') else start\n",
    "    else:\n",
    "        start = pd.to_datetime(start)\n",
    "    end = pd.to_datetime(date) + pd.Timedelta(seconds=-1)\n",
    "    return df.loc[start:end, df.columns != target]\n",
    "\n",
    "# add to Activity agent\n",
    "setattr(Activity_Agent, 'get_Xtrain', get_Xtrain)\n",
    "del get_Xtrain"
   ]
  },
  {
   "cell_type": "code",
   "execution_count": 40,
   "metadata": {
    "colab": {
     "base_uri": "https://localhost:8080/",
     "height": 810
    },
    "executionInfo": {
     "elapsed": 109092,
     "status": "ok",
     "timestamp": 1607622505600,
     "user": {
      "displayName": "Leon H",
      "photoUrl": "",
      "userId": "10150017554198726068"
     },
     "user_tz": -60
    },
    "id": "boF5_S0DNCMD",
    "outputId": "5d4727d0-e616-42c0-cb41-ee94d51f47c8"
   },
   "outputs": [
    {
     "output_type": "execute_result",
     "data": {
      "text/plain": [
       "                     hour  activity_lag_24  activity_lag_48  activity_lag_72  \\\n",
       "Time                                                                           \n",
       "2013-11-01 00:00:00     0              1.0              0.0              0.0   \n",
       "2013-11-01 01:00:00     1              1.0              1.0              0.0   \n",
       "2013-11-01 02:00:00     2              0.0              0.0              1.0   \n",
       "2013-11-01 03:00:00     3              0.0              0.0              1.0   \n",
       "2013-11-01 04:00:00     4              1.0              0.0              0.0   \n",
       "...                   ...              ...              ...              ...   \n",
       "2013-12-31 19:00:00    19              1.0              1.0              1.0   \n",
       "2013-12-31 20:00:00    20              1.0              1.0              1.0   \n",
       "2013-12-31 21:00:00    21              1.0              1.0              0.0   \n",
       "2013-12-31 22:00:00    22              1.0              1.0              1.0   \n",
       "2013-12-31 23:00:00    23              1.0              1.0              1.0   \n",
       "\n",
       "                     day_name_Monday  day_name_Saturday  day_name_Sunday  \\\n",
       "Time                                                                       \n",
       "2013-11-01 00:00:00                0                  0                0   \n",
       "2013-11-01 01:00:00                0                  0                0   \n",
       "2013-11-01 02:00:00                0                  0                0   \n",
       "2013-11-01 03:00:00                0                  0                0   \n",
       "2013-11-01 04:00:00                0                  0                0   \n",
       "...                              ...                ...              ...   \n",
       "2013-12-31 19:00:00                0                  0                0   \n",
       "2013-12-31 20:00:00                0                  0                0   \n",
       "2013-12-31 21:00:00                0                  0                0   \n",
       "2013-12-31 22:00:00                0                  0                0   \n",
       "2013-12-31 23:00:00                0                  0                0   \n",
       "\n",
       "                     day_name_Thursday  day_name_Tuesday  day_name_Wednesday  \n",
       "Time                                                                          \n",
       "2013-11-01 00:00:00                  0                 0                   0  \n",
       "2013-11-01 01:00:00                  0                 0                   0  \n",
       "2013-11-01 02:00:00                  0                 0                   0  \n",
       "2013-11-01 03:00:00                  0                 0                   0  \n",
       "2013-11-01 04:00:00                  0                 0                   0  \n",
       "...                                ...               ...                 ...  \n",
       "2013-12-31 19:00:00                  0                 1                   0  \n",
       "2013-12-31 20:00:00                  0                 1                   0  \n",
       "2013-12-31 21:00:00                  0                 1                   0  \n",
       "2013-12-31 22:00:00                  0                 1                   0  \n",
       "2013-12-31 23:00:00                  0                 1                   0  \n",
       "\n",
       "[1464 rows x 10 columns]"
      ],
      "text/html": "<div>\n<style scoped>\n    .dataframe tbody tr th:only-of-type {\n        vertical-align: middle;\n    }\n\n    .dataframe tbody tr th {\n        vertical-align: top;\n    }\n\n    .dataframe thead th {\n        text-align: right;\n    }\n</style>\n<table border=\"1\" class=\"dataframe\">\n  <thead>\n    <tr style=\"text-align: right;\">\n      <th></th>\n      <th>hour</th>\n      <th>activity_lag_24</th>\n      <th>activity_lag_48</th>\n      <th>activity_lag_72</th>\n      <th>day_name_Monday</th>\n      <th>day_name_Saturday</th>\n      <th>day_name_Sunday</th>\n      <th>day_name_Thursday</th>\n      <th>day_name_Tuesday</th>\n      <th>day_name_Wednesday</th>\n    </tr>\n    <tr>\n      <th>Time</th>\n      <th></th>\n      <th></th>\n      <th></th>\n      <th></th>\n      <th></th>\n      <th></th>\n      <th></th>\n      <th></th>\n      <th></th>\n      <th></th>\n    </tr>\n  </thead>\n  <tbody>\n    <tr>\n      <th>2013-11-01 00:00:00</th>\n      <td>0</td>\n      <td>1.0</td>\n      <td>0.0</td>\n      <td>0.0</td>\n      <td>0</td>\n      <td>0</td>\n      <td>0</td>\n      <td>0</td>\n      <td>0</td>\n      <td>0</td>\n    </tr>\n    <tr>\n      <th>2013-11-01 01:00:00</th>\n      <td>1</td>\n      <td>1.0</td>\n      <td>1.0</td>\n      <td>0.0</td>\n      <td>0</td>\n      <td>0</td>\n      <td>0</td>\n      <td>0</td>\n      <td>0</td>\n      <td>0</td>\n    </tr>\n    <tr>\n      <th>2013-11-01 02:00:00</th>\n      <td>2</td>\n      <td>0.0</td>\n      <td>0.0</td>\n      <td>1.0</td>\n      <td>0</td>\n      <td>0</td>\n      <td>0</td>\n      <td>0</td>\n      <td>0</td>\n      <td>0</td>\n    </tr>\n    <tr>\n      <th>2013-11-01 03:00:00</th>\n      <td>3</td>\n      <td>0.0</td>\n      <td>0.0</td>\n      <td>1.0</td>\n      <td>0</td>\n      <td>0</td>\n      <td>0</td>\n      <td>0</td>\n      <td>0</td>\n      <td>0</td>\n    </tr>\n    <tr>\n      <th>2013-11-01 04:00:00</th>\n      <td>4</td>\n      <td>1.0</td>\n      <td>0.0</td>\n      <td>0.0</td>\n      <td>0</td>\n      <td>0</td>\n      <td>0</td>\n      <td>0</td>\n      <td>0</td>\n      <td>0</td>\n    </tr>\n    <tr>\n      <th>...</th>\n      <td>...</td>\n      <td>...</td>\n      <td>...</td>\n      <td>...</td>\n      <td>...</td>\n      <td>...</td>\n      <td>...</td>\n      <td>...</td>\n      <td>...</td>\n      <td>...</td>\n    </tr>\n    <tr>\n      <th>2013-12-31 19:00:00</th>\n      <td>19</td>\n      <td>1.0</td>\n      <td>1.0</td>\n      <td>1.0</td>\n      <td>0</td>\n      <td>0</td>\n      <td>0</td>\n      <td>0</td>\n      <td>1</td>\n      <td>0</td>\n    </tr>\n    <tr>\n      <th>2013-12-31 20:00:00</th>\n      <td>20</td>\n      <td>1.0</td>\n      <td>1.0</td>\n      <td>1.0</td>\n      <td>0</td>\n      <td>0</td>\n      <td>0</td>\n      <td>0</td>\n      <td>1</td>\n      <td>0</td>\n    </tr>\n    <tr>\n      <th>2013-12-31 21:00:00</th>\n      <td>21</td>\n      <td>1.0</td>\n      <td>1.0</td>\n      <td>0.0</td>\n      <td>0</td>\n      <td>0</td>\n      <td>0</td>\n      <td>0</td>\n      <td>1</td>\n      <td>0</td>\n    </tr>\n    <tr>\n      <th>2013-12-31 22:00:00</th>\n      <td>22</td>\n      <td>1.0</td>\n      <td>1.0</td>\n      <td>1.0</td>\n      <td>0</td>\n      <td>0</td>\n      <td>0</td>\n      <td>0</td>\n      <td>1</td>\n      <td>0</td>\n    </tr>\n    <tr>\n      <th>2013-12-31 23:00:00</th>\n      <td>23</td>\n      <td>1.0</td>\n      <td>1.0</td>\n      <td>1.0</td>\n      <td>0</td>\n      <td>0</td>\n      <td>0</td>\n      <td>0</td>\n      <td>1</td>\n      <td>0</td>\n    </tr>\n  </tbody>\n</table>\n<p>1464 rows × 10 columns</p>\n</div>"
     },
     "metadata": {},
     "execution_count": 40
    }
   ],
   "source": [
    "date = '2014-01-01'\n",
    "\n",
    "activity = Activity_Agent(df)\n",
    "X_train = activity.get_Xtrain(df, date)\n",
    "X_train"
   ]
  },
  {
   "cell_type": "code",
   "execution_count": 41,
   "metadata": {
    "colab": {
     "base_uri": "https://localhost:8080/",
     "height": 1000
    },
    "executionInfo": {
     "elapsed": 109044,
     "status": "ok",
     "timestamp": 1607622505603,
     "user": {
      "displayName": "Leon H",
      "photoUrl": "",
      "userId": "10150017554198726068"
     },
     "user_tz": -60
    },
    "id": "wSxGrNSYMh7_",
    "outputId": "1fdd832c-5fe4-4969-ce51-5212aec822be"
   },
   "outputs": [
    {
     "output_type": "execute_result",
     "data": {
      "text/plain": [
       "                     hour  activity_lag_24  activity_lag_48  activity_lag_72  \\\n",
       "Time                                                                           \n",
       "2013-12-31 00:00:00     0              1.0              1.0              0.0   \n",
       "2013-12-31 01:00:00     1              1.0              0.0              1.0   \n",
       "2013-12-31 02:00:00     2              0.0              1.0              1.0   \n",
       "2013-12-31 03:00:00     3              0.0              0.0              0.0   \n",
       "2013-12-31 04:00:00     4              1.0              0.0              1.0   \n",
       "2013-12-31 05:00:00     5              0.0              0.0              0.0   \n",
       "2013-12-31 06:00:00     6              0.0              0.0              0.0   \n",
       "2013-12-31 07:00:00     7              1.0              0.0              0.0   \n",
       "2013-12-31 08:00:00     8              1.0              0.0              0.0   \n",
       "2013-12-31 09:00:00     9              0.0              0.0              0.0   \n",
       "2013-12-31 10:00:00    10              1.0              0.0              0.0   \n",
       "2013-12-31 11:00:00    11              0.0              0.0              1.0   \n",
       "2013-12-31 12:00:00    12              0.0              1.0              1.0   \n",
       "2013-12-31 13:00:00    13              0.0              1.0              1.0   \n",
       "2013-12-31 14:00:00    14              0.0              1.0              1.0   \n",
       "2013-12-31 15:00:00    15              0.0              1.0              1.0   \n",
       "2013-12-31 16:00:00    16              1.0              1.0              1.0   \n",
       "2013-12-31 17:00:00    17              1.0              1.0              1.0   \n",
       "2013-12-31 18:00:00    18              1.0              0.0              1.0   \n",
       "2013-12-31 19:00:00    19              1.0              1.0              1.0   \n",
       "2013-12-31 20:00:00    20              1.0              1.0              1.0   \n",
       "2013-12-31 21:00:00    21              1.0              1.0              0.0   \n",
       "2013-12-31 22:00:00    22              1.0              1.0              1.0   \n",
       "2013-12-31 23:00:00    23              1.0              1.0              1.0   \n",
       "\n",
       "                     day_name_Monday  day_name_Saturday  day_name_Sunday  \\\n",
       "Time                                                                       \n",
       "2013-12-31 00:00:00                0                  0                0   \n",
       "2013-12-31 01:00:00                0                  0                0   \n",
       "2013-12-31 02:00:00                0                  0                0   \n",
       "2013-12-31 03:00:00                0                  0                0   \n",
       "2013-12-31 04:00:00                0                  0                0   \n",
       "2013-12-31 05:00:00                0                  0                0   \n",
       "2013-12-31 06:00:00                0                  0                0   \n",
       "2013-12-31 07:00:00                0                  0                0   \n",
       "2013-12-31 08:00:00                0                  0                0   \n",
       "2013-12-31 09:00:00                0                  0                0   \n",
       "2013-12-31 10:00:00                0                  0                0   \n",
       "2013-12-31 11:00:00                0                  0                0   \n",
       "2013-12-31 12:00:00                0                  0                0   \n",
       "2013-12-31 13:00:00                0                  0                0   \n",
       "2013-12-31 14:00:00                0                  0                0   \n",
       "2013-12-31 15:00:00                0                  0                0   \n",
       "2013-12-31 16:00:00                0                  0                0   \n",
       "2013-12-31 17:00:00                0                  0                0   \n",
       "2013-12-31 18:00:00                0                  0                0   \n",
       "2013-12-31 19:00:00                0                  0                0   \n",
       "2013-12-31 20:00:00                0                  0                0   \n",
       "2013-12-31 21:00:00                0                  0                0   \n",
       "2013-12-31 22:00:00                0                  0                0   \n",
       "2013-12-31 23:00:00                0                  0                0   \n",
       "\n",
       "                     day_name_Thursday  day_name_Tuesday  day_name_Wednesday  \n",
       "Time                                                                          \n",
       "2013-12-31 00:00:00                  0                 1                   0  \n",
       "2013-12-31 01:00:00                  0                 1                   0  \n",
       "2013-12-31 02:00:00                  0                 1                   0  \n",
       "2013-12-31 03:00:00                  0                 1                   0  \n",
       "2013-12-31 04:00:00                  0                 1                   0  \n",
       "2013-12-31 05:00:00                  0                 1                   0  \n",
       "2013-12-31 06:00:00                  0                 1                   0  \n",
       "2013-12-31 07:00:00                  0                 1                   0  \n",
       "2013-12-31 08:00:00                  0                 1                   0  \n",
       "2013-12-31 09:00:00                  0                 1                   0  \n",
       "2013-12-31 10:00:00                  0                 1                   0  \n",
       "2013-12-31 11:00:00                  0                 1                   0  \n",
       "2013-12-31 12:00:00                  0                 1                   0  \n",
       "2013-12-31 13:00:00                  0                 1                   0  \n",
       "2013-12-31 14:00:00                  0                 1                   0  \n",
       "2013-12-31 15:00:00                  0                 1                   0  \n",
       "2013-12-31 16:00:00                  0                 1                   0  \n",
       "2013-12-31 17:00:00                  0                 1                   0  \n",
       "2013-12-31 18:00:00                  0                 1                   0  \n",
       "2013-12-31 19:00:00                  0                 1                   0  \n",
       "2013-12-31 20:00:00                  0                 1                   0  \n",
       "2013-12-31 21:00:00                  0                 1                   0  \n",
       "2013-12-31 22:00:00                  0                 1                   0  \n",
       "2013-12-31 23:00:00                  0                 1                   0  "
      ],
      "text/html": "<div>\n<style scoped>\n    .dataframe tbody tr th:only-of-type {\n        vertical-align: middle;\n    }\n\n    .dataframe tbody tr th {\n        vertical-align: top;\n    }\n\n    .dataframe thead th {\n        text-align: right;\n    }\n</style>\n<table border=\"1\" class=\"dataframe\">\n  <thead>\n    <tr style=\"text-align: right;\">\n      <th></th>\n      <th>hour</th>\n      <th>activity_lag_24</th>\n      <th>activity_lag_48</th>\n      <th>activity_lag_72</th>\n      <th>day_name_Monday</th>\n      <th>day_name_Saturday</th>\n      <th>day_name_Sunday</th>\n      <th>day_name_Thursday</th>\n      <th>day_name_Tuesday</th>\n      <th>day_name_Wednesday</th>\n    </tr>\n    <tr>\n      <th>Time</th>\n      <th></th>\n      <th></th>\n      <th></th>\n      <th></th>\n      <th></th>\n      <th></th>\n      <th></th>\n      <th></th>\n      <th></th>\n      <th></th>\n    </tr>\n  </thead>\n  <tbody>\n    <tr>\n      <th>2013-12-31 00:00:00</th>\n      <td>0</td>\n      <td>1.0</td>\n      <td>1.0</td>\n      <td>0.0</td>\n      <td>0</td>\n      <td>0</td>\n      <td>0</td>\n      <td>0</td>\n      <td>1</td>\n      <td>0</td>\n    </tr>\n    <tr>\n      <th>2013-12-31 01:00:00</th>\n      <td>1</td>\n      <td>1.0</td>\n      <td>0.0</td>\n      <td>1.0</td>\n      <td>0</td>\n      <td>0</td>\n      <td>0</td>\n      <td>0</td>\n      <td>1</td>\n      <td>0</td>\n    </tr>\n    <tr>\n      <th>2013-12-31 02:00:00</th>\n      <td>2</td>\n      <td>0.0</td>\n      <td>1.0</td>\n      <td>1.0</td>\n      <td>0</td>\n      <td>0</td>\n      <td>0</td>\n      <td>0</td>\n      <td>1</td>\n      <td>0</td>\n    </tr>\n    <tr>\n      <th>2013-12-31 03:00:00</th>\n      <td>3</td>\n      <td>0.0</td>\n      <td>0.0</td>\n      <td>0.0</td>\n      <td>0</td>\n      <td>0</td>\n      <td>0</td>\n      <td>0</td>\n      <td>1</td>\n      <td>0</td>\n    </tr>\n    <tr>\n      <th>2013-12-31 04:00:00</th>\n      <td>4</td>\n      <td>1.0</td>\n      <td>0.0</td>\n      <td>1.0</td>\n      <td>0</td>\n      <td>0</td>\n      <td>0</td>\n      <td>0</td>\n      <td>1</td>\n      <td>0</td>\n    </tr>\n    <tr>\n      <th>2013-12-31 05:00:00</th>\n      <td>5</td>\n      <td>0.0</td>\n      <td>0.0</td>\n      <td>0.0</td>\n      <td>0</td>\n      <td>0</td>\n      <td>0</td>\n      <td>0</td>\n      <td>1</td>\n      <td>0</td>\n    </tr>\n    <tr>\n      <th>2013-12-31 06:00:00</th>\n      <td>6</td>\n      <td>0.0</td>\n      <td>0.0</td>\n      <td>0.0</td>\n      <td>0</td>\n      <td>0</td>\n      <td>0</td>\n      <td>0</td>\n      <td>1</td>\n      <td>0</td>\n    </tr>\n    <tr>\n      <th>2013-12-31 07:00:00</th>\n      <td>7</td>\n      <td>1.0</td>\n      <td>0.0</td>\n      <td>0.0</td>\n      <td>0</td>\n      <td>0</td>\n      <td>0</td>\n      <td>0</td>\n      <td>1</td>\n      <td>0</td>\n    </tr>\n    <tr>\n      <th>2013-12-31 08:00:00</th>\n      <td>8</td>\n      <td>1.0</td>\n      <td>0.0</td>\n      <td>0.0</td>\n      <td>0</td>\n      <td>0</td>\n      <td>0</td>\n      <td>0</td>\n      <td>1</td>\n      <td>0</td>\n    </tr>\n    <tr>\n      <th>2013-12-31 09:00:00</th>\n      <td>9</td>\n      <td>0.0</td>\n      <td>0.0</td>\n      <td>0.0</td>\n      <td>0</td>\n      <td>0</td>\n      <td>0</td>\n      <td>0</td>\n      <td>1</td>\n      <td>0</td>\n    </tr>\n    <tr>\n      <th>2013-12-31 10:00:00</th>\n      <td>10</td>\n      <td>1.0</td>\n      <td>0.0</td>\n      <td>0.0</td>\n      <td>0</td>\n      <td>0</td>\n      <td>0</td>\n      <td>0</td>\n      <td>1</td>\n      <td>0</td>\n    </tr>\n    <tr>\n      <th>2013-12-31 11:00:00</th>\n      <td>11</td>\n      <td>0.0</td>\n      <td>0.0</td>\n      <td>1.0</td>\n      <td>0</td>\n      <td>0</td>\n      <td>0</td>\n      <td>0</td>\n      <td>1</td>\n      <td>0</td>\n    </tr>\n    <tr>\n      <th>2013-12-31 12:00:00</th>\n      <td>12</td>\n      <td>0.0</td>\n      <td>1.0</td>\n      <td>1.0</td>\n      <td>0</td>\n      <td>0</td>\n      <td>0</td>\n      <td>0</td>\n      <td>1</td>\n      <td>0</td>\n    </tr>\n    <tr>\n      <th>2013-12-31 13:00:00</th>\n      <td>13</td>\n      <td>0.0</td>\n      <td>1.0</td>\n      <td>1.0</td>\n      <td>0</td>\n      <td>0</td>\n      <td>0</td>\n      <td>0</td>\n      <td>1</td>\n      <td>0</td>\n    </tr>\n    <tr>\n      <th>2013-12-31 14:00:00</th>\n      <td>14</td>\n      <td>0.0</td>\n      <td>1.0</td>\n      <td>1.0</td>\n      <td>0</td>\n      <td>0</td>\n      <td>0</td>\n      <td>0</td>\n      <td>1</td>\n      <td>0</td>\n    </tr>\n    <tr>\n      <th>2013-12-31 15:00:00</th>\n      <td>15</td>\n      <td>0.0</td>\n      <td>1.0</td>\n      <td>1.0</td>\n      <td>0</td>\n      <td>0</td>\n      <td>0</td>\n      <td>0</td>\n      <td>1</td>\n      <td>0</td>\n    </tr>\n    <tr>\n      <th>2013-12-31 16:00:00</th>\n      <td>16</td>\n      <td>1.0</td>\n      <td>1.0</td>\n      <td>1.0</td>\n      <td>0</td>\n      <td>0</td>\n      <td>0</td>\n      <td>0</td>\n      <td>1</td>\n      <td>0</td>\n    </tr>\n    <tr>\n      <th>2013-12-31 17:00:00</th>\n      <td>17</td>\n      <td>1.0</td>\n      <td>1.0</td>\n      <td>1.0</td>\n      <td>0</td>\n      <td>0</td>\n      <td>0</td>\n      <td>0</td>\n      <td>1</td>\n      <td>0</td>\n    </tr>\n    <tr>\n      <th>2013-12-31 18:00:00</th>\n      <td>18</td>\n      <td>1.0</td>\n      <td>0.0</td>\n      <td>1.0</td>\n      <td>0</td>\n      <td>0</td>\n      <td>0</td>\n      <td>0</td>\n      <td>1</td>\n      <td>0</td>\n    </tr>\n    <tr>\n      <th>2013-12-31 19:00:00</th>\n      <td>19</td>\n      <td>1.0</td>\n      <td>1.0</td>\n      <td>1.0</td>\n      <td>0</td>\n      <td>0</td>\n      <td>0</td>\n      <td>0</td>\n      <td>1</td>\n      <td>0</td>\n    </tr>\n    <tr>\n      <th>2013-12-31 20:00:00</th>\n      <td>20</td>\n      <td>1.0</td>\n      <td>1.0</td>\n      <td>1.0</td>\n      <td>0</td>\n      <td>0</td>\n      <td>0</td>\n      <td>0</td>\n      <td>1</td>\n      <td>0</td>\n    </tr>\n    <tr>\n      <th>2013-12-31 21:00:00</th>\n      <td>21</td>\n      <td>1.0</td>\n      <td>1.0</td>\n      <td>0.0</td>\n      <td>0</td>\n      <td>0</td>\n      <td>0</td>\n      <td>0</td>\n      <td>1</td>\n      <td>0</td>\n    </tr>\n    <tr>\n      <th>2013-12-31 22:00:00</th>\n      <td>22</td>\n      <td>1.0</td>\n      <td>1.0</td>\n      <td>1.0</td>\n      <td>0</td>\n      <td>0</td>\n      <td>0</td>\n      <td>0</td>\n      <td>1</td>\n      <td>0</td>\n    </tr>\n    <tr>\n      <th>2013-12-31 23:00:00</th>\n      <td>23</td>\n      <td>1.0</td>\n      <td>1.0</td>\n      <td>1.0</td>\n      <td>0</td>\n      <td>0</td>\n      <td>0</td>\n      <td>0</td>\n      <td>1</td>\n      <td>0</td>\n    </tr>\n  </tbody>\n</table>\n</div>"
     },
     "metadata": {},
     "execution_count": 41
    }
   ],
   "source": [
    "date = '2014-01-01'\n",
    "\n",
    "activity = Activity_Agent(df)\n",
    "X_train = activity.get_Xtrain(df, date, start=-1)\n",
    "X_train"
   ]
  },
  {
   "cell_type": "code",
   "execution_count": 18,
   "metadata": {
    "colab": {
     "base_uri": "https://localhost:8080/",
     "height": 810
    },
    "executionInfo": {
     "elapsed": 109012,
     "status": "ok",
     "timestamp": 1607622505604,
     "user": {
      "displayName": "Leon H",
      "photoUrl": "",
      "userId": "10150017554198726068"
     },
     "user_tz": -60
    },
    "id": "kI_JHuGiMxLG",
    "outputId": "47991d9a-44c5-491f-c19c-5a9142ef088f"
   },
   "outputs": [
    {
     "data": {
      "text/html": [
       "<div>\n",
       "<style scoped>\n",
       "    .dataframe tbody tr th:only-of-type {\n",
       "        vertical-align: middle;\n",
       "    }\n",
       "\n",
       "    .dataframe tbody tr th {\n",
       "        vertical-align: top;\n",
       "    }\n",
       "\n",
       "    .dataframe thead th {\n",
       "        text-align: right;\n",
       "    }\n",
       "</style>\n",
       "<table border=\"1\" class=\"dataframe\">\n",
       "  <thead>\n",
       "    <tr style=\"text-align: right;\">\n",
       "      <th></th>\n",
       "      <th>hour</th>\n",
       "      <th>activity_lag_24</th>\n",
       "      <th>activity_lag_48</th>\n",
       "      <th>activity_lag_72</th>\n",
       "      <th>day_name_Monday</th>\n",
       "      <th>day_name_Saturday</th>\n",
       "      <th>day_name_Sunday</th>\n",
       "      <th>day_name_Thursday</th>\n",
       "      <th>day_name_Tuesday</th>\n",
       "      <th>day_name_Wednesday</th>\n",
       "    </tr>\n",
       "    <tr>\n",
       "      <th>Time</th>\n",
       "      <th></th>\n",
       "      <th></th>\n",
       "      <th></th>\n",
       "      <th></th>\n",
       "      <th></th>\n",
       "      <th></th>\n",
       "      <th></th>\n",
       "      <th></th>\n",
       "      <th></th>\n",
       "      <th></th>\n",
       "    </tr>\n",
       "  </thead>\n",
       "  <tbody>\n",
       "    <tr>\n",
       "      <th>2013-12-22 00:00:00</th>\n",
       "      <td>0</td>\n",
       "      <td>0.0</td>\n",
       "      <td>0.0</td>\n",
       "      <td>1.0</td>\n",
       "      <td>0</td>\n",
       "      <td>0</td>\n",
       "      <td>1</td>\n",
       "      <td>0</td>\n",
       "      <td>0</td>\n",
       "      <td>0</td>\n",
       "    </tr>\n",
       "    <tr>\n",
       "      <th>2013-12-22 01:00:00</th>\n",
       "      <td>1</td>\n",
       "      <td>0.0</td>\n",
       "      <td>0.0</td>\n",
       "      <td>1.0</td>\n",
       "      <td>0</td>\n",
       "      <td>0</td>\n",
       "      <td>1</td>\n",
       "      <td>0</td>\n",
       "      <td>0</td>\n",
       "      <td>0</td>\n",
       "    </tr>\n",
       "    <tr>\n",
       "      <th>2013-12-22 02:00:00</th>\n",
       "      <td>2</td>\n",
       "      <td>1.0</td>\n",
       "      <td>0.0</td>\n",
       "      <td>0.0</td>\n",
       "      <td>0</td>\n",
       "      <td>0</td>\n",
       "      <td>1</td>\n",
       "      <td>0</td>\n",
       "      <td>0</td>\n",
       "      <td>0</td>\n",
       "    </tr>\n",
       "    <tr>\n",
       "      <th>2013-12-22 03:00:00</th>\n",
       "      <td>3</td>\n",
       "      <td>1.0</td>\n",
       "      <td>0.0</td>\n",
       "      <td>1.0</td>\n",
       "      <td>0</td>\n",
       "      <td>0</td>\n",
       "      <td>1</td>\n",
       "      <td>0</td>\n",
       "      <td>0</td>\n",
       "      <td>0</td>\n",
       "    </tr>\n",
       "    <tr>\n",
       "      <th>2013-12-22 04:00:00</th>\n",
       "      <td>4</td>\n",
       "      <td>0.0</td>\n",
       "      <td>0.0</td>\n",
       "      <td>0.0</td>\n",
       "      <td>0</td>\n",
       "      <td>0</td>\n",
       "      <td>1</td>\n",
       "      <td>0</td>\n",
       "      <td>0</td>\n",
       "      <td>0</td>\n",
       "    </tr>\n",
       "    <tr>\n",
       "      <th>...</th>\n",
       "      <td>...</td>\n",
       "      <td>...</td>\n",
       "      <td>...</td>\n",
       "      <td>...</td>\n",
       "      <td>...</td>\n",
       "      <td>...</td>\n",
       "      <td>...</td>\n",
       "      <td>...</td>\n",
       "      <td>...</td>\n",
       "      <td>...</td>\n",
       "    </tr>\n",
       "    <tr>\n",
       "      <th>2013-12-31 19:00:00</th>\n",
       "      <td>19</td>\n",
       "      <td>1.0</td>\n",
       "      <td>1.0</td>\n",
       "      <td>1.0</td>\n",
       "      <td>0</td>\n",
       "      <td>0</td>\n",
       "      <td>0</td>\n",
       "      <td>0</td>\n",
       "      <td>1</td>\n",
       "      <td>0</td>\n",
       "    </tr>\n",
       "    <tr>\n",
       "      <th>2013-12-31 20:00:00</th>\n",
       "      <td>20</td>\n",
       "      <td>1.0</td>\n",
       "      <td>1.0</td>\n",
       "      <td>1.0</td>\n",
       "      <td>0</td>\n",
       "      <td>0</td>\n",
       "      <td>0</td>\n",
       "      <td>0</td>\n",
       "      <td>1</td>\n",
       "      <td>0</td>\n",
       "    </tr>\n",
       "    <tr>\n",
       "      <th>2013-12-31 21:00:00</th>\n",
       "      <td>21</td>\n",
       "      <td>1.0</td>\n",
       "      <td>1.0</td>\n",
       "      <td>0.0</td>\n",
       "      <td>0</td>\n",
       "      <td>0</td>\n",
       "      <td>0</td>\n",
       "      <td>0</td>\n",
       "      <td>1</td>\n",
       "      <td>0</td>\n",
       "    </tr>\n",
       "    <tr>\n",
       "      <th>2013-12-31 22:00:00</th>\n",
       "      <td>22</td>\n",
       "      <td>1.0</td>\n",
       "      <td>1.0</td>\n",
       "      <td>1.0</td>\n",
       "      <td>0</td>\n",
       "      <td>0</td>\n",
       "      <td>0</td>\n",
       "      <td>0</td>\n",
       "      <td>1</td>\n",
       "      <td>0</td>\n",
       "    </tr>\n",
       "    <tr>\n",
       "      <th>2013-12-31 23:00:00</th>\n",
       "      <td>23</td>\n",
       "      <td>1.0</td>\n",
       "      <td>1.0</td>\n",
       "      <td>1.0</td>\n",
       "      <td>0</td>\n",
       "      <td>0</td>\n",
       "      <td>0</td>\n",
       "      <td>0</td>\n",
       "      <td>1</td>\n",
       "      <td>0</td>\n",
       "    </tr>\n",
       "  </tbody>\n",
       "</table>\n",
       "<p>240 rows × 10 columns</p>\n",
       "</div>"
      ],
      "text/plain": [
       "                     hour  activity_lag_24  activity_lag_48  activity_lag_72  \\\n",
       "Time                                                                           \n",
       "2013-12-22 00:00:00     0              0.0              0.0              1.0   \n",
       "2013-12-22 01:00:00     1              0.0              0.0              1.0   \n",
       "2013-12-22 02:00:00     2              1.0              0.0              0.0   \n",
       "2013-12-22 03:00:00     3              1.0              0.0              1.0   \n",
       "2013-12-22 04:00:00     4              0.0              0.0              0.0   \n",
       "...                   ...              ...              ...              ...   \n",
       "2013-12-31 19:00:00    19              1.0              1.0              1.0   \n",
       "2013-12-31 20:00:00    20              1.0              1.0              1.0   \n",
       "2013-12-31 21:00:00    21              1.0              1.0              0.0   \n",
       "2013-12-31 22:00:00    22              1.0              1.0              1.0   \n",
       "2013-12-31 23:00:00    23              1.0              1.0              1.0   \n",
       "\n",
       "                     day_name_Monday  day_name_Saturday  day_name_Sunday  \\\n",
       "Time                                                                       \n",
       "2013-12-22 00:00:00                0                  0                1   \n",
       "2013-12-22 01:00:00                0                  0                1   \n",
       "2013-12-22 02:00:00                0                  0                1   \n",
       "2013-12-22 03:00:00                0                  0                1   \n",
       "2013-12-22 04:00:00                0                  0                1   \n",
       "...                              ...                ...              ...   \n",
       "2013-12-31 19:00:00                0                  0                0   \n",
       "2013-12-31 20:00:00                0                  0                0   \n",
       "2013-12-31 21:00:00                0                  0                0   \n",
       "2013-12-31 22:00:00                0                  0                0   \n",
       "2013-12-31 23:00:00                0                  0                0   \n",
       "\n",
       "                     day_name_Thursday  day_name_Tuesday  day_name_Wednesday  \n",
       "Time                                                                          \n",
       "2013-12-22 00:00:00                  0                 0                   0  \n",
       "2013-12-22 01:00:00                  0                 0                   0  \n",
       "2013-12-22 02:00:00                  0                 0                   0  \n",
       "2013-12-22 03:00:00                  0                 0                   0  \n",
       "2013-12-22 04:00:00                  0                 0                   0  \n",
       "...                                ...               ...                 ...  \n",
       "2013-12-31 19:00:00                  0                 1                   0  \n",
       "2013-12-31 20:00:00                  0                 1                   0  \n",
       "2013-12-31 21:00:00                  0                 1                   0  \n",
       "2013-12-31 22:00:00                  0                 1                   0  \n",
       "2013-12-31 23:00:00                  0                 1                   0  \n",
       "\n",
       "[240 rows x 10 columns]"
      ]
     },
     "execution_count": 18,
     "metadata": {},
     "output_type": "execute_result"
    }
   ],
   "source": [
    "date = '2014-01-01'\n",
    "\n",
    "activity = Activity_Agent(df)\n",
    "X_train = activity.get_Xtrain(df, date, start=-10)\n",
    "X_train"
   ]
  },
  {
   "cell_type": "code",
   "execution_count": 42,
   "metadata": {
    "colab": {
     "base_uri": "https://localhost:8080/",
     "height": 810
    },
    "executionInfo": {
     "elapsed": 108976,
     "status": "ok",
     "timestamp": 1607622505605,
     "user": {
      "displayName": "Leon H",
      "photoUrl": "",
      "userId": "10150017554198726068"
     },
     "user_tz": -60
    },
    "id": "KRGWJrZGMzUr",
    "outputId": "b1b0caea-16f4-4c0c-8b9f-59bbe3fbf78b"
   },
   "outputs": [
    {
     "output_type": "execute_result",
     "data": {
      "text/plain": [
       "                     hour  activity_lag_24  activity_lag_48  activity_lag_72  \\\n",
       "Time                                                                           \n",
       "2013-11-01 00:00:00     0              1.0              0.0              0.0   \n",
       "2013-11-01 01:00:00     1              1.0              1.0              0.0   \n",
       "2013-11-01 02:00:00     2              0.0              0.0              1.0   \n",
       "2013-11-01 03:00:00     3              0.0              0.0              1.0   \n",
       "2013-11-01 04:00:00     4              1.0              0.0              0.0   \n",
       "...                   ...              ...              ...              ...   \n",
       "2013-12-31 19:00:00    19              1.0              1.0              1.0   \n",
       "2013-12-31 20:00:00    20              1.0              1.0              1.0   \n",
       "2013-12-31 21:00:00    21              1.0              1.0              0.0   \n",
       "2013-12-31 22:00:00    22              1.0              1.0              1.0   \n",
       "2013-12-31 23:00:00    23              1.0              1.0              1.0   \n",
       "\n",
       "                     day_name_Monday  day_name_Saturday  day_name_Sunday  \\\n",
       "Time                                                                       \n",
       "2013-11-01 00:00:00                0                  0                0   \n",
       "2013-11-01 01:00:00                0                  0                0   \n",
       "2013-11-01 02:00:00                0                  0                0   \n",
       "2013-11-01 03:00:00                0                  0                0   \n",
       "2013-11-01 04:00:00                0                  0                0   \n",
       "...                              ...                ...              ...   \n",
       "2013-12-31 19:00:00                0                  0                0   \n",
       "2013-12-31 20:00:00                0                  0                0   \n",
       "2013-12-31 21:00:00                0                  0                0   \n",
       "2013-12-31 22:00:00                0                  0                0   \n",
       "2013-12-31 23:00:00                0                  0                0   \n",
       "\n",
       "                     day_name_Thursday  day_name_Tuesday  day_name_Wednesday  \n",
       "Time                                                                          \n",
       "2013-11-01 00:00:00                  0                 0                   0  \n",
       "2013-11-01 01:00:00                  0                 0                   0  \n",
       "2013-11-01 02:00:00                  0                 0                   0  \n",
       "2013-11-01 03:00:00                  0                 0                   0  \n",
       "2013-11-01 04:00:00                  0                 0                   0  \n",
       "...                                ...               ...                 ...  \n",
       "2013-12-31 19:00:00                  0                 1                   0  \n",
       "2013-12-31 20:00:00                  0                 1                   0  \n",
       "2013-12-31 21:00:00                  0                 1                   0  \n",
       "2013-12-31 22:00:00                  0                 1                   0  \n",
       "2013-12-31 23:00:00                  0                 1                   0  \n",
       "\n",
       "[1464 rows x 10 columns]"
      ],
      "text/html": "<div>\n<style scoped>\n    .dataframe tbody tr th:only-of-type {\n        vertical-align: middle;\n    }\n\n    .dataframe tbody tr th {\n        vertical-align: top;\n    }\n\n    .dataframe thead th {\n        text-align: right;\n    }\n</style>\n<table border=\"1\" class=\"dataframe\">\n  <thead>\n    <tr style=\"text-align: right;\">\n      <th></th>\n      <th>hour</th>\n      <th>activity_lag_24</th>\n      <th>activity_lag_48</th>\n      <th>activity_lag_72</th>\n      <th>day_name_Monday</th>\n      <th>day_name_Saturday</th>\n      <th>day_name_Sunday</th>\n      <th>day_name_Thursday</th>\n      <th>day_name_Tuesday</th>\n      <th>day_name_Wednesday</th>\n    </tr>\n    <tr>\n      <th>Time</th>\n      <th></th>\n      <th></th>\n      <th></th>\n      <th></th>\n      <th></th>\n      <th></th>\n      <th></th>\n      <th></th>\n      <th></th>\n      <th></th>\n    </tr>\n  </thead>\n  <tbody>\n    <tr>\n      <th>2013-11-01 00:00:00</th>\n      <td>0</td>\n      <td>1.0</td>\n      <td>0.0</td>\n      <td>0.0</td>\n      <td>0</td>\n      <td>0</td>\n      <td>0</td>\n      <td>0</td>\n      <td>0</td>\n      <td>0</td>\n    </tr>\n    <tr>\n      <th>2013-11-01 01:00:00</th>\n      <td>1</td>\n      <td>1.0</td>\n      <td>1.0</td>\n      <td>0.0</td>\n      <td>0</td>\n      <td>0</td>\n      <td>0</td>\n      <td>0</td>\n      <td>0</td>\n      <td>0</td>\n    </tr>\n    <tr>\n      <th>2013-11-01 02:00:00</th>\n      <td>2</td>\n      <td>0.0</td>\n      <td>0.0</td>\n      <td>1.0</td>\n      <td>0</td>\n      <td>0</td>\n      <td>0</td>\n      <td>0</td>\n      <td>0</td>\n      <td>0</td>\n    </tr>\n    <tr>\n      <th>2013-11-01 03:00:00</th>\n      <td>3</td>\n      <td>0.0</td>\n      <td>0.0</td>\n      <td>1.0</td>\n      <td>0</td>\n      <td>0</td>\n      <td>0</td>\n      <td>0</td>\n      <td>0</td>\n      <td>0</td>\n    </tr>\n    <tr>\n      <th>2013-11-01 04:00:00</th>\n      <td>4</td>\n      <td>1.0</td>\n      <td>0.0</td>\n      <td>0.0</td>\n      <td>0</td>\n      <td>0</td>\n      <td>0</td>\n      <td>0</td>\n      <td>0</td>\n      <td>0</td>\n    </tr>\n    <tr>\n      <th>...</th>\n      <td>...</td>\n      <td>...</td>\n      <td>...</td>\n      <td>...</td>\n      <td>...</td>\n      <td>...</td>\n      <td>...</td>\n      <td>...</td>\n      <td>...</td>\n      <td>...</td>\n    </tr>\n    <tr>\n      <th>2013-12-31 19:00:00</th>\n      <td>19</td>\n      <td>1.0</td>\n      <td>1.0</td>\n      <td>1.0</td>\n      <td>0</td>\n      <td>0</td>\n      <td>0</td>\n      <td>0</td>\n      <td>1</td>\n      <td>0</td>\n    </tr>\n    <tr>\n      <th>2013-12-31 20:00:00</th>\n      <td>20</td>\n      <td>1.0</td>\n      <td>1.0</td>\n      <td>1.0</td>\n      <td>0</td>\n      <td>0</td>\n      <td>0</td>\n      <td>0</td>\n      <td>1</td>\n      <td>0</td>\n    </tr>\n    <tr>\n      <th>2013-12-31 21:00:00</th>\n      <td>21</td>\n      <td>1.0</td>\n      <td>1.0</td>\n      <td>0.0</td>\n      <td>0</td>\n      <td>0</td>\n      <td>0</td>\n      <td>0</td>\n      <td>1</td>\n      <td>0</td>\n    </tr>\n    <tr>\n      <th>2013-12-31 22:00:00</th>\n      <td>22</td>\n      <td>1.0</td>\n      <td>1.0</td>\n      <td>1.0</td>\n      <td>0</td>\n      <td>0</td>\n      <td>0</td>\n      <td>0</td>\n      <td>1</td>\n      <td>0</td>\n    </tr>\n    <tr>\n      <th>2013-12-31 23:00:00</th>\n      <td>23</td>\n      <td>1.0</td>\n      <td>1.0</td>\n      <td>1.0</td>\n      <td>0</td>\n      <td>0</td>\n      <td>0</td>\n      <td>0</td>\n      <td>1</td>\n      <td>0</td>\n    </tr>\n  </tbody>\n</table>\n<p>1464 rows × 10 columns</p>\n</div>"
     },
     "metadata": {},
     "execution_count": 42
    }
   ],
   "source": [
    "date = '2014-01-01'\n",
    "\n",
    "activity = Activity_Agent(df)\n",
    "X_train = activity.get_Xtrain(df, date, start=-9999)\n",
    "X_train"
   ]
  },
  {
   "cell_type": "markdown",
   "metadata": {
    "id": "QzgBu1-uOMwr"
   },
   "source": [
    "**y_train**"
   ]
  },
  {
   "cell_type": "code",
   "execution_count": 43,
   "metadata": {
    "executionInfo": {
     "elapsed": 108973,
     "status": "ok",
     "timestamp": 1607622505606,
     "user": {
      "displayName": "Leon H",
      "photoUrl": "",
      "userId": "10150017554198726068"
     },
     "user_tz": -60
    },
    "id": "4w-fM1QROPQG"
   },
   "outputs": [],
   "source": [
    "def get_ytrain(self, df, date, start='2013-11-01', target='activity'):\n",
    "    import pandas as pd\n",
    "\n",
    "    if type(start) == int:\n",
    "        start = pd.to_datetime(date) + pd.Timedelta(days= start)\n",
    "        start = pd.to_datetime('2013-11-01') if start < pd.to_datetime('2013-11-01') else start\n",
    "    else:\n",
    "        start = pd.to_datetime(start)\n",
    "    end = pd.to_datetime(date) + pd.Timedelta(seconds=-1)\n",
    "    return df.loc[start:end, target]\n",
    "\n",
    "# add to Activity agent\n",
    "setattr(Activity_Agent, 'get_ytrain', get_ytrain)\n",
    "del get_ytrain"
   ]
  },
  {
   "cell_type": "code",
   "execution_count": 21,
   "metadata": {
    "colab": {
     "base_uri": "https://localhost:8080/"
    },
    "executionInfo": {
     "elapsed": 108945,
     "status": "ok",
     "timestamp": 1607622505610,
     "user": {
      "displayName": "Leon H",
      "photoUrl": "",
      "userId": "10150017554198726068"
     },
     "user_tz": -60
    },
    "id": "GBUYXUVWPQN8",
    "outputId": "15e1dbc2-e965-4514-e046-712e56a847fa"
   },
   "outputs": [
    {
     "data": {
      "text/plain": [
       "Time\n",
       "2013-11-01 00:00:00    0\n",
       "2013-11-01 01:00:00    0\n",
       "2013-11-01 02:00:00    0\n",
       "2013-11-01 03:00:00    0\n",
       "2013-11-01 04:00:00    0\n",
       "                      ..\n",
       "2013-12-31 19:00:00    1\n",
       "2013-12-31 20:00:00    1\n",
       "2013-12-31 21:00:00    1\n",
       "2013-12-31 22:00:00    1\n",
       "2013-12-31 23:00:00    1\n",
       "Freq: 60T, Name: activity, Length: 1464, dtype: int64"
      ]
     },
     "execution_count": 21,
     "metadata": {},
     "output_type": "execute_result"
    }
   ],
   "source": [
    "date = '2014-01-01'\n",
    "activity = Activity_Agent(df)\n",
    "y_train = activity.get_ytrain(df, date)\n",
    "y_train"
   ]
  },
  {
   "cell_type": "code",
   "execution_count": 44,
   "metadata": {
    "colab": {
     "base_uri": "https://localhost:8080/"
    },
    "executionInfo": {
     "elapsed": 108915,
     "status": "ok",
     "timestamp": 1607622505612,
     "user": {
      "displayName": "Leon H",
      "photoUrl": "",
      "userId": "10150017554198726068"
     },
     "user_tz": -60
    },
    "id": "P-FYucXjNkuO",
    "outputId": "54b8125f-6252-4462-dff3-7e00418cdece"
   },
   "outputs": [
    {
     "output_type": "execute_result",
     "data": {
      "text/plain": [
       "Time\n",
       "2013-12-31 00:00:00    0\n",
       "2013-12-31 01:00:00    1\n",
       "2013-12-31 02:00:00    1\n",
       "2013-12-31 03:00:00    1\n",
       "2013-12-31 04:00:00    0\n",
       "2013-12-31 05:00:00    1\n",
       "2013-12-31 06:00:00    0\n",
       "2013-12-31 07:00:00    0\n",
       "2013-12-31 08:00:00    0\n",
       "2013-12-31 09:00:00    0\n",
       "2013-12-31 10:00:00    0\n",
       "2013-12-31 11:00:00    0\n",
       "2013-12-31 12:00:00    1\n",
       "2013-12-31 13:00:00    1\n",
       "2013-12-31 14:00:00    1\n",
       "2013-12-31 15:00:00    1\n",
       "2013-12-31 16:00:00    1\n",
       "2013-12-31 17:00:00    1\n",
       "2013-12-31 18:00:00    1\n",
       "2013-12-31 19:00:00    1\n",
       "2013-12-31 20:00:00    1\n",
       "2013-12-31 21:00:00    1\n",
       "2013-12-31 22:00:00    1\n",
       "2013-12-31 23:00:00    1\n",
       "Freq: 60T, Name: activity, dtype: int64"
      ]
     },
     "metadata": {},
     "execution_count": 44
    }
   ],
   "source": [
    "date = '2014-01-01'\n",
    "activity = Activity_Agent(df)\n",
    "y_train = activity.get_ytrain(df, date, start=-1)\n",
    "y_train"
   ]
  },
  {
   "cell_type": "code",
   "execution_count": 45,
   "metadata": {
    "colab": {
     "base_uri": "https://localhost:8080/"
    },
    "executionInfo": {
     "elapsed": 108882,
     "status": "ok",
     "timestamp": 1607622505615,
     "user": {
      "displayName": "Leon H",
      "photoUrl": "",
      "userId": "10150017554198726068"
     },
     "user_tz": -60
    },
    "id": "nuw4b9xmNpdy",
    "outputId": "d5a00b32-7a89-4919-8d5d-3e2e162de5e0"
   },
   "outputs": [
    {
     "output_type": "execute_result",
     "data": {
      "text/plain": [
       "Time\n",
       "2013-12-22 00:00:00    1\n",
       "2013-12-22 01:00:00    0\n",
       "2013-12-22 02:00:00    1\n",
       "2013-12-22 03:00:00    0\n",
       "2013-12-22 04:00:00    1\n",
       "                      ..\n",
       "2013-12-31 19:00:00    1\n",
       "2013-12-31 20:00:00    1\n",
       "2013-12-31 21:00:00    1\n",
       "2013-12-31 22:00:00    1\n",
       "2013-12-31 23:00:00    1\n",
       "Freq: 60T, Name: activity, Length: 240, dtype: int64"
      ]
     },
     "metadata": {},
     "execution_count": 45
    }
   ],
   "source": [
    "date = '2014-01-01'\n",
    "activity = Activity_Agent(df)\n",
    "y_train = activity.get_ytrain(df, date, start=-10)\n",
    "y_train"
   ]
  },
  {
   "cell_type": "code",
   "execution_count": 46,
   "metadata": {
    "colab": {
     "base_uri": "https://localhost:8080/"
    },
    "executionInfo": {
     "elapsed": 108853,
     "status": "ok",
     "timestamp": 1607622505617,
     "user": {
      "displayName": "Leon H",
      "photoUrl": "",
      "userId": "10150017554198726068"
     },
     "user_tz": -60
    },
    "id": "TPc02_ZqNrle",
    "outputId": "23b0cc37-c72e-4590-bd0c-4933e6f2131e"
   },
   "outputs": [
    {
     "output_type": "execute_result",
     "data": {
      "text/plain": [
       "Time\n",
       "2013-11-01 00:00:00    0\n",
       "2013-11-01 01:00:00    0\n",
       "2013-11-01 02:00:00    0\n",
       "2013-11-01 03:00:00    0\n",
       "2013-11-01 04:00:00    0\n",
       "                      ..\n",
       "2013-12-31 19:00:00    1\n",
       "2013-12-31 20:00:00    1\n",
       "2013-12-31 21:00:00    1\n",
       "2013-12-31 22:00:00    1\n",
       "2013-12-31 23:00:00    1\n",
       "Freq: 60T, Name: activity, Length: 1464, dtype: int64"
      ]
     },
     "metadata": {},
     "execution_count": 46
    }
   ],
   "source": [
    "date = '2014-01-01'\n",
    "activity = Activity_Agent(df)\n",
    "y_train = activity.get_ytrain(df, date, start=-9999)\n",
    "y_train"
   ]
  },
  {
   "cell_type": "markdown",
   "metadata": {
    "id": "R0gr74BrNwvM"
   },
   "source": [
    "**train_test_split**"
   ]
  },
  {
   "cell_type": "code",
   "execution_count": 47,
   "metadata": {
    "executionInfo": {
     "elapsed": 108852,
     "status": "ok",
     "timestamp": 1607622505620,
     "user": {
      "displayName": "Leon H",
      "photoUrl": "",
      "userId": "10150017554198726068"
     },
     "user_tz": -60
    },
    "id": "8V4jjdT7T8vF"
   },
   "outputs": [],
   "source": [
    "def train_test_split(self, df, date, train_start='2013-11-01', test_delta='all', target='activity'):\n",
    "    X_train = self.get_Xtrain(df, date, start=train_start, target=target)\n",
    "    y_train = self.get_ytrain(df, date, start=train_start, target=target)\n",
    "    X_test = self.get_Xtest(df, date, time_delta=test_delta, target=target)\n",
    "    y_test = self.get_ytest(df, date, time_delta=test_delta, target=target)\n",
    "    return X_train, y_train, X_test, y_test\n",
    "\n",
    "# add to Activity agent\n",
    "setattr(Activity_Agent, 'train_test_split', train_test_split)\n",
    "del train_test_split    "
   ]
  },
  {
   "cell_type": "code",
   "execution_count": 48,
   "metadata": {
    "colab": {
     "base_uri": "https://localhost:8080/"
    },
    "executionInfo": {
     "elapsed": 108820,
     "status": "ok",
     "timestamp": 1607622505621,
     "user": {
      "displayName": "Leon H",
      "photoUrl": "",
      "userId": "10150017554198726068"
     },
     "user_tz": -60
    },
    "id": "U0_zEuR9Pnuv",
    "outputId": "68d3365a-8d0b-494e-8e15-82df5e6aa1ca"
   },
   "outputs": [
    {
     "output_type": "execute_result",
     "data": {
      "text/plain": [
       "((15335, 11), (1464, 10), (1464,), (13332, 10), (13332,))"
      ]
     },
     "metadata": {},
     "execution_count": 48
    }
   ],
   "source": [
    "date = '2014-01-01'\n",
    "activity = Activity_Agent(df)\n",
    "X_train, y_train, X_test, y_test = activity.train_test_split(df, date)\n",
    "df.shape, X_train.shape, y_train.shape, X_test.shape, y_test.shape"
   ]
  },
  {
   "cell_type": "code",
   "execution_count": 49,
   "metadata": {
    "colab": {
     "base_uri": "https://localhost:8080/"
    },
    "executionInfo": {
     "elapsed": 108787,
     "status": "ok",
     "timestamp": 1607622505622,
     "user": {
      "displayName": "Leon H",
      "photoUrl": "",
      "userId": "10150017554198726068"
     },
     "user_tz": -60
    },
    "id": "L6dQ4jJEP6s6",
    "outputId": "963bbf31-8007-4584-a06d-5f685c88b5f1"
   },
   "outputs": [
    {
     "output_type": "execute_result",
     "data": {
      "text/plain": [
       "((15335, 11), (240, 10), (240,), (240, 10), (240,))"
      ]
     },
     "metadata": {},
     "execution_count": 49
    }
   ],
   "source": [
    "date = '2014-01-01'\n",
    "activity = Activity_Agent(df)\n",
    "X_train, y_train, X_test, y_test = activity.train_test_split(df, date, train_start=-10, test_delta={'days': 10, 'seconds':-1})\n",
    "df.shape, X_train.shape, y_train.shape, X_test.shape, y_test.shape"
   ]
  },
  {
   "cell_type": "code",
   "execution_count": 50,
   "metadata": {
    "colab": {
     "base_uri": "https://localhost:8080/"
    },
    "executionInfo": {
     "elapsed": 108755,
     "status": "ok",
     "timestamp": 1607622505623,
     "user": {
      "displayName": "Leon H",
      "photoUrl": "",
      "userId": "10150017554198726068"
     },
     "user_tz": -60
    },
    "id": "MjMgWUCmRwoY",
    "outputId": "3cf063e8-38e2-4df8-833e-3860feeeff73"
   },
   "outputs": [
    {
     "output_type": "execute_result",
     "data": {
      "text/plain": [
       "((15335, 11), (1464, 10), (1464,), (24, 10), (24,))"
      ]
     },
     "metadata": {},
     "execution_count": 50
    }
   ],
   "source": [
    "date = '2014-01-01'\n",
    "activity = Activity_Agent(df)\n",
    "X_train, y_train, X_test, y_test = activity.train_test_split(df, date, test_delta={'days': 1, 'seconds':-1})\n",
    "df.shape, X_train.shape, y_train.shape, X_test.shape, y_test.shape"
   ]
  },
  {
   "cell_type": "code",
   "execution_count": 29,
   "metadata": {
    "colab": {
     "base_uri": "https://localhost:8080/",
     "height": 810
    },
    "executionInfo": {
     "elapsed": 108722,
     "status": "ok",
     "timestamp": 1607622505628,
     "user": {
      "displayName": "Leon H",
      "photoUrl": "",
      "userId": "10150017554198726068"
     },
     "user_tz": -60
    },
    "id": "1vqbvdYkQuc1",
    "outputId": "66d7e32e-df72-4b59-f397-ee1fa50cd5a4"
   },
   "outputs": [
    {
     "data": {
      "text/html": [
       "<div>\n",
       "<style scoped>\n",
       "    .dataframe tbody tr th:only-of-type {\n",
       "        vertical-align: middle;\n",
       "    }\n",
       "\n",
       "    .dataframe tbody tr th {\n",
       "        vertical-align: top;\n",
       "    }\n",
       "\n",
       "    .dataframe thead th {\n",
       "        text-align: right;\n",
       "    }\n",
       "</style>\n",
       "<table border=\"1\" class=\"dataframe\">\n",
       "  <thead>\n",
       "    <tr style=\"text-align: right;\">\n",
       "      <th></th>\n",
       "      <th>hour</th>\n",
       "      <th>activity_lag_24</th>\n",
       "      <th>activity_lag_48</th>\n",
       "      <th>activity_lag_72</th>\n",
       "      <th>day_name_Monday</th>\n",
       "      <th>day_name_Saturday</th>\n",
       "      <th>day_name_Sunday</th>\n",
       "      <th>day_name_Thursday</th>\n",
       "      <th>day_name_Tuesday</th>\n",
       "      <th>day_name_Wednesday</th>\n",
       "    </tr>\n",
       "    <tr>\n",
       "      <th>Time</th>\n",
       "      <th></th>\n",
       "      <th></th>\n",
       "      <th></th>\n",
       "      <th></th>\n",
       "      <th></th>\n",
       "      <th></th>\n",
       "      <th></th>\n",
       "      <th></th>\n",
       "      <th></th>\n",
       "      <th></th>\n",
       "    </tr>\n",
       "  </thead>\n",
       "  <tbody>\n",
       "    <tr>\n",
       "      <th>2013-11-01 00:00:00</th>\n",
       "      <td>0</td>\n",
       "      <td>1.0</td>\n",
       "      <td>0.0</td>\n",
       "      <td>0.0</td>\n",
       "      <td>0</td>\n",
       "      <td>0</td>\n",
       "      <td>0</td>\n",
       "      <td>0</td>\n",
       "      <td>0</td>\n",
       "      <td>0</td>\n",
       "    </tr>\n",
       "    <tr>\n",
       "      <th>2013-11-01 01:00:00</th>\n",
       "      <td>1</td>\n",
       "      <td>1.0</td>\n",
       "      <td>1.0</td>\n",
       "      <td>0.0</td>\n",
       "      <td>0</td>\n",
       "      <td>0</td>\n",
       "      <td>0</td>\n",
       "      <td>0</td>\n",
       "      <td>0</td>\n",
       "      <td>0</td>\n",
       "    </tr>\n",
       "    <tr>\n",
       "      <th>2013-11-01 02:00:00</th>\n",
       "      <td>2</td>\n",
       "      <td>0.0</td>\n",
       "      <td>0.0</td>\n",
       "      <td>1.0</td>\n",
       "      <td>0</td>\n",
       "      <td>0</td>\n",
       "      <td>0</td>\n",
       "      <td>0</td>\n",
       "      <td>0</td>\n",
       "      <td>0</td>\n",
       "    </tr>\n",
       "    <tr>\n",
       "      <th>2013-11-01 03:00:00</th>\n",
       "      <td>3</td>\n",
       "      <td>0.0</td>\n",
       "      <td>0.0</td>\n",
       "      <td>1.0</td>\n",
       "      <td>0</td>\n",
       "      <td>0</td>\n",
       "      <td>0</td>\n",
       "      <td>0</td>\n",
       "      <td>0</td>\n",
       "      <td>0</td>\n",
       "    </tr>\n",
       "    <tr>\n",
       "      <th>2013-11-01 04:00:00</th>\n",
       "      <td>4</td>\n",
       "      <td>1.0</td>\n",
       "      <td>0.0</td>\n",
       "      <td>0.0</td>\n",
       "      <td>0</td>\n",
       "      <td>0</td>\n",
       "      <td>0</td>\n",
       "      <td>0</td>\n",
       "      <td>0</td>\n",
       "      <td>0</td>\n",
       "    </tr>\n",
       "    <tr>\n",
       "      <th>...</th>\n",
       "      <td>...</td>\n",
       "      <td>...</td>\n",
       "      <td>...</td>\n",
       "      <td>...</td>\n",
       "      <td>...</td>\n",
       "      <td>...</td>\n",
       "      <td>...</td>\n",
       "      <td>...</td>\n",
       "      <td>...</td>\n",
       "      <td>...</td>\n",
       "    </tr>\n",
       "    <tr>\n",
       "      <th>2013-12-31 19:00:00</th>\n",
       "      <td>19</td>\n",
       "      <td>1.0</td>\n",
       "      <td>1.0</td>\n",
       "      <td>1.0</td>\n",
       "      <td>0</td>\n",
       "      <td>0</td>\n",
       "      <td>0</td>\n",
       "      <td>0</td>\n",
       "      <td>1</td>\n",
       "      <td>0</td>\n",
       "    </tr>\n",
       "    <tr>\n",
       "      <th>2013-12-31 20:00:00</th>\n",
       "      <td>20</td>\n",
       "      <td>1.0</td>\n",
       "      <td>1.0</td>\n",
       "      <td>1.0</td>\n",
       "      <td>0</td>\n",
       "      <td>0</td>\n",
       "      <td>0</td>\n",
       "      <td>0</td>\n",
       "      <td>1</td>\n",
       "      <td>0</td>\n",
       "    </tr>\n",
       "    <tr>\n",
       "      <th>2013-12-31 21:00:00</th>\n",
       "      <td>21</td>\n",
       "      <td>1.0</td>\n",
       "      <td>1.0</td>\n",
       "      <td>0.0</td>\n",
       "      <td>0</td>\n",
       "      <td>0</td>\n",
       "      <td>0</td>\n",
       "      <td>0</td>\n",
       "      <td>1</td>\n",
       "      <td>0</td>\n",
       "    </tr>\n",
       "    <tr>\n",
       "      <th>2013-12-31 22:00:00</th>\n",
       "      <td>22</td>\n",
       "      <td>1.0</td>\n",
       "      <td>1.0</td>\n",
       "      <td>1.0</td>\n",
       "      <td>0</td>\n",
       "      <td>0</td>\n",
       "      <td>0</td>\n",
       "      <td>0</td>\n",
       "      <td>1</td>\n",
       "      <td>0</td>\n",
       "    </tr>\n",
       "    <tr>\n",
       "      <th>2013-12-31 23:00:00</th>\n",
       "      <td>23</td>\n",
       "      <td>1.0</td>\n",
       "      <td>1.0</td>\n",
       "      <td>1.0</td>\n",
       "      <td>0</td>\n",
       "      <td>0</td>\n",
       "      <td>0</td>\n",
       "      <td>0</td>\n",
       "      <td>1</td>\n",
       "      <td>0</td>\n",
       "    </tr>\n",
       "  </tbody>\n",
       "</table>\n",
       "<p>1464 rows × 10 columns</p>\n",
       "</div>"
      ],
      "text/plain": [
       "                     hour  activity_lag_24  activity_lag_48  activity_lag_72  \\\n",
       "Time                                                                           \n",
       "2013-11-01 00:00:00     0              1.0              0.0              0.0   \n",
       "2013-11-01 01:00:00     1              1.0              1.0              0.0   \n",
       "2013-11-01 02:00:00     2              0.0              0.0              1.0   \n",
       "2013-11-01 03:00:00     3              0.0              0.0              1.0   \n",
       "2013-11-01 04:00:00     4              1.0              0.0              0.0   \n",
       "...                   ...              ...              ...              ...   \n",
       "2013-12-31 19:00:00    19              1.0              1.0              1.0   \n",
       "2013-12-31 20:00:00    20              1.0              1.0              1.0   \n",
       "2013-12-31 21:00:00    21              1.0              1.0              0.0   \n",
       "2013-12-31 22:00:00    22              1.0              1.0              1.0   \n",
       "2013-12-31 23:00:00    23              1.0              1.0              1.0   \n",
       "\n",
       "                     day_name_Monday  day_name_Saturday  day_name_Sunday  \\\n",
       "Time                                                                       \n",
       "2013-11-01 00:00:00                0                  0                0   \n",
       "2013-11-01 01:00:00                0                  0                0   \n",
       "2013-11-01 02:00:00                0                  0                0   \n",
       "2013-11-01 03:00:00                0                  0                0   \n",
       "2013-11-01 04:00:00                0                  0                0   \n",
       "...                              ...                ...              ...   \n",
       "2013-12-31 19:00:00                0                  0                0   \n",
       "2013-12-31 20:00:00                0                  0                0   \n",
       "2013-12-31 21:00:00                0                  0                0   \n",
       "2013-12-31 22:00:00                0                  0                0   \n",
       "2013-12-31 23:00:00                0                  0                0   \n",
       "\n",
       "                     day_name_Thursday  day_name_Tuesday  day_name_Wednesday  \n",
       "Time                                                                          \n",
       "2013-11-01 00:00:00                  0                 0                   0  \n",
       "2013-11-01 01:00:00                  0                 0                   0  \n",
       "2013-11-01 02:00:00                  0                 0                   0  \n",
       "2013-11-01 03:00:00                  0                 0                   0  \n",
       "2013-11-01 04:00:00                  0                 0                   0  \n",
       "...                                ...               ...                 ...  \n",
       "2013-12-31 19:00:00                  0                 1                   0  \n",
       "2013-12-31 20:00:00                  0                 1                   0  \n",
       "2013-12-31 21:00:00                  0                 1                   0  \n",
       "2013-12-31 22:00:00                  0                 1                   0  \n",
       "2013-12-31 23:00:00                  0                 1                   0  \n",
       "\n",
       "[1464 rows x 10 columns]"
      ]
     },
     "execution_count": 29,
     "metadata": {},
     "output_type": "execute_result"
    }
   ],
   "source": [
    "X_train"
   ]
  },
  {
   "cell_type": "code",
   "execution_count": 30,
   "metadata": {
    "colab": {
     "base_uri": "https://localhost:8080/",
     "height": 1000
    },
    "executionInfo": {
     "elapsed": 108677,
     "status": "ok",
     "timestamp": 1607622505632,
     "user": {
      "displayName": "Leon H",
      "photoUrl": "",
      "userId": "10150017554198726068"
     },
     "user_tz": -60
    },
    "id": "hUSNw2kFR7Vq",
    "outputId": "2b1599ad-ac5a-4fa8-f6a0-1517631df499"
   },
   "outputs": [
    {
     "data": {
      "text/html": [
       "<div>\n",
       "<style scoped>\n",
       "    .dataframe tbody tr th:only-of-type {\n",
       "        vertical-align: middle;\n",
       "    }\n",
       "\n",
       "    .dataframe tbody tr th {\n",
       "        vertical-align: top;\n",
       "    }\n",
       "\n",
       "    .dataframe thead th {\n",
       "        text-align: right;\n",
       "    }\n",
       "</style>\n",
       "<table border=\"1\" class=\"dataframe\">\n",
       "  <thead>\n",
       "    <tr style=\"text-align: right;\">\n",
       "      <th></th>\n",
       "      <th>hour</th>\n",
       "      <th>activity_lag_24</th>\n",
       "      <th>activity_lag_48</th>\n",
       "      <th>activity_lag_72</th>\n",
       "      <th>day_name_Monday</th>\n",
       "      <th>day_name_Saturday</th>\n",
       "      <th>day_name_Sunday</th>\n",
       "      <th>day_name_Thursday</th>\n",
       "      <th>day_name_Tuesday</th>\n",
       "      <th>day_name_Wednesday</th>\n",
       "    </tr>\n",
       "    <tr>\n",
       "      <th>Time</th>\n",
       "      <th></th>\n",
       "      <th></th>\n",
       "      <th></th>\n",
       "      <th></th>\n",
       "      <th></th>\n",
       "      <th></th>\n",
       "      <th></th>\n",
       "      <th></th>\n",
       "      <th></th>\n",
       "      <th></th>\n",
       "    </tr>\n",
       "  </thead>\n",
       "  <tbody>\n",
       "    <tr>\n",
       "      <th>2014-01-01 00:00:00</th>\n",
       "      <td>0</td>\n",
       "      <td>0.0</td>\n",
       "      <td>1.0</td>\n",
       "      <td>1.0</td>\n",
       "      <td>0</td>\n",
       "      <td>0</td>\n",
       "      <td>0</td>\n",
       "      <td>0</td>\n",
       "      <td>0</td>\n",
       "      <td>1</td>\n",
       "    </tr>\n",
       "    <tr>\n",
       "      <th>2014-01-01 01:00:00</th>\n",
       "      <td>1</td>\n",
       "      <td>1.0</td>\n",
       "      <td>1.0</td>\n",
       "      <td>0.0</td>\n",
       "      <td>0</td>\n",
       "      <td>0</td>\n",
       "      <td>0</td>\n",
       "      <td>0</td>\n",
       "      <td>0</td>\n",
       "      <td>1</td>\n",
       "    </tr>\n",
       "    <tr>\n",
       "      <th>2014-01-01 02:00:00</th>\n",
       "      <td>2</td>\n",
       "      <td>1.0</td>\n",
       "      <td>0.0</td>\n",
       "      <td>1.0</td>\n",
       "      <td>0</td>\n",
       "      <td>0</td>\n",
       "      <td>0</td>\n",
       "      <td>0</td>\n",
       "      <td>0</td>\n",
       "      <td>1</td>\n",
       "    </tr>\n",
       "    <tr>\n",
       "      <th>2014-01-01 03:00:00</th>\n",
       "      <td>3</td>\n",
       "      <td>1.0</td>\n",
       "      <td>0.0</td>\n",
       "      <td>0.0</td>\n",
       "      <td>0</td>\n",
       "      <td>0</td>\n",
       "      <td>0</td>\n",
       "      <td>0</td>\n",
       "      <td>0</td>\n",
       "      <td>1</td>\n",
       "    </tr>\n",
       "    <tr>\n",
       "      <th>2014-01-01 04:00:00</th>\n",
       "      <td>4</td>\n",
       "      <td>0.0</td>\n",
       "      <td>1.0</td>\n",
       "      <td>0.0</td>\n",
       "      <td>0</td>\n",
       "      <td>0</td>\n",
       "      <td>0</td>\n",
       "      <td>0</td>\n",
       "      <td>0</td>\n",
       "      <td>1</td>\n",
       "    </tr>\n",
       "    <tr>\n",
       "      <th>2014-01-01 05:00:00</th>\n",
       "      <td>5</td>\n",
       "      <td>1.0</td>\n",
       "      <td>0.0</td>\n",
       "      <td>0.0</td>\n",
       "      <td>0</td>\n",
       "      <td>0</td>\n",
       "      <td>0</td>\n",
       "      <td>0</td>\n",
       "      <td>0</td>\n",
       "      <td>1</td>\n",
       "    </tr>\n",
       "    <tr>\n",
       "      <th>2014-01-01 06:00:00</th>\n",
       "      <td>6</td>\n",
       "      <td>0.0</td>\n",
       "      <td>0.0</td>\n",
       "      <td>0.0</td>\n",
       "      <td>0</td>\n",
       "      <td>0</td>\n",
       "      <td>0</td>\n",
       "      <td>0</td>\n",
       "      <td>0</td>\n",
       "      <td>1</td>\n",
       "    </tr>\n",
       "    <tr>\n",
       "      <th>2014-01-01 07:00:00</th>\n",
       "      <td>7</td>\n",
       "      <td>0.0</td>\n",
       "      <td>1.0</td>\n",
       "      <td>0.0</td>\n",
       "      <td>0</td>\n",
       "      <td>0</td>\n",
       "      <td>0</td>\n",
       "      <td>0</td>\n",
       "      <td>0</td>\n",
       "      <td>1</td>\n",
       "    </tr>\n",
       "    <tr>\n",
       "      <th>2014-01-01 08:00:00</th>\n",
       "      <td>8</td>\n",
       "      <td>0.0</td>\n",
       "      <td>1.0</td>\n",
       "      <td>0.0</td>\n",
       "      <td>0</td>\n",
       "      <td>0</td>\n",
       "      <td>0</td>\n",
       "      <td>0</td>\n",
       "      <td>0</td>\n",
       "      <td>1</td>\n",
       "    </tr>\n",
       "    <tr>\n",
       "      <th>2014-01-01 09:00:00</th>\n",
       "      <td>9</td>\n",
       "      <td>0.0</td>\n",
       "      <td>0.0</td>\n",
       "      <td>0.0</td>\n",
       "      <td>0</td>\n",
       "      <td>0</td>\n",
       "      <td>0</td>\n",
       "      <td>0</td>\n",
       "      <td>0</td>\n",
       "      <td>1</td>\n",
       "    </tr>\n",
       "    <tr>\n",
       "      <th>2014-01-01 10:00:00</th>\n",
       "      <td>10</td>\n",
       "      <td>0.0</td>\n",
       "      <td>1.0</td>\n",
       "      <td>0.0</td>\n",
       "      <td>0</td>\n",
       "      <td>0</td>\n",
       "      <td>0</td>\n",
       "      <td>0</td>\n",
       "      <td>0</td>\n",
       "      <td>1</td>\n",
       "    </tr>\n",
       "    <tr>\n",
       "      <th>2014-01-01 11:00:00</th>\n",
       "      <td>11</td>\n",
       "      <td>0.0</td>\n",
       "      <td>0.0</td>\n",
       "      <td>0.0</td>\n",
       "      <td>0</td>\n",
       "      <td>0</td>\n",
       "      <td>0</td>\n",
       "      <td>0</td>\n",
       "      <td>0</td>\n",
       "      <td>1</td>\n",
       "    </tr>\n",
       "    <tr>\n",
       "      <th>2014-01-01 12:00:00</th>\n",
       "      <td>12</td>\n",
       "      <td>1.0</td>\n",
       "      <td>0.0</td>\n",
       "      <td>1.0</td>\n",
       "      <td>0</td>\n",
       "      <td>0</td>\n",
       "      <td>0</td>\n",
       "      <td>0</td>\n",
       "      <td>0</td>\n",
       "      <td>1</td>\n",
       "    </tr>\n",
       "    <tr>\n",
       "      <th>2014-01-01 13:00:00</th>\n",
       "      <td>13</td>\n",
       "      <td>1.0</td>\n",
       "      <td>0.0</td>\n",
       "      <td>1.0</td>\n",
       "      <td>0</td>\n",
       "      <td>0</td>\n",
       "      <td>0</td>\n",
       "      <td>0</td>\n",
       "      <td>0</td>\n",
       "      <td>1</td>\n",
       "    </tr>\n",
       "    <tr>\n",
       "      <th>2014-01-01 14:00:00</th>\n",
       "      <td>14</td>\n",
       "      <td>1.0</td>\n",
       "      <td>0.0</td>\n",
       "      <td>1.0</td>\n",
       "      <td>0</td>\n",
       "      <td>0</td>\n",
       "      <td>0</td>\n",
       "      <td>0</td>\n",
       "      <td>0</td>\n",
       "      <td>1</td>\n",
       "    </tr>\n",
       "    <tr>\n",
       "      <th>2014-01-01 15:00:00</th>\n",
       "      <td>15</td>\n",
       "      <td>1.0</td>\n",
       "      <td>0.0</td>\n",
       "      <td>1.0</td>\n",
       "      <td>0</td>\n",
       "      <td>0</td>\n",
       "      <td>0</td>\n",
       "      <td>0</td>\n",
       "      <td>0</td>\n",
       "      <td>1</td>\n",
       "    </tr>\n",
       "    <tr>\n",
       "      <th>2014-01-01 16:00:00</th>\n",
       "      <td>16</td>\n",
       "      <td>1.0</td>\n",
       "      <td>1.0</td>\n",
       "      <td>1.0</td>\n",
       "      <td>0</td>\n",
       "      <td>0</td>\n",
       "      <td>0</td>\n",
       "      <td>0</td>\n",
       "      <td>0</td>\n",
       "      <td>1</td>\n",
       "    </tr>\n",
       "    <tr>\n",
       "      <th>2014-01-01 17:00:00</th>\n",
       "      <td>17</td>\n",
       "      <td>1.0</td>\n",
       "      <td>1.0</td>\n",
       "      <td>1.0</td>\n",
       "      <td>0</td>\n",
       "      <td>0</td>\n",
       "      <td>0</td>\n",
       "      <td>0</td>\n",
       "      <td>0</td>\n",
       "      <td>1</td>\n",
       "    </tr>\n",
       "    <tr>\n",
       "      <th>2014-01-01 18:00:00</th>\n",
       "      <td>18</td>\n",
       "      <td>1.0</td>\n",
       "      <td>1.0</td>\n",
       "      <td>0.0</td>\n",
       "      <td>0</td>\n",
       "      <td>0</td>\n",
       "      <td>0</td>\n",
       "      <td>0</td>\n",
       "      <td>0</td>\n",
       "      <td>1</td>\n",
       "    </tr>\n",
       "    <tr>\n",
       "      <th>2014-01-01 19:00:00</th>\n",
       "      <td>19</td>\n",
       "      <td>1.0</td>\n",
       "      <td>1.0</td>\n",
       "      <td>1.0</td>\n",
       "      <td>0</td>\n",
       "      <td>0</td>\n",
       "      <td>0</td>\n",
       "      <td>0</td>\n",
       "      <td>0</td>\n",
       "      <td>1</td>\n",
       "    </tr>\n",
       "    <tr>\n",
       "      <th>2014-01-01 20:00:00</th>\n",
       "      <td>20</td>\n",
       "      <td>1.0</td>\n",
       "      <td>1.0</td>\n",
       "      <td>1.0</td>\n",
       "      <td>0</td>\n",
       "      <td>0</td>\n",
       "      <td>0</td>\n",
       "      <td>0</td>\n",
       "      <td>0</td>\n",
       "      <td>1</td>\n",
       "    </tr>\n",
       "    <tr>\n",
       "      <th>2014-01-01 21:00:00</th>\n",
       "      <td>21</td>\n",
       "      <td>1.0</td>\n",
       "      <td>1.0</td>\n",
       "      <td>1.0</td>\n",
       "      <td>0</td>\n",
       "      <td>0</td>\n",
       "      <td>0</td>\n",
       "      <td>0</td>\n",
       "      <td>0</td>\n",
       "      <td>1</td>\n",
       "    </tr>\n",
       "    <tr>\n",
       "      <th>2014-01-01 22:00:00</th>\n",
       "      <td>22</td>\n",
       "      <td>1.0</td>\n",
       "      <td>1.0</td>\n",
       "      <td>1.0</td>\n",
       "      <td>0</td>\n",
       "      <td>0</td>\n",
       "      <td>0</td>\n",
       "      <td>0</td>\n",
       "      <td>0</td>\n",
       "      <td>1</td>\n",
       "    </tr>\n",
       "    <tr>\n",
       "      <th>2014-01-01 23:00:00</th>\n",
       "      <td>23</td>\n",
       "      <td>1.0</td>\n",
       "      <td>1.0</td>\n",
       "      <td>1.0</td>\n",
       "      <td>0</td>\n",
       "      <td>0</td>\n",
       "      <td>0</td>\n",
       "      <td>0</td>\n",
       "      <td>0</td>\n",
       "      <td>1</td>\n",
       "    </tr>\n",
       "  </tbody>\n",
       "</table>\n",
       "</div>"
      ],
      "text/plain": [
       "                     hour  activity_lag_24  activity_lag_48  activity_lag_72  \\\n",
       "Time                                                                           \n",
       "2014-01-01 00:00:00     0              0.0              1.0              1.0   \n",
       "2014-01-01 01:00:00     1              1.0              1.0              0.0   \n",
       "2014-01-01 02:00:00     2              1.0              0.0              1.0   \n",
       "2014-01-01 03:00:00     3              1.0              0.0              0.0   \n",
       "2014-01-01 04:00:00     4              0.0              1.0              0.0   \n",
       "2014-01-01 05:00:00     5              1.0              0.0              0.0   \n",
       "2014-01-01 06:00:00     6              0.0              0.0              0.0   \n",
       "2014-01-01 07:00:00     7              0.0              1.0              0.0   \n",
       "2014-01-01 08:00:00     8              0.0              1.0              0.0   \n",
       "2014-01-01 09:00:00     9              0.0              0.0              0.0   \n",
       "2014-01-01 10:00:00    10              0.0              1.0              0.0   \n",
       "2014-01-01 11:00:00    11              0.0              0.0              0.0   \n",
       "2014-01-01 12:00:00    12              1.0              0.0              1.0   \n",
       "2014-01-01 13:00:00    13              1.0              0.0              1.0   \n",
       "2014-01-01 14:00:00    14              1.0              0.0              1.0   \n",
       "2014-01-01 15:00:00    15              1.0              0.0              1.0   \n",
       "2014-01-01 16:00:00    16              1.0              1.0              1.0   \n",
       "2014-01-01 17:00:00    17              1.0              1.0              1.0   \n",
       "2014-01-01 18:00:00    18              1.0              1.0              0.0   \n",
       "2014-01-01 19:00:00    19              1.0              1.0              1.0   \n",
       "2014-01-01 20:00:00    20              1.0              1.0              1.0   \n",
       "2014-01-01 21:00:00    21              1.0              1.0              1.0   \n",
       "2014-01-01 22:00:00    22              1.0              1.0              1.0   \n",
       "2014-01-01 23:00:00    23              1.0              1.0              1.0   \n",
       "\n",
       "                     day_name_Monday  day_name_Saturday  day_name_Sunday  \\\n",
       "Time                                                                       \n",
       "2014-01-01 00:00:00                0                  0                0   \n",
       "2014-01-01 01:00:00                0                  0                0   \n",
       "2014-01-01 02:00:00                0                  0                0   \n",
       "2014-01-01 03:00:00                0                  0                0   \n",
       "2014-01-01 04:00:00                0                  0                0   \n",
       "2014-01-01 05:00:00                0                  0                0   \n",
       "2014-01-01 06:00:00                0                  0                0   \n",
       "2014-01-01 07:00:00                0                  0                0   \n",
       "2014-01-01 08:00:00                0                  0                0   \n",
       "2014-01-01 09:00:00                0                  0                0   \n",
       "2014-01-01 10:00:00                0                  0                0   \n",
       "2014-01-01 11:00:00                0                  0                0   \n",
       "2014-01-01 12:00:00                0                  0                0   \n",
       "2014-01-01 13:00:00                0                  0                0   \n",
       "2014-01-01 14:00:00                0                  0                0   \n",
       "2014-01-01 15:00:00                0                  0                0   \n",
       "2014-01-01 16:00:00                0                  0                0   \n",
       "2014-01-01 17:00:00                0                  0                0   \n",
       "2014-01-01 18:00:00                0                  0                0   \n",
       "2014-01-01 19:00:00                0                  0                0   \n",
       "2014-01-01 20:00:00                0                  0                0   \n",
       "2014-01-01 21:00:00                0                  0                0   \n",
       "2014-01-01 22:00:00                0                  0                0   \n",
       "2014-01-01 23:00:00                0                  0                0   \n",
       "\n",
       "                     day_name_Thursday  day_name_Tuesday  day_name_Wednesday  \n",
       "Time                                                                          \n",
       "2014-01-01 00:00:00                  0                 0                   1  \n",
       "2014-01-01 01:00:00                  0                 0                   1  \n",
       "2014-01-01 02:00:00                  0                 0                   1  \n",
       "2014-01-01 03:00:00                  0                 0                   1  \n",
       "2014-01-01 04:00:00                  0                 0                   1  \n",
       "2014-01-01 05:00:00                  0                 0                   1  \n",
       "2014-01-01 06:00:00                  0                 0                   1  \n",
       "2014-01-01 07:00:00                  0                 0                   1  \n",
       "2014-01-01 08:00:00                  0                 0                   1  \n",
       "2014-01-01 09:00:00                  0                 0                   1  \n",
       "2014-01-01 10:00:00                  0                 0                   1  \n",
       "2014-01-01 11:00:00                  0                 0                   1  \n",
       "2014-01-01 12:00:00                  0                 0                   1  \n",
       "2014-01-01 13:00:00                  0                 0                   1  \n",
       "2014-01-01 14:00:00                  0                 0                   1  \n",
       "2014-01-01 15:00:00                  0                 0                   1  \n",
       "2014-01-01 16:00:00                  0                 0                   1  \n",
       "2014-01-01 17:00:00                  0                 0                   1  \n",
       "2014-01-01 18:00:00                  0                 0                   1  \n",
       "2014-01-01 19:00:00                  0                 0                   1  \n",
       "2014-01-01 20:00:00                  0                 0                   1  \n",
       "2014-01-01 21:00:00                  0                 0                   1  \n",
       "2014-01-01 22:00:00                  0                 0                   1  \n",
       "2014-01-01 23:00:00                  0                 0                   1  "
      ]
     },
     "execution_count": 30,
     "metadata": {},
     "output_type": "execute_result"
    }
   ],
   "source": [
    "X_test"
   ]
  },
  {
   "cell_type": "code",
   "execution_count": 84,
   "metadata": {
    "colab": {
     "base_uri": "https://localhost:8080/"
    },
    "executionInfo": {
     "elapsed": 108648,
     "status": "ok",
     "timestamp": 1607622505633,
     "user": {
      "displayName": "Leon H",
      "photoUrl": "",
      "userId": "10150017554198726068"
     },
     "user_tz": -60
    },
    "id": "YRC3BzB1R9Vm",
    "outputId": "016c8cc1-ec68-4778-b2fa-7037de1ac50b"
   },
   "outputs": [
    {
     "output_type": "execute_result",
     "data": {
      "text/plain": [
       "Time\n",
       "2013-11-01 00:00:00    0\n",
       "2013-11-01 01:00:00    0\n",
       "2013-11-01 02:00:00    0\n",
       "2013-11-01 03:00:00    0\n",
       "2013-11-01 04:00:00    0\n",
       "                      ..\n",
       "2013-12-31 19:00:00    1\n",
       "2013-12-31 20:00:00    1\n",
       "2013-12-31 21:00:00    1\n",
       "2013-12-31 22:00:00    1\n",
       "2013-12-31 23:00:00    1\n",
       "Freq: 60T, Name: activity, Length: 1464, dtype: int64"
      ]
     },
     "metadata": {},
     "execution_count": 84
    }
   ],
   "source": [
    "y_train"
   ]
  },
  {
   "cell_type": "code",
   "execution_count": 54,
   "metadata": {
    "colab": {
     "base_uri": "https://localhost:8080/"
    },
    "executionInfo": {
     "elapsed": 108623,
     "status": "ok",
     "timestamp": 1607622505637,
     "user": {
      "displayName": "Leon H",
      "photoUrl": "",
      "userId": "10150017554198726068"
     },
     "user_tz": -60
    },
    "id": "NzucRWLPR-se",
    "outputId": "e636f0bd-dbb0-4ff5-b05a-a3ada56c130f"
   },
   "outputs": [
    {
     "output_type": "execute_result",
     "data": {
      "text/plain": [
       "Time\n",
       "2014-01-01 00:00:00    1\n",
       "2014-01-01 01:00:00    0\n",
       "2014-01-01 02:00:00    1\n",
       "2014-01-01 03:00:00    1\n",
       "2014-01-01 04:00:00    1\n",
       "2014-01-01 05:00:00    0\n",
       "2014-01-01 06:00:00    0\n",
       "2014-01-01 07:00:00    0\n",
       "2014-01-01 08:00:00    1\n",
       "2014-01-01 09:00:00    1\n",
       "2014-01-01 10:00:00    0\n",
       "2014-01-01 11:00:00    0\n",
       "2014-01-01 12:00:00    1\n",
       "2014-01-01 13:00:00    1\n",
       "2014-01-01 14:00:00    1\n",
       "2014-01-01 15:00:00    1\n",
       "2014-01-01 16:00:00    1\n",
       "2014-01-01 17:00:00    1\n",
       "2014-01-01 18:00:00    1\n",
       "2014-01-01 19:00:00    0\n",
       "2014-01-01 20:00:00    1\n",
       "2014-01-01 21:00:00    1\n",
       "2014-01-01 22:00:00    1\n",
       "2014-01-01 23:00:00    0\n",
       "Freq: 60T, Name: activity, dtype: int64"
      ]
     },
     "metadata": {},
     "execution_count": 54
    }
   ],
   "source": [
    "y_test"
   ]
  },
  {
   "cell_type": "markdown",
   "metadata": {
    "id": "oFin5DzZSe4m"
   },
   "source": [
    "### **2.2 Building Models**\n",
    "\n",
    "Within this section, we will demonstrate how different models for predicting the user activity could be added to the activity agent. For this notebook, we chose to implement a pretty simple logistic regression using the statsmodel api which already provides promising results. \n",
    "\n",
    "The functionality of the activity agent will include building models, fitting models and predicting the user’s activity.\n"
   ]
  },
  {
   "cell_type": "code",
   "execution_count": 107,
   "metadata": {},
   "outputs": [],
   "source": [
    "#ML Models\n",
    "def skModels(self,model):\n",
    "    # models we want to try\n",
    "    names = [\"knn\", \"linear svm\",\"rbv svm\", \"gaussian process\",\"descision tree\", \"random forest\",\"nn\", \"ada boost\",\"nb\", \"qda\"]\n",
    "    classifiers = [KNeighborsClassifier(3),\n",
    "                    SVC(kernel=\"linear\", C=0.025),\n",
    "                    SVC(gamma=2, C=1),\n",
    "                    GaussianProcessClassifier(1.0 * RBF(1.0)),\n",
    "                    DecisionTreeClassifier(max_depth=5),\n",
    "                    RandomForestClassifier(max_depth=5, n_estimators=10, max_features=1),\n",
    "                    MLPClassifier(alpha=1, max_iter=1000),\n",
    "                    AdaBoostClassifier(),\n",
    "                    GaussianNB(),\n",
    "                    QuadraticDiscriminantAnalysis()]\n",
    "    model_types = [type(classifier) for classifier in classifiers]\n",
    "    if model in names:\n",
    "        dict_of_classifiers = dict(zip(names, classifiers))\n",
    "        return  dict_of_classifiers, model_types   \n",
    "    else:\n",
    "        raise InputError('Unknown model type.')\n",
    "# add to Activity agent\n",
    "setattr(Activity_Agent, 'skModels', skModels)\n",
    "del skModels\n",
    "  "
   ]
  },
  {
   "cell_type": "code",
   "execution_count": 104,
   "metadata": {},
   "outputs": [],
   "source": [
    "def fit_skModels(self, dict_, model_type, X,y):\n",
    "    if model_type in dict_:\n",
    "        fitted_model = dict_[model_type].fit(X,y)\n",
    "        return fitted_model\n",
    "    else:\n",
    "        raise InputError('Unknown model type')\n",
    "# add to Activity agent\n",
    "setattr(Activity_Agent, 'fit_skModels', fit_skModels)\n",
    "del fit_skModels    \n"
   ]
  },
  {
   "cell_type": "code",
   "execution_count": 105,
   "metadata": {},
   "outputs": [],
   "source": [
    "def skModels_predict(self, model, X):\n",
    "    types = [ sk.neighbors._classification.KNeighborsClassifier,\n",
    "            sk.svm._classes.SVC,\n",
    "            sk.svm._classes.SVC,\n",
    "            sk.gaussian_process._gpc.GaussianProcessClassifier,\n",
    "            sk.tree._classes.DecisionTreeClassifier,\n",
    "            sk.ensemble._forest.RandomForestClassifier,\n",
    "            sk.neural_network._multilayer_perceptron.MLPClassifier,\n",
    "            sk.ensemble._weight_boosting.AdaBoostClassifier,\n",
    "            sk.naive_bayes.GaussianNB,\n",
    "            sk.discriminant_analysis.QuadraticDiscriminantAnalysis\n",
    "            ]\n",
    "    if type(model) in types:\n",
    "        y_hat = model.predict(X)\n",
    "        y_hat = pd.Series(y_hat, index=X_test.index)\n",
    "    else:\n",
    "        raise InputError('Unknown model type.')\n",
    "    return y_hat\n",
    "# add to Activity agent\n",
    "setattr(Activity_Agent, 'skModels_predict', skModels_predict)\n",
    "del skModels_predict  \n",
    "  "
   ]
  },
  {
   "cell_type": "code",
   "execution_count": 33,
   "metadata": {
    "executionInfo": {
     "elapsed": 108622,
     "status": "ok",
     "timestamp": 1607622505639,
     "user": {
      "displayName": "Leon H",
      "photoUrl": "",
      "userId": "10150017554198726068"
     },
     "user_tz": -60
    },
    "id": "tB-PCKn6Sh0v"
   },
   "outputs": [],
   "source": [
    "def fit_smLogit(self, X, y):\n",
    "    import statsmodels.api as sm\n",
    "    return sm.Logit(y, X).fit(disp=False)\n",
    "\n",
    "# add to Activity agent\n",
    "setattr(Activity_Agent, 'fit_smLogit', fit_smLogit)\n",
    "del fit_smLogit "
   ]
  },
  {
   "cell_type": "code",
   "execution_count": 34,
   "metadata": {
    "executionInfo": {
     "elapsed": 108619,
     "status": "ok",
     "timestamp": 1607622505640,
     "user": {
      "displayName": "Leon H",
      "photoUrl": "",
      "userId": "10150017554198726068"
     },
     "user_tz": -60
    },
    "id": "MEUtPWuqUby7"
   },
   "outputs": [],
   "source": [
    "def fit(self, X, y, model_type):\n",
    "    if model_type == 'logit':\n",
    "        model = self.fit_smLogit(X, y)\n",
    "    else:\n",
    "        raise InputError('Unknown model type.')\n",
    "    return model\n",
    "\n",
    "# add to Activity agent\n",
    "setattr(Activity_Agent, 'fit', fit)\n",
    "del fit"
   ]
  },
  {
   "cell_type": "code",
   "execution_count": 106,
   "metadata": {
    "colab": {
     "base_uri": "https://localhost:8080/"
    },
    "executionInfo": {
     "elapsed": 108973,
     "status": "ok",
     "timestamp": 1607622506027,
     "user": {
      "displayName": "Leon H",
      "photoUrl": "",
      "userId": "10150017554198726068"
     },
     "user_tz": -60
    },
    "id": "c4VLJHsiT6og",
    "outputId": "e5a9a876-fc6e-4e76-e0e3-648bd04a6bde"
   },
   "outputs": [
    {
     "output_type": "error",
     "ename": "ValueError",
     "evalue": "too many values to unpack (expected 2)",
     "traceback": [
      "\u001b[0;31m---------------------------------------------------------------------------\u001b[0m",
      "\u001b[0;31mValueError\u001b[0m                                Traceback (most recent call last)",
      "\u001b[0;32m<ipython-input-106-23d1bc9eea1c>\u001b[0m in \u001b[0;36m<module>\u001b[0;34m\u001b[0m\n\u001b[1;32m      1\u001b[0m \u001b[0;31m# changed to use sk models\u001b[0m\u001b[0;34m\u001b[0m\u001b[0;34m\u001b[0m\u001b[0;34m\u001b[0m\u001b[0m\n\u001b[1;32m      2\u001b[0m \u001b[0mactivity\u001b[0m \u001b[0;34m=\u001b[0m \u001b[0mActivity_Agent\u001b[0m\u001b[0;34m(\u001b[0m\u001b[0mdf\u001b[0m\u001b[0;34m)\u001b[0m\u001b[0;34m\u001b[0m\u001b[0;34m\u001b[0m\u001b[0m\n\u001b[0;32m----> 3\u001b[0;31m \u001b[0mdict_with_models\u001b[0m\u001b[0;34m,\u001b[0m \u001b[0mmodel_types\u001b[0m \u001b[0;34m=\u001b[0m \u001b[0mactivity\u001b[0m\u001b[0;34m.\u001b[0m\u001b[0mskModels\u001b[0m\u001b[0;34m(\u001b[0m\u001b[0;34m'knn'\u001b[0m\u001b[0;34m)\u001b[0m\u001b[0;34m\u001b[0m\u001b[0;34m\u001b[0m\u001b[0m\n\u001b[0m\u001b[1;32m      4\u001b[0m \u001b[0mprint\u001b[0m\u001b[0;34m(\u001b[0m\u001b[0mdict_with_models\u001b[0m\u001b[0;34m)\u001b[0m\u001b[0;34m\u001b[0m\u001b[0;34m\u001b[0m\u001b[0m\n\u001b[1;32m      5\u001b[0m \u001b[0mprint\u001b[0m\u001b[0;34m(\u001b[0m\u001b[0mmodel_types\u001b[0m\u001b[0;34m)\u001b[0m\u001b[0;34m\u001b[0m\u001b[0;34m\u001b[0m\u001b[0m\n",
      "\u001b[0;31mValueError\u001b[0m: too many values to unpack (expected 2)"
     ]
    }
   ],
   "source": [
    "# changed to use sk models\n",
    "activity = Activity_Agent(df)\n",
    "dict_with_models, model_types = activity.skModels('knn')\n",
    "print(dict_with_models)\n",
    "print(model_types)\n",
    "#print(model.summary())"
   ]
  },
  {
   "cell_type": "code",
   "execution_count": 88,
   "metadata": {},
   "outputs": [],
   "source": [
    "# fit models\n",
    "model = activity.fit_skModels(dict_with_models,'knn', X_train, y_train)\n"
   ]
  },
  {
   "cell_type": "code",
   "execution_count": 95,
   "metadata": {},
   "outputs": [
    {
     "output_type": "stream",
     "name": "stdout",
     "text": [
      "Time\n2014-01-01 00:00:00    0\n2014-01-01 01:00:00    0\n2014-01-01 02:00:00    0\n2014-01-01 03:00:00    1\n2014-01-01 04:00:00    0\n2014-01-01 05:00:00    0\n2014-01-01 06:00:00    0\n2014-01-01 07:00:00    0\n2014-01-01 08:00:00    0\n2014-01-01 09:00:00    0\n2014-01-01 10:00:00    0\n2014-01-01 11:00:00    0\n2014-01-01 12:00:00    0\n2014-01-01 13:00:00    0\n2014-01-01 14:00:00    1\n2014-01-01 15:00:00    0\n2014-01-01 16:00:00    0\n2014-01-01 17:00:00    0\n2014-01-01 18:00:00    1\n2014-01-01 19:00:00    0\n2014-01-01 20:00:00    1\n2014-01-01 21:00:00    1\n2014-01-01 22:00:00    1\n2014-01-01 23:00:00    1\nFreq: 60T, dtype: int64\n"
     ]
    }
   ],
   "source": [
    "# predict\n",
    "y_hat = activity.skModels_predict(model, X_test)\n",
    "print(y_hat)"
   ]
  },
  {
   "cell_type": "code",
   "execution_count": 36,
   "metadata": {
    "executionInfo": {
     "elapsed": 108976,
     "status": "ok",
     "timestamp": 1607622506034,
     "user": {
      "displayName": "Leon H",
      "photoUrl": "",
      "userId": "10150017554198726068"
     },
     "user_tz": -60
    },
    "id": "ya4tqmxRWbY2"
   },
   "outputs": [],
   "source": [
    "def predict(self, model, X):\n",
    "    import statsmodels\n",
    "\n",
    "    if type(model) == statsmodels.discrete.discrete_model.BinaryResultsWrapper:\n",
    "        y_hat = model.predict(X)\n",
    "    else:\n",
    "        raise InputError('Unknown model type.')\n",
    "    return y_hat\n",
    "\n",
    "# add to Activity agent\n",
    "setattr(Activity_Agent, 'predict', predict)\n",
    "del predict"
   ]
  },
  {
   "cell_type": "code",
   "execution_count": 37,
   "metadata": {
    "colab": {
     "base_uri": "https://localhost:8080/"
    },
    "executionInfo": {
     "elapsed": 108950,
     "status": "ok",
     "timestamp": 1607622506036,
     "user": {
      "displayName": "Leon H",
      "photoUrl": "",
      "userId": "10150017554198726068"
     },
     "user_tz": -60
    },
    "id": "CF1BdwjeX5Zl",
    "outputId": "cf3991e5-500d-4e26-e184-75b28f444b0e"
   },
   "outputs": [
    {
     "data": {
      "text/plain": [
       "Time\n",
       "2014-01-01 00:00:00    0.280720\n",
       "2014-01-01 01:00:00    0.397474\n",
       "2014-01-01 02:00:00    0.381278\n",
       "2014-01-01 03:00:00    0.384696\n",
       "2014-01-01 04:00:00    0.299095\n",
       "2014-01-01 05:00:00    0.396568\n",
       "2014-01-01 06:00:00    0.287967\n",
       "2014-01-01 07:00:00    0.315011\n",
       "2014-01-01 08:00:00    0.320418\n",
       "2014-01-01 09:00:00    0.303548\n",
       "2014-01-01 10:00:00    0.331375\n",
       "2014-01-01 11:00:00    0.314195\n",
       "2014-01-01 12:00:00    0.441586\n",
       "2014-01-01 13:00:00    0.447745\n",
       "2014-01-01 14:00:00    0.453919\n",
       "2014-01-01 15:00:00    0.460108\n",
       "2014-01-01 16:00:00    0.492145\n",
       "2014-01-01 17:00:00    0.498379\n",
       "2014-01-01 18:00:00    0.501995\n",
       "2014-01-01 19:00:00    0.510848\n",
       "2014-01-01 20:00:00    0.517078\n",
       "2014-01-01 21:00:00    0.523302\n",
       "2014-01-01 22:00:00    0.529520\n",
       "2014-01-01 23:00:00    0.535728\n",
       "Freq: 60T, dtype: float64"
      ]
     },
     "execution_count": 37,
     "metadata": {},
     "output_type": "execute_result"
    }
   ],
   "source": [
    "activity = Activity_Agent(df)\n",
    "y_hat = activity.predict(model, X_test)\n",
    "y_hat"
   ]
  },
  {
   "cell_type": "markdown",
   "metadata": {
    "id": "mEasRNILZOu3"
   },
   "source": [
    "### **2.3 Model Evaluation**\n",
    "\n",
    "A drawback to our approach is that we are not able to apply conventional model evaluation techniques to our model. We will train our model for each day to account for newly available information. Hence, we have different train and test sets for each day and for each day different performance metric based on the respective data sets. Therefore, we created our own evaluation function. \n",
    "\n",
    "Our evaluation function will build a model, fit the model and predict the target for each day for a given prediction period. For each day and fitted model it will calculate a performance metric on the train data. We chose the Area Under the Receiver Operating Characteristic Curve (AUC) as performance metric for our binary classification task. As in our case the test data is only the current date to be predicted (i.e. 24 data cases in the test data, one for each hour of the day), calculating the AUC on the test date immediately would lead to a high volatility in the test AUC per day to be predicted. Therefore, we calculate the test AUC over the activity probabilities of all days after all days have been predicted. To summarize the train AUC in one score, we apply an average over all calculated train AUC scores."
   ]
  },
  {
   "cell_type": "code",
   "execution_count": 96,
   "metadata": {
    "executionInfo": {
     "elapsed": 108948,
     "status": "ok",
     "timestamp": 1607622506037,
     "user": {
      "displayName": "Leon H",
      "photoUrl": "",
      "userId": "10150017554198726068"
     },
     "user_tz": -60
    },
    "id": "04O7bOvBZSEB"
   },
   "outputs": [],
   "source": [
    "def auc(self, y_true, y_hat):\n",
    "    import sklearn.metrics\n",
    "    return sklearn.metrics.roc_auc_score(y_true, y_hat)\n",
    "\n",
    "# add to Activity agent\n",
    "setattr(Activity_Agent, 'auc', auc)\n",
    "del auc"
   ]
  },
  {
   "cell_type": "code",
   "execution_count": 109,
   "metadata": {
    "executionInfo": {
     "elapsed": 108943,
     "status": "ok",
     "timestamp": 1607622506039,
     "user": {
      "displayName": "Leon H",
      "photoUrl": "",
      "userId": "10150017554198726068"
     },
     "user_tz": -60
    },
    "id": "upk_z_Pyr6Iq"
   },
   "outputs": [],
   "source": [
    "def evaluate(self, df, model_type, split_params, predict_start='2014-01-01', predict_end=-1):\n",
    "    import pandas as pd\n",
    "    import numpy as np\n",
    "    from tqdm import tqdm\n",
    "\n",
    "    dates = pd.DataFrame(df.index).set_index(df.index)['Time'].apply(lambda date: str(date)[:10]).drop_duplicates()\n",
    "\n",
    "    predict_start = pd.to_datetime(predict_start)\n",
    "    predict_end = pd.to_datetime(dates[predict_end]) if type(predict_end) == int else pd.to_datetime(predict_end)\n",
    "\n",
    "    dates = dates.loc[predict_start:predict_end]\n",
    "    \n",
    "    y_true = []\n",
    "    y_hat_train = {}\n",
    "    y_hat_test = []\n",
    "    auc_train_dict = {}\n",
    "    auc_test = []\n",
    "\n",
    "    for date in tqdm(dates):\n",
    "        # train test split\n",
    "        #train_test_split(self, df, date, train_start='2013-11-01', test_delta='all', target='activity')\n",
    "        X_train, y_train, X_test, y_test = self.train_test_split(df, date, **split_params)\n",
    "\n",
    "        # fit model\n",
    "        model = self.fit(X_train, y_train, model_type)\n",
    "\n",
    "        # predict\n",
    "        y_hat_train.update({date: self.predict(model, X_train)})\n",
    "        y_hat_test += list(self.predict(model, X_test))\n",
    "\n",
    "        # evaluate train data\n",
    "        auc_train_dict.update({date: self.auc(y_train, list(y_hat_train.values())[-1])})\n",
    "        \n",
    "        y_true += list(y_test)\n",
    "    \n",
    "    auc_test = self.auc(y_true, y_hat_test)\n",
    "    auc_train = np.mean(list(auc_train_dict.values()))\n",
    "\n",
    "    return auc_train, auc_test, auc_train_dict\n",
    "\n",
    "\n",
    "# add to Activity agent\n",
    "setattr(Activity_Agent, 'evaluate', evaluate)\n",
    "del evaluate"
   ]
  },
  {
   "cell_type": "code",
   "execution_count": 110,
   "metadata": {
    "colab": {
     "base_uri": "https://localhost:8080/"
    },
    "executionInfo": {
     "elapsed": 128098,
     "status": "ok",
     "timestamp": 1607622525227,
     "user": {
      "displayName": "Leon H",
      "photoUrl": "",
      "userId": "10150017554198726068"
     },
     "user_tz": -60
    },
    "id": "8fMlJ62nr6Ir",
    "outputId": "2529cb31-0687-470f-97f1-167cf1ccf445"
   },
   "outputs": [
    {
     "output_type": "stream",
     "name": "stderr",
     "text": [
      "  0%|          | 0/556 [00:00<?, ?it/s]\n"
     ]
    },
    {
     "output_type": "error",
     "ename": "NameError",
     "evalue": "name 'dict_with_classifiers' is not defined",
     "traceback": [
      "\u001b[0;31m---------------------------------------------------------------------------\u001b[0m",
      "\u001b[0;31mNameError\u001b[0m                                 Traceback (most recent call last)",
      "\u001b[0;32m<ipython-input-110-dd7a8cc61ee0>\u001b[0m in \u001b[0;36m<module>\u001b[0;34m\u001b[0m\n\u001b[1;32m      1\u001b[0m \u001b[0msplit_params\u001b[0m \u001b[0;34m=\u001b[0m \u001b[0;34m{\u001b[0m\u001b[0;34m'train_start'\u001b[0m\u001b[0;34m:\u001b[0m \u001b[0;34m'2013-11-01'\u001b[0m\u001b[0;34m,\u001b[0m \u001b[0;34m'test_delta'\u001b[0m\u001b[0;34m:\u001b[0m \u001b[0;34m{\u001b[0m\u001b[0;34m'days'\u001b[0m\u001b[0;34m:\u001b[0m\u001b[0;36m1\u001b[0m\u001b[0;34m,\u001b[0m \u001b[0;34m'seconds'\u001b[0m\u001b[0;34m:\u001b[0m\u001b[0;34m-\u001b[0m\u001b[0;36m1\u001b[0m\u001b[0;34m}\u001b[0m\u001b[0;34m,\u001b[0m \u001b[0;34m'target'\u001b[0m\u001b[0;34m:\u001b[0m \u001b[0;34m'activity'\u001b[0m\u001b[0;34m}\u001b[0m\u001b[0;34m\u001b[0m\u001b[0;34m\u001b[0m\u001b[0m\n\u001b[1;32m      2\u001b[0m \u001b[0mactivity\u001b[0m \u001b[0;34m=\u001b[0m \u001b[0mActivity_Agent\u001b[0m\u001b[0;34m(\u001b[0m\u001b[0mdf\u001b[0m\u001b[0;34m)\u001b[0m\u001b[0;34m\u001b[0m\u001b[0;34m\u001b[0m\u001b[0m\n\u001b[0;32m----> 3\u001b[0;31m \u001b[0mauc_train\u001b[0m\u001b[0;34m,\u001b[0m \u001b[0mauc_test\u001b[0m\u001b[0;34m,\u001b[0m \u001b[0mauc_train_dict\u001b[0m \u001b[0;34m=\u001b[0m \u001b[0mactivity\u001b[0m\u001b[0;34m.\u001b[0m\u001b[0mevaluate\u001b[0m\u001b[0;34m(\u001b[0m\u001b[0mdf\u001b[0m\u001b[0;34m,\u001b[0m \u001b[0;34m'logit'\u001b[0m\u001b[0;34m,\u001b[0m \u001b[0msplit_params\u001b[0m\u001b[0;34m)\u001b[0m\u001b[0;34m\u001b[0m\u001b[0;34m\u001b[0m\u001b[0m\n\u001b[0m",
      "\u001b[0;32m<ipython-input-109-77549f849aa2>\u001b[0m in \u001b[0;36mevaluate\u001b[0;34m(self, df, model_type, split_params, predict_start, predict_end)\u001b[0m\n\u001b[1;32m     23\u001b[0m \u001b[0;34m\u001b[0m\u001b[0m\n\u001b[1;32m     24\u001b[0m         \u001b[0;31m# fit model\u001b[0m\u001b[0;34m\u001b[0m\u001b[0;34m\u001b[0m\u001b[0;34m\u001b[0m\u001b[0m\n\u001b[0;32m---> 25\u001b[0;31m         \u001b[0mmodel\u001b[0m \u001b[0;34m=\u001b[0m \u001b[0mself\u001b[0m\u001b[0;34m.\u001b[0m\u001b[0mfit_skModels\u001b[0m\u001b[0;34m(\u001b[0m\u001b[0mdict_with_classifiers\u001b[0m\u001b[0;34m,\u001b[0m \u001b[0mmodel_type\u001b[0m\u001b[0;34m,\u001b[0m\u001b[0mX_train\u001b[0m\u001b[0;34m,\u001b[0m \u001b[0my_train\u001b[0m\u001b[0;34m)\u001b[0m\u001b[0;34m\u001b[0m\u001b[0;34m\u001b[0m\u001b[0m\n\u001b[0m\u001b[1;32m     26\u001b[0m \u001b[0;34m\u001b[0m\u001b[0m\n\u001b[1;32m     27\u001b[0m         \u001b[0;31m# predict\u001b[0m\u001b[0;34m\u001b[0m\u001b[0;34m\u001b[0m\u001b[0;34m\u001b[0m\u001b[0m\n",
      "\u001b[0;31mNameError\u001b[0m: name 'dict_with_classifiers' is not defined"
     ]
    }
   ],
   "source": [
    "split_params = {'train_start': '2013-11-01', 'test_delta': {'days':1, 'seconds':-1}, 'target': 'activity'}\n",
    "activity = Activity_Agent(df)\n",
    "auc_train, auc_test, auc_train_dict = activity.evaluate(df, 'logit', split_params) "
   ]
  },
  {
   "cell_type": "code",
   "execution_count": 41,
   "metadata": {
    "colab": {
     "base_uri": "https://localhost:8080/"
    },
    "executionInfo": {
     "elapsed": 128072,
     "status": "ok",
     "timestamp": 1607622525234,
     "user": {
      "displayName": "Leon H",
      "photoUrl": "",
      "userId": "10150017554198726068"
     },
     "user_tz": -60
    },
    "id": "YNMgJmtjr6Ir",
    "outputId": "b6e897c3-b309-4395-91b5-e425d35ab7b1"
   },
   "outputs": [
    {
     "name": "stdout",
     "output_type": "stream",
     "text": [
      "[model performance] train auc score: 0.7170171425589704\n",
      "[model performance] test auc score: 0.7193890335654205\n"
     ]
    }
   ],
   "source": [
    "# printing the scores\n",
    "print(f'[model performance] train auc score: {auc_train}\\n[model performance] test auc score: {auc_test}')"
   ]
  },
  {
   "cell_type": "markdown",
   "metadata": {
    "id": "kIXhmu5fsaHC"
   },
   "source": [
    "### **2.4 Pipeline Function**\n",
    "\n",
    "The pipeline function of the activity agent will receive a date as input, create the appropriate train test split, fit the selected model to the data and return the activity predictions for the day to be predicted. The subsequent recommendation agent will process these activity probabilities to provide recommendations to the user."
   ]
  },
  {
   "cell_type": "code",
   "execution_count": 42,
   "metadata": {
    "executionInfo": {
     "elapsed": 128076,
     "status": "ok",
     "timestamp": 1607622525241,
     "user": {
      "displayName": "Leon H",
      "photoUrl": "",
      "userId": "10150017554198726068"
     },
     "user_tz": -60
    },
    "id": "zeFq0cASsd-B"
   },
   "outputs": [],
   "source": [
    "def pipeline(self, df, date, model_type, split_params):\n",
    "    X_train, y_train, X_test, y_test = self.train_test_split(df, date, **split_params)\n",
    "\n",
    "    # fit model\n",
    "    model = self.fit(X_train, y_train, model_type)\n",
    "\n",
    "    # predict\n",
    "    return self.predict(model, X_test)\n",
    "\n",
    "# add to Activity agent\n",
    "setattr(Activity_Agent, 'pipeline', pipeline)\n",
    "del pipeline"
   ]
  },
  {
   "cell_type": "code",
   "execution_count": 43,
   "metadata": {
    "colab": {
     "base_uri": "https://localhost:8080/"
    },
    "executionInfo": {
     "elapsed": 1926,
     "status": "ok",
     "timestamp": 1607622704123,
     "user": {
      "displayName": "Leon H",
      "photoUrl": "",
      "userId": "10150017554198726068"
     },
     "user_tz": -60
    },
    "id": "knvuAmV2tFpD",
    "outputId": "c9c721aa-2206-490f-9e1f-133d03a0de86"
   },
   "outputs": [
    {
     "data": {
      "text/plain": [
       "Time\n",
       "2014-06-01 00:00:00    0.295583\n",
       "2014-06-01 01:00:00    0.292414\n",
       "2014-06-01 02:00:00    0.289266\n",
       "2014-06-01 03:00:00    0.176376\n",
       "2014-06-01 04:00:00    0.174170\n",
       "2014-06-01 05:00:00    0.171985\n",
       "2014-06-01 06:00:00    0.169821\n",
       "2014-06-01 07:00:00    0.250656\n",
       "2014-06-01 08:00:00    0.247799\n",
       "2014-06-01 09:00:00    0.396992\n",
       "2014-06-01 10:00:00    0.393343\n",
       "2014-06-01 11:00:00    0.544463\n",
       "2014-06-01 12:00:00    0.540674\n",
       "2014-06-01 13:00:00    0.363583\n",
       "2014-06-01 14:00:00    0.654655\n",
       "2014-06-01 15:00:00    0.651196\n",
       "2014-06-01 16:00:00    0.647720\n",
       "2014-06-01 17:00:00    0.644229\n",
       "2014-06-01 18:00:00    0.487909\n",
       "2014-06-01 19:00:00    0.637200\n",
       "2014-06-01 20:00:00    0.633663\n",
       "2014-06-01 21:00:00    0.476474\n",
       "2014-06-01 22:00:00    0.502597\n",
       "2014-06-01 23:00:00    0.498780\n",
       "Freq: 60T, dtype: float64"
      ]
     },
     "execution_count": 43,
     "metadata": {},
     "output_type": "execute_result"
    }
   ],
   "source": [
    "activity = Activity_Agent(df)\n",
    "\n",
    "date = '2014-06-01'\n",
    "split_params = {'train_start': '2013-11-01', 'test_delta': {'days':1, 'seconds':-1}, 'target': 'activity'}\n",
    "\n",
    "output = activity.pipeline(df, date, 'logit', split_params)\n",
    "output"
   ]
  },
  {
   "cell_type": "code",
   "execution_count": 44,
   "metadata": {
    "colab": {
     "base_uri": "https://localhost:8080/",
     "height": 291
    },
    "executionInfo": {
     "elapsed": 1605,
     "status": "ok",
     "timestamp": 1607622706657,
     "user": {
      "displayName": "Leon H",
      "photoUrl": "",
      "userId": "10150017554198726068"
     },
     "user_tz": -60
    },
    "id": "tmtVlt5AsnqB",
    "outputId": "cf03c690-1404-47b3-fb50-3f08e786adee"
   },
   "outputs": [
    {
     "data": {
      "image/png": "[encoded data removed]",
      "text/plain": [
       "<Figure size 432x288 with 1 Axes>"
      ]
     },
     "metadata": {
      "needs_background": "light"
     },
     "output_type": "display_data"
    }
   ],
   "source": [
    "output.plot();\n",
    "plt.ylim(-.1, 1.1);"
   ]
  },
  {
   "cell_type": "markdown",
   "metadata": {
    "id": "C-8ff2uCtxuF"
   },
   "source": [
    "## **Appendix A1: Complete Activity Agent Class**"
   ]
  },
  {
   "cell_type": "code",
   "execution_count": 45,
   "metadata": {
    "executionInfo": {
     "elapsed": 128322,
     "status": "ok",
     "timestamp": 1607622525554,
     "user": {
      "displayName": "Leon H",
      "photoUrl": "",
      "userId": "10150017554198726068"
     },
     "user_tz": -60
    },
    "id": "FOFcx9a_t0wq"
   },
   "outputs": [],
   "source": [
    "class Activity_Agent:\n",
    "    def __init__(self, activity_input_df):\n",
    "        self.input = activity_input_df\n",
    "\n",
    "    # train test split\n",
    "    # -------------------------------------------------------------------------------------------\n",
    "    def get_Xtest(self, df, date, time_delta=\"all\", target=\"activity\"):\n",
    "        import pandas as pd\n",
    "        from helper_functions import Helper\n",
    "\n",
    "        helper = Helper()\n",
    "\n",
    "        if time_delta == \"all\":\n",
    "            output = df.loc[pd.to_datetime(date) :, df.columns != target]\n",
    "        else:\n",
    "            df = helper.get_timespan(df, date, time_delta)\n",
    "            output = df.loc[:, df.columns != target]\n",
    "        return output\n",
    "\n",
    "    def get_ytest(self, df, date, time_delta=\"all\", target=\"activity\"):\n",
    "        import pandas as pd\n",
    "        from helper_functions import Helper\n",
    "\n",
    "        helper = Helper()\n",
    "\n",
    "        if time_delta == \"all\":\n",
    "            output = df.loc[pd.to_datetime(date) :, target]\n",
    "        else:\n",
    "            output = helper.get_timespan(df, date, time_delta)[target]\n",
    "        return output\n",
    "\n",
    "    def get_Xtrain(self, df, date, start=\"2013-11-01\", target=\"activity\"):\n",
    "        import pandas as pd\n",
    "\n",
    "        if type(start) == int:\n",
    "            start = pd.to_datetime(date) + pd.Timedelta(days=start)\n",
    "            start = (\n",
    "                pd.to_datetime(\"2013-11-01\")\n",
    "                if start < pd.to_datetime(\"2013-11-01\")\n",
    "                else start\n",
    "            )\n",
    "        else:\n",
    "            start = pd.to_datetime(start)\n",
    "        end = pd.to_datetime(date) + pd.Timedelta(seconds=-1)\n",
    "        return df.loc[start:end, df.columns != target]\n",
    "\n",
    "    def get_ytrain(self, df, date, start=\"2013-11-01\", target=\"activity\"):\n",
    "        import pandas as pd\n",
    "\n",
    "        if type(start) == int:\n",
    "            start = pd.to_datetime(date) + pd.Timedelta(days=start)\n",
    "            start = (\n",
    "                pd.to_datetime(\"2013-11-01\")\n",
    "                if start < pd.to_datetime(\"2013-11-01\")\n",
    "                else start\n",
    "            )\n",
    "        else:\n",
    "            start = pd.to_datetime(start)\n",
    "        end = pd.to_datetime(date) + pd.Timedelta(seconds=-1)\n",
    "        return df.loc[start:end, target]\n",
    "\n",
    "    def train_test_split(\n",
    "        self, df, date, train_start=\"2013-11-01\", test_delta=\"all\", target=\"activity\"\n",
    "    ):\n",
    "        X_train = self.get_Xtrain(df, date, start=train_start, target=target)\n",
    "        y_train = self.get_ytrain(df, date, start=train_start, target=target)\n",
    "        X_test = self.get_Xtest(df, date, time_delta=test_delta, target=target)\n",
    "        y_test = self.get_ytest(df, date, time_delta=test_delta, target=target)\n",
    "        return X_train, y_train, X_test, y_test\n",
    "\n",
    "    # model training and evaluation\n",
    "    # -------------------------------------------------------------------------------------------\n",
    "    def fit_smLogit(self, X, y):\n",
    "        import statsmodels.api as sm\n",
    "\n",
    "        return sm.Logit(y, X).fit(disp=False)\n",
    "\n",
    "    def fit(self, X, y, model_type):\n",
    "        if model_type == \"logit\":\n",
    "            model = self.fit_smLogit(X, y)\n",
    "        else:\n",
    "            raise InputError(\"Unknown model type.\")\n",
    "        return model\n",
    "\n",
    "    def predict(self, model, X):\n",
    "        import statsmodels\n",
    "\n",
    "        if type(model) == statsmodels.discrete.discrete_model.BinaryResultsWrapper:\n",
    "            y_hat = model.predict(X)\n",
    "        else:\n",
    "            raise InputError(\"Unknown model type.\")\n",
    "        return y_hat\n",
    "\n",
    "    def auc(self, y_true, y_hat):\n",
    "        import sklearn.metrics\n",
    "\n",
    "        return sklearn.metrics.roc_auc_score(y_true, y_hat)\n",
    "\n",
    "    def plot_model_performance(self, auc_train, auc_test, ylim=\"default\"):\n",
    "        import matplotlib.pyplot as plt\n",
    "\n",
    "        plt.plot(list(auc_train.keys()), list(auc_train.values()))\n",
    "        plt.plot(list(auc_train.keys()), list(auc_test.values()))\n",
    "        plt.xticks(list(auc_train.keys()), \" \")\n",
    "        plt.ylim(ylim) if ylim != \"default\" else None\n",
    "\n",
    "    def evaluate(\n",
    "        self, df, model_type, split_params, predict_start=\"2014-01-01\", predict_end=-1, return_errors=False\n",
    "    ):\n",
    "        import pandas as pd\n",
    "        import numpy as np\n",
    "        from tqdm import tqdm\n",
    "\n",
    "        dates = (\n",
    "            pd.DataFrame(df.index)\n",
    "            .set_index(df.index)[\"Time\"]\n",
    "            .apply(lambda date: str(date)[:10])\n",
    "            .drop_duplicates()\n",
    "        )\n",
    "        predict_start = pd.to_datetime(predict_start)\n",
    "        predict_end = (\n",
    "            pd.to_datetime(dates.iloc[predict_end])\n",
    "            if type(predict_end) == int\n",
    "            else pd.to_datetime(predict_end)\n",
    "        )\n",
    "        dates = dates.loc[predict_start:predict_end]\n",
    "        y_true = []\n",
    "        y_hat_train = {}\n",
    "        y_hat_test = []\n",
    "        auc_train_dict = {}\n",
    "        auc_test = []\n",
    "\n",
    "        for date in tqdm(dates):\n",
    "            errors = {}\n",
    "            try:\n",
    "                X_train, y_train, X_test, y_test = self.train_test_split(\n",
    "                    df, date, **split_params\n",
    "                )\n",
    "\n",
    "                # fit model\n",
    "                model = self.fit(X_train, y_train, model_type)\n",
    "\n",
    "                # predict\n",
    "                y_hat_train.update({date: self.predict(model, X_train)})\n",
    "                y_hat_test += list(self.predict(model, X_test))\n",
    "\n",
    "                # evaluate train data\n",
    "                auc_train_dict.update(\n",
    "                    {date: self.auc(y_train, list(y_hat_train.values())[-1])}\n",
    "                )\n",
    "                y_true += list(y_test)\n",
    "            except Exception as e:\n",
    "                errors[date] = e\n",
    "\n",
    "        auc_test = self.auc(y_true, y_hat_test)\n",
    "        auc_train = np.mean(list(auc_train_dict.values()))\n",
    "\n",
    "        if return_errors:\n",
    "            return auc_train, auc_test, auc_train_dict, errors\n",
    "        else:\n",
    "            return auc_train, auc_test, auc_train_dict\n",
    "\n",
    "    # pipeline function: predicting user activity\n",
    "    # -------------------------------------------------------------------------------------------\n",
    "    def pipeline(self, df, date, model_type, split_params):\n",
    "        # train test split\n",
    "        X_train, y_train, X_test, y_test = self.train_test_split(\n",
    "            df, date, **split_params\n",
    "        )\n",
    "\n",
    "        # fit model\n",
    "        model = self.fit(X_train, y_train, model_type)\n",
    "\n",
    "        # predict\n",
    "        return self.predict(model, X_test)"
   ]
  }
 ],
 "metadata": {
  "colab": {
   "collapsed_sections": [],
   "name": "03a_Activity-Agent.ipynb",
   "provenance": [],
   "toc_visible": true
  },
  "kernelspec": {
   "name": "python3810jvsc74a57bd04cd7ab41f5fca4b9b44701077e38c5ffd31fe66a6cab21e0214b68d958d0e462",
   "display_name": "Python 3.8.10 64-bit ('local')"
  },
  "language_info": {
   "codemirror_mode": {
    "name": "ipython",
    "version": 3
   },
   "file_extension": ".py",
   "mimetype": "text/x-python",
   "name": "python",
   "nbconvert_exporter": "python",
   "pygments_lexer": "ipython3",
   "version": "3.8.10"
  }
 },
 "nbformat": 4,
 "nbformat_minor": 4
}