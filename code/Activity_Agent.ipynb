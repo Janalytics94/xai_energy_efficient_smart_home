{
 "cells": [
  {
   "cell_type": "markdown",
   "metadata": {
    "id": "eWcGAGgFE_M7"
   },
   "source": [
    "# **Activity Agent**\n",
    "\n",
    "The activity agent will be responsible for predicting the user's activity for a given day. It will produce activity probabilities for the given user and the given day on an hourly level. These hourly activity probabilities will be processed by the subsequent recommendation agent to determine for which hours our framework should make recommendations. As input the activity agent receives the prepared data from the preparation agent.\n",
    "\n",
    "We will define an activity agent class, add necessary functions to the agent, explain each step and build our final activity agent pipeline. A complete activity agent class definition will be available in the appendix to this notebook."
   ]
  },
  {
   "cell_type": "markdown",
   "metadata": {
    "id": "OrrXBEI4s6zc"
   },
   "source": [
    "## **1. Preparing the Environment**"
   ]
  },
  {
   "cell_type": "markdown",
   "metadata": {
    "id": "tJ4EHWrhW6_m"
   },
   "source": [
    "### **1.1 Loading the Libraries and the Data**\n",
    "\n",
    "Steps to set up the environment for the activity agent include loading the necessary libraries, data and preceding agents.\n"
   ]
  },
  {
   "cell_type": "code",
   "execution_count": 1,
   "metadata": {
    "executionInfo": {
     "elapsed": 38554,
     "status": "ok",
     "timestamp": 1607622434744,
     "user": {
      "displayName": "Leon H",
      "photoUrl": "",
      "userId": "10150017554198726068"
     },
     "user_tz": -60
    },
    "id": "VzS_qOg8teXQ"
   },
   "outputs": [],
   "source": [
    "import pandas as pd\n",
    "import numpy as np\n",
    "\n",
    "from helper_functions import Helper\n",
    "from agents import Preparation_Agent\n",
    "from InputError import InputError\n",
    "\n",
    "helper = Helper()"
   ]
  },
  {
   "cell_type": "code",
   "execution_count": 2,
   "metadata": {},
   "outputs": [],
   "source": [
    "# ML Models\n",
    "import xgboost as xgb\n",
    "import xgboost\n",
    "import sklearn\n",
    "from sklearn.neighbors import KNeighborsClassifier\n",
    "from sklearn.ensemble import RandomForestClassifier, AdaBoostClassifier\n",
    "from sklearn.linear_model import LogisticRegression\n"
   ]
  },
  {
   "cell_type": "code",
   "execution_count": 4,
   "metadata": {},
   "outputs": [],
   "source": [
    "DATA_PATH = '../data/'"
   ]
  },
  {
   "cell_type": "code",
   "execution_count": 5,
   "metadata": {
    "executionInfo": {
     "elapsed": 50814,
     "status": "ok",
     "timestamp": 1607622447009,
     "user": {
      "displayName": "Leon H",
      "photoUrl": "",
      "userId": "10150017554198726068"
     },
     "user_tz": -60
    },
    "id": "qCjWp7PIAeSZ"
   },
   "outputs": [],
   "source": [
    "# load household data\n",
    "household = helper.load_household(DATA_PATH, 1)"
   ]
  },
  {
   "cell_type": "markdown",
   "metadata": {
    "id": "QisezqyFAt39"
   },
   "source": [
    "### **1.2 Calling the Preparation Agent**\n",
    "\n",
    "To receive the necessary input for the activity agent, we will call the activity pipeline function of the preparation agent. We will specify the input data and the necessary configurations. As a quick validation that the preparation pipeline worked properly, we will plot the hourly activity of the household.\n",
    "\n",
    "The current input data includes only a few time features and activity lags. However, our agent architecture allows to expand the inputs to the activity agent to further features or further data sources (e.g. whether data). For the purpose of demonstrating the functionality of our framework, we only use the inputs from the prepared REFIT data. \n"
   ]
  },
  {
   "cell_type": "code",
   "execution_count": 6,
   "metadata": {
    "executionInfo": {
     "elapsed": 50821,
     "status": "ok",
     "timestamp": 1607622447021,
     "user": {
      "displayName": "Leon H",
      "photoUrl": "",
      "userId": "10150017554198726068"
     },
     "user_tz": -60
    },
    "id": "CP1f_6EvAygB"
   },
   "outputs": [],
   "source": [
    "truncation_params = {\n",
    "    'features': 'all', \n",
    "    'factor': 1.5, \n",
    "    'verbose': 1\n",
    "}\n",
    "\n",
    "scale_params = {\n",
    "    'features': 'all', \n",
    "    'kind': 'MinMax', \n",
    "    'verbose': 1\n",
    "}\n",
    "\n",
    "aggregate_params = {\n",
    "    'resample_param': '60T'\n",
    "}\n",
    "\n",
    "activity_params = {\n",
    "    'active_appliances': ['Tumble Dryer', 'Washing Machine', 'Dishwasher', 'Computer Site', 'Television Site'],\n",
    "    'threshold': .15\n",
    "}\n",
    "\n",
    "time_params = {\n",
    "    'features': ['hour', 'day_name']\n",
    "}\n",
    "\n",
    "activity_lag_params = {\n",
    "    'features': ['activity'],\n",
    "    'lags': [24, 48, 72]\n",
    "}\n",
    "\n",
    "activity_pipe_params = {\n",
    "    'truncate': truncation_params,\n",
    "    'scale': scale_params,\n",
    "    'aggregate': aggregate_params,\n",
    "    'activity': activity_params,\n",
    "    'time': time_params,\n",
    "    'activity_lag': activity_lag_params\n",
    "}"
   ]
  },
  {
   "cell_type": "code",
   "execution_count": 7,
   "metadata": {
    "colab": {
     "base_uri": "https://localhost:8080/",
     "height": 1000
    },
    "executionInfo": {
     "elapsed": 108175,
     "status": "ok",
     "timestamp": 1607622504415,
     "user": {
      "displayName": "Leon H",
      "photoUrl": "",
      "userId": "10150017554198726068"
     },
     "user_tz": -60
    },
    "id": "NOrSOdufBY5q",
    "outputId": "c00ab194-b017-4105-c8a4-336e8f38820d"
   },
   "outputs": [
    {
     "output_type": "stream",
     "name": "stderr",
     "text": [
      "[outlier truncation: Unix]: 100%|██████████| 6960008/6960008 [00:10<00:00, 692902.03it/s]\n",
      "[outlier truncation: Unix]: 0 outliers were truncated.\n",
      "\n",
      "\n",
      "[outlier truncation: Aggregate]: 100%|██████████| 6959964/6959964 [00:09<00:00, 719357.64it/s]\n",
      "[outlier truncation: Aggregate]: 853913 outliers were truncated.\n",
      "\n",
      "\n",
      "[outlier truncation: Fridge]: 100%|██████████| 1611328/1611328 [00:03<00:00, 494595.84it/s]\n",
      "[outlier truncation: Fridge]: 60120 outliers were truncated.\n",
      "\n",
      "\n",
      "[outlier truncation: Chest Freezer]: 100%|██████████| 2395354/2395354 [00:04<00:00, 567576.17it/s]\n",
      "[outlier truncation: Chest Freezer]: 207420 outliers were truncated.\n",
      "\n",
      "\n",
      "[outlier truncation: Upright Freezer]: 100%|██████████| 2800342/2800342 [00:04<00:00, 580450.85it/s]\n",
      "[outlier truncation: Upright Freezer]: 197818 outliers were truncated.\n",
      "\n",
      "\n",
      "[outlier truncation: Tumble Dryer]: 100%|██████████| 28117/28117 [00:00<00:00, 141607.78it/s]\n",
      "[outlier truncation: Tumble Dryer]: 5934 outliers were truncated.\n",
      "\n",
      "\n",
      "[outlier truncation: Washing Machine]: 100%|██████████| 156232/156232 [00:00<00:00, 253593.86it/s]\n",
      "[outlier truncation: Washing Machine]: 27412 outliers were truncated.\n",
      "\n",
      "\n",
      "[outlier truncation: Dishwasher]: 100%|██████████| 65272/65272 [00:00<00:00, 205164.60it/s]\n",
      "[outlier truncation: Dishwasher]: 0 outliers were truncated.\n",
      "\n",
      "\n",
      "[outlier truncation: Computer Site]: 100%|██████████| 756639/756639 [00:01<00:00, 390789.33it/s]\n",
      "[outlier truncation: Computer Site]: 253600 outliers were truncated.\n",
      "\n",
      "\n",
      "[outlier truncation: Television Site]: 100%|██████████| 1273899/1273899 [00:02<00:00, 438651.14it/s]\n",
      "[outlier truncation: Television Site]: 225564 outliers were truncated.\n",
      "\n",
      "\n",
      "[outlier truncation: Electric Heater]: 100%|██████████| 6899335/6899335 [00:09<00:00, 753043.80it/s]\n",
      "[outlier truncation: Electric Heater]: 473668 outliers were truncated.\n",
      "\n",
      "\n",
      "[outlier truncation: Issues]: 100%|██████████| 58183/58183 [00:00<00:00, 176254.35it/s]\n",
      "[outlier truncation: Issues]: 0 outliers were truncated.\n",
      "\n",
      "\n",
      "[MinMaxScaler] Finished scaling the data.\n"
     ]
    },
    {
     "output_type": "execute_result",
     "data": {
      "text/plain": [
       "                     activity  hour  activity_lag_24  activity_lag_48  \\\n",
       "Time                                                                    \n",
       "2013-10-09 13:00:00         0    13              NaN              NaN   \n",
       "2013-10-09 14:00:00         0    14              NaN              NaN   \n",
       "2013-10-09 15:00:00         0    15              NaN              NaN   \n",
       "2013-10-09 16:00:00         0    16              NaN              NaN   \n",
       "2013-10-09 17:00:00         1    17              NaN              NaN   \n",
       "...                       ...   ...              ...              ...   \n",
       "2015-07-10 07:00:00         0     7              0.0              0.0   \n",
       "2015-07-10 08:00:00         0     8              0.0              0.0   \n",
       "2015-07-10 09:00:00         0     9              0.0              0.0   \n",
       "2015-07-10 10:00:00         0    10              0.0              0.0   \n",
       "2015-07-10 11:00:00         0    11              0.0              0.0   \n",
       "\n",
       "                     activity_lag_72  day_name_Monday  day_name_Saturday  \\\n",
       "Time                                                                       \n",
       "2013-10-09 13:00:00              NaN                0                  0   \n",
       "2013-10-09 14:00:00              NaN                0                  0   \n",
       "2013-10-09 15:00:00              NaN                0                  0   \n",
       "2013-10-09 16:00:00              NaN                0                  0   \n",
       "2013-10-09 17:00:00              NaN                0                  0   \n",
       "...                              ...              ...                ...   \n",
       "2015-07-10 07:00:00              0.0                0                  0   \n",
       "2015-07-10 08:00:00              0.0                0                  0   \n",
       "2015-07-10 09:00:00              0.0                0                  0   \n",
       "2015-07-10 10:00:00              0.0                0                  0   \n",
       "2015-07-10 11:00:00              1.0                0                  0   \n",
       "\n",
       "                     day_name_Sunday  day_name_Thursday  day_name_Tuesday  \\\n",
       "Time                                                                        \n",
       "2013-10-09 13:00:00                0                  0                 0   \n",
       "2013-10-09 14:00:00                0                  0                 0   \n",
       "2013-10-09 15:00:00                0                  0                 0   \n",
       "2013-10-09 16:00:00                0                  0                 0   \n",
       "2013-10-09 17:00:00                0                  0                 0   \n",
       "...                              ...                ...               ...   \n",
       "2015-07-10 07:00:00                0                  0                 0   \n",
       "2015-07-10 08:00:00                0                  0                 0   \n",
       "2015-07-10 09:00:00                0                  0                 0   \n",
       "2015-07-10 10:00:00                0                  0                 0   \n",
       "2015-07-10 11:00:00                0                  0                 0   \n",
       "\n",
       "                     day_name_Wednesday  \n",
       "Time                                     \n",
       "2013-10-09 13:00:00                   1  \n",
       "2013-10-09 14:00:00                   1  \n",
       "2013-10-09 15:00:00                   1  \n",
       "2013-10-09 16:00:00                   1  \n",
       "2013-10-09 17:00:00                   1  \n",
       "...                                 ...  \n",
       "2015-07-10 07:00:00                   0  \n",
       "2015-07-10 08:00:00                   0  \n",
       "2015-07-10 09:00:00                   0  \n",
       "2015-07-10 10:00:00                   0  \n",
       "2015-07-10 11:00:00                   0  \n",
       "\n",
       "[15335 rows x 11 columns]"
      ],
      "text/html": "<div>\n<style scoped>\n    .dataframe tbody tr th:only-of-type {\n        vertical-align: middle;\n    }\n\n    .dataframe tbody tr th {\n        vertical-align: top;\n    }\n\n    .dataframe thead th {\n        text-align: right;\n    }\n</style>\n<table border=\"1\" class=\"dataframe\">\n  <thead>\n    <tr style=\"text-align: right;\">\n      <th></th>\n      <th>activity</th>\n      <th>hour</th>\n      <th>activity_lag_24</th>\n      <th>activity_lag_48</th>\n      <th>activity_lag_72</th>\n      <th>day_name_Monday</th>\n      <th>day_name_Saturday</th>\n      <th>day_name_Sunday</th>\n      <th>day_name_Thursday</th>\n      <th>day_name_Tuesday</th>\n      <th>day_name_Wednesday</th>\n    </tr>\n    <tr>\n      <th>Time</th>\n      <th></th>\n      <th></th>\n      <th></th>\n      <th></th>\n      <th></th>\n      <th></th>\n      <th></th>\n      <th></th>\n      <th></th>\n      <th></th>\n      <th></th>\n    </tr>\n  </thead>\n  <tbody>\n    <tr>\n      <th>2013-10-09 13:00:00</th>\n      <td>0</td>\n      <td>13</td>\n      <td>NaN</td>\n      <td>NaN</td>\n      <td>NaN</td>\n      <td>0</td>\n      <td>0</td>\n      <td>0</td>\n      <td>0</td>\n      <td>0</td>\n      <td>1</td>\n    </tr>\n    <tr>\n      <th>2013-10-09 14:00:00</th>\n      <td>0</td>\n      <td>14</td>\n      <td>NaN</td>\n      <td>NaN</td>\n      <td>NaN</td>\n      <td>0</td>\n      <td>0</td>\n      <td>0</td>\n      <td>0</td>\n      <td>0</td>\n      <td>1</td>\n    </tr>\n    <tr>\n      <th>2013-10-09 15:00:00</th>\n      <td>0</td>\n      <td>15</td>\n      <td>NaN</td>\n      <td>NaN</td>\n      <td>NaN</td>\n      <td>0</td>\n      <td>0</td>\n      <td>0</td>\n      <td>0</td>\n      <td>0</td>\n      <td>1</td>\n    </tr>\n    <tr>\n      <th>2013-10-09 16:00:00</th>\n      <td>0</td>\n      <td>16</td>\n      <td>NaN</td>\n      <td>NaN</td>\n      <td>NaN</td>\n      <td>0</td>\n      <td>0</td>\n      <td>0</td>\n      <td>0</td>\n      <td>0</td>\n      <td>1</td>\n    </tr>\n    <tr>\n      <th>2013-10-09 17:00:00</th>\n      <td>1</td>\n      <td>17</td>\n      <td>NaN</td>\n      <td>NaN</td>\n      <td>NaN</td>\n      <td>0</td>\n      <td>0</td>\n      <td>0</td>\n      <td>0</td>\n      <td>0</td>\n      <td>1</td>\n    </tr>\n    <tr>\n      <th>...</th>\n      <td>...</td>\n      <td>...</td>\n      <td>...</td>\n      <td>...</td>\n      <td>...</td>\n      <td>...</td>\n      <td>...</td>\n      <td>...</td>\n      <td>...</td>\n      <td>...</td>\n      <td>...</td>\n    </tr>\n    <tr>\n      <th>2015-07-10 07:00:00</th>\n      <td>0</td>\n      <td>7</td>\n      <td>0.0</td>\n      <td>0.0</td>\n      <td>0.0</td>\n      <td>0</td>\n      <td>0</td>\n      <td>0</td>\n      <td>0</td>\n      <td>0</td>\n      <td>0</td>\n    </tr>\n    <tr>\n      <th>2015-07-10 08:00:00</th>\n      <td>0</td>\n      <td>8</td>\n      <td>0.0</td>\n      <td>0.0</td>\n      <td>0.0</td>\n      <td>0</td>\n      <td>0</td>\n      <td>0</td>\n      <td>0</td>\n      <td>0</td>\n      <td>0</td>\n    </tr>\n    <tr>\n      <th>2015-07-10 09:00:00</th>\n      <td>0</td>\n      <td>9</td>\n      <td>0.0</td>\n      <td>0.0</td>\n      <td>0.0</td>\n      <td>0</td>\n      <td>0</td>\n      <td>0</td>\n      <td>0</td>\n      <td>0</td>\n      <td>0</td>\n    </tr>\n    <tr>\n      <th>2015-07-10 10:00:00</th>\n      <td>0</td>\n      <td>10</td>\n      <td>0.0</td>\n      <td>0.0</td>\n      <td>0.0</td>\n      <td>0</td>\n      <td>0</td>\n      <td>0</td>\n      <td>0</td>\n      <td>0</td>\n      <td>0</td>\n    </tr>\n    <tr>\n      <th>2015-07-10 11:00:00</th>\n      <td>0</td>\n      <td>11</td>\n      <td>0.0</td>\n      <td>0.0</td>\n      <td>1.0</td>\n      <td>0</td>\n      <td>0</td>\n      <td>0</td>\n      <td>0</td>\n      <td>0</td>\n      <td>0</td>\n    </tr>\n  </tbody>\n</table>\n<p>15335 rows × 11 columns</p>\n</div>"
     },
     "metadata": {},
     "execution_count": 7
    }
   ],
   "source": [
    "# calling the preparation pipeline\n",
    "prep = Preparation_Agent(household)\n",
    "df = prep.pipeline_activity(household, activity_pipe_params)\n",
    "df"
   ]
  },
  {
   "cell_type": "code",
   "execution_count": null,
   "metadata": {
    "colab": {
     "base_uri": "https://localhost:8080/",
     "height": 295
    },
    "executionInfo": {
     "elapsed": 108144,
     "status": "ok",
     "timestamp": 1607622504422,
     "user": {
      "displayName": "Leon H",
      "photoUrl": "",
      "userId": "10150017554198726068"
     },
     "user_tz": -60
    },
    "id": "XMEj_9y2CnVv",
    "outputId": "28c159c0-4117-4647-df05-a6ed797ee05a"
   },
   "outputs": [],
   "source": [
    "import matplotlib.pyplot as plt\n",
    "\n",
    "df.groupby(by='hour').mean()['activity'].plot();\n",
    "plt.title('Average hourly activity')\n",
    "plt.ylim(-0.1, 1.1);\n"
   ]
  },
  {
   "cell_type": "markdown",
   "metadata": {
    "id": "T1CTQIKBDCXO"
   },
   "source": [
    "## **2. Creating the Activity Agent**"
   ]
  },
  {
   "cell_type": "code",
   "execution_count": 8,
   "metadata": {
    "executionInfo": {
     "elapsed": 108144,
     "status": "ok",
     "timestamp": 1607622504425,
     "user": {
      "displayName": "Leon H",
      "photoUrl": "",
      "userId": "10150017554198726068"
     },
     "user_tz": -60
    },
    "id": "rK6ASFf4DFso"
   },
   "outputs": [],
   "source": [
    "class Activity_Agent:\n",
    "\n",
    "    def __init__(self, activity_input_df):\n",
    "        self.input = activity_input_df"
   ]
  },
  {
   "cell_type": "markdown",
   "metadata": {
    "id": "EZumht1rEkBL"
   },
   "source": [
    "### **2.1 Train Test Split**\n",
    "\n",
    "As our recommendation framework will provide recommendations for a given day, our activity agent must be able to provide activity predictions for each day. However, for each day to be predicted we are only allowed to use information from the past to prevent leakage. Therefore, we will create a custom train test split function to meet the time series requirements. \n",
    "\n",
    "Our train test split function will enable us to conveniently split our data in the train and test data sets for each day to be predicted while allowing for further configurations of the split (i.e. size of the train and test data sets)."
   ]
  },
  {
   "cell_type": "markdown",
   "metadata": {
    "id": "CqWrmBl6NZi0"
   },
   "source": [
    "**X_test**"
   ]
  },
  {
   "cell_type": "code",
   "execution_count": 9,
   "metadata": {
    "executionInfo": {
     "elapsed": 108140,
     "status": "ok",
     "timestamp": 1607622504427,
     "user": {
      "displayName": "Leon H",
      "photoUrl": "",
      "userId": "10150017554198726068"
     },
     "user_tz": -60
    },
    "id": "DriEbbpvNbmH"
   },
   "outputs": [],
   "source": [
    "def get_Xtest(self, df, date, time_delta='all', target='activity'):\n",
    "    import pandas as pd\n",
    "    from helper_functions import Helper\n",
    "\n",
    "    helper = Helper()\n",
    "    \n",
    "    if time_delta == 'all':\n",
    "        output = df.loc[pd.to_datetime(date):, df.columns != target]\n",
    "    else:\n",
    "        df = helper.get_timespan(df, date, time_delta)\n",
    "        output = df.loc[:, df.columns != target]\n",
    "    return output\n",
    "\n",
    "# add to Activity agent\n",
    "setattr(Activity_Agent, 'get_Xtest', get_Xtest)\n",
    "del get_Xtest"
   ]
  },
  {
   "cell_type": "code",
   "execution_count": 10,
   "metadata": {
    "colab": {
     "base_uri": "https://localhost:8080/",
     "height": 810
    },
    "executionInfo": {
     "elapsed": 108103,
     "status": "ok",
     "timestamp": 1607622504428,
     "user": {
      "displayName": "Leon H",
      "photoUrl": "",
      "userId": "10150017554198726068"
     },
     "user_tz": -60
    },
    "id": "qt9snGWeNtV9",
    "outputId": "438200f4-cc4d-4cb6-b5c2-03f92c44ac41"
   },
   "outputs": [
    {
     "output_type": "execute_result",
     "data": {
      "text/plain": [
       "                     hour  activity_lag_24  activity_lag_48  activity_lag_72  \\\n",
       "Time                                                                           \n",
       "2014-01-01 00:00:00     0              0.0              1.0              1.0   \n",
       "2014-01-01 01:00:00     1              1.0              1.0              0.0   \n",
       "2014-01-01 02:00:00     2              1.0              0.0              1.0   \n",
       "2014-01-01 03:00:00     3              1.0              0.0              0.0   \n",
       "2014-01-01 04:00:00     4              0.0              1.0              0.0   \n",
       "...                   ...              ...              ...              ...   \n",
       "2015-07-10 07:00:00     7              0.0              0.0              0.0   \n",
       "2015-07-10 08:00:00     8              0.0              0.0              0.0   \n",
       "2015-07-10 09:00:00     9              0.0              0.0              0.0   \n",
       "2015-07-10 10:00:00    10              0.0              0.0              0.0   \n",
       "2015-07-10 11:00:00    11              0.0              0.0              1.0   \n",
       "\n",
       "                     day_name_Monday  day_name_Saturday  day_name_Sunday  \\\n",
       "Time                                                                       \n",
       "2014-01-01 00:00:00                0                  0                0   \n",
       "2014-01-01 01:00:00                0                  0                0   \n",
       "2014-01-01 02:00:00                0                  0                0   \n",
       "2014-01-01 03:00:00                0                  0                0   \n",
       "2014-01-01 04:00:00                0                  0                0   \n",
       "...                              ...                ...              ...   \n",
       "2015-07-10 07:00:00                0                  0                0   \n",
       "2015-07-10 08:00:00                0                  0                0   \n",
       "2015-07-10 09:00:00                0                  0                0   \n",
       "2015-07-10 10:00:00                0                  0                0   \n",
       "2015-07-10 11:00:00                0                  0                0   \n",
       "\n",
       "                     day_name_Thursday  day_name_Tuesday  day_name_Wednesday  \n",
       "Time                                                                          \n",
       "2014-01-01 00:00:00                  0                 0                   1  \n",
       "2014-01-01 01:00:00                  0                 0                   1  \n",
       "2014-01-01 02:00:00                  0                 0                   1  \n",
       "2014-01-01 03:00:00                  0                 0                   1  \n",
       "2014-01-01 04:00:00                  0                 0                   1  \n",
       "...                                ...               ...                 ...  \n",
       "2015-07-10 07:00:00                  0                 0                   0  \n",
       "2015-07-10 08:00:00                  0                 0                   0  \n",
       "2015-07-10 09:00:00                  0                 0                   0  \n",
       "2015-07-10 10:00:00                  0                 0                   0  \n",
       "2015-07-10 11:00:00                  0                 0                   0  \n",
       "\n",
       "[13332 rows x 10 columns]"
      ],
      "text/html": "<div>\n<style scoped>\n    .dataframe tbody tr th:only-of-type {\n        vertical-align: middle;\n    }\n\n    .dataframe tbody tr th {\n        vertical-align: top;\n    }\n\n    .dataframe thead th {\n        text-align: right;\n    }\n</style>\n<table border=\"1\" class=\"dataframe\">\n  <thead>\n    <tr style=\"text-align: right;\">\n      <th></th>\n      <th>hour</th>\n      <th>activity_lag_24</th>\n      <th>activity_lag_48</th>\n      <th>activity_lag_72</th>\n      <th>day_name_Monday</th>\n      <th>day_name_Saturday</th>\n      <th>day_name_Sunday</th>\n      <th>day_name_Thursday</th>\n      <th>day_name_Tuesday</th>\n      <th>day_name_Wednesday</th>\n    </tr>\n    <tr>\n      <th>Time</th>\n      <th></th>\n      <th></th>\n      <th></th>\n      <th></th>\n      <th></th>\n      <th></th>\n      <th></th>\n      <th></th>\n      <th></th>\n      <th></th>\n    </tr>\n  </thead>\n  <tbody>\n    <tr>\n      <th>2014-01-01 00:00:00</th>\n      <td>0</td>\n      <td>0.0</td>\n      <td>1.0</td>\n      <td>1.0</td>\n      <td>0</td>\n      <td>0</td>\n      <td>0</td>\n      <td>0</td>\n      <td>0</td>\n      <td>1</td>\n    </tr>\n    <tr>\n      <th>2014-01-01 01:00:00</th>\n      <td>1</td>\n      <td>1.0</td>\n      <td>1.0</td>\n      <td>0.0</td>\n      <td>0</td>\n      <td>0</td>\n      <td>0</td>\n      <td>0</td>\n      <td>0</td>\n      <td>1</td>\n    </tr>\n    <tr>\n      <th>2014-01-01 02:00:00</th>\n      <td>2</td>\n      <td>1.0</td>\n      <td>0.0</td>\n      <td>1.0</td>\n      <td>0</td>\n      <td>0</td>\n      <td>0</td>\n      <td>0</td>\n      <td>0</td>\n      <td>1</td>\n    </tr>\n    <tr>\n      <th>2014-01-01 03:00:00</th>\n      <td>3</td>\n      <td>1.0</td>\n      <td>0.0</td>\n      <td>0.0</td>\n      <td>0</td>\n      <td>0</td>\n      <td>0</td>\n      <td>0</td>\n      <td>0</td>\n      <td>1</td>\n    </tr>\n    <tr>\n      <th>2014-01-01 04:00:00</th>\n      <td>4</td>\n      <td>0.0</td>\n      <td>1.0</td>\n      <td>0.0</td>\n      <td>0</td>\n      <td>0</td>\n      <td>0</td>\n      <td>0</td>\n      <td>0</td>\n      <td>1</td>\n    </tr>\n    <tr>\n      <th>...</th>\n      <td>...</td>\n      <td>...</td>\n      <td>...</td>\n      <td>...</td>\n      <td>...</td>\n      <td>...</td>\n      <td>...</td>\n      <td>...</td>\n      <td>...</td>\n      <td>...</td>\n    </tr>\n    <tr>\n      <th>2015-07-10 07:00:00</th>\n      <td>7</td>\n      <td>0.0</td>\n      <td>0.0</td>\n      <td>0.0</td>\n      <td>0</td>\n      <td>0</td>\n      <td>0</td>\n      <td>0</td>\n      <td>0</td>\n      <td>0</td>\n    </tr>\n    <tr>\n      <th>2015-07-10 08:00:00</th>\n      <td>8</td>\n      <td>0.0</td>\n      <td>0.0</td>\n      <td>0.0</td>\n      <td>0</td>\n      <td>0</td>\n      <td>0</td>\n      <td>0</td>\n      <td>0</td>\n      <td>0</td>\n    </tr>\n    <tr>\n      <th>2015-07-10 09:00:00</th>\n      <td>9</td>\n      <td>0.0</td>\n      <td>0.0</td>\n      <td>0.0</td>\n      <td>0</td>\n      <td>0</td>\n      <td>0</td>\n      <td>0</td>\n      <td>0</td>\n      <td>0</td>\n    </tr>\n    <tr>\n      <th>2015-07-10 10:00:00</th>\n      <td>10</td>\n      <td>0.0</td>\n      <td>0.0</td>\n      <td>0.0</td>\n      <td>0</td>\n      <td>0</td>\n      <td>0</td>\n      <td>0</td>\n      <td>0</td>\n      <td>0</td>\n    </tr>\n    <tr>\n      <th>2015-07-10 11:00:00</th>\n      <td>11</td>\n      <td>0.0</td>\n      <td>0.0</td>\n      <td>1.0</td>\n      <td>0</td>\n      <td>0</td>\n      <td>0</td>\n      <td>0</td>\n      <td>0</td>\n      <td>0</td>\n    </tr>\n  </tbody>\n</table>\n<p>13332 rows × 10 columns</p>\n</div>"
     },
     "metadata": {},
     "execution_count": 10
    }
   ],
   "source": [
    "date = '2014-01-01'\n",
    "activity = Activity_Agent(df)\n",
    "X_test = activity.get_Xtest(df, date)\n",
    "X_test"
   ]
  },
  {
   "cell_type": "code",
   "execution_count": 11,
   "metadata": {
    "colab": {
     "base_uri": "https://localhost:8080/",
     "height": 1000
    },
    "executionInfo": {
     "elapsed": 108073,
     "status": "ok",
     "timestamp": 1607622504434,
     "user": {
      "displayName": "Leon H",
      "photoUrl": "",
      "userId": "10150017554198726068"
     },
     "user_tz": -60
    },
    "id": "UtZ9wkb_GTcS",
    "outputId": "501b3dd6-e182-4fd1-fbf9-b01327d88457"
   },
   "outputs": [
    {
     "output_type": "execute_result",
     "data": {
      "text/plain": [
       "                     hour  activity_lag_24  activity_lag_48  activity_lag_72  \\\n",
       "Time                                                                           \n",
       "2014-01-01 00:00:00     0              0.0              1.0              1.0   \n",
       "2014-01-01 01:00:00     1              1.0              1.0              0.0   \n",
       "2014-01-01 02:00:00     2              1.0              0.0              1.0   \n",
       "2014-01-01 03:00:00     3              1.0              0.0              0.0   \n",
       "2014-01-01 04:00:00     4              0.0              1.0              0.0   \n",
       "2014-01-01 05:00:00     5              1.0              0.0              0.0   \n",
       "2014-01-01 06:00:00     6              0.0              0.0              0.0   \n",
       "2014-01-01 07:00:00     7              0.0              1.0              0.0   \n",
       "2014-01-01 08:00:00     8              0.0              1.0              0.0   \n",
       "2014-01-01 09:00:00     9              0.0              0.0              0.0   \n",
       "2014-01-01 10:00:00    10              0.0              1.0              0.0   \n",
       "2014-01-01 11:00:00    11              0.0              0.0              0.0   \n",
       "2014-01-01 12:00:00    12              1.0              0.0              1.0   \n",
       "2014-01-01 13:00:00    13              1.0              0.0              1.0   \n",
       "2014-01-01 14:00:00    14              1.0              0.0              1.0   \n",
       "2014-01-01 15:00:00    15              1.0              0.0              1.0   \n",
       "2014-01-01 16:00:00    16              1.0              1.0              1.0   \n",
       "2014-01-01 17:00:00    17              1.0              1.0              1.0   \n",
       "2014-01-01 18:00:00    18              1.0              1.0              0.0   \n",
       "2014-01-01 19:00:00    19              1.0              1.0              1.0   \n",
       "2014-01-01 20:00:00    20              1.0              1.0              1.0   \n",
       "2014-01-01 21:00:00    21              1.0              1.0              1.0   \n",
       "2014-01-01 22:00:00    22              1.0              1.0              1.0   \n",
       "2014-01-01 23:00:00    23              1.0              1.0              1.0   \n",
       "\n",
       "                     day_name_Monday  day_name_Saturday  day_name_Sunday  \\\n",
       "Time                                                                       \n",
       "2014-01-01 00:00:00                0                  0                0   \n",
       "2014-01-01 01:00:00                0                  0                0   \n",
       "2014-01-01 02:00:00                0                  0                0   \n",
       "2014-01-01 03:00:00                0                  0                0   \n",
       "2014-01-01 04:00:00                0                  0                0   \n",
       "2014-01-01 05:00:00                0                  0                0   \n",
       "2014-01-01 06:00:00                0                  0                0   \n",
       "2014-01-01 07:00:00                0                  0                0   \n",
       "2014-01-01 08:00:00                0                  0                0   \n",
       "2014-01-01 09:00:00                0                  0                0   \n",
       "2014-01-01 10:00:00                0                  0                0   \n",
       "2014-01-01 11:00:00                0                  0                0   \n",
       "2014-01-01 12:00:00                0                  0                0   \n",
       "2014-01-01 13:00:00                0                  0                0   \n",
       "2014-01-01 14:00:00                0                  0                0   \n",
       "2014-01-01 15:00:00                0                  0                0   \n",
       "2014-01-01 16:00:00                0                  0                0   \n",
       "2014-01-01 17:00:00                0                  0                0   \n",
       "2014-01-01 18:00:00                0                  0                0   \n",
       "2014-01-01 19:00:00                0                  0                0   \n",
       "2014-01-01 20:00:00                0                  0                0   \n",
       "2014-01-01 21:00:00                0                  0                0   \n",
       "2014-01-01 22:00:00                0                  0                0   \n",
       "2014-01-01 23:00:00                0                  0                0   \n",
       "\n",
       "                     day_name_Thursday  day_name_Tuesday  day_name_Wednesday  \n",
       "Time                                                                          \n",
       "2014-01-01 00:00:00                  0                 0                   1  \n",
       "2014-01-01 01:00:00                  0                 0                   1  \n",
       "2014-01-01 02:00:00                  0                 0                   1  \n",
       "2014-01-01 03:00:00                  0                 0                   1  \n",
       "2014-01-01 04:00:00                  0                 0                   1  \n",
       "2014-01-01 05:00:00                  0                 0                   1  \n",
       "2014-01-01 06:00:00                  0                 0                   1  \n",
       "2014-01-01 07:00:00                  0                 0                   1  \n",
       "2014-01-01 08:00:00                  0                 0                   1  \n",
       "2014-01-01 09:00:00                  0                 0                   1  \n",
       "2014-01-01 10:00:00                  0                 0                   1  \n",
       "2014-01-01 11:00:00                  0                 0                   1  \n",
       "2014-01-01 12:00:00                  0                 0                   1  \n",
       "2014-01-01 13:00:00                  0                 0                   1  \n",
       "2014-01-01 14:00:00                  0                 0                   1  \n",
       "2014-01-01 15:00:00                  0                 0                   1  \n",
       "2014-01-01 16:00:00                  0                 0                   1  \n",
       "2014-01-01 17:00:00                  0                 0                   1  \n",
       "2014-01-01 18:00:00                  0                 0                   1  \n",
       "2014-01-01 19:00:00                  0                 0                   1  \n",
       "2014-01-01 20:00:00                  0                 0                   1  \n",
       "2014-01-01 21:00:00                  0                 0                   1  \n",
       "2014-01-01 22:00:00                  0                 0                   1  \n",
       "2014-01-01 23:00:00                  0                 0                   1  "
      ],
      "text/html": "<div>\n<style scoped>\n    .dataframe tbody tr th:only-of-type {\n        vertical-align: middle;\n    }\n\n    .dataframe tbody tr th {\n        vertical-align: top;\n    }\n\n    .dataframe thead th {\n        text-align: right;\n    }\n</style>\n<table border=\"1\" class=\"dataframe\">\n  <thead>\n    <tr style=\"text-align: right;\">\n      <th></th>\n      <th>hour</th>\n      <th>activity_lag_24</th>\n      <th>activity_lag_48</th>\n      <th>activity_lag_72</th>\n      <th>day_name_Monday</th>\n      <th>day_name_Saturday</th>\n      <th>day_name_Sunday</th>\n      <th>day_name_Thursday</th>\n      <th>day_name_Tuesday</th>\n      <th>day_name_Wednesday</th>\n    </tr>\n    <tr>\n      <th>Time</th>\n      <th></th>\n      <th></th>\n      <th></th>\n      <th></th>\n      <th></th>\n      <th></th>\n      <th></th>\n      <th></th>\n      <th></th>\n      <th></th>\n    </tr>\n  </thead>\n  <tbody>\n    <tr>\n      <th>2014-01-01 00:00:00</th>\n      <td>0</td>\n      <td>0.0</td>\n      <td>1.0</td>\n      <td>1.0</td>\n      <td>0</td>\n      <td>0</td>\n      <td>0</td>\n      <td>0</td>\n      <td>0</td>\n      <td>1</td>\n    </tr>\n    <tr>\n      <th>2014-01-01 01:00:00</th>\n      <td>1</td>\n      <td>1.0</td>\n      <td>1.0</td>\n      <td>0.0</td>\n      <td>0</td>\n      <td>0</td>\n      <td>0</td>\n      <td>0</td>\n      <td>0</td>\n      <td>1</td>\n    </tr>\n    <tr>\n      <th>2014-01-01 02:00:00</th>\n      <td>2</td>\n      <td>1.0</td>\n      <td>0.0</td>\n      <td>1.0</td>\n      <td>0</td>\n      <td>0</td>\n      <td>0</td>\n      <td>0</td>\n      <td>0</td>\n      <td>1</td>\n    </tr>\n    <tr>\n      <th>2014-01-01 03:00:00</th>\n      <td>3</td>\n      <td>1.0</td>\n      <td>0.0</td>\n      <td>0.0</td>\n      <td>0</td>\n      <td>0</td>\n      <td>0</td>\n      <td>0</td>\n      <td>0</td>\n      <td>1</td>\n    </tr>\n    <tr>\n      <th>2014-01-01 04:00:00</th>\n      <td>4</td>\n      <td>0.0</td>\n      <td>1.0</td>\n      <td>0.0</td>\n      <td>0</td>\n      <td>0</td>\n      <td>0</td>\n      <td>0</td>\n      <td>0</td>\n      <td>1</td>\n    </tr>\n    <tr>\n      <th>2014-01-01 05:00:00</th>\n      <td>5</td>\n      <td>1.0</td>\n      <td>0.0</td>\n      <td>0.0</td>\n      <td>0</td>\n      <td>0</td>\n      <td>0</td>\n      <td>0</td>\n      <td>0</td>\n      <td>1</td>\n    </tr>\n    <tr>\n      <th>2014-01-01 06:00:00</th>\n      <td>6</td>\n      <td>0.0</td>\n      <td>0.0</td>\n      <td>0.0</td>\n      <td>0</td>\n      <td>0</td>\n      <td>0</td>\n      <td>0</td>\n      <td>0</td>\n      <td>1</td>\n    </tr>\n    <tr>\n      <th>2014-01-01 07:00:00</th>\n      <td>7</td>\n      <td>0.0</td>\n      <td>1.0</td>\n      <td>0.0</td>\n      <td>0</td>\n      <td>0</td>\n      <td>0</td>\n      <td>0</td>\n      <td>0</td>\n      <td>1</td>\n    </tr>\n    <tr>\n      <th>2014-01-01 08:00:00</th>\n      <td>8</td>\n      <td>0.0</td>\n      <td>1.0</td>\n      <td>0.0</td>\n      <td>0</td>\n      <td>0</td>\n      <td>0</td>\n      <td>0</td>\n      <td>0</td>\n      <td>1</td>\n    </tr>\n    <tr>\n      <th>2014-01-01 09:00:00</th>\n      <td>9</td>\n      <td>0.0</td>\n      <td>0.0</td>\n      <td>0.0</td>\n      <td>0</td>\n      <td>0</td>\n      <td>0</td>\n      <td>0</td>\n      <td>0</td>\n      <td>1</td>\n    </tr>\n    <tr>\n      <th>2014-01-01 10:00:00</th>\n      <td>10</td>\n      <td>0.0</td>\n      <td>1.0</td>\n      <td>0.0</td>\n      <td>0</td>\n      <td>0</td>\n      <td>0</td>\n      <td>0</td>\n      <td>0</td>\n      <td>1</td>\n    </tr>\n    <tr>\n      <th>2014-01-01 11:00:00</th>\n      <td>11</td>\n      <td>0.0</td>\n      <td>0.0</td>\n      <td>0.0</td>\n      <td>0</td>\n      <td>0</td>\n      <td>0</td>\n      <td>0</td>\n      <td>0</td>\n      <td>1</td>\n    </tr>\n    <tr>\n      <th>2014-01-01 12:00:00</th>\n      <td>12</td>\n      <td>1.0</td>\n      <td>0.0</td>\n      <td>1.0</td>\n      <td>0</td>\n      <td>0</td>\n      <td>0</td>\n      <td>0</td>\n      <td>0</td>\n      <td>1</td>\n    </tr>\n    <tr>\n      <th>2014-01-01 13:00:00</th>\n      <td>13</td>\n      <td>1.0</td>\n      <td>0.0</td>\n      <td>1.0</td>\n      <td>0</td>\n      <td>0</td>\n      <td>0</td>\n      <td>0</td>\n      <td>0</td>\n      <td>1</td>\n    </tr>\n    <tr>\n      <th>2014-01-01 14:00:00</th>\n      <td>14</td>\n      <td>1.0</td>\n      <td>0.0</td>\n      <td>1.0</td>\n      <td>0</td>\n      <td>0</td>\n      <td>0</td>\n      <td>0</td>\n      <td>0</td>\n      <td>1</td>\n    </tr>\n    <tr>\n      <th>2014-01-01 15:00:00</th>\n      <td>15</td>\n      <td>1.0</td>\n      <td>0.0</td>\n      <td>1.0</td>\n      <td>0</td>\n      <td>0</td>\n      <td>0</td>\n      <td>0</td>\n      <td>0</td>\n      <td>1</td>\n    </tr>\n    <tr>\n      <th>2014-01-01 16:00:00</th>\n      <td>16</td>\n      <td>1.0</td>\n      <td>1.0</td>\n      <td>1.0</td>\n      <td>0</td>\n      <td>0</td>\n      <td>0</td>\n      <td>0</td>\n      <td>0</td>\n      <td>1</td>\n    </tr>\n    <tr>\n      <th>2014-01-01 17:00:00</th>\n      <td>17</td>\n      <td>1.0</td>\n      <td>1.0</td>\n      <td>1.0</td>\n      <td>0</td>\n      <td>0</td>\n      <td>0</td>\n      <td>0</td>\n      <td>0</td>\n      <td>1</td>\n    </tr>\n    <tr>\n      <th>2014-01-01 18:00:00</th>\n      <td>18</td>\n      <td>1.0</td>\n      <td>1.0</td>\n      <td>0.0</td>\n      <td>0</td>\n      <td>0</td>\n      <td>0</td>\n      <td>0</td>\n      <td>0</td>\n      <td>1</td>\n    </tr>\n    <tr>\n      <th>2014-01-01 19:00:00</th>\n      <td>19</td>\n      <td>1.0</td>\n      <td>1.0</td>\n      <td>1.0</td>\n      <td>0</td>\n      <td>0</td>\n      <td>0</td>\n      <td>0</td>\n      <td>0</td>\n      <td>1</td>\n    </tr>\n    <tr>\n      <th>2014-01-01 20:00:00</th>\n      <td>20</td>\n      <td>1.0</td>\n      <td>1.0</td>\n      <td>1.0</td>\n      <td>0</td>\n      <td>0</td>\n      <td>0</td>\n      <td>0</td>\n      <td>0</td>\n      <td>1</td>\n    </tr>\n    <tr>\n      <th>2014-01-01 21:00:00</th>\n      <td>21</td>\n      <td>1.0</td>\n      <td>1.0</td>\n      <td>1.0</td>\n      <td>0</td>\n      <td>0</td>\n      <td>0</td>\n      <td>0</td>\n      <td>0</td>\n      <td>1</td>\n    </tr>\n    <tr>\n      <th>2014-01-01 22:00:00</th>\n      <td>22</td>\n      <td>1.0</td>\n      <td>1.0</td>\n      <td>1.0</td>\n      <td>0</td>\n      <td>0</td>\n      <td>0</td>\n      <td>0</td>\n      <td>0</td>\n      <td>1</td>\n    </tr>\n    <tr>\n      <th>2014-01-01 23:00:00</th>\n      <td>23</td>\n      <td>1.0</td>\n      <td>1.0</td>\n      <td>1.0</td>\n      <td>0</td>\n      <td>0</td>\n      <td>0</td>\n      <td>0</td>\n      <td>0</td>\n      <td>1</td>\n    </tr>\n  </tbody>\n</table>\n</div>"
     },
     "metadata": {},
     "execution_count": 11
    }
   ],
   "source": [
    "date = '2014-01-01'\n",
    "activity = Activity_Agent(df)\n",
    "time_delta = {'days': 1, 'seconds': -1}\n",
    "X_test = activity.get_Xtest(df, date, time_delta=time_delta)\n",
    "X_test"
   ]
  },
  {
   "cell_type": "code",
   "execution_count": 11,
   "metadata": {
    "colab": {
     "base_uri": "https://localhost:8080/",
     "height": 810
    },
    "executionInfo": {
     "elapsed": 109187,
     "status": "ok",
     "timestamp": 1607622505587,
     "user": {
      "displayName": "Leon H",
      "photoUrl": "",
      "userId": "10150017554198726068"
     },
     "user_tz": -60
    },
    "id": "NrVhitY0ISQU",
    "outputId": "203e7bf7-d66b-481c-c18f-71d3094aabeb"
   },
   "outputs": [
    {
     "output_type": "execute_result",
     "data": {
      "text/plain": [
       "                     hour  activity_lag_24  activity_lag_48  activity_lag_72  \\\n",
       "Time                                                                           \n",
       "2014-01-01 00:00:00     0              0.0              1.0              1.0   \n",
       "2014-01-01 01:00:00     1              1.0              1.0              0.0   \n",
       "2014-01-01 02:00:00     2              1.0              0.0              1.0   \n",
       "2014-01-01 03:00:00     3              1.0              0.0              0.0   \n",
       "2014-01-01 04:00:00     4              0.0              1.0              0.0   \n",
       "...                   ...              ...              ...              ...   \n",
       "2014-01-07 19:00:00    19              1.0              1.0              1.0   \n",
       "2014-01-07 20:00:00    20              1.0              1.0              1.0   \n",
       "2014-01-07 21:00:00    21              1.0              1.0              1.0   \n",
       "2014-01-07 22:00:00    22              1.0              1.0              1.0   \n",
       "2014-01-07 23:00:00    23              0.0              1.0              1.0   \n",
       "\n",
       "                     day_name_Monday  day_name_Saturday  day_name_Sunday  \\\n",
       "Time                                                                       \n",
       "2014-01-01 00:00:00                0                  0                0   \n",
       "2014-01-01 01:00:00                0                  0                0   \n",
       "2014-01-01 02:00:00                0                  0                0   \n",
       "2014-01-01 03:00:00                0                  0                0   \n",
       "2014-01-01 04:00:00                0                  0                0   \n",
       "...                              ...                ...              ...   \n",
       "2014-01-07 19:00:00                0                  0                0   \n",
       "2014-01-07 20:00:00                0                  0                0   \n",
       "2014-01-07 21:00:00                0                  0                0   \n",
       "2014-01-07 22:00:00                0                  0                0   \n",
       "2014-01-07 23:00:00                0                  0                0   \n",
       "\n",
       "                     day_name_Thursday  day_name_Tuesday  day_name_Wednesday  \n",
       "Time                                                                          \n",
       "2014-01-01 00:00:00                  0                 0                   1  \n",
       "2014-01-01 01:00:00                  0                 0                   1  \n",
       "2014-01-01 02:00:00                  0                 0                   1  \n",
       "2014-01-01 03:00:00                  0                 0                   1  \n",
       "2014-01-01 04:00:00                  0                 0                   1  \n",
       "...                                ...               ...                 ...  \n",
       "2014-01-07 19:00:00                  0                 1                   0  \n",
       "2014-01-07 20:00:00                  0                 1                   0  \n",
       "2014-01-07 21:00:00                  0                 1                   0  \n",
       "2014-01-07 22:00:00                  0                 1                   0  \n",
       "2014-01-07 23:00:00                  0                 1                   0  \n",
       "\n",
       "[168 rows x 10 columns]"
      ],
      "text/html": "<div>\n<style scoped>\n    .dataframe tbody tr th:only-of-type {\n        vertical-align: middle;\n    }\n\n    .dataframe tbody tr th {\n        vertical-align: top;\n    }\n\n    .dataframe thead th {\n        text-align: right;\n    }\n</style>\n<table border=\"1\" class=\"dataframe\">\n  <thead>\n    <tr style=\"text-align: right;\">\n      <th></th>\n      <th>hour</th>\n      <th>activity_lag_24</th>\n      <th>activity_lag_48</th>\n      <th>activity_lag_72</th>\n      <th>day_name_Monday</th>\n      <th>day_name_Saturday</th>\n      <th>day_name_Sunday</th>\n      <th>day_name_Thursday</th>\n      <th>day_name_Tuesday</th>\n      <th>day_name_Wednesday</th>\n    </tr>\n    <tr>\n      <th>Time</th>\n      <th></th>\n      <th></th>\n      <th></th>\n      <th></th>\n      <th></th>\n      <th></th>\n      <th></th>\n      <th></th>\n      <th></th>\n      <th></th>\n    </tr>\n  </thead>\n  <tbody>\n    <tr>\n      <th>2014-01-01 00:00:00</th>\n      <td>0</td>\n      <td>0.0</td>\n      <td>1.0</td>\n      <td>1.0</td>\n      <td>0</td>\n      <td>0</td>\n      <td>0</td>\n      <td>0</td>\n      <td>0</td>\n      <td>1</td>\n    </tr>\n    <tr>\n      <th>2014-01-01 01:00:00</th>\n      <td>1</td>\n      <td>1.0</td>\n      <td>1.0</td>\n      <td>0.0</td>\n      <td>0</td>\n      <td>0</td>\n      <td>0</td>\n      <td>0</td>\n      <td>0</td>\n      <td>1</td>\n    </tr>\n    <tr>\n      <th>2014-01-01 02:00:00</th>\n      <td>2</td>\n      <td>1.0</td>\n      <td>0.0</td>\n      <td>1.0</td>\n      <td>0</td>\n      <td>0</td>\n      <td>0</td>\n      <td>0</td>\n      <td>0</td>\n      <td>1</td>\n    </tr>\n    <tr>\n      <th>2014-01-01 03:00:00</th>\n      <td>3</td>\n      <td>1.0</td>\n      <td>0.0</td>\n      <td>0.0</td>\n      <td>0</td>\n      <td>0</td>\n      <td>0</td>\n      <td>0</td>\n      <td>0</td>\n      <td>1</td>\n    </tr>\n    <tr>\n      <th>2014-01-01 04:00:00</th>\n      <td>4</td>\n      <td>0.0</td>\n      <td>1.0</td>\n      <td>0.0</td>\n      <td>0</td>\n      <td>0</td>\n      <td>0</td>\n      <td>0</td>\n      <td>0</td>\n      <td>1</td>\n    </tr>\n    <tr>\n      <th>...</th>\n      <td>...</td>\n      <td>...</td>\n      <td>...</td>\n      <td>...</td>\n      <td>...</td>\n      <td>...</td>\n      <td>...</td>\n      <td>...</td>\n      <td>...</td>\n      <td>...</td>\n    </tr>\n    <tr>\n      <th>2014-01-07 19:00:00</th>\n      <td>19</td>\n      <td>1.0</td>\n      <td>1.0</td>\n      <td>1.0</td>\n      <td>0</td>\n      <td>0</td>\n      <td>0</td>\n      <td>0</td>\n      <td>1</td>\n      <td>0</td>\n    </tr>\n    <tr>\n      <th>2014-01-07 20:00:00</th>\n      <td>20</td>\n      <td>1.0</td>\n      <td>1.0</td>\n      <td>1.0</td>\n      <td>0</td>\n      <td>0</td>\n      <td>0</td>\n      <td>0</td>\n      <td>1</td>\n      <td>0</td>\n    </tr>\n    <tr>\n      <th>2014-01-07 21:00:00</th>\n      <td>21</td>\n      <td>1.0</td>\n      <td>1.0</td>\n      <td>1.0</td>\n      <td>0</td>\n      <td>0</td>\n      <td>0</td>\n      <td>0</td>\n      <td>1</td>\n      <td>0</td>\n    </tr>\n    <tr>\n      <th>2014-01-07 22:00:00</th>\n      <td>22</td>\n      <td>1.0</td>\n      <td>1.0</td>\n      <td>1.0</td>\n      <td>0</td>\n      <td>0</td>\n      <td>0</td>\n      <td>0</td>\n      <td>1</td>\n      <td>0</td>\n    </tr>\n    <tr>\n      <th>2014-01-07 23:00:00</th>\n      <td>23</td>\n      <td>0.0</td>\n      <td>1.0</td>\n      <td>1.0</td>\n      <td>0</td>\n      <td>0</td>\n      <td>0</td>\n      <td>0</td>\n      <td>1</td>\n      <td>0</td>\n    </tr>\n  </tbody>\n</table>\n<p>168 rows × 10 columns</p>\n</div>"
     },
     "metadata": {},
     "execution_count": 11
    }
   ],
   "source": [
    "date = '2014-01-01'\n",
    "activity = Activity_Agent(df)\n",
    "time_delta = {'days': 7, 'seconds': -1}\n",
    "X_test = activity.get_Xtest(df, date, time_delta=time_delta)\n",
    "X_test"
   ]
  },
  {
   "cell_type": "markdown",
   "metadata": {
    "id": "rVjq9VF-LUI8"
   },
   "source": [
    "**y_test**"
   ]
  },
  {
   "cell_type": "code",
   "execution_count": 12,
   "metadata": {
    "executionInfo": {
     "elapsed": 109183,
     "status": "ok",
     "timestamp": 1607622505588,
     "user": {
      "displayName": "Leon H",
      "photoUrl": "",
      "userId": "10150017554198726068"
     },
     "user_tz": -60
    },
    "id": "5PaQ0TOdJ5_m"
   },
   "outputs": [],
   "source": [
    "def get_ytest(self, df, date, time_delta='all', target='activity'):\n",
    "    import pandas as pd\n",
    "    from helper_functions import Helper\n",
    "\n",
    "    helper = Helper()\n",
    "    \n",
    "    if time_delta == 'all':\n",
    "        output = df.loc[pd.to_datetime(date):, target]\n",
    "    else:\n",
    "        output = helper.get_timespan(df, date, time_delta)[target]\n",
    "    return output\n",
    "\n",
    "# add to Activity agent\n",
    "setattr(Activity_Agent, 'get_ytest', get_ytest)\n",
    "del get_ytest"
   ]
  },
  {
   "cell_type": "code",
   "execution_count": 11,
   "metadata": {
    "colab": {
     "base_uri": "https://localhost:8080/"
    },
    "executionInfo": {
     "elapsed": 109153,
     "status": "ok",
     "timestamp": 1607622505591,
     "user": {
      "displayName": "Leon H",
      "photoUrl": "",
      "userId": "10150017554198726068"
     },
     "user_tz": -60
    },
    "id": "INl50_xGLFTK",
    "outputId": "9272ce37-41b8-40ce-952f-3aee8d411b22"
   },
   "outputs": [
    {
     "output_type": "execute_result",
     "data": {
      "text/plain": [
       "Time\n",
       "2014-01-01 00:00:00    1\n",
       "2014-01-01 01:00:00    0\n",
       "2014-01-01 02:00:00    1\n",
       "2014-01-01 03:00:00    1\n",
       "2014-01-01 04:00:00    1\n",
       "                      ..\n",
       "2015-07-10 07:00:00    0\n",
       "2015-07-10 08:00:00    0\n",
       "2015-07-10 09:00:00    0\n",
       "2015-07-10 10:00:00    0\n",
       "2015-07-10 11:00:00    0\n",
       "Freq: 60T, Name: activity, Length: 13332, dtype: int64"
      ]
     },
     "metadata": {},
     "execution_count": 11
    }
   ],
   "source": [
    "date = '2014-01-01'\n",
    "activity = Activity_Agent(df)\n",
    "y_test = activity.get_ytest(df, date)\n",
    "y_test"
   ]
  },
  {
   "cell_type": "code",
   "execution_count": 13,
   "metadata": {
    "colab": {
     "base_uri": "https://localhost:8080/"
    },
    "executionInfo": {
     "elapsed": 109123,
     "status": "ok",
     "timestamp": 1607622505594,
     "user": {
      "displayName": "Leon H",
      "photoUrl": "",
      "userId": "10150017554198726068"
     },
     "user_tz": -60
    },
    "id": "mAyHkoLVJAau",
    "outputId": "6e4e698d-d03a-4c92-b58b-6a1452b0d9ce"
   },
   "outputs": [
    {
     "output_type": "execute_result",
     "data": {
      "text/plain": [
       "Time\n",
       "2014-01-01 00:00:00    1\n",
       "2014-01-01 01:00:00    0\n",
       "2014-01-01 02:00:00    1\n",
       "2014-01-01 03:00:00    1\n",
       "2014-01-01 04:00:00    1\n",
       "                      ..\n",
       "2014-01-07 19:00:00    0\n",
       "2014-01-07 20:00:00    1\n",
       "2014-01-07 21:00:00    1\n",
       "2014-01-07 22:00:00    1\n",
       "2014-01-07 23:00:00    1\n",
       "Freq: 60T, Name: activity, Length: 168, dtype: int64"
      ]
     },
     "metadata": {},
     "execution_count": 13
    }
   ],
   "source": [
    "date = '2014-01-01'\n",
    "\n",
    "activity = Activity_Agent(df)\n",
    "time_delta = {'days': 7, 'seconds': -1}\n",
    "\n",
    "y_test = activity.get_ytest(df, date, time_delta=time_delta)\n",
    "y_test"
   ]
  },
  {
   "cell_type": "markdown",
   "metadata": {
    "id": "rmS0_1n8LW7o"
   },
   "source": [
    "**X_train**"
   ]
  },
  {
   "cell_type": "code",
   "execution_count": 14,
   "metadata": {
    "executionInfo": {
     "elapsed": 109122,
     "status": "ok",
     "timestamp": 1607622505598,
     "user": {
      "displayName": "Leon H",
      "photoUrl": "",
      "userId": "10150017554198726068"
     },
     "user_tz": -60
    },
    "id": "TXxe0UmALiLu"
   },
   "outputs": [],
   "source": [
    "# start = int (e.g. -100) --> 100 days before the day to be predicted will represent the train data\n",
    "def get_Xtrain(self, df, date, start='2013-11-01', target='activity'):\n",
    "    import pandas as pd\n",
    "\n",
    "    if type(start) == int:\n",
    "        start = pd.to_datetime(date) + pd.Timedelta(days= start)\n",
    "        start = pd.to_datetime('2013-11-01') if start < pd.to_datetime('2013-11-01') else start\n",
    "    else:\n",
    "        start = pd.to_datetime(start)\n",
    "    end = pd.to_datetime(date) + pd.Timedelta(seconds=-1)\n",
    "    return df.loc[start:end, df.columns != target]\n",
    "\n",
    "# add to Activity agent\n",
    "setattr(Activity_Agent, 'get_Xtrain', get_Xtrain)\n",
    "del get_Xtrain"
   ]
  },
  {
   "cell_type": "code",
   "execution_count": 16,
   "metadata": {
    "colab": {
     "base_uri": "https://localhost:8080/",
     "height": 810
    },
    "executionInfo": {
     "elapsed": 109092,
     "status": "ok",
     "timestamp": 1607622505600,
     "user": {
      "displayName": "Leon H",
      "photoUrl": "",
      "userId": "10150017554198726068"
     },
     "user_tz": -60
    },
    "id": "boF5_S0DNCMD",
    "outputId": "5d4727d0-e616-42c0-cb41-ee94d51f47c8"
   },
   "outputs": [
    {
     "output_type": "execute_result",
     "data": {
      "text/plain": [
       "                     hour  activity_lag_24  activity_lag_48  activity_lag_72  \\\n",
       "Time                                                                           \n",
       "2013-11-01 00:00:00     0              1.0              0.0              0.0   \n",
       "2013-11-01 01:00:00     1              1.0              1.0              0.0   \n",
       "2013-11-01 02:00:00     2              0.0              0.0              1.0   \n",
       "2013-11-01 03:00:00     3              0.0              0.0              1.0   \n",
       "2013-11-01 04:00:00     4              1.0              0.0              0.0   \n",
       "...                   ...              ...              ...              ...   \n",
       "2013-12-31 19:00:00    19              1.0              1.0              1.0   \n",
       "2013-12-31 20:00:00    20              1.0              1.0              1.0   \n",
       "2013-12-31 21:00:00    21              1.0              1.0              0.0   \n",
       "2013-12-31 22:00:00    22              1.0              1.0              1.0   \n",
       "2013-12-31 23:00:00    23              1.0              1.0              1.0   \n",
       "\n",
       "                     day_name_Monday  day_name_Saturday  day_name_Sunday  \\\n",
       "Time                                                                       \n",
       "2013-11-01 00:00:00                0                  0                0   \n",
       "2013-11-01 01:00:00                0                  0                0   \n",
       "2013-11-01 02:00:00                0                  0                0   \n",
       "2013-11-01 03:00:00                0                  0                0   \n",
       "2013-11-01 04:00:00                0                  0                0   \n",
       "...                              ...                ...              ...   \n",
       "2013-12-31 19:00:00                0                  0                0   \n",
       "2013-12-31 20:00:00                0                  0                0   \n",
       "2013-12-31 21:00:00                0                  0                0   \n",
       "2013-12-31 22:00:00                0                  0                0   \n",
       "2013-12-31 23:00:00                0                  0                0   \n",
       "\n",
       "                     day_name_Thursday  day_name_Tuesday  day_name_Wednesday  \n",
       "Time                                                                          \n",
       "2013-11-01 00:00:00                  0                 0                   0  \n",
       "2013-11-01 01:00:00                  0                 0                   0  \n",
       "2013-11-01 02:00:00                  0                 0                   0  \n",
       "2013-11-01 03:00:00                  0                 0                   0  \n",
       "2013-11-01 04:00:00                  0                 0                   0  \n",
       "...                                ...               ...                 ...  \n",
       "2013-12-31 19:00:00                  0                 1                   0  \n",
       "2013-12-31 20:00:00                  0                 1                   0  \n",
       "2013-12-31 21:00:00                  0                 1                   0  \n",
       "2013-12-31 22:00:00                  0                 1                   0  \n",
       "2013-12-31 23:00:00                  0                 1                   0  \n",
       "\n",
       "[1464 rows x 10 columns]"
      ],
      "text/html": "<div>\n<style scoped>\n    .dataframe tbody tr th:only-of-type {\n        vertical-align: middle;\n    }\n\n    .dataframe tbody tr th {\n        vertical-align: top;\n    }\n\n    .dataframe thead th {\n        text-align: right;\n    }\n</style>\n<table border=\"1\" class=\"dataframe\">\n  <thead>\n    <tr style=\"text-align: right;\">\n      <th></th>\n      <th>hour</th>\n      <th>activity_lag_24</th>\n      <th>activity_lag_48</th>\n      <th>activity_lag_72</th>\n      <th>day_name_Monday</th>\n      <th>day_name_Saturday</th>\n      <th>day_name_Sunday</th>\n      <th>day_name_Thursday</th>\n      <th>day_name_Tuesday</th>\n      <th>day_name_Wednesday</th>\n    </tr>\n    <tr>\n      <th>Time</th>\n      <th></th>\n      <th></th>\n      <th></th>\n      <th></th>\n      <th></th>\n      <th></th>\n      <th></th>\n      <th></th>\n      <th></th>\n      <th></th>\n    </tr>\n  </thead>\n  <tbody>\n    <tr>\n      <th>2013-11-01 00:00:00</th>\n      <td>0</td>\n      <td>1.0</td>\n      <td>0.0</td>\n      <td>0.0</td>\n      <td>0</td>\n      <td>0</td>\n      <td>0</td>\n      <td>0</td>\n      <td>0</td>\n      <td>0</td>\n    </tr>\n    <tr>\n      <th>2013-11-01 01:00:00</th>\n      <td>1</td>\n      <td>1.0</td>\n      <td>1.0</td>\n      <td>0.0</td>\n      <td>0</td>\n      <td>0</td>\n      <td>0</td>\n      <td>0</td>\n      <td>0</td>\n      <td>0</td>\n    </tr>\n    <tr>\n      <th>2013-11-01 02:00:00</th>\n      <td>2</td>\n      <td>0.0</td>\n      <td>0.0</td>\n      <td>1.0</td>\n      <td>0</td>\n      <td>0</td>\n      <td>0</td>\n      <td>0</td>\n      <td>0</td>\n      <td>0</td>\n    </tr>\n    <tr>\n      <th>2013-11-01 03:00:00</th>\n      <td>3</td>\n      <td>0.0</td>\n      <td>0.0</td>\n      <td>1.0</td>\n      <td>0</td>\n      <td>0</td>\n      <td>0</td>\n      <td>0</td>\n      <td>0</td>\n      <td>0</td>\n    </tr>\n    <tr>\n      <th>2013-11-01 04:00:00</th>\n      <td>4</td>\n      <td>1.0</td>\n      <td>0.0</td>\n      <td>0.0</td>\n      <td>0</td>\n      <td>0</td>\n      <td>0</td>\n      <td>0</td>\n      <td>0</td>\n      <td>0</td>\n    </tr>\n    <tr>\n      <th>...</th>\n      <td>...</td>\n      <td>...</td>\n      <td>...</td>\n      <td>...</td>\n      <td>...</td>\n      <td>...</td>\n      <td>...</td>\n      <td>...</td>\n      <td>...</td>\n      <td>...</td>\n    </tr>\n    <tr>\n      <th>2013-12-31 19:00:00</th>\n      <td>19</td>\n      <td>1.0</td>\n      <td>1.0</td>\n      <td>1.0</td>\n      <td>0</td>\n      <td>0</td>\n      <td>0</td>\n      <td>0</td>\n      <td>1</td>\n      <td>0</td>\n    </tr>\n    <tr>\n      <th>2013-12-31 20:00:00</th>\n      <td>20</td>\n      <td>1.0</td>\n      <td>1.0</td>\n      <td>1.0</td>\n      <td>0</td>\n      <td>0</td>\n      <td>0</td>\n      <td>0</td>\n      <td>1</td>\n      <td>0</td>\n    </tr>\n    <tr>\n      <th>2013-12-31 21:00:00</th>\n      <td>21</td>\n      <td>1.0</td>\n      <td>1.0</td>\n      <td>0.0</td>\n      <td>0</td>\n      <td>0</td>\n      <td>0</td>\n      <td>0</td>\n      <td>1</td>\n      <td>0</td>\n    </tr>\n    <tr>\n      <th>2013-12-31 22:00:00</th>\n      <td>22</td>\n      <td>1.0</td>\n      <td>1.0</td>\n      <td>1.0</td>\n      <td>0</td>\n      <td>0</td>\n      <td>0</td>\n      <td>0</td>\n      <td>1</td>\n      <td>0</td>\n    </tr>\n    <tr>\n      <th>2013-12-31 23:00:00</th>\n      <td>23</td>\n      <td>1.0</td>\n      <td>1.0</td>\n      <td>1.0</td>\n      <td>0</td>\n      <td>0</td>\n      <td>0</td>\n      <td>0</td>\n      <td>1</td>\n      <td>0</td>\n    </tr>\n  </tbody>\n</table>\n<p>1464 rows × 10 columns</p>\n</div>"
     },
     "metadata": {},
     "execution_count": 16
    }
   ],
   "source": [
    "date = '2014-01-01'\n",
    "\n",
    "activity = Activity_Agent(df)\n",
    "X_train = activity.get_Xtrain(df, date)\n",
    "X_train"
   ]
  },
  {
   "cell_type": "code",
   "execution_count": 15,
   "metadata": {
    "colab": {
     "base_uri": "https://localhost:8080/",
     "height": 1000
    },
    "executionInfo": {
     "elapsed": 109044,
     "status": "ok",
     "timestamp": 1607622505603,
     "user": {
      "displayName": "Leon H",
      "photoUrl": "",
      "userId": "10150017554198726068"
     },
     "user_tz": -60
    },
    "id": "wSxGrNSYMh7_",
    "outputId": "1fdd832c-5fe4-4969-ce51-5212aec822be"
   },
   "outputs": [
    {
     "output_type": "execute_result",
     "data": {
      "text/plain": [
       "                     hour  activity_lag_24  activity_lag_48  activity_lag_72  \\\n",
       "Time                                                                           \n",
       "2013-12-31 00:00:00     0              1.0              1.0              0.0   \n",
       "2013-12-31 01:00:00     1              1.0              0.0              1.0   \n",
       "2013-12-31 02:00:00     2              0.0              1.0              1.0   \n",
       "2013-12-31 03:00:00     3              0.0              0.0              0.0   \n",
       "2013-12-31 04:00:00     4              1.0              0.0              1.0   \n",
       "2013-12-31 05:00:00     5              0.0              0.0              0.0   \n",
       "2013-12-31 06:00:00     6              0.0              0.0              0.0   \n",
       "2013-12-31 07:00:00     7              1.0              0.0              0.0   \n",
       "2013-12-31 08:00:00     8              1.0              0.0              0.0   \n",
       "2013-12-31 09:00:00     9              0.0              0.0              0.0   \n",
       "2013-12-31 10:00:00    10              1.0              0.0              0.0   \n",
       "2013-12-31 11:00:00    11              0.0              0.0              1.0   \n",
       "2013-12-31 12:00:00    12              0.0              1.0              1.0   \n",
       "2013-12-31 13:00:00    13              0.0              1.0              1.0   \n",
       "2013-12-31 14:00:00    14              0.0              1.0              1.0   \n",
       "2013-12-31 15:00:00    15              0.0              1.0              1.0   \n",
       "2013-12-31 16:00:00    16              1.0              1.0              1.0   \n",
       "2013-12-31 17:00:00    17              1.0              1.0              1.0   \n",
       "2013-12-31 18:00:00    18              1.0              0.0              1.0   \n",
       "2013-12-31 19:00:00    19              1.0              1.0              1.0   \n",
       "2013-12-31 20:00:00    20              1.0              1.0              1.0   \n",
       "2013-12-31 21:00:00    21              1.0              1.0              0.0   \n",
       "2013-12-31 22:00:00    22              1.0              1.0              1.0   \n",
       "2013-12-31 23:00:00    23              1.0              1.0              1.0   \n",
       "\n",
       "                     day_name_Monday  day_name_Saturday  day_name_Sunday  \\\n",
       "Time                                                                       \n",
       "2013-12-31 00:00:00                0                  0                0   \n",
       "2013-12-31 01:00:00                0                  0                0   \n",
       "2013-12-31 02:00:00                0                  0                0   \n",
       "2013-12-31 03:00:00                0                  0                0   \n",
       "2013-12-31 04:00:00                0                  0                0   \n",
       "2013-12-31 05:00:00                0                  0                0   \n",
       "2013-12-31 06:00:00                0                  0                0   \n",
       "2013-12-31 07:00:00                0                  0                0   \n",
       "2013-12-31 08:00:00                0                  0                0   \n",
       "2013-12-31 09:00:00                0                  0                0   \n",
       "2013-12-31 10:00:00                0                  0                0   \n",
       "2013-12-31 11:00:00                0                  0                0   \n",
       "2013-12-31 12:00:00                0                  0                0   \n",
       "2013-12-31 13:00:00                0                  0                0   \n",
       "2013-12-31 14:00:00                0                  0                0   \n",
       "2013-12-31 15:00:00                0                  0                0   \n",
       "2013-12-31 16:00:00                0                  0                0   \n",
       "2013-12-31 17:00:00                0                  0                0   \n",
       "2013-12-31 18:00:00                0                  0                0   \n",
       "2013-12-31 19:00:00                0                  0                0   \n",
       "2013-12-31 20:00:00                0                  0                0   \n",
       "2013-12-31 21:00:00                0                  0                0   \n",
       "2013-12-31 22:00:00                0                  0                0   \n",
       "2013-12-31 23:00:00                0                  0                0   \n",
       "\n",
       "                     day_name_Thursday  day_name_Tuesday  day_name_Wednesday  \n",
       "Time                                                                          \n",
       "2013-12-31 00:00:00                  0                 1                   0  \n",
       "2013-12-31 01:00:00                  0                 1                   0  \n",
       "2013-12-31 02:00:00                  0                 1                   0  \n",
       "2013-12-31 03:00:00                  0                 1                   0  \n",
       "2013-12-31 04:00:00                  0                 1                   0  \n",
       "2013-12-31 05:00:00                  0                 1                   0  \n",
       "2013-12-31 06:00:00                  0                 1                   0  \n",
       "2013-12-31 07:00:00                  0                 1                   0  \n",
       "2013-12-31 08:00:00                  0                 1                   0  \n",
       "2013-12-31 09:00:00                  0                 1                   0  \n",
       "2013-12-31 10:00:00                  0                 1                   0  \n",
       "2013-12-31 11:00:00                  0                 1                   0  \n",
       "2013-12-31 12:00:00                  0                 1                   0  \n",
       "2013-12-31 13:00:00                  0                 1                   0  \n",
       "2013-12-31 14:00:00                  0                 1                   0  \n",
       "2013-12-31 15:00:00                  0                 1                   0  \n",
       "2013-12-31 16:00:00                  0                 1                   0  \n",
       "2013-12-31 17:00:00                  0                 1                   0  \n",
       "2013-12-31 18:00:00                  0                 1                   0  \n",
       "2013-12-31 19:00:00                  0                 1                   0  \n",
       "2013-12-31 20:00:00                  0                 1                   0  \n",
       "2013-12-31 21:00:00                  0                 1                   0  \n",
       "2013-12-31 22:00:00                  0                 1                   0  \n",
       "2013-12-31 23:00:00                  0                 1                   0  "
      ],
      "text/html": "<div>\n<style scoped>\n    .dataframe tbody tr th:only-of-type {\n        vertical-align: middle;\n    }\n\n    .dataframe tbody tr th {\n        vertical-align: top;\n    }\n\n    .dataframe thead th {\n        text-align: right;\n    }\n</style>\n<table border=\"1\" class=\"dataframe\">\n  <thead>\n    <tr style=\"text-align: right;\">\n      <th></th>\n      <th>hour</th>\n      <th>activity_lag_24</th>\n      <th>activity_lag_48</th>\n      <th>activity_lag_72</th>\n      <th>day_name_Monday</th>\n      <th>day_name_Saturday</th>\n      <th>day_name_Sunday</th>\n      <th>day_name_Thursday</th>\n      <th>day_name_Tuesday</th>\n      <th>day_name_Wednesday</th>\n    </tr>\n    <tr>\n      <th>Time</th>\n      <th></th>\n      <th></th>\n      <th></th>\n      <th></th>\n      <th></th>\n      <th></th>\n      <th></th>\n      <th></th>\n      <th></th>\n      <th></th>\n    </tr>\n  </thead>\n  <tbody>\n    <tr>\n      <th>2013-12-31 00:00:00</th>\n      <td>0</td>\n      <td>1.0</td>\n      <td>1.0</td>\n      <td>0.0</td>\n      <td>0</td>\n      <td>0</td>\n      <td>0</td>\n      <td>0</td>\n      <td>1</td>\n      <td>0</td>\n    </tr>\n    <tr>\n      <th>2013-12-31 01:00:00</th>\n      <td>1</td>\n      <td>1.0</td>\n      <td>0.0</td>\n      <td>1.0</td>\n      <td>0</td>\n      <td>0</td>\n      <td>0</td>\n      <td>0</td>\n      <td>1</td>\n      <td>0</td>\n    </tr>\n    <tr>\n      <th>2013-12-31 02:00:00</th>\n      <td>2</td>\n      <td>0.0</td>\n      <td>1.0</td>\n      <td>1.0</td>\n      <td>0</td>\n      <td>0</td>\n      <td>0</td>\n      <td>0</td>\n      <td>1</td>\n      <td>0</td>\n    </tr>\n    <tr>\n      <th>2013-12-31 03:00:00</th>\n      <td>3</td>\n      <td>0.0</td>\n      <td>0.0</td>\n      <td>0.0</td>\n      <td>0</td>\n      <td>0</td>\n      <td>0</td>\n      <td>0</td>\n      <td>1</td>\n      <td>0</td>\n    </tr>\n    <tr>\n      <th>2013-12-31 04:00:00</th>\n      <td>4</td>\n      <td>1.0</td>\n      <td>0.0</td>\n      <td>1.0</td>\n      <td>0</td>\n      <td>0</td>\n      <td>0</td>\n      <td>0</td>\n      <td>1</td>\n      <td>0</td>\n    </tr>\n    <tr>\n      <th>2013-12-31 05:00:00</th>\n      <td>5</td>\n      <td>0.0</td>\n      <td>0.0</td>\n      <td>0.0</td>\n      <td>0</td>\n      <td>0</td>\n      <td>0</td>\n      <td>0</td>\n      <td>1</td>\n      <td>0</td>\n    </tr>\n    <tr>\n      <th>2013-12-31 06:00:00</th>\n      <td>6</td>\n      <td>0.0</td>\n      <td>0.0</td>\n      <td>0.0</td>\n      <td>0</td>\n      <td>0</td>\n      <td>0</td>\n      <td>0</td>\n      <td>1</td>\n      <td>0</td>\n    </tr>\n    <tr>\n      <th>2013-12-31 07:00:00</th>\n      <td>7</td>\n      <td>1.0</td>\n      <td>0.0</td>\n      <td>0.0</td>\n      <td>0</td>\n      <td>0</td>\n      <td>0</td>\n      <td>0</td>\n      <td>1</td>\n      <td>0</td>\n    </tr>\n    <tr>\n      <th>2013-12-31 08:00:00</th>\n      <td>8</td>\n      <td>1.0</td>\n      <td>0.0</td>\n      <td>0.0</td>\n      <td>0</td>\n      <td>0</td>\n      <td>0</td>\n      <td>0</td>\n      <td>1</td>\n      <td>0</td>\n    </tr>\n    <tr>\n      <th>2013-12-31 09:00:00</th>\n      <td>9</td>\n      <td>0.0</td>\n      <td>0.0</td>\n      <td>0.0</td>\n      <td>0</td>\n      <td>0</td>\n      <td>0</td>\n      <td>0</td>\n      <td>1</td>\n      <td>0</td>\n    </tr>\n    <tr>\n      <th>2013-12-31 10:00:00</th>\n      <td>10</td>\n      <td>1.0</td>\n      <td>0.0</td>\n      <td>0.0</td>\n      <td>0</td>\n      <td>0</td>\n      <td>0</td>\n      <td>0</td>\n      <td>1</td>\n      <td>0</td>\n    </tr>\n    <tr>\n      <th>2013-12-31 11:00:00</th>\n      <td>11</td>\n      <td>0.0</td>\n      <td>0.0</td>\n      <td>1.0</td>\n      <td>0</td>\n      <td>0</td>\n      <td>0</td>\n      <td>0</td>\n      <td>1</td>\n      <td>0</td>\n    </tr>\n    <tr>\n      <th>2013-12-31 12:00:00</th>\n      <td>12</td>\n      <td>0.0</td>\n      <td>1.0</td>\n      <td>1.0</td>\n      <td>0</td>\n      <td>0</td>\n      <td>0</td>\n      <td>0</td>\n      <td>1</td>\n      <td>0</td>\n    </tr>\n    <tr>\n      <th>2013-12-31 13:00:00</th>\n      <td>13</td>\n      <td>0.0</td>\n      <td>1.0</td>\n      <td>1.0</td>\n      <td>0</td>\n      <td>0</td>\n      <td>0</td>\n      <td>0</td>\n      <td>1</td>\n      <td>0</td>\n    </tr>\n    <tr>\n      <th>2013-12-31 14:00:00</th>\n      <td>14</td>\n      <td>0.0</td>\n      <td>1.0</td>\n      <td>1.0</td>\n      <td>0</td>\n      <td>0</td>\n      <td>0</td>\n      <td>0</td>\n      <td>1</td>\n      <td>0</td>\n    </tr>\n    <tr>\n      <th>2013-12-31 15:00:00</th>\n      <td>15</td>\n      <td>0.0</td>\n      <td>1.0</td>\n      <td>1.0</td>\n      <td>0</td>\n      <td>0</td>\n      <td>0</td>\n      <td>0</td>\n      <td>1</td>\n      <td>0</td>\n    </tr>\n    <tr>\n      <th>2013-12-31 16:00:00</th>\n      <td>16</td>\n      <td>1.0</td>\n      <td>1.0</td>\n      <td>1.0</td>\n      <td>0</td>\n      <td>0</td>\n      <td>0</td>\n      <td>0</td>\n      <td>1</td>\n      <td>0</td>\n    </tr>\n    <tr>\n      <th>2013-12-31 17:00:00</th>\n      <td>17</td>\n      <td>1.0</td>\n      <td>1.0</td>\n      <td>1.0</td>\n      <td>0</td>\n      <td>0</td>\n      <td>0</td>\n      <td>0</td>\n      <td>1</td>\n      <td>0</td>\n    </tr>\n    <tr>\n      <th>2013-12-31 18:00:00</th>\n      <td>18</td>\n      <td>1.0</td>\n      <td>0.0</td>\n      <td>1.0</td>\n      <td>0</td>\n      <td>0</td>\n      <td>0</td>\n      <td>0</td>\n      <td>1</td>\n      <td>0</td>\n    </tr>\n    <tr>\n      <th>2013-12-31 19:00:00</th>\n      <td>19</td>\n      <td>1.0</td>\n      <td>1.0</td>\n      <td>1.0</td>\n      <td>0</td>\n      <td>0</td>\n      <td>0</td>\n      <td>0</td>\n      <td>1</td>\n      <td>0</td>\n    </tr>\n    <tr>\n      <th>2013-12-31 20:00:00</th>\n      <td>20</td>\n      <td>1.0</td>\n      <td>1.0</td>\n      <td>1.0</td>\n      <td>0</td>\n      <td>0</td>\n      <td>0</td>\n      <td>0</td>\n      <td>1</td>\n      <td>0</td>\n    </tr>\n    <tr>\n      <th>2013-12-31 21:00:00</th>\n      <td>21</td>\n      <td>1.0</td>\n      <td>1.0</td>\n      <td>0.0</td>\n      <td>0</td>\n      <td>0</td>\n      <td>0</td>\n      <td>0</td>\n      <td>1</td>\n      <td>0</td>\n    </tr>\n    <tr>\n      <th>2013-12-31 22:00:00</th>\n      <td>22</td>\n      <td>1.0</td>\n      <td>1.0</td>\n      <td>1.0</td>\n      <td>0</td>\n      <td>0</td>\n      <td>0</td>\n      <td>0</td>\n      <td>1</td>\n      <td>0</td>\n    </tr>\n    <tr>\n      <th>2013-12-31 23:00:00</th>\n      <td>23</td>\n      <td>1.0</td>\n      <td>1.0</td>\n      <td>1.0</td>\n      <td>0</td>\n      <td>0</td>\n      <td>0</td>\n      <td>0</td>\n      <td>1</td>\n      <td>0</td>\n    </tr>\n  </tbody>\n</table>\n</div>"
     },
     "metadata": {},
     "execution_count": 15
    }
   ],
   "source": [
    "date = '2014-01-01'\n",
    "\n",
    "activity = Activity_Agent(df)\n",
    "X_train = activity.get_Xtrain(df, date, start=-1)\n",
    "X_train"
   ]
  },
  {
   "cell_type": "code",
   "execution_count": 18,
   "metadata": {
    "colab": {
     "base_uri": "https://localhost:8080/",
     "height": 810
    },
    "executionInfo": {
     "elapsed": 109012,
     "status": "ok",
     "timestamp": 1607622505604,
     "user": {
      "displayName": "Leon H",
      "photoUrl": "",
      "userId": "10150017554198726068"
     },
     "user_tz": -60
    },
    "id": "kI_JHuGiMxLG",
    "outputId": "47991d9a-44c5-491f-c19c-5a9142ef088f"
   },
   "outputs": [
    {
     "output_type": "execute_result",
     "data": {
      "text/plain": [
       "                     hour  activity_lag_24  activity_lag_48  activity_lag_72  \\\n",
       "Time                                                                           \n",
       "2013-12-22 00:00:00     0              0.0              0.0              1.0   \n",
       "2013-12-22 01:00:00     1              0.0              0.0              1.0   \n",
       "2013-12-22 02:00:00     2              1.0              0.0              0.0   \n",
       "2013-12-22 03:00:00     3              1.0              0.0              1.0   \n",
       "2013-12-22 04:00:00     4              0.0              0.0              0.0   \n",
       "...                   ...              ...              ...              ...   \n",
       "2013-12-31 19:00:00    19              1.0              1.0              1.0   \n",
       "2013-12-31 20:00:00    20              1.0              1.0              1.0   \n",
       "2013-12-31 21:00:00    21              1.0              1.0              0.0   \n",
       "2013-12-31 22:00:00    22              1.0              1.0              1.0   \n",
       "2013-12-31 23:00:00    23              1.0              1.0              1.0   \n",
       "\n",
       "                     day_name_Monday  day_name_Saturday  day_name_Sunday  \\\n",
       "Time                                                                       \n",
       "2013-12-22 00:00:00                0                  0                1   \n",
       "2013-12-22 01:00:00                0                  0                1   \n",
       "2013-12-22 02:00:00                0                  0                1   \n",
       "2013-12-22 03:00:00                0                  0                1   \n",
       "2013-12-22 04:00:00                0                  0                1   \n",
       "...                              ...                ...              ...   \n",
       "2013-12-31 19:00:00                0                  0                0   \n",
       "2013-12-31 20:00:00                0                  0                0   \n",
       "2013-12-31 21:00:00                0                  0                0   \n",
       "2013-12-31 22:00:00                0                  0                0   \n",
       "2013-12-31 23:00:00                0                  0                0   \n",
       "\n",
       "                     day_name_Thursday  day_name_Tuesday  day_name_Wednesday  \n",
       "Time                                                                          \n",
       "2013-12-22 00:00:00                  0                 0                   0  \n",
       "2013-12-22 01:00:00                  0                 0                   0  \n",
       "2013-12-22 02:00:00                  0                 0                   0  \n",
       "2013-12-22 03:00:00                  0                 0                   0  \n",
       "2013-12-22 04:00:00                  0                 0                   0  \n",
       "...                                ...               ...                 ...  \n",
       "2013-12-31 19:00:00                  0                 1                   0  \n",
       "2013-12-31 20:00:00                  0                 1                   0  \n",
       "2013-12-31 21:00:00                  0                 1                   0  \n",
       "2013-12-31 22:00:00                  0                 1                   0  \n",
       "2013-12-31 23:00:00                  0                 1                   0  \n",
       "\n",
       "[240 rows x 10 columns]"
      ],
      "text/html": "<div>\n<style scoped>\n    .dataframe tbody tr th:only-of-type {\n        vertical-align: middle;\n    }\n\n    .dataframe tbody tr th {\n        vertical-align: top;\n    }\n\n    .dataframe thead th {\n        text-align: right;\n    }\n</style>\n<table border=\"1\" class=\"dataframe\">\n  <thead>\n    <tr style=\"text-align: right;\">\n      <th></th>\n      <th>hour</th>\n      <th>activity_lag_24</th>\n      <th>activity_lag_48</th>\n      <th>activity_lag_72</th>\n      <th>day_name_Monday</th>\n      <th>day_name_Saturday</th>\n      <th>day_name_Sunday</th>\n      <th>day_name_Thursday</th>\n      <th>day_name_Tuesday</th>\n      <th>day_name_Wednesday</th>\n    </tr>\n    <tr>\n      <th>Time</th>\n      <th></th>\n      <th></th>\n      <th></th>\n      <th></th>\n      <th></th>\n      <th></th>\n      <th></th>\n      <th></th>\n      <th></th>\n      <th></th>\n    </tr>\n  </thead>\n  <tbody>\n    <tr>\n      <th>2013-12-22 00:00:00</th>\n      <td>0</td>\n      <td>0.0</td>\n      <td>0.0</td>\n      <td>1.0</td>\n      <td>0</td>\n      <td>0</td>\n      <td>1</td>\n      <td>0</td>\n      <td>0</td>\n      <td>0</td>\n    </tr>\n    <tr>\n      <th>2013-12-22 01:00:00</th>\n      <td>1</td>\n      <td>0.0</td>\n      <td>0.0</td>\n      <td>1.0</td>\n      <td>0</td>\n      <td>0</td>\n      <td>1</td>\n      <td>0</td>\n      <td>0</td>\n      <td>0</td>\n    </tr>\n    <tr>\n      <th>2013-12-22 02:00:00</th>\n      <td>2</td>\n      <td>1.0</td>\n      <td>0.0</td>\n      <td>0.0</td>\n      <td>0</td>\n      <td>0</td>\n      <td>1</td>\n      <td>0</td>\n      <td>0</td>\n      <td>0</td>\n    </tr>\n    <tr>\n      <th>2013-12-22 03:00:00</th>\n      <td>3</td>\n      <td>1.0</td>\n      <td>0.0</td>\n      <td>1.0</td>\n      <td>0</td>\n      <td>0</td>\n      <td>1</td>\n      <td>0</td>\n      <td>0</td>\n      <td>0</td>\n    </tr>\n    <tr>\n      <th>2013-12-22 04:00:00</th>\n      <td>4</td>\n      <td>0.0</td>\n      <td>0.0</td>\n      <td>0.0</td>\n      <td>0</td>\n      <td>0</td>\n      <td>1</td>\n      <td>0</td>\n      <td>0</td>\n      <td>0</td>\n    </tr>\n    <tr>\n      <th>...</th>\n      <td>...</td>\n      <td>...</td>\n      <td>...</td>\n      <td>...</td>\n      <td>...</td>\n      <td>...</td>\n      <td>...</td>\n      <td>...</td>\n      <td>...</td>\n      <td>...</td>\n    </tr>\n    <tr>\n      <th>2013-12-31 19:00:00</th>\n      <td>19</td>\n      <td>1.0</td>\n      <td>1.0</td>\n      <td>1.0</td>\n      <td>0</td>\n      <td>0</td>\n      <td>0</td>\n      <td>0</td>\n      <td>1</td>\n      <td>0</td>\n    </tr>\n    <tr>\n      <th>2013-12-31 20:00:00</th>\n      <td>20</td>\n      <td>1.0</td>\n      <td>1.0</td>\n      <td>1.0</td>\n      <td>0</td>\n      <td>0</td>\n      <td>0</td>\n      <td>0</td>\n      <td>1</td>\n      <td>0</td>\n    </tr>\n    <tr>\n      <th>2013-12-31 21:00:00</th>\n      <td>21</td>\n      <td>1.0</td>\n      <td>1.0</td>\n      <td>0.0</td>\n      <td>0</td>\n      <td>0</td>\n      <td>0</td>\n      <td>0</td>\n      <td>1</td>\n      <td>0</td>\n    </tr>\n    <tr>\n      <th>2013-12-31 22:00:00</th>\n      <td>22</td>\n      <td>1.0</td>\n      <td>1.0</td>\n      <td>1.0</td>\n      <td>0</td>\n      <td>0</td>\n      <td>0</td>\n      <td>0</td>\n      <td>1</td>\n      <td>0</td>\n    </tr>\n    <tr>\n      <th>2013-12-31 23:00:00</th>\n      <td>23</td>\n      <td>1.0</td>\n      <td>1.0</td>\n      <td>1.0</td>\n      <td>0</td>\n      <td>0</td>\n      <td>0</td>\n      <td>0</td>\n      <td>1</td>\n      <td>0</td>\n    </tr>\n  </tbody>\n</table>\n<p>240 rows × 10 columns</p>\n</div>"
     },
     "metadata": {},
     "execution_count": 18
    }
   ],
   "source": [
    "date = '2014-01-01'\n",
    "\n",
    "activity = Activity_Agent(df)\n",
    "X_train = activity.get_Xtrain(df, date, start=-10)\n",
    "X_train"
   ]
  },
  {
   "cell_type": "code",
   "execution_count": 16,
   "metadata": {
    "colab": {
     "base_uri": "https://localhost:8080/",
     "height": 810
    },
    "executionInfo": {
     "elapsed": 108976,
     "status": "ok",
     "timestamp": 1607622505605,
     "user": {
      "displayName": "Leon H",
      "photoUrl": "",
      "userId": "10150017554198726068"
     },
     "user_tz": -60
    },
    "id": "KRGWJrZGMzUr",
    "outputId": "b1b0caea-16f4-4c0c-8b9f-59bbe3fbf78b"
   },
   "outputs": [
    {
     "output_type": "execute_result",
     "data": {
      "text/plain": [
       "                     hour  activity_lag_24  activity_lag_48  activity_lag_72  \\\n",
       "Time                                                                           \n",
       "2013-11-01 00:00:00     0              1.0              0.0              0.0   \n",
       "2013-11-01 01:00:00     1              1.0              1.0              0.0   \n",
       "2013-11-01 02:00:00     2              0.0              0.0              1.0   \n",
       "2013-11-01 03:00:00     3              0.0              0.0              1.0   \n",
       "2013-11-01 04:00:00     4              1.0              0.0              0.0   \n",
       "...                   ...              ...              ...              ...   \n",
       "2013-12-31 19:00:00    19              1.0              1.0              1.0   \n",
       "2013-12-31 20:00:00    20              1.0              1.0              1.0   \n",
       "2013-12-31 21:00:00    21              1.0              1.0              0.0   \n",
       "2013-12-31 22:00:00    22              1.0              1.0              1.0   \n",
       "2013-12-31 23:00:00    23              1.0              1.0              1.0   \n",
       "\n",
       "                     day_name_Monday  day_name_Saturday  day_name_Sunday  \\\n",
       "Time                                                                       \n",
       "2013-11-01 00:00:00                0                  0                0   \n",
       "2013-11-01 01:00:00                0                  0                0   \n",
       "2013-11-01 02:00:00                0                  0                0   \n",
       "2013-11-01 03:00:00                0                  0                0   \n",
       "2013-11-01 04:00:00                0                  0                0   \n",
       "...                              ...                ...              ...   \n",
       "2013-12-31 19:00:00                0                  0                0   \n",
       "2013-12-31 20:00:00                0                  0                0   \n",
       "2013-12-31 21:00:00                0                  0                0   \n",
       "2013-12-31 22:00:00                0                  0                0   \n",
       "2013-12-31 23:00:00                0                  0                0   \n",
       "\n",
       "                     day_name_Thursday  day_name_Tuesday  day_name_Wednesday  \n",
       "Time                                                                          \n",
       "2013-11-01 00:00:00                  0                 0                   0  \n",
       "2013-11-01 01:00:00                  0                 0                   0  \n",
       "2013-11-01 02:00:00                  0                 0                   0  \n",
       "2013-11-01 03:00:00                  0                 0                   0  \n",
       "2013-11-01 04:00:00                  0                 0                   0  \n",
       "...                                ...               ...                 ...  \n",
       "2013-12-31 19:00:00                  0                 1                   0  \n",
       "2013-12-31 20:00:00                  0                 1                   0  \n",
       "2013-12-31 21:00:00                  0                 1                   0  \n",
       "2013-12-31 22:00:00                  0                 1                   0  \n",
       "2013-12-31 23:00:00                  0                 1                   0  \n",
       "\n",
       "[1464 rows x 10 columns]"
      ],
      "text/html": "<div>\n<style scoped>\n    .dataframe tbody tr th:only-of-type {\n        vertical-align: middle;\n    }\n\n    .dataframe tbody tr th {\n        vertical-align: top;\n    }\n\n    .dataframe thead th {\n        text-align: right;\n    }\n</style>\n<table border=\"1\" class=\"dataframe\">\n  <thead>\n    <tr style=\"text-align: right;\">\n      <th></th>\n      <th>hour</th>\n      <th>activity_lag_24</th>\n      <th>activity_lag_48</th>\n      <th>activity_lag_72</th>\n      <th>day_name_Monday</th>\n      <th>day_name_Saturday</th>\n      <th>day_name_Sunday</th>\n      <th>day_name_Thursday</th>\n      <th>day_name_Tuesday</th>\n      <th>day_name_Wednesday</th>\n    </tr>\n    <tr>\n      <th>Time</th>\n      <th></th>\n      <th></th>\n      <th></th>\n      <th></th>\n      <th></th>\n      <th></th>\n      <th></th>\n      <th></th>\n      <th></th>\n      <th></th>\n    </tr>\n  </thead>\n  <tbody>\n    <tr>\n      <th>2013-11-01 00:00:00</th>\n      <td>0</td>\n      <td>1.0</td>\n      <td>0.0</td>\n      <td>0.0</td>\n      <td>0</td>\n      <td>0</td>\n      <td>0</td>\n      <td>0</td>\n      <td>0</td>\n      <td>0</td>\n    </tr>\n    <tr>\n      <th>2013-11-01 01:00:00</th>\n      <td>1</td>\n      <td>1.0</td>\n      <td>1.0</td>\n      <td>0.0</td>\n      <td>0</td>\n      <td>0</td>\n      <td>0</td>\n      <td>0</td>\n      <td>0</td>\n      <td>0</td>\n    </tr>\n    <tr>\n      <th>2013-11-01 02:00:00</th>\n      <td>2</td>\n      <td>0.0</td>\n      <td>0.0</td>\n      <td>1.0</td>\n      <td>0</td>\n      <td>0</td>\n      <td>0</td>\n      <td>0</td>\n      <td>0</td>\n      <td>0</td>\n    </tr>\n    <tr>\n      <th>2013-11-01 03:00:00</th>\n      <td>3</td>\n      <td>0.0</td>\n      <td>0.0</td>\n      <td>1.0</td>\n      <td>0</td>\n      <td>0</td>\n      <td>0</td>\n      <td>0</td>\n      <td>0</td>\n      <td>0</td>\n    </tr>\n    <tr>\n      <th>2013-11-01 04:00:00</th>\n      <td>4</td>\n      <td>1.0</td>\n      <td>0.0</td>\n      <td>0.0</td>\n      <td>0</td>\n      <td>0</td>\n      <td>0</td>\n      <td>0</td>\n      <td>0</td>\n      <td>0</td>\n    </tr>\n    <tr>\n      <th>...</th>\n      <td>...</td>\n      <td>...</td>\n      <td>...</td>\n      <td>...</td>\n      <td>...</td>\n      <td>...</td>\n      <td>...</td>\n      <td>...</td>\n      <td>...</td>\n      <td>...</td>\n    </tr>\n    <tr>\n      <th>2013-12-31 19:00:00</th>\n      <td>19</td>\n      <td>1.0</td>\n      <td>1.0</td>\n      <td>1.0</td>\n      <td>0</td>\n      <td>0</td>\n      <td>0</td>\n      <td>0</td>\n      <td>1</td>\n      <td>0</td>\n    </tr>\n    <tr>\n      <th>2013-12-31 20:00:00</th>\n      <td>20</td>\n      <td>1.0</td>\n      <td>1.0</td>\n      <td>1.0</td>\n      <td>0</td>\n      <td>0</td>\n      <td>0</td>\n      <td>0</td>\n      <td>1</td>\n      <td>0</td>\n    </tr>\n    <tr>\n      <th>2013-12-31 21:00:00</th>\n      <td>21</td>\n      <td>1.0</td>\n      <td>1.0</td>\n      <td>0.0</td>\n      <td>0</td>\n      <td>0</td>\n      <td>0</td>\n      <td>0</td>\n      <td>1</td>\n      <td>0</td>\n    </tr>\n    <tr>\n      <th>2013-12-31 22:00:00</th>\n      <td>22</td>\n      <td>1.0</td>\n      <td>1.0</td>\n      <td>1.0</td>\n      <td>0</td>\n      <td>0</td>\n      <td>0</td>\n      <td>0</td>\n      <td>1</td>\n      <td>0</td>\n    </tr>\n    <tr>\n      <th>2013-12-31 23:00:00</th>\n      <td>23</td>\n      <td>1.0</td>\n      <td>1.0</td>\n      <td>1.0</td>\n      <td>0</td>\n      <td>0</td>\n      <td>0</td>\n      <td>0</td>\n      <td>1</td>\n      <td>0</td>\n    </tr>\n  </tbody>\n</table>\n<p>1464 rows × 10 columns</p>\n</div>"
     },
     "metadata": {},
     "execution_count": 16
    }
   ],
   "source": [
    "date = '2014-01-01'\n",
    "\n",
    "activity = Activity_Agent(df)\n",
    "X_train = activity.get_Xtrain(df, date, start=-9999)\n",
    "X_train"
   ]
  },
  {
   "cell_type": "markdown",
   "metadata": {
    "id": "QzgBu1-uOMwr"
   },
   "source": [
    "**y_train**"
   ]
  },
  {
   "cell_type": "code",
   "execution_count": 17,
   "metadata": {
    "executionInfo": {
     "elapsed": 108973,
     "status": "ok",
     "timestamp": 1607622505606,
     "user": {
      "displayName": "Leon H",
      "photoUrl": "",
      "userId": "10150017554198726068"
     },
     "user_tz": -60
    },
    "id": "4w-fM1QROPQG"
   },
   "outputs": [],
   "source": [
    "def get_ytrain(self, df, date, start='2013-11-01', target='activity'):\n",
    "    import pandas as pd\n",
    "\n",
    "    if type(start) == int:\n",
    "        start = pd.to_datetime(date) + pd.Timedelta(days= start)\n",
    "        start = pd.to_datetime('2013-11-01') if start < pd.to_datetime('2013-11-01') else start\n",
    "    else:\n",
    "        start = pd.to_datetime(start)\n",
    "    end = pd.to_datetime(date) + pd.Timedelta(seconds=-1)\n",
    "    return df.loc[start:end, target]\n",
    "\n",
    "# add to Activity agent\n",
    "setattr(Activity_Agent, 'get_ytrain', get_ytrain)\n",
    "del get_ytrain"
   ]
  },
  {
   "cell_type": "code",
   "execution_count": 20,
   "metadata": {
    "colab": {
     "base_uri": "https://localhost:8080/"
    },
    "executionInfo": {
     "elapsed": 108945,
     "status": "ok",
     "timestamp": 1607622505610,
     "user": {
      "displayName": "Leon H",
      "photoUrl": "",
      "userId": "10150017554198726068"
     },
     "user_tz": -60
    },
    "id": "GBUYXUVWPQN8",
    "outputId": "15e1dbc2-e965-4514-e046-712e56a847fa"
   },
   "outputs": [
    {
     "output_type": "execute_result",
     "data": {
      "text/plain": [
       "Time\n",
       "2013-11-01 00:00:00    0\n",
       "2013-11-01 01:00:00    0\n",
       "2013-11-01 02:00:00    0\n",
       "2013-11-01 03:00:00    0\n",
       "2013-11-01 04:00:00    0\n",
       "                      ..\n",
       "2013-12-31 19:00:00    1\n",
       "2013-12-31 20:00:00    1\n",
       "2013-12-31 21:00:00    1\n",
       "2013-12-31 22:00:00    1\n",
       "2013-12-31 23:00:00    1\n",
       "Freq: 60T, Name: activity, Length: 1464, dtype: int64"
      ]
     },
     "metadata": {},
     "execution_count": 20
    }
   ],
   "source": [
    "date = '2014-01-01'\n",
    "activity = Activity_Agent(df)\n",
    "y_train = activity.get_ytrain(df, date)\n",
    "y_train"
   ]
  },
  {
   "cell_type": "code",
   "execution_count": 18,
   "metadata": {
    "colab": {
     "base_uri": "https://localhost:8080/"
    },
    "executionInfo": {
     "elapsed": 108915,
     "status": "ok",
     "timestamp": 1607622505612,
     "user": {
      "displayName": "Leon H",
      "photoUrl": "",
      "userId": "10150017554198726068"
     },
     "user_tz": -60
    },
    "id": "P-FYucXjNkuO",
    "outputId": "54b8125f-6252-4462-dff3-7e00418cdece"
   },
   "outputs": [
    {
     "output_type": "execute_result",
     "data": {
      "text/plain": [
       "Time\n",
       "2013-12-31 00:00:00    0\n",
       "2013-12-31 01:00:00    1\n",
       "2013-12-31 02:00:00    1\n",
       "2013-12-31 03:00:00    1\n",
       "2013-12-31 04:00:00    0\n",
       "2013-12-31 05:00:00    1\n",
       "2013-12-31 06:00:00    0\n",
       "2013-12-31 07:00:00    0\n",
       "2013-12-31 08:00:00    0\n",
       "2013-12-31 09:00:00    0\n",
       "2013-12-31 10:00:00    0\n",
       "2013-12-31 11:00:00    0\n",
       "2013-12-31 12:00:00    1\n",
       "2013-12-31 13:00:00    1\n",
       "2013-12-31 14:00:00    1\n",
       "2013-12-31 15:00:00    1\n",
       "2013-12-31 16:00:00    1\n",
       "2013-12-31 17:00:00    1\n",
       "2013-12-31 18:00:00    1\n",
       "2013-12-31 19:00:00    1\n",
       "2013-12-31 20:00:00    1\n",
       "2013-12-31 21:00:00    1\n",
       "2013-12-31 22:00:00    1\n",
       "2013-12-31 23:00:00    1\n",
       "Freq: 60T, Name: activity, dtype: int64"
      ]
     },
     "metadata": {},
     "execution_count": 18
    }
   ],
   "source": [
    "date = '2014-01-01'\n",
    "activity = Activity_Agent(df)\n",
    "y_train = activity.get_ytrain(df, date, start=-1)\n",
    "y_train"
   ]
  },
  {
   "cell_type": "code",
   "execution_count": 22,
   "metadata": {
    "colab": {
     "base_uri": "https://localhost:8080/"
    },
    "executionInfo": {
     "elapsed": 108882,
     "status": "ok",
     "timestamp": 1607622505615,
     "user": {
      "displayName": "Leon H",
      "photoUrl": "",
      "userId": "10150017554198726068"
     },
     "user_tz": -60
    },
    "id": "nuw4b9xmNpdy",
    "outputId": "d5a00b32-7a89-4919-8d5d-3e2e162de5e0"
   },
   "outputs": [
    {
     "output_type": "execute_result",
     "data": {
      "text/plain": [
       "Time\n",
       "2013-12-22 00:00:00    1\n",
       "2013-12-22 01:00:00    0\n",
       "2013-12-22 02:00:00    1\n",
       "2013-12-22 03:00:00    0\n",
       "2013-12-22 04:00:00    1\n",
       "                      ..\n",
       "2013-12-31 19:00:00    1\n",
       "2013-12-31 20:00:00    1\n",
       "2013-12-31 21:00:00    1\n",
       "2013-12-31 22:00:00    1\n",
       "2013-12-31 23:00:00    1\n",
       "Freq: 60T, Name: activity, Length: 240, dtype: int64"
      ]
     },
     "metadata": {},
     "execution_count": 22
    }
   ],
   "source": [
    "date = '2014-01-01'\n",
    "activity = Activity_Agent(df)\n",
    "y_train = activity.get_ytrain(df, date, start=-10)\n",
    "y_train"
   ]
  },
  {
   "cell_type": "code",
   "execution_count": 24,
   "metadata": {
    "colab": {
     "base_uri": "https://localhost:8080/"
    },
    "executionInfo": {
     "elapsed": 108853,
     "status": "ok",
     "timestamp": 1607622505617,
     "user": {
      "displayName": "Leon H",
      "photoUrl": "",
      "userId": "10150017554198726068"
     },
     "user_tz": -60
    },
    "id": "TPc02_ZqNrle",
    "outputId": "23b0cc37-c72e-4590-bd0c-4933e6f2131e"
   },
   "outputs": [
    {
     "output_type": "execute_result",
     "data": {
      "text/plain": [
       "Time\n",
       "2013-11-01 00:00:00    0\n",
       "2013-11-01 01:00:00    0\n",
       "2013-11-01 02:00:00    0\n",
       "2013-11-01 03:00:00    0\n",
       "2013-11-01 04:00:00    0\n",
       "                      ..\n",
       "2013-12-31 19:00:00    1\n",
       "2013-12-31 20:00:00    1\n",
       "2013-12-31 21:00:00    1\n",
       "2013-12-31 22:00:00    1\n",
       "2013-12-31 23:00:00    1\n",
       "Freq: 60T, Name: activity, Length: 1464, dtype: int64"
      ]
     },
     "metadata": {},
     "execution_count": 24
    }
   ],
   "source": [
    "date = '2014-01-01'\n",
    "activity = Activity_Agent(df)\n",
    "y_train = activity.get_ytrain(df, date, start=-9999)\n",
    "y_train"
   ]
  },
  {
   "cell_type": "markdown",
   "metadata": {
    "id": "R0gr74BrNwvM"
   },
   "source": [
    "**train_test_split**"
   ]
  },
  {
   "cell_type": "code",
   "execution_count": 19,
   "metadata": {
    "executionInfo": {
     "elapsed": 108852,
     "status": "ok",
     "timestamp": 1607622505620,
     "user": {
      "displayName": "Leon H",
      "photoUrl": "",
      "userId": "10150017554198726068"
     },
     "user_tz": -60
    },
    "id": "8V4jjdT7T8vF"
   },
   "outputs": [],
   "source": [
    "def train_test_split(self, df, date, train_start='2013-11-01', test_delta='all', target='activity'):\n",
    "    X_train = self.get_Xtrain(df, date, start=train_start, target=target)\n",
    "    y_train = self.get_ytrain(df, date, start=train_start, target=target)\n",
    "    X_test = self.get_Xtest(df, date, time_delta=test_delta, target=target)\n",
    "    y_test = self.get_ytest(df, date, time_delta=test_delta, target=target)\n",
    "    return X_train, y_train, X_test, y_test\n",
    "\n",
    "# add to Activity agent\n",
    "setattr(Activity_Agent, 'train_test_split', train_test_split)\n",
    "del train_test_split    "
   ]
  },
  {
   "cell_type": "code",
   "execution_count": 20,
   "metadata": {
    "colab": {
     "base_uri": "https://localhost:8080/"
    },
    "executionInfo": {
     "elapsed": 108820,
     "status": "ok",
     "timestamp": 1607622505621,
     "user": {
      "displayName": "Leon H",
      "photoUrl": "",
      "userId": "10150017554198726068"
     },
     "user_tz": -60
    },
    "id": "U0_zEuR9Pnuv",
    "outputId": "68d3365a-8d0b-494e-8e15-82df5e6aa1ca"
   },
   "outputs": [
    {
     "output_type": "execute_result",
     "data": {
      "text/plain": [
       "((15335, 11), (1464, 10), (1464,), (13332, 10), (13332,))"
      ]
     },
     "metadata": {},
     "execution_count": 20
    }
   ],
   "source": [
    "date = '2014-01-01'\n",
    "activity = Activity_Agent(df)\n",
    "X_train, y_train, X_test, y_test = activity.train_test_split(df, date)\n",
    "df.shape, X_train.shape, y_train.shape, X_test.shape, y_test.shape"
   ]
  },
  {
   "cell_type": "code",
   "execution_count": 21,
   "metadata": {
    "colab": {
     "base_uri": "https://localhost:8080/"
    },
    "executionInfo": {
     "elapsed": 108787,
     "status": "ok",
     "timestamp": 1607622505622,
     "user": {
      "displayName": "Leon H",
      "photoUrl": "",
      "userId": "10150017554198726068"
     },
     "user_tz": -60
    },
    "id": "L6dQ4jJEP6s6",
    "outputId": "963bbf31-8007-4584-a06d-5f685c88b5f1"
   },
   "outputs": [
    {
     "output_type": "execute_result",
     "data": {
      "text/plain": [
       "((15335, 11), (240, 10), (240,), (240, 10), (240,))"
      ]
     },
     "metadata": {},
     "execution_count": 21
    }
   ],
   "source": [
    "date = '2014-01-01'\n",
    "activity = Activity_Agent(df)\n",
    "X_train, y_train, X_test, y_test = activity.train_test_split(df, date, train_start=-10, test_delta={'days': 10, 'seconds':-1})\n",
    "df.shape, X_train.shape, y_train.shape, X_test.shape, y_test.shape"
   ]
  },
  {
   "cell_type": "code",
   "execution_count": 22,
   "metadata": {
    "colab": {
     "base_uri": "https://localhost:8080/"
    },
    "executionInfo": {
     "elapsed": 108755,
     "status": "ok",
     "timestamp": 1607622505623,
     "user": {
      "displayName": "Leon H",
      "photoUrl": "",
      "userId": "10150017554198726068"
     },
     "user_tz": -60
    },
    "id": "MjMgWUCmRwoY",
    "outputId": "3cf063e8-38e2-4df8-833e-3860feeeff73"
   },
   "outputs": [
    {
     "output_type": "execute_result",
     "data": {
      "text/plain": [
       "((15335, 11), (1464, 10), (1464,), (24, 10), (24,))"
      ]
     },
     "metadata": {},
     "execution_count": 22
    }
   ],
   "source": [
    "date = '2014-01-01'\n",
    "activity = Activity_Agent(df)\n",
    "X_train, y_train, X_test, y_test = activity.train_test_split(df, date, test_delta={'days': 1, 'seconds':-1})\n",
    "df.shape, X_train.shape, y_train.shape, X_test.shape, y_test.shape"
   ]
  },
  {
   "cell_type": "code",
   "execution_count": 45,
   "metadata": {
    "colab": {
     "base_uri": "https://localhost:8080/",
     "height": 810
    },
    "executionInfo": {
     "elapsed": 108722,
     "status": "ok",
     "timestamp": 1607622505628,
     "user": {
      "displayName": "Leon H",
      "photoUrl": "",
      "userId": "10150017554198726068"
     },
     "user_tz": -60
    },
    "id": "1vqbvdYkQuc1",
    "outputId": "66d7e32e-df72-4b59-f397-ee1fa50cd5a4"
   },
   "outputs": [
    {
     "output_type": "execute_result",
     "data": {
      "text/plain": [
       "                     hour  activity_lag_24  activity_lag_48  activity_lag_72  \\\n",
       "Time                                                                           \n",
       "2013-11-01 00:00:00     0              1.0              0.0              0.0   \n",
       "2013-11-01 01:00:00     1              1.0              1.0              0.0   \n",
       "2013-11-01 02:00:00     2              0.0              0.0              1.0   \n",
       "2013-11-01 03:00:00     3              0.0              0.0              1.0   \n",
       "2013-11-01 04:00:00     4              1.0              0.0              0.0   \n",
       "...                   ...              ...              ...              ...   \n",
       "2013-12-31 19:00:00    19              1.0              1.0              1.0   \n",
       "2013-12-31 20:00:00    20              1.0              1.0              1.0   \n",
       "2013-12-31 21:00:00    21              1.0              1.0              0.0   \n",
       "2013-12-31 22:00:00    22              1.0              1.0              1.0   \n",
       "2013-12-31 23:00:00    23              1.0              1.0              1.0   \n",
       "\n",
       "                     day_name_Monday  day_name_Saturday  day_name_Sunday  \\\n",
       "Time                                                                       \n",
       "2013-11-01 00:00:00                0                  0                0   \n",
       "2013-11-01 01:00:00                0                  0                0   \n",
       "2013-11-01 02:00:00                0                  0                0   \n",
       "2013-11-01 03:00:00                0                  0                0   \n",
       "2013-11-01 04:00:00                0                  0                0   \n",
       "...                              ...                ...              ...   \n",
       "2013-12-31 19:00:00                0                  0                0   \n",
       "2013-12-31 20:00:00                0                  0                0   \n",
       "2013-12-31 21:00:00                0                  0                0   \n",
       "2013-12-31 22:00:00                0                  0                0   \n",
       "2013-12-31 23:00:00                0                  0                0   \n",
       "\n",
       "                     day_name_Thursday  day_name_Tuesday  day_name_Wednesday  \n",
       "Time                                                                          \n",
       "2013-11-01 00:00:00                  0                 0                   0  \n",
       "2013-11-01 01:00:00                  0                 0                   0  \n",
       "2013-11-01 02:00:00                  0                 0                   0  \n",
       "2013-11-01 03:00:00                  0                 0                   0  \n",
       "2013-11-01 04:00:00                  0                 0                   0  \n",
       "...                                ...               ...                 ...  \n",
       "2013-12-31 19:00:00                  0                 1                   0  \n",
       "2013-12-31 20:00:00                  0                 1                   0  \n",
       "2013-12-31 21:00:00                  0                 1                   0  \n",
       "2013-12-31 22:00:00                  0                 1                   0  \n",
       "2013-12-31 23:00:00                  0                 1                   0  \n",
       "\n",
       "[1464 rows x 10 columns]"
      ],
      "text/html": "<div>\n<style scoped>\n    .dataframe tbody tr th:only-of-type {\n        vertical-align: middle;\n    }\n\n    .dataframe tbody tr th {\n        vertical-align: top;\n    }\n\n    .dataframe thead th {\n        text-align: right;\n    }\n</style>\n<table border=\"1\" class=\"dataframe\">\n  <thead>\n    <tr style=\"text-align: right;\">\n      <th></th>\n      <th>hour</th>\n      <th>activity_lag_24</th>\n      <th>activity_lag_48</th>\n      <th>activity_lag_72</th>\n      <th>day_name_Monday</th>\n      <th>day_name_Saturday</th>\n      <th>day_name_Sunday</th>\n      <th>day_name_Thursday</th>\n      <th>day_name_Tuesday</th>\n      <th>day_name_Wednesday</th>\n    </tr>\n    <tr>\n      <th>Time</th>\n      <th></th>\n      <th></th>\n      <th></th>\n      <th></th>\n      <th></th>\n      <th></th>\n      <th></th>\n      <th></th>\n      <th></th>\n      <th></th>\n    </tr>\n  </thead>\n  <tbody>\n    <tr>\n      <th>2013-11-01 00:00:00</th>\n      <td>0</td>\n      <td>1.0</td>\n      <td>0.0</td>\n      <td>0.0</td>\n      <td>0</td>\n      <td>0</td>\n      <td>0</td>\n      <td>0</td>\n      <td>0</td>\n      <td>0</td>\n    </tr>\n    <tr>\n      <th>2013-11-01 01:00:00</th>\n      <td>1</td>\n      <td>1.0</td>\n      <td>1.0</td>\n      <td>0.0</td>\n      <td>0</td>\n      <td>0</td>\n      <td>0</td>\n      <td>0</td>\n      <td>0</td>\n      <td>0</td>\n    </tr>\n    <tr>\n      <th>2013-11-01 02:00:00</th>\n      <td>2</td>\n      <td>0.0</td>\n      <td>0.0</td>\n      <td>1.0</td>\n      <td>0</td>\n      <td>0</td>\n      <td>0</td>\n      <td>0</td>\n      <td>0</td>\n      <td>0</td>\n    </tr>\n    <tr>\n      <th>2013-11-01 03:00:00</th>\n      <td>3</td>\n      <td>0.0</td>\n      <td>0.0</td>\n      <td>1.0</td>\n      <td>0</td>\n      <td>0</td>\n      <td>0</td>\n      <td>0</td>\n      <td>0</td>\n      <td>0</td>\n    </tr>\n    <tr>\n      <th>2013-11-01 04:00:00</th>\n      <td>4</td>\n      <td>1.0</td>\n      <td>0.0</td>\n      <td>0.0</td>\n      <td>0</td>\n      <td>0</td>\n      <td>0</td>\n      <td>0</td>\n      <td>0</td>\n      <td>0</td>\n    </tr>\n    <tr>\n      <th>...</th>\n      <td>...</td>\n      <td>...</td>\n      <td>...</td>\n      <td>...</td>\n      <td>...</td>\n      <td>...</td>\n      <td>...</td>\n      <td>...</td>\n      <td>...</td>\n      <td>...</td>\n    </tr>\n    <tr>\n      <th>2013-12-31 19:00:00</th>\n      <td>19</td>\n      <td>1.0</td>\n      <td>1.0</td>\n      <td>1.0</td>\n      <td>0</td>\n      <td>0</td>\n      <td>0</td>\n      <td>0</td>\n      <td>1</td>\n      <td>0</td>\n    </tr>\n    <tr>\n      <th>2013-12-31 20:00:00</th>\n      <td>20</td>\n      <td>1.0</td>\n      <td>1.0</td>\n      <td>1.0</td>\n      <td>0</td>\n      <td>0</td>\n      <td>0</td>\n      <td>0</td>\n      <td>1</td>\n      <td>0</td>\n    </tr>\n    <tr>\n      <th>2013-12-31 21:00:00</th>\n      <td>21</td>\n      <td>1.0</td>\n      <td>1.0</td>\n      <td>0.0</td>\n      <td>0</td>\n      <td>0</td>\n      <td>0</td>\n      <td>0</td>\n      <td>1</td>\n      <td>0</td>\n    </tr>\n    <tr>\n      <th>2013-12-31 22:00:00</th>\n      <td>22</td>\n      <td>1.0</td>\n      <td>1.0</td>\n      <td>1.0</td>\n      <td>0</td>\n      <td>0</td>\n      <td>0</td>\n      <td>0</td>\n      <td>1</td>\n      <td>0</td>\n    </tr>\n    <tr>\n      <th>2013-12-31 23:00:00</th>\n      <td>23</td>\n      <td>1.0</td>\n      <td>1.0</td>\n      <td>1.0</td>\n      <td>0</td>\n      <td>0</td>\n      <td>0</td>\n      <td>0</td>\n      <td>1</td>\n      <td>0</td>\n    </tr>\n  </tbody>\n</table>\n<p>1464 rows × 10 columns</p>\n</div>"
     },
     "metadata": {},
     "execution_count": 45
    }
   ],
   "source": [
    "X_train"
   ]
  },
  {
   "cell_type": "code",
   "execution_count": 46,
   "metadata": {
    "colab": {
     "base_uri": "https://localhost:8080/",
     "height": 1000
    },
    "executionInfo": {
     "elapsed": 108677,
     "status": "ok",
     "timestamp": 1607622505632,
     "user": {
      "displayName": "Leon H",
      "photoUrl": "",
      "userId": "10150017554198726068"
     },
     "user_tz": -60
    },
    "id": "hUSNw2kFR7Vq",
    "outputId": "2b1599ad-ac5a-4fa8-f6a0-1517631df499"
   },
   "outputs": [
    {
     "output_type": "execute_result",
     "data": {
      "text/plain": [
       "                     hour  activity_lag_24  activity_lag_48  activity_lag_72  \\\n",
       "Time                                                                           \n",
       "2014-01-01 00:00:00     0              0.0              1.0              1.0   \n",
       "2014-01-01 01:00:00     1              1.0              1.0              0.0   \n",
       "2014-01-01 02:00:00     2              1.0              0.0              1.0   \n",
       "2014-01-01 03:00:00     3              1.0              0.0              0.0   \n",
       "2014-01-01 04:00:00     4              0.0              1.0              0.0   \n",
       "2014-01-01 05:00:00     5              1.0              0.0              0.0   \n",
       "2014-01-01 06:00:00     6              0.0              0.0              0.0   \n",
       "2014-01-01 07:00:00     7              0.0              1.0              0.0   \n",
       "2014-01-01 08:00:00     8              0.0              1.0              0.0   \n",
       "2014-01-01 09:00:00     9              0.0              0.0              0.0   \n",
       "2014-01-01 10:00:00    10              0.0              1.0              0.0   \n",
       "2014-01-01 11:00:00    11              0.0              0.0              0.0   \n",
       "2014-01-01 12:00:00    12              1.0              0.0              1.0   \n",
       "2014-01-01 13:00:00    13              1.0              0.0              1.0   \n",
       "2014-01-01 14:00:00    14              1.0              0.0              1.0   \n",
       "2014-01-01 15:00:00    15              1.0              0.0              1.0   \n",
       "2014-01-01 16:00:00    16              1.0              1.0              1.0   \n",
       "2014-01-01 17:00:00    17              1.0              1.0              1.0   \n",
       "2014-01-01 18:00:00    18              1.0              1.0              0.0   \n",
       "2014-01-01 19:00:00    19              1.0              1.0              1.0   \n",
       "2014-01-01 20:00:00    20              1.0              1.0              1.0   \n",
       "2014-01-01 21:00:00    21              1.0              1.0              1.0   \n",
       "2014-01-01 22:00:00    22              1.0              1.0              1.0   \n",
       "2014-01-01 23:00:00    23              1.0              1.0              1.0   \n",
       "\n",
       "                     day_name_Monday  day_name_Saturday  day_name_Sunday  \\\n",
       "Time                                                                       \n",
       "2014-01-01 00:00:00                0                  0                0   \n",
       "2014-01-01 01:00:00                0                  0                0   \n",
       "2014-01-01 02:00:00                0                  0                0   \n",
       "2014-01-01 03:00:00                0                  0                0   \n",
       "2014-01-01 04:00:00                0                  0                0   \n",
       "2014-01-01 05:00:00                0                  0                0   \n",
       "2014-01-01 06:00:00                0                  0                0   \n",
       "2014-01-01 07:00:00                0                  0                0   \n",
       "2014-01-01 08:00:00                0                  0                0   \n",
       "2014-01-01 09:00:00                0                  0                0   \n",
       "2014-01-01 10:00:00                0                  0                0   \n",
       "2014-01-01 11:00:00                0                  0                0   \n",
       "2014-01-01 12:00:00                0                  0                0   \n",
       "2014-01-01 13:00:00                0                  0                0   \n",
       "2014-01-01 14:00:00                0                  0                0   \n",
       "2014-01-01 15:00:00                0                  0                0   \n",
       "2014-01-01 16:00:00                0                  0                0   \n",
       "2014-01-01 17:00:00                0                  0                0   \n",
       "2014-01-01 18:00:00                0                  0                0   \n",
       "2014-01-01 19:00:00                0                  0                0   \n",
       "2014-01-01 20:00:00                0                  0                0   \n",
       "2014-01-01 21:00:00                0                  0                0   \n",
       "2014-01-01 22:00:00                0                  0                0   \n",
       "2014-01-01 23:00:00                0                  0                0   \n",
       "\n",
       "                     day_name_Thursday  day_name_Tuesday  day_name_Wednesday  \n",
       "Time                                                                          \n",
       "2014-01-01 00:00:00                  0                 0                   1  \n",
       "2014-01-01 01:00:00                  0                 0                   1  \n",
       "2014-01-01 02:00:00                  0                 0                   1  \n",
       "2014-01-01 03:00:00                  0                 0                   1  \n",
       "2014-01-01 04:00:00                  0                 0                   1  \n",
       "2014-01-01 05:00:00                  0                 0                   1  \n",
       "2014-01-01 06:00:00                  0                 0                   1  \n",
       "2014-01-01 07:00:00                  0                 0                   1  \n",
       "2014-01-01 08:00:00                  0                 0                   1  \n",
       "2014-01-01 09:00:00                  0                 0                   1  \n",
       "2014-01-01 10:00:00                  0                 0                   1  \n",
       "2014-01-01 11:00:00                  0                 0                   1  \n",
       "2014-01-01 12:00:00                  0                 0                   1  \n",
       "2014-01-01 13:00:00                  0                 0                   1  \n",
       "2014-01-01 14:00:00                  0                 0                   1  \n",
       "2014-01-01 15:00:00                  0                 0                   1  \n",
       "2014-01-01 16:00:00                  0                 0                   1  \n",
       "2014-01-01 17:00:00                  0                 0                   1  \n",
       "2014-01-01 18:00:00                  0                 0                   1  \n",
       "2014-01-01 19:00:00                  0                 0                   1  \n",
       "2014-01-01 20:00:00                  0                 0                   1  \n",
       "2014-01-01 21:00:00                  0                 0                   1  \n",
       "2014-01-01 22:00:00                  0                 0                   1  \n",
       "2014-01-01 23:00:00                  0                 0                   1  "
      ],
      "text/html": "<div>\n<style scoped>\n    .dataframe tbody tr th:only-of-type {\n        vertical-align: middle;\n    }\n\n    .dataframe tbody tr th {\n        vertical-align: top;\n    }\n\n    .dataframe thead th {\n        text-align: right;\n    }\n</style>\n<table border=\"1\" class=\"dataframe\">\n  <thead>\n    <tr style=\"text-align: right;\">\n      <th></th>\n      <th>hour</th>\n      <th>activity_lag_24</th>\n      <th>activity_lag_48</th>\n      <th>activity_lag_72</th>\n      <th>day_name_Monday</th>\n      <th>day_name_Saturday</th>\n      <th>day_name_Sunday</th>\n      <th>day_name_Thursday</th>\n      <th>day_name_Tuesday</th>\n      <th>day_name_Wednesday</th>\n    </tr>\n    <tr>\n      <th>Time</th>\n      <th></th>\n      <th></th>\n      <th></th>\n      <th></th>\n      <th></th>\n      <th></th>\n      <th></th>\n      <th></th>\n      <th></th>\n      <th></th>\n    </tr>\n  </thead>\n  <tbody>\n    <tr>\n      <th>2014-01-01 00:00:00</th>\n      <td>0</td>\n      <td>0.0</td>\n      <td>1.0</td>\n      <td>1.0</td>\n      <td>0</td>\n      <td>0</td>\n      <td>0</td>\n      <td>0</td>\n      <td>0</td>\n      <td>1</td>\n    </tr>\n    <tr>\n      <th>2014-01-01 01:00:00</th>\n      <td>1</td>\n      <td>1.0</td>\n      <td>1.0</td>\n      <td>0.0</td>\n      <td>0</td>\n      <td>0</td>\n      <td>0</td>\n      <td>0</td>\n      <td>0</td>\n      <td>1</td>\n    </tr>\n    <tr>\n      <th>2014-01-01 02:00:00</th>\n      <td>2</td>\n      <td>1.0</td>\n      <td>0.0</td>\n      <td>1.0</td>\n      <td>0</td>\n      <td>0</td>\n      <td>0</td>\n      <td>0</td>\n      <td>0</td>\n      <td>1</td>\n    </tr>\n    <tr>\n      <th>2014-01-01 03:00:00</th>\n      <td>3</td>\n      <td>1.0</td>\n      <td>0.0</td>\n      <td>0.0</td>\n      <td>0</td>\n      <td>0</td>\n      <td>0</td>\n      <td>0</td>\n      <td>0</td>\n      <td>1</td>\n    </tr>\n    <tr>\n      <th>2014-01-01 04:00:00</th>\n      <td>4</td>\n      <td>0.0</td>\n      <td>1.0</td>\n      <td>0.0</td>\n      <td>0</td>\n      <td>0</td>\n      <td>0</td>\n      <td>0</td>\n      <td>0</td>\n      <td>1</td>\n    </tr>\n    <tr>\n      <th>2014-01-01 05:00:00</th>\n      <td>5</td>\n      <td>1.0</td>\n      <td>0.0</td>\n      <td>0.0</td>\n      <td>0</td>\n      <td>0</td>\n      <td>0</td>\n      <td>0</td>\n      <td>0</td>\n      <td>1</td>\n    </tr>\n    <tr>\n      <th>2014-01-01 06:00:00</th>\n      <td>6</td>\n      <td>0.0</td>\n      <td>0.0</td>\n      <td>0.0</td>\n      <td>0</td>\n      <td>0</td>\n      <td>0</td>\n      <td>0</td>\n      <td>0</td>\n      <td>1</td>\n    </tr>\n    <tr>\n      <th>2014-01-01 07:00:00</th>\n      <td>7</td>\n      <td>0.0</td>\n      <td>1.0</td>\n      <td>0.0</td>\n      <td>0</td>\n      <td>0</td>\n      <td>0</td>\n      <td>0</td>\n      <td>0</td>\n      <td>1</td>\n    </tr>\n    <tr>\n      <th>2014-01-01 08:00:00</th>\n      <td>8</td>\n      <td>0.0</td>\n      <td>1.0</td>\n      <td>0.0</td>\n      <td>0</td>\n      <td>0</td>\n      <td>0</td>\n      <td>0</td>\n      <td>0</td>\n      <td>1</td>\n    </tr>\n    <tr>\n      <th>2014-01-01 09:00:00</th>\n      <td>9</td>\n      <td>0.0</td>\n      <td>0.0</td>\n      <td>0.0</td>\n      <td>0</td>\n      <td>0</td>\n      <td>0</td>\n      <td>0</td>\n      <td>0</td>\n      <td>1</td>\n    </tr>\n    <tr>\n      <th>2014-01-01 10:00:00</th>\n      <td>10</td>\n      <td>0.0</td>\n      <td>1.0</td>\n      <td>0.0</td>\n      <td>0</td>\n      <td>0</td>\n      <td>0</td>\n      <td>0</td>\n      <td>0</td>\n      <td>1</td>\n    </tr>\n    <tr>\n      <th>2014-01-01 11:00:00</th>\n      <td>11</td>\n      <td>0.0</td>\n      <td>0.0</td>\n      <td>0.0</td>\n      <td>0</td>\n      <td>0</td>\n      <td>0</td>\n      <td>0</td>\n      <td>0</td>\n      <td>1</td>\n    </tr>\n    <tr>\n      <th>2014-01-01 12:00:00</th>\n      <td>12</td>\n      <td>1.0</td>\n      <td>0.0</td>\n      <td>1.0</td>\n      <td>0</td>\n      <td>0</td>\n      <td>0</td>\n      <td>0</td>\n      <td>0</td>\n      <td>1</td>\n    </tr>\n    <tr>\n      <th>2014-01-01 13:00:00</th>\n      <td>13</td>\n      <td>1.0</td>\n      <td>0.0</td>\n      <td>1.0</td>\n      <td>0</td>\n      <td>0</td>\n      <td>0</td>\n      <td>0</td>\n      <td>0</td>\n      <td>1</td>\n    </tr>\n    <tr>\n      <th>2014-01-01 14:00:00</th>\n      <td>14</td>\n      <td>1.0</td>\n      <td>0.0</td>\n      <td>1.0</td>\n      <td>0</td>\n      <td>0</td>\n      <td>0</td>\n      <td>0</td>\n      <td>0</td>\n      <td>1</td>\n    </tr>\n    <tr>\n      <th>2014-01-01 15:00:00</th>\n      <td>15</td>\n      <td>1.0</td>\n      <td>0.0</td>\n      <td>1.0</td>\n      <td>0</td>\n      <td>0</td>\n      <td>0</td>\n      <td>0</td>\n      <td>0</td>\n      <td>1</td>\n    </tr>\n    <tr>\n      <th>2014-01-01 16:00:00</th>\n      <td>16</td>\n      <td>1.0</td>\n      <td>1.0</td>\n      <td>1.0</td>\n      <td>0</td>\n      <td>0</td>\n      <td>0</td>\n      <td>0</td>\n      <td>0</td>\n      <td>1</td>\n    </tr>\n    <tr>\n      <th>2014-01-01 17:00:00</th>\n      <td>17</td>\n      <td>1.0</td>\n      <td>1.0</td>\n      <td>1.0</td>\n      <td>0</td>\n      <td>0</td>\n      <td>0</td>\n      <td>0</td>\n      <td>0</td>\n      <td>1</td>\n    </tr>\n    <tr>\n      <th>2014-01-01 18:00:00</th>\n      <td>18</td>\n      <td>1.0</td>\n      <td>1.0</td>\n      <td>0.0</td>\n      <td>0</td>\n      <td>0</td>\n      <td>0</td>\n      <td>0</td>\n      <td>0</td>\n      <td>1</td>\n    </tr>\n    <tr>\n      <th>2014-01-01 19:00:00</th>\n      <td>19</td>\n      <td>1.0</td>\n      <td>1.0</td>\n      <td>1.0</td>\n      <td>0</td>\n      <td>0</td>\n      <td>0</td>\n      <td>0</td>\n      <td>0</td>\n      <td>1</td>\n    </tr>\n    <tr>\n      <th>2014-01-01 20:00:00</th>\n      <td>20</td>\n      <td>1.0</td>\n      <td>1.0</td>\n      <td>1.0</td>\n      <td>0</td>\n      <td>0</td>\n      <td>0</td>\n      <td>0</td>\n      <td>0</td>\n      <td>1</td>\n    </tr>\n    <tr>\n      <th>2014-01-01 21:00:00</th>\n      <td>21</td>\n      <td>1.0</td>\n      <td>1.0</td>\n      <td>1.0</td>\n      <td>0</td>\n      <td>0</td>\n      <td>0</td>\n      <td>0</td>\n      <td>0</td>\n      <td>1</td>\n    </tr>\n    <tr>\n      <th>2014-01-01 22:00:00</th>\n      <td>22</td>\n      <td>1.0</td>\n      <td>1.0</td>\n      <td>1.0</td>\n      <td>0</td>\n      <td>0</td>\n      <td>0</td>\n      <td>0</td>\n      <td>0</td>\n      <td>1</td>\n    </tr>\n    <tr>\n      <th>2014-01-01 23:00:00</th>\n      <td>23</td>\n      <td>1.0</td>\n      <td>1.0</td>\n      <td>1.0</td>\n      <td>0</td>\n      <td>0</td>\n      <td>0</td>\n      <td>0</td>\n      <td>0</td>\n      <td>1</td>\n    </tr>\n  </tbody>\n</table>\n</div>"
     },
     "metadata": {},
     "execution_count": 46
    }
   ],
   "source": [
    "X_test"
   ]
  },
  {
   "cell_type": "code",
   "execution_count": null,
   "metadata": {
    "colab": {
     "base_uri": "https://localhost:8080/"
    },
    "executionInfo": {
     "elapsed": 108623,
     "status": "ok",
     "timestamp": 1607622505637,
     "user": {
      "displayName": "Leon H",
      "photoUrl": "",
      "userId": "10150017554198726068"
     },
     "user_tz": -60
    },
    "id": "NzucRWLPR-se",
    "outputId": "e636f0bd-dbb0-4ff5-b05a-a3ada56c130f"
   },
   "outputs": [],
   "source": [
    "y_test"
   ]
  },
  {
   "cell_type": "markdown",
   "metadata": {
    "id": "oFin5DzZSe4m"
   },
   "source": [
    "### **2.2 Building Models**\n",
    "\n",
    "Within this section, we will demonstrate how different models for predicting the user activity could be added to the activity agent. For this notebook, we chose to implement a pretty simple logistic regression using the statsmodel api which already provides promising results. \n",
    "\n",
    "The functionality of the activity agent will include building models, fitting models and predicting the user’s activity.\n"
   ]
  },
  {
   "cell_type": "code",
   "execution_count": 29,
   "metadata": {},
   "outputs": [],
   "source": [
    "def fit_Logit(self, X, y):\n",
    "    return LogisticRegression(random_state=0).fit(X, y)\n",
    "\n",
    "\n",
    "# Other ML Models \n",
    "# ---------------------------------------------------------------------------------------------\n",
    "\n",
    "def fit_knn(self, X, y):\n",
    "    return KNeighborsClassifier(3).fit(X,y)\n",
    "\n",
    "def fit_random_forest(self, X,y):\n",
    "    return RandomForestClassifier(max_depth=5, n_estimators=240, max_features=1).fit(X,y)\n",
    "\n",
    "def fit_ADA(self,X,y):\n",
    "    return  AdaBoostClassifier().fit(X,y)\n",
    "def fit_XGB(self, X,y):\n",
    "    return xgb.XGBClassifier().fit(X,y)\n",
    "\n",
    "# add to Activity agent\n",
    "setattr(Activity_Agent, 'fit_Logit', fit_Logit)\n",
    "del fit_Logit \n",
    "\n",
    "setattr(Activity_Agent, 'fit_knn', fit_knn)\n",
    "del fit_knn    \n",
    "\n",
    "setattr(Activity_Agent, 'fit_random_forest', fit_random_forest)\n",
    "del fit_random_forest  \n",
    "\n",
    "setattr(Activity_Agent, 'fit_ADA', fit_ADA)\n",
    "del fit_ADA\n",
    "\n",
    "setattr(Activity_Agent, 'fit_XGB', fit_XGB)\n",
    "del fit_XGB\n",
    "  "
   ]
  },
  {
   "cell_type": "code",
   "execution_count": 30,
   "metadata": {
    "executionInfo": {
     "elapsed": 108619,
     "status": "ok",
     "timestamp": 1607622505640,
     "user": {
      "displayName": "Leon H",
      "photoUrl": "",
      "userId": "10150017554198726068"
     },
     "user_tz": -60
    },
    "id": "MEUtPWuqUby7"
   },
   "outputs": [],
   "source": [
    "def fit(self, X, y, model_type):\n",
    "    model = None\n",
    "    if model_type == \"logit\":\n",
    "        model = self.fit_smLogit(X, y)\n",
    "    elif model_type == \"ada\":\n",
    "        model = self.fit_ADA(X,y)\n",
    "    elif model_type == \"knn\":\n",
    "        model = self.fit_knn(X,y)\n",
    "    elif model_type == \"random forest\":\n",
    "        model = self.fit_random_forest(X,y)\n",
    "    elif model_type == \"xgboost\":\n",
    "        model = self.fit_XGB(X,y)\n",
    "    else:\n",
    "        raise InputError(\"Unknown model type.\")\n",
    "    return model\n",
    "\n",
    "\n",
    "# add to Activity agent\n",
    "setattr(Activity_Agent, 'fit', fit)\n",
    "del fit"
   ]
  },
  {
   "cell_type": "code",
   "execution_count": 61,
   "metadata": {},
   "outputs": [],
   "source": [
    "def predict(self, model, X):\n",
    "    import numpy as np\n",
    "    import pandas\n",
    "\n",
    "    index = X_test.index.values\n",
    "    if type(X) == pandas.core.series.Series:\n",
    "        X = pd.DataFrame(X).transpose() \n",
    "    else:\n",
    "        X=np.squeeze(np.asarray(X))     \n",
    "\n",
    "    if type(model) == sklearn.linear_model.LogisticRegression:\n",
    "        y_hat = model.predict(X)\n",
    "    elif type(model) == sklearn.neighbors._classification.KNeighborsClassifier:\n",
    "        y_hat = model.predict(X)\n",
    "    elif type(model) == sklearn.ensemble._forest.RandomForestClassifier:\n",
    "        y_hat = model.predict(X)\n",
    "    elif type(model) ==  sklearn.ensemble._weight_boosting.AdaBoostClassifier:\n",
    "        y_hat = model.predict(X)\n",
    "    elif type(model) == xgboost.sklearn.XGBClassifier:\n",
    "        y_hat = model.predict(X)\n",
    "    else:\n",
    "        raise InputError(\"Unknown model type.\")\n",
    "    y_hat = pd.Series(y_hat, index=index, name='Time')\n",
    "    return y_hat\n",
    "# add to Activity agent\n",
    "setattr(Activity_Agent, 'predict', predict)\n",
    "del predict"
   ]
  },
  {
   "cell_type": "code",
   "execution_count": 74,
   "metadata": {},
   "outputs": [
    {
     "output_type": "execute_result",
     "data": {
      "text/plain": [
       "Time\n",
       "2014-01-01 00:00:00    0\n",
       "2014-01-01 01:00:00    1\n",
       "2014-01-01 02:00:00    0\n",
       "2014-01-01 03:00:00    0\n",
       "2014-01-01 04:00:00    0\n",
       "2014-01-01 05:00:00    0\n",
       "2014-01-01 06:00:00    0\n",
       "2014-01-01 07:00:00    0\n",
       "2014-01-01 08:00:00    0\n",
       "2014-01-01 09:00:00    0\n",
       "2014-01-01 10:00:00    0\n",
       "2014-01-01 11:00:00    0\n",
       "2014-01-01 12:00:00    1\n",
       "2014-01-01 13:00:00    0\n",
       "2014-01-01 14:00:00    1\n",
       "2014-01-01 15:00:00    1\n",
       "2014-01-01 16:00:00    0\n",
       "2014-01-01 17:00:00    0\n",
       "2014-01-01 18:00:00    1\n",
       "2014-01-01 19:00:00    0\n",
       "2014-01-01 20:00:00    0\n",
       "2014-01-01 21:00:00    1\n",
       "2014-01-01 22:00:00    1\n",
       "2014-01-01 23:00:00    1\n",
       "Freq: 60T, Name: Time, dtype: int64"
      ]
     },
     "metadata": {},
     "execution_count": 74
    }
   ],
   "source": []
  },
  {
   "cell_type": "code",
   "execution_count": 71,
   "metadata": {},
   "outputs": [],
   "source": [
    "index = X_test.index"
   ]
  },
  {
   "cell_type": "code",
   "execution_count": 62,
   "metadata": {},
   "outputs": [
    {
     "output_type": "stream",
     "name": "stdout",
     "text": [
      "[17:28:27] WARNING: ../src/learner.cc:1095: Starting in XGBoost 1.3.0, the default evaluation metric used with the objective 'binary:logistic' was changed from 'error' to 'logloss'. Explicitly set eval_metric if you'd like to restore the old behavior.\n"
     ]
    }
   ],
   "source": [
    "# fit models\n",
    "model = activity.fit( X_train, y_train, 'xgboost')\n"
   ]
  },
  {
   "cell_type": "code",
   "execution_count": 63,
   "metadata": {},
   "outputs": [],
   "source": [
    "# predict\n",
    "y_hat = activity.predict(model, X_test)\n"
   ]
  },
  {
   "cell_type": "code",
   "execution_count": 64,
   "metadata": {
    "colab": {
     "base_uri": "https://localhost:8080/"
    },
    "executionInfo": {
     "elapsed": 108950,
     "status": "ok",
     "timestamp": 1607622506036,
     "user": {
      "displayName": "Leon H",
      "photoUrl": "",
      "userId": "10150017554198726068"
     },
     "user_tz": -60
    },
    "id": "CF1BdwjeX5Zl",
    "outputId": "cf3991e5-500d-4e26-e184-75b28f444b0e"
   },
   "outputs": [
    {
     "output_type": "execute_result",
     "data": {
      "text/plain": [
       "array([0, 1, 0, 0, 0, 0, 0, 0, 0, 0, 0, 0, 1, 0, 1, 1, 0, 0, 1, 0, 0, 1,\n",
       "       1, 1])"
      ]
     },
     "metadata": {},
     "execution_count": 64
    }
   ],
   "source": [
    "activity = Activity_Agent(df)\n",
    "y_hat = activity.predict(model, X_test)\n",
    "y_hat"
   ]
  },
  {
   "cell_type": "markdown",
   "metadata": {
    "id": "mEasRNILZOu3"
   },
   "source": [
    "### **2.3 Model Evaluation**\n",
    "\n",
    "A drawback to our approach is that we are not able to apply conventional model evaluation techniques to our model. We will train our model for each day to account for newly available information. Hence, we have different train and test sets for each day and for each day different performance metric based on the respective data sets. Therefore, we created our own evaluation function. \n",
    "\n",
    "Our evaluation function will build a model, fit the model and predict the target for each day for a given prediction period. For each day and fitted model it will calculate a performance metric on the train data. We chose the Area Under the Receiver Operating Characteristic Curve (AUC) as performance metric for our binary classification task. As in our case the test data is only the current date to be predicted (i.e. 24 data cases in the test data, one for each hour of the day), calculating the AUC on the test date immediately would lead to a high volatility in the test AUC per day to be predicted. Therefore, we calculate the test AUC over the activity probabilities of all days after all days have been predicted. To summarize the train AUC in one score, we apply an average over all calculated train AUC scores."
   ]
  },
  {
   "cell_type": "code",
   "execution_count": 39,
   "metadata": {
    "executionInfo": {
     "elapsed": 108948,
     "status": "ok",
     "timestamp": 1607622506037,
     "user": {
      "displayName": "Leon H",
      "photoUrl": "",
      "userId": "10150017554198726068"
     },
     "user_tz": -60
    },
    "id": "04O7bOvBZSEB"
   },
   "outputs": [],
   "source": [
    "def auc(self, y_true, y_hat):\n",
    "    import sklearn.metrics\n",
    "    return sklearn.metrics.roc_auc_score(y_true, y_hat)\n",
    "\n",
    "# add to Activity agent\n",
    "setattr(Activity_Agent, 'auc', auc)\n",
    "del auc"
   ]
  },
  {
   "cell_type": "code",
   "execution_count": 40,
   "metadata": {
    "executionInfo": {
     "elapsed": 108943,
     "status": "ok",
     "timestamp": 1607622506039,
     "user": {
      "displayName": "Leon H",
      "photoUrl": "",
      "userId": "10150017554198726068"
     },
     "user_tz": -60
    },
    "id": "upk_z_Pyr6Iq"
   },
   "outputs": [],
   "source": [
    "def evaluate(self, df, model_type, split_params, predict_start='2014-01-01', predict_end=-1):\n",
    "    import pandas as pd\n",
    "    import numpy as np\n",
    "    from tqdm import tqdm\n",
    "\n",
    "    dates = pd.DataFrame(df.index).set_index(df.index)['Time'].apply(lambda date: str(date)[:10]).drop_duplicates()\n",
    "\n",
    "    predict_start = pd.to_datetime(predict_start)\n",
    "    predict_end = pd.to_datetime(dates[predict_end]) if type(predict_end) == int else pd.to_datetime(predict_end)\n",
    "\n",
    "    dates = dates.loc[predict_start:predict_end]\n",
    "    \n",
    "    y_true = []\n",
    "    y_hat_train = {}\n",
    "    y_hat_test = []\n",
    "    auc_train_dict = {}\n",
    "    auc_test = []\n",
    "\n",
    "    for date in tqdm(dates):\n",
    "        # train test split\n",
    "        #train_test_split(self, df, date, train_start='2013-11-01', test_delta='all', target='activity')\n",
    "        X_train, y_train, X_test, y_test = self.train_test_split(df, date, **split_params)\n",
    "\n",
    "        # fit model\n",
    "        model = self.fit(X_train, y_train, model_type)\n",
    "\n",
    "        # predict\n",
    "        y_hat_train.update({date: self.predict(model, X_train)})\n",
    "        y_hat_test += list(self.predict(model, X_test))\n",
    "\n",
    "        # evaluate train data\n",
    "        auc_train_dict.update({date: self.auc(y_train, list(y_hat_train.values())[-1])})\n",
    "        \n",
    "        y_true += list(y_test)\n",
    "    \n",
    "    auc_test = self.auc(y_true, y_hat_test)\n",
    "    auc_train = np.mean(list(auc_train_dict.values()))\n",
    "\n",
    "    return auc_train, auc_test, auc_train_dict\n",
    "\n",
    "\n",
    "# add to Activity agent\n",
    "setattr(Activity_Agent, 'evaluate', evaluate)\n",
    "del evaluate"
   ]
  },
  {
   "cell_type": "code",
   "execution_count": null,
   "metadata": {
    "colab": {
     "base_uri": "https://localhost:8080/"
    },
    "executionInfo": {
     "elapsed": 128098,
     "status": "ok",
     "timestamp": 1607622525227,
     "user": {
      "displayName": "Leon H",
      "photoUrl": "",
      "userId": "10150017554198726068"
     },
     "user_tz": -60
    },
    "id": "8fMlJ62nr6Ir",
    "outputId": "2529cb31-0687-470f-97f1-167cf1ccf445"
   },
   "outputs": [],
   "source": [
    "split_params = {'train_start': '2013-11-01', 'test_delta': {'days':1, 'seconds':-1}, 'target': 'activity'}\n",
    "activity = Activity_Agent(df)\n",
    "auc_train, auc_test, auc_train_dict = activity.evaluate(df, 'random forest', split_params) "
   ]
  },
  {
   "cell_type": "code",
   "execution_count": null,
   "metadata": {
    "colab": {
     "base_uri": "https://localhost:8080/"
    },
    "executionInfo": {
     "elapsed": 128072,
     "status": "ok",
     "timestamp": 1607622525234,
     "user": {
      "displayName": "Leon H",
      "photoUrl": "",
      "userId": "10150017554198726068"
     },
     "user_tz": -60
    },
    "id": "YNMgJmtjr6Ir",
    "outputId": "b6e897c3-b309-4395-91b5-e425d35ab7b1"
   },
   "outputs": [],
   "source": [
    "# printing the scores\n",
    "print(f'[model performance] train auc score: {auc_train}\\n[model performance] test auc score: {auc_test}')"
   ]
  },
  {
   "cell_type": "markdown",
   "metadata": {
    "id": "kIXhmu5fsaHC"
   },
   "source": [
    "### **2.4 Pipeline Function**\n",
    "\n",
    "The pipeline function of the activity agent will receive a date as input, create the appropriate train test split, fit the selected model to the data and return the activity predictions for the day to be predicted. The subsequent recommendation agent will process these activity probabilities to provide recommendations to the user."
   ]
  },
  {
   "cell_type": "code",
   "execution_count": null,
   "metadata": {
    "executionInfo": {
     "elapsed": 128076,
     "status": "ok",
     "timestamp": 1607622525241,
     "user": {
      "displayName": "Leon H",
      "photoUrl": "",
      "userId": "10150017554198726068"
     },
     "user_tz": -60
    },
    "id": "zeFq0cASsd-B"
   },
   "outputs": [],
   "source": [
    "def pipeline(self, df, date, model_type, split_params):\n",
    "    X_train, y_train, X_test, y_test = self.train_test_split(df, date, **split_params)\n",
    "\n",
    "    # fit model\n",
    "    model = self.fit(X_train, y_train, model_type)\n",
    "\n",
    "    # predict\n",
    "    return self.predict(model, X_test)\n",
    "\n",
    "# add to Activity agent\n",
    "setattr(Activity_Agent, 'pipeline', pipeline)\n",
    "del pipeline"
   ]
  },
  {
   "cell_type": "code",
   "execution_count": null,
   "metadata": {
    "colab": {
     "base_uri": "https://localhost:8080/"
    },
    "executionInfo": {
     "elapsed": 1926,
     "status": "ok",
     "timestamp": 1607622704123,
     "user": {
      "displayName": "Leon H",
      "photoUrl": "",
      "userId": "10150017554198726068"
     },
     "user_tz": -60
    },
    "id": "knvuAmV2tFpD",
    "outputId": "c9c721aa-2206-490f-9e1f-133d03a0de86"
   },
   "outputs": [],
   "source": [
    "activity = Activity_Agent(df)\n",
    "\n",
    "date = '2014-06-01'\n",
    "split_params = {'train_start': '2013-11-01', 'test_delta': {'days':1, 'seconds':-1}, 'target': 'activity'}\n",
    "\n",
    "output = activity.pipeline(df, date, 'random forest', split_params)\n",
    "output"
   ]
  },
  {
   "cell_type": "code",
   "execution_count": null,
   "metadata": {},
   "outputs": [],
   "source": [
    "output = pd.DataFrame(output)"
   ]
  },
  {
   "cell_type": "code",
   "execution_count": null,
   "metadata": {
    "colab": {
     "base_uri": "https://localhost:8080/",
     "height": 291
    },
    "executionInfo": {
     "elapsed": 1605,
     "status": "ok",
     "timestamp": 1607622706657,
     "user": {
      "displayName": "Leon H",
      "photoUrl": "",
      "userId": "10150017554198726068"
     },
     "user_tz": -60
    },
    "id": "tmtVlt5AsnqB",
    "outputId": "cf03c690-1404-47b3-fb50-3f08e786adee"
   },
   "outputs": [],
   "source": [
    "output.plot();\n",
    "plt.ylim(-.1, 1.1);"
   ]
  },
  {
   "cell_type": "markdown",
   "metadata": {
    "id": "C-8ff2uCtxuF"
   },
   "source": [
    "## **Appendix A1: Complete Activity Agent Class**"
   ]
  },
  {
   "cell_type": "code",
   "execution_count": null,
   "metadata": {
    "executionInfo": {
     "elapsed": 128322,
     "status": "ok",
     "timestamp": 1607622525554,
     "user": {
      "displayName": "Leon H",
      "photoUrl": "",
      "userId": "10150017554198726068"
     },
     "user_tz": -60
    },
    "id": "FOFcx9a_t0wq"
   },
   "outputs": [],
   "source": [
    "class Activity_Agent:\n",
    "    def __init__(self, activity_input_df):\n",
    "        self.input = activity_input_df\n",
    "\n",
    "    # train test split\n",
    "    # -------------------------------------------------------------------------------------------\n",
    "    def get_Xtest(self, df, date, time_delta=\"all\", target=\"activity\"):\n",
    "        import pandas as pd\n",
    "        from helper_functions import Helper\n",
    "\n",
    "        helper = Helper()\n",
    "\n",
    "        if time_delta == \"all\":\n",
    "            output = df.loc[pd.to_datetime(date) :, df.columns != target]\n",
    "        else:\n",
    "            df = helper.get_timespan(df, date, time_delta)\n",
    "            output = df.loc[:, df.columns != target]\n",
    "        return output\n",
    "\n",
    "    def get_ytest(self, df, date, time_delta=\"all\", target=\"activity\"):\n",
    "        import pandas as pd\n",
    "        from helper_functions import Helper\n",
    "\n",
    "        helper = Helper()\n",
    "\n",
    "        if time_delta == \"all\":\n",
    "            output = df.loc[pd.to_datetime(date) :, target]\n",
    "        else:\n",
    "            output = helper.get_timespan(df, date, time_delta)[target]\n",
    "        return output\n",
    "\n",
    "    def get_Xtrain(self, df, date, start=\"2013-11-01\", target=\"activity\"):\n",
    "        import pandas as pd\n",
    "\n",
    "        if type(start) == int:\n",
    "            start = pd.to_datetime(date) + pd.Timedelta(days=start)\n",
    "            start = (\n",
    "                pd.to_datetime(\"2013-11-01\")\n",
    "                if start < pd.to_datetime(\"2013-11-01\")\n",
    "                else start\n",
    "            )\n",
    "        else:\n",
    "            start = pd.to_datetime(start)\n",
    "        end = pd.to_datetime(date) + pd.Timedelta(seconds=-1)\n",
    "        return df.loc[start:end, df.columns != target]\n",
    "\n",
    "    def get_ytrain(self, df, date, start=\"2013-11-01\", target=\"activity\"):\n",
    "        import pandas as pd\n",
    "\n",
    "        if type(start) == int:\n",
    "            start = pd.to_datetime(date) + pd.Timedelta(days=start)\n",
    "            start = (\n",
    "                pd.to_datetime(\"2013-11-01\")\n",
    "                if start < pd.to_datetime(\"2013-11-01\")\n",
    "                else start\n",
    "            )\n",
    "        else:\n",
    "            start = pd.to_datetime(start)\n",
    "        end = pd.to_datetime(date) + pd.Timedelta(seconds=-1)\n",
    "        return df.loc[start:end, target]\n",
    "\n",
    "    def train_test_split(\n",
    "        self, df, date, train_start=\"2013-11-01\", test_delta=\"all\", target=\"activity\"\n",
    "    ):\n",
    "        X_train = self.get_Xtrain(df, date, start=train_start, target=target)\n",
    "        y_train = self.get_ytrain(df, date, start=train_start, target=target)\n",
    "        X_test = self.get_Xtest(df, date, time_delta=test_delta, target=target)\n",
    "        y_test = self.get_ytest(df, date, time_delta=test_delta, target=target)\n",
    "        return X_train, y_train, X_test, y_test\n",
    "\n",
    "# Logit\n",
    "# ---------------------------------------------------------------------------------------------\n",
    "\n",
    "    def fit_smLogit(self, X, y):\n",
    "        import statsmodels.api as sm\n",
    "\n",
    "        return sm.Logit(y, X).fit(disp=False)\n",
    "\n",
    "    # Other ML Models \n",
    "    # ---------------------------------------------------------------------------------------------\n",
    "\n",
    "    def fit_knn(self, X, y):\n",
    "        return KNeighborsClassifier(3).fit(X,y)\n",
    "\n",
    "    def fit_random_forest(self, X,y):\n",
    "        return RandomForestClassifier(max_depth=5, n_estimators=240, max_features=1).fit(X,y)\n",
    "\n",
    "    def fit_ADA(self,X,y):\n",
    "        return  AdaBoostClassifier().fit(X,y)\n",
    "\n",
    "    def fit_XGB(self,X,y):\n",
    "        return xgb.XGBClassifier().fit(X,y)\n",
    "\n",
    "    def fit(self, X, y, model_type):\n",
    "        model = None\n",
    "        if model_type == \"logit\":\n",
    "            model = self.fit_smLogit(X, y)\n",
    "        elif model_type == \"ada\":\n",
    "            model = self.fit_ADA(X,y)\n",
    "        elif model_type == \"knn\":\n",
    "            model = self.fit_knn(X,y)\n",
    "        elif model_type == \"random forest\":\n",
    "            model = self.fit_random_forest(X,y)\n",
    "        elif model_type == \"xgboost\":\n",
    "            model = self.fit_XGB(X,y)\n",
    "        else:\n",
    "            raise InputError(\"Unknown model type.\")\n",
    "        return model\n",
    "\n",
    "    def predict(self, model, X):\n",
    "        import statsmodels\n",
    "        import numpy as np\n",
    "        import pandas\n",
    "\n",
    "        if type(X) == pandas.core.series.Series:\n",
    "            X = pd.DataFrame(X).transpose() \n",
    "        else:\n",
    "            X=np.squeeze(np.asarray(X))     \n",
    "\n",
    "        if type(model) == statsmodels.discrete.discrete_model.BinaryResultsWrapper:\n",
    "            y_hat = model.predict(X)\n",
    "        elif type(model) == sklearn.neighbors._classification.KNeighborsClassifier:\n",
    "            y_hat = model.predict(X)\n",
    "        elif type(model) == sklearn.ensemble._forest.RandomForestClassifier:\n",
    "            y_hat = model.predict(X)\n",
    "        elif type(model) ==  sklearn.ensemble._weight_boosting.AdaBoostClassifier:\n",
    "            y_hat = model.predict(X)\n",
    "        elif type(model) == xgboost.sklearn.XGBClassifier:\n",
    "            y_hat = model.predict(X)\n",
    "        else:\n",
    "            raise InputError(\"Unknown model type.\")\n",
    "        return y_hat\n",
    "\n",
    "\n",
    "    def auc(self, y_true, y_hat):\n",
    "        import sklearn.metrics\n",
    "\n",
    "        return sklearn.metrics.roc_auc_score(y_true, y_hat)\n",
    "\n",
    "    def plot_model_performance(self, auc_train, auc_test, ylim=\"default\"):\n",
    "        import matplotlib.pyplot as plt\n",
    "\n",
    "        plt.plot(list(auc_train.keys()), list(auc_train.values()))\n",
    "        plt.plot(list(auc_train.keys()), list(auc_test.values()))\n",
    "        plt.xticks(list(auc_train.keys()), \" \")\n",
    "        plt.ylim(ylim) if ylim != \"default\" else None\n",
    "\n",
    "    def evaluate(\n",
    "        self, df, model_type, split_params, predict_start=\"2014-01-01\", predict_end=-1, return_errors=False\n",
    "    ):\n",
    "        import pandas as pd\n",
    "        import numpy as np\n",
    "        from tqdm import tqdm\n",
    "\n",
    "        dates = (\n",
    "            pd.DataFrame(df.index)\n",
    "            .set_index(df.index)[\"Time\"]\n",
    "            .apply(lambda date: str(date)[:10])\n",
    "            .drop_duplicates()\n",
    "        )\n",
    "        predict_start = pd.to_datetime(predict_start)\n",
    "        predict_end = (\n",
    "            pd.to_datetime(dates.iloc[predict_end])\n",
    "            if type(predict_end) == int\n",
    "            else pd.to_datetime(predict_end)\n",
    "        )\n",
    "        dates = dates.loc[predict_start:predict_end]\n",
    "        y_true = []\n",
    "        y_hat_train = {}\n",
    "        y_hat_test = []\n",
    "        auc_train_dict = {}\n",
    "        auc_test = []\n",
    "\n",
    "        for date in tqdm(dates):\n",
    "            errors = {}\n",
    "            try:\n",
    "                X_train, y_train, X_test, y_test = self.train_test_split(\n",
    "                    df, date, **split_params\n",
    "                )\n",
    "\n",
    "                # fit model\n",
    "                model = self.fit(X_train, y_train, model_type)\n",
    "\n",
    "                # predict\n",
    "                y_hat_train.update({date: self.predict(model, X_train)})\n",
    "                y_hat_test += list(self.predict(model, X_test))\n",
    "\n",
    "                # evaluate train data\n",
    "                auc_train_dict.update(\n",
    "                    {date: self.auc(y_train, list(y_hat_train.values())[-1])}\n",
    "                )\n",
    "                y_true += list(y_test)\n",
    "            except Exception as e:\n",
    "                errors[date] = e\n",
    "\n",
    "        auc_test = self.auc(y_true, y_hat_test)\n",
    "        auc_train = np.mean(list(auc_train_dict.values()))\n",
    "\n",
    "        if return_errors:\n",
    "            return auc_train, auc_test, auc_train_dict, errors\n",
    "        else:\n",
    "            return auc_train, auc_test, auc_train_dict\n",
    "\n",
    "    # pipeline function: predicting user activity\n",
    "    # -------------------------------------------------------------------------------------------\n",
    "    def pipeline(self, df, date, model_type, split_params):\n",
    "        # train test split\n",
    "        X_train, y_train, X_test, y_test = self.train_test_split(\n",
    "            df, date, **split_params\n",
    "        )\n",
    "\n",
    "        # fit model\n",
    "        model = self.fit(X_train, y_train, model_type)\n",
    "\n",
    "        # predict\n",
    "        return self.predict(model, X_test)"
   ]
  },
  {
   "cell_type": "code",
   "execution_count": null,
   "metadata": {},
   "outputs": [],
   "source": []
  }
 ],
 "metadata": {
  "colab": {
   "collapsed_sections": [],
   "name": "03a_Activity-Agent.ipynb",
   "provenance": [],
   "toc_visible": true
  },
  "kernelspec": {
   "name": "python3",
   "language": "python",
   "display_name": "Python 3"
  },
  "language_info": {
   "codemirror_mode": {
    "name": "ipython",
    "version": 3
   },
   "file_extension": ".py",
   "mimetype": "text/x-python",
   "name": "python",
   "nbconvert_exporter": "python",
   "pygments_lexer": "ipython3",
   "version": "3.8.10"
  }
 },
 "nbformat": 4,
 "nbformat_minor": 4
}