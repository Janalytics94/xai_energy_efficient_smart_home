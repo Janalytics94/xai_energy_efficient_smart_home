{
 "cells": [
  {
   "cell_type": "markdown",
   "metadata": {
    "id": "_1ejom0Bv-lN"
   },
   "source": [
    "# **Recommendation Agent**"
   ]
  },
  {
   "cell_type": "markdown",
   "metadata": {
    "id": "3XQKtNbRwLoR"
   },
   "source": [
    "The **Recommendation Agent** is the final agent in the recommendation process. It orchestrates how the **Activity Agent**, **Usage Agent**, **Load Agent** and **Price Agent** interact in order to deliver a recommendation at a particular date for a given household (see the dedicated notebooks in order to see the definition of these agents in detail).\n",
    "\n",
    "The recommendation agent works as follows:\n",
    "\n",
    "1. It requests the outputs of the **Activity Agent**, **Usage Agent**, **Load Agent** and **Price Agent**:\n",
    "\n",
    "\n",
    "*   The Activity Agent returns the probability that persons are present and in an \"active state\" in the house at each given hour of the day.\n",
    "*   The Usage Agent returns the probability that a given to-be-recommended-device will be used on the next day.\n",
    "*   The Load Agent returns a typical load profile for each to-be-recommended-device.\n",
    "*   The Price Agent returns the day-ahead-prices for the next 48 hours.\n",
    "\n",
    "2. It then computes the cost associated with launching the devices at each hour of the next day (based on the devices' typical load profiles and the day ahead electricity prices).\n",
    "\n",
    "3. Finally it recommends the cheapest launching hour among the set of hours at which users are likely present and active **[Probability(Present&Active)> Threshold]**. A recommendation  for a given device is made only if the user is likely enough to use the device on the next day **[Probability(Device_Usage)> Threshold]**\n",
    "\n",
    "\n",
    "In the present notebook, we will build this **Recommendation Agent** step by step. For that purpose, we will first load and preprocess the required data with the preprocessing agents. Then, we will iteratively add functions to the **Recommendation Agent class** in order to finally build a function entitled \"Pipeline\", which ouputs the desired recommendations."
   ]
  },
  {
   "cell_type": "markdown",
   "metadata": {
    "id": "XwYZuk7-e7XK"
   },
   "source": [
    "## **1. Load and Pre-process Data**"
   ]
  },
  {
   "cell_type": "markdown",
   "metadata": {
    "id": "Iop0mvXH0a56"
   },
   "source": [
    "This part's only purpose is to load the data used in the recommendation agent. This process is described in detail in the Preparation Agent.  **[You might need to adapt some parameters when applying the script to another household than household 1]**"
   ]
  },
  {
   "cell_type": "markdown",
   "metadata": {
    "id": "6uRIFoyczkdD"
   },
   "source": [
    "### **1.1 Initialize and load python scripts**"
   ]
  },
  {
   "cell_type": "code",
   "execution_count": 25,
   "metadata": {
    "id": "VzS_qOg8teXQ"
   },
   "outputs": [],
   "source": [
    "# loading necessary libraries\n",
    "import warnings\n",
    "warnings.filterwarnings(\"ignore\")\n",
    "import pandas as pd\n",
    "import numpy as np\n",
    "import os \n",
    "\n",
    "from helper_functions import Helper\n",
    "from agents import Preparation_Agent\n",
    "from datetime import datetime\n",
    "\n",
    "helper = Helper()"
   ]
  },
  {
   "cell_type": "code",
   "execution_count": 26,
   "metadata": {},
   "outputs": [],
   "source": [
    "DATA_PATH = '../data/'"
   ]
  },
  {
   "cell_type": "markdown",
   "metadata": {
    "id": "Sky4JWfvzctI"
   },
   "source": [
    "### **1.2 Set Params**\n",
    "\n",
    "**Note:** For the full detail of the parameters and the preprocessing agents take a look at the Preparation Agent's notebook."
   ]
  },
  {
   "cell_type": "code",
   "execution_count": 27,
   "metadata": {
    "id": "qCjWp7PIAeSZ"
   },
   "outputs": [],
   "source": [
    "# load household data for Household 1\n",
    "household = helper.load_household(DATA_PATH, 1)"
   ]
  },
  {
   "cell_type": "code",
   "execution_count": 30,
   "metadata": {},
   "outputs": [],
   "source": [
    "threshold = 0.01\n",
    "active_appliances = ['Toaster', 'Tumble Dryer', 'Dishwasher', 'Washing Machine','Television', 'Microwave', 'Kettle']\n",
    "shiftable_devices = ['Tumble Dryer', 'Washing Machine', 'Dishwasher']\n"
   ]
  },
  {
   "cell_type": "code",
   "execution_count": 31,
   "metadata": {
    "id": "CP1f_6EvAygB"
   },
   "outputs": [],
   "source": [
    "#activity params\n",
    "truncation_params = {\n",
    "    'features': 'all', \n",
    "    'factor': 1.5, \n",
    "    'verbose': 0\n",
    "}\n",
    "\n",
    "scale_params = {\n",
    "    'features': 'all', \n",
    "    'kind': 'MinMax', \n",
    "    'verbose': 0\n",
    "}\n",
    "\n",
    "aggregate_params = {\n",
    "    'resample_param': '60T'\n",
    "}\n",
    "\n",
    "activity_params = {\n",
    "    'active_appliances': active_appliances,\n",
    "    'threshold': threshold \n",
    "}\n",
    "\n",
    "time_params = {\n",
    "    'features': ['hour', 'day_name']\n",
    "}\n",
    "\n",
    "activity_lag_params = {\n",
    "    'features': ['activity'],\n",
    "    'lags': [24, 48, 72]\n",
    "}\n",
    "\n",
    "activity_pipe_params = {\n",
    "    'truncate': truncation_params,\n",
    "    'scale': scale_params,\n",
    "    'aggregate': aggregate_params,\n",
    "    'activity': activity_params,\n",
    "    'time': time_params,\n",
    "    'activity_lag': activity_lag_params\n",
    "}\n",
    "\n",
    "#load agent\n",
    "device_params = {\n",
    "    'threshold': threshold\n",
    "}\n",
    "\n",
    "load_pipe_params = {\n",
    "    'truncate': truncation_params,\n",
    "    'scale': scale_params,\n",
    "    'aggregate': aggregate_params,\n",
    "    'shiftable_devices': shiftable_devices, \n",
    "    'device': device_params\n",
    "}\n",
    "\n",
    "#usage agent\n",
    "\n",
    "device = {\n",
    "    'threshold' : threshold}\n",
    "\n",
    "aggregate_params24_H = {\n",
    "    'resample_param': '24H'\n",
    "}\n",
    "\n",
    "usage_pipe_params = {\n",
    "    'truncate': truncation_params,\n",
    "    'scale': scale_params,\n",
    "    'activity': activity_params,\n",
    "    'aggregate_hour': aggregate_params,\n",
    "    'aggregate_day': aggregate_params24_H,\n",
    "    'time': time_params,\n",
    "    'activity_lag': activity_lag_params,\n",
    "    'shiftable_devices' : shiftable_devices,\n",
    "    'device': device\n",
    "}"
   ]
  },
  {
   "cell_type": "code",
   "execution_count": 6,
   "metadata": {
    "id": "hf06_sA30KqX"
   },
   "outputs": [],
   "source": [
    "# calling the preparation pipeline\n",
    "#prep = Preparation_Agent(household)\n",
    "#activity_df = prep.pipeline_activity(household, activity_pipe_params)\n",
    "#load_df, _, _ = prep.pipeline_load(household, load_pipe_params)\n",
    "#usage_df = prep.pipeline_usage(household, usage_pipe_params)\n",
    "\n",
    "#load price data\n",
    "#FILE_PATH = '/content/drive/MyDrive/T4_Recommendation-system-for-demand-response-and-load-shifting/02_data/' \n",
    "#price_df = helper.create_day_ahead_prices_df(DATA_PATH, 'Day-ahead Prices_201501010000-201601010000.csv')\n"
   ]
  },
  {
   "cell_type": "code",
   "execution_count": 5,
   "metadata": {},
   "outputs": [],
   "source": [
    "#activity_df.to_pickle('../data/processed_pickle/activity_df.pkl')\n",
    "#load_df,_, _ .to_pickle('../data/processed_pickle/load_df.pkl')\n",
    "#usage_df.to_pickle('../data/processed_pickle/usage_df.pkl')\n",
    "#price_df.to_pickle('../data/processed_pickle/price_df.pkl')"
   ]
  },
  {
   "cell_type": "code",
   "execution_count": 32,
   "metadata": {},
   "outputs": [],
   "source": [
    "# Load pickle data\n",
    "activity_df = pd.read_pickle('../data/processed_pickle/activity_df.pkl')\n",
    "load_df = pd.read_pickle('../data/processed_pickle/load_df.pkl')\n",
    "usage_df = pd.read_pickle('../data/processed_pickle/usage_df.pkl')\n",
    "price_df = pd.read_pickle('../data/processed_pickle/price_df.pkl')"
   ]
  },
  {
   "cell_type": "markdown",
   "metadata": {
    "id": "XCMDOvjkNAfz"
   },
   "source": [
    "## **2. Constructing the Recommendation Agent**"
   ]
  },
  {
   "cell_type": "markdown",
   "metadata": {
    "id": "aub0_x9N1pVm"
   },
   "source": [
    "### **2.1 Initiliaze Agent**\n",
    "In a first step, the Recommendation Agent is initialized with the preprocessed data and the name of the shiftable devices (those for which we want to make predictions). All Agents are initialized accordingly."
   ]
  },
  {
   "cell_type": "code",
   "execution_count": 33,
   "metadata": {
    "id": "i8wrHrBUNCAI"
   },
   "outputs": [],
   "source": [
    "from agents import Activity_Agent, Usage_Agent, Load_Agent, Price_Agent\n",
    "class Recommendation_Agent:\n",
    "    import pandas as pd\n",
    "\n",
    "    def __init__(self, activity_input, usage_input, load_input, price_input, shiftable_devices):\n",
    "        self.activity_input = activity_input\n",
    "        self.usage_input = usage_input\n",
    "        self.load_input = load_input\n",
    "        self.price_input = price_input\n",
    "        self.shiftable_devices = shiftable_devices\n",
    "\n",
    "        self.Activity_Agent = Activity_Agent(activity_input)\n",
    "        #create dicionnary with Usage_Agent for each device\n",
    "        self.Usage_Agent = {name: Usage_Agent(usage_input , name)  for name in shiftable_devices}\n",
    "        self.Load_Agent = Load_Agent(load_input)\n",
    "        self.Price_Agent = Price_Agent(price_input)"
   ]
  },
  {
   "cell_type": "code",
   "execution_count": 34,
   "metadata": {
    "id": "dFcXh324pqjD"
   },
   "outputs": [],
   "source": [
    "#initialize the Recommendation Agent with the required inputs\n",
    "recommend = Recommendation_Agent(activity_df, usage_df, load_df, price_df, shiftable_devices)"
   ]
  },
  {
   "cell_type": "markdown",
   "metadata": {
    "id": "i0qrt4R13ean"
   },
   "source": [
    "### **2.2 Compute Usage Cost For Every Starting Time (each of the 24 hours of the day) For A Given Device**"
   ]
  },
  {
   "cell_type": "markdown",
   "metadata": {
    "id": "g6ZD4Ztk2dWx"
   },
   "source": [
    "This function computes the cost associated with launching a to-be-recommended-device at each hour of the next day. "
   ]
  },
  {
   "cell_type": "markdown",
   "metadata": {
    "id": "QIiczCma4OS4"
   },
   "source": [
    "#### **2.2.1 Electricity Prices For 24 hours After Hypothetical Starting Time**\n",
    "First we build up a function which gives the electricity price for the 24 hours following a hypothetical starting time. \n",
    "\n",
    "*   The column \"Price_at_H+0\" gives the electricity price for the 24 hours after 00:00:00\n",
    "*   The column \"Price_at_H+1\" gives the electricity price for the 24 hours following 01:00:00 ( \"Price_at_H+0\" shifted by one hour)\n",
    "* The column \"Price_at_H+2\" gives the electricity price for the 24 hours following 02:00:00 ( \"Price_at_H+0\" shifted by two hours)\n",
    "*....\n",
    "\n",
    "This function first requests the **day-ahead electricity prices** for the next 48h from the Price_Agent. Then it arranges the prices as described above.\n"
   ]
  },
  {
   "cell_type": "code",
   "execution_count": 35,
   "metadata": {
    "id": "w8IYAFSAmsUc"
   },
   "outputs": [],
   "source": [
    "def electricity_prices_from_start_time(self, date):\n",
    "  import pandas as pd\n",
    "  prices_48 = self.Price_Agent.return_day_ahead_prices(date)\n",
    "  prices_from_start_time = pd.DataFrame()\n",
    "\n",
    "  for i in range(24):\n",
    "    prices_from_start_time[\"Price_at_H+\"+ str(i)] = prices_48.shift(-i)\n",
    "\n",
    "  #delete last 24 hours\n",
    "  prices_from_start_time = prices_from_start_time[:-24]\n",
    "  return prices_from_start_time\n",
    "\n",
    "# add to Activity agent\n",
    "setattr(Recommendation_Agent, 'electricity_prices_from_start_time', electricity_prices_from_start_time)\n",
    "del electricity_prices_from_start_time"
   ]
  },
  {
   "cell_type": "code",
   "execution_count": 36,
   "metadata": {
    "colab": {
     "base_uri": "https://localhost:8080/",
     "height": 1000
    },
    "executionInfo": {
     "elapsed": 1342,
     "status": "ok",
     "timestamp": 1607623110074,
     "user": {
      "displayName": "Felix Germaine",
      "photoUrl": "",
      "userId": "07033484937606028650"
     },
     "user_tz": -60
    },
    "id": "76HM7yq1tIs6",
    "outputId": "47b0afe4-4011-4c5e-ff4c-549826e15a21"
   },
   "outputs": [
    {
     "output_type": "execute_result",
     "data": {
      "text/plain": [
       "                     Price_at_H+0  Price_at_H+1  Price_at_H+2  Price_at_H+3  \\\n",
       "2014-08-21 00:00:00         32.51         32.36         31.94         31.00   \n",
       "2014-08-21 01:00:00         32.36         31.94         31.00         33.90   \n",
       "2014-08-21 02:00:00         31.94         31.00         33.90         38.01   \n",
       "2014-08-21 03:00:00         31.00         33.90         38.01         38.71   \n",
       "2014-08-21 04:00:00         33.90         38.01         38.71         39.51   \n",
       "2014-08-21 05:00:00         38.01         38.71         39.51         49.53   \n",
       "2014-08-21 06:00:00         38.71         39.51         49.53         48.47   \n",
       "2014-08-21 07:00:00         39.51         49.53         48.47         48.47   \n",
       "2014-08-21 08:00:00         49.53         48.47         48.47         43.21   \n",
       "2014-08-21 09:00:00         48.47         48.47         43.21         36.01   \n",
       "2014-08-21 10:00:00         48.47         43.21         36.01         35.09   \n",
       "2014-08-21 11:00:00         43.21         36.01         35.09         35.45   \n",
       "2014-08-21 12:00:00         36.01         35.09         35.45         38.89   \n",
       "2014-08-21 13:00:00         35.09         35.45         38.89         48.03   \n",
       "2014-08-21 14:00:00         35.45         38.89         48.03         47.05   \n",
       "2014-08-21 15:00:00         38.89         48.03         47.05         42.15   \n",
       "2014-08-21 16:00:00         48.03         47.05         42.15         43.34   \n",
       "2014-08-21 17:00:00         47.05         42.15         43.34         39.73   \n",
       "2014-08-21 18:00:00         42.15         43.34         39.73         39.03   \n",
       "2014-08-21 19:00:00         43.34         39.73         39.03         38.04   \n",
       "2014-08-21 20:00:00         39.73         39.03         38.04         36.47   \n",
       "2014-08-21 21:00:00         39.03         38.04         36.47         35.12   \n",
       "2014-08-21 22:00:00         38.04         36.47         35.12         33.97   \n",
       "2014-08-21 23:00:00         36.47         35.12         33.97         33.52   \n",
       "\n",
       "                     Price_at_H+4  Price_at_H+5  Price_at_H+6  Price_at_H+7  \\\n",
       "2014-08-21 00:00:00         33.90         38.01         38.71         39.51   \n",
       "2014-08-21 01:00:00         38.01         38.71         39.51         49.53   \n",
       "2014-08-21 02:00:00         38.71         39.51         49.53         48.47   \n",
       "2014-08-21 03:00:00         39.51         49.53         48.47         48.47   \n",
       "2014-08-21 04:00:00         49.53         48.47         48.47         43.21   \n",
       "2014-08-21 05:00:00         48.47         48.47         43.21         36.01   \n",
       "2014-08-21 06:00:00         48.47         43.21         36.01         35.09   \n",
       "2014-08-21 07:00:00         43.21         36.01         35.09         35.45   \n",
       "2014-08-21 08:00:00         36.01         35.09         35.45         38.89   \n",
       "2014-08-21 09:00:00         35.09         35.45         38.89         48.03   \n",
       "2014-08-21 10:00:00         35.45         38.89         48.03         47.05   \n",
       "2014-08-21 11:00:00         38.89         48.03         47.05         42.15   \n",
       "2014-08-21 12:00:00         48.03         47.05         42.15         43.34   \n",
       "2014-08-21 13:00:00         47.05         42.15         43.34         39.73   \n",
       "2014-08-21 14:00:00         42.15         43.34         39.73         39.03   \n",
       "2014-08-21 15:00:00         43.34         39.73         39.03         38.04   \n",
       "2014-08-21 16:00:00         39.73         39.03         38.04         36.47   \n",
       "2014-08-21 17:00:00         39.03         38.04         36.47         35.12   \n",
       "2014-08-21 18:00:00         38.04         36.47         35.12         33.97   \n",
       "2014-08-21 19:00:00         36.47         35.12         33.97         33.52   \n",
       "2014-08-21 20:00:00         35.12         33.97         33.52         33.52   \n",
       "2014-08-21 21:00:00         33.97         33.52         33.52         34.16   \n",
       "2014-08-21 22:00:00         33.52         33.52         34.16         35.42   \n",
       "2014-08-21 23:00:00         33.52         34.16         35.42         35.56   \n",
       "\n",
       "                     Price_at_H+8  Price_at_H+9  ...  Price_at_H+14  \\\n",
       "2014-08-21 00:00:00         49.53         48.47  ...          35.45   \n",
       "2014-08-21 01:00:00         48.47         48.47  ...          38.89   \n",
       "2014-08-21 02:00:00         48.47         43.21  ...          48.03   \n",
       "2014-08-21 03:00:00         43.21         36.01  ...          47.05   \n",
       "2014-08-21 04:00:00         36.01         35.09  ...          42.15   \n",
       "2014-08-21 05:00:00         35.09         35.45  ...          43.34   \n",
       "2014-08-21 06:00:00         35.45         38.89  ...          39.73   \n",
       "2014-08-21 07:00:00         38.89         48.03  ...          39.03   \n",
       "2014-08-21 08:00:00         48.03         47.05  ...          38.04   \n",
       "2014-08-21 09:00:00         47.05         42.15  ...          36.47   \n",
       "2014-08-21 10:00:00         42.15         43.34  ...          35.12   \n",
       "2014-08-21 11:00:00         43.34         39.73  ...          33.97   \n",
       "2014-08-21 12:00:00         39.73         39.03  ...          33.52   \n",
       "2014-08-21 13:00:00         39.03         38.04  ...          33.52   \n",
       "2014-08-21 14:00:00         38.04         36.47  ...          34.16   \n",
       "2014-08-21 15:00:00         36.47         35.12  ...          35.42   \n",
       "2014-08-21 16:00:00         35.12         33.97  ...          35.56   \n",
       "2014-08-21 17:00:00         33.97         33.52  ...          41.95   \n",
       "2014-08-21 18:00:00         33.52         33.52  ...          49.93   \n",
       "2014-08-21 19:00:00         33.52         34.16  ...          49.93   \n",
       "2014-08-21 20:00:00         34.16         35.42  ...          47.83   \n",
       "2014-08-21 21:00:00         35.42         35.56  ...          40.25   \n",
       "2014-08-21 22:00:00         35.56         41.95  ...          34.90   \n",
       "2014-08-21 23:00:00         41.95         49.93  ...          33.08   \n",
       "\n",
       "                     Price_at_H+15  Price_at_H+16  Price_at_H+17  \\\n",
       "2014-08-21 00:00:00          38.89          48.03          47.05   \n",
       "2014-08-21 01:00:00          48.03          47.05          42.15   \n",
       "2014-08-21 02:00:00          47.05          42.15          43.34   \n",
       "2014-08-21 03:00:00          42.15          43.34          39.73   \n",
       "2014-08-21 04:00:00          43.34          39.73          39.03   \n",
       "2014-08-21 05:00:00          39.73          39.03          38.04   \n",
       "2014-08-21 06:00:00          39.03          38.04          36.47   \n",
       "2014-08-21 07:00:00          38.04          36.47          35.12   \n",
       "2014-08-21 08:00:00          36.47          35.12          33.97   \n",
       "2014-08-21 09:00:00          35.12          33.97          33.52   \n",
       "2014-08-21 10:00:00          33.97          33.52          33.52   \n",
       "2014-08-21 11:00:00          33.52          33.52          34.16   \n",
       "2014-08-21 12:00:00          33.52          34.16          35.42   \n",
       "2014-08-21 13:00:00          34.16          35.42          35.56   \n",
       "2014-08-21 14:00:00          35.42          35.56          41.95   \n",
       "2014-08-21 15:00:00          35.56          41.95          49.93   \n",
       "2014-08-21 16:00:00          41.95          49.93          49.93   \n",
       "2014-08-21 17:00:00          49.93          49.93          47.83   \n",
       "2014-08-21 18:00:00          49.93          47.83          40.25   \n",
       "2014-08-21 19:00:00          47.83          40.25          34.90   \n",
       "2014-08-21 20:00:00          40.25          34.90          33.08   \n",
       "2014-08-21 21:00:00          34.90          33.08          33.09   \n",
       "2014-08-21 22:00:00          33.08          33.09          35.54   \n",
       "2014-08-21 23:00:00          33.09          35.54          52.02   \n",
       "\n",
       "                     Price_at_H+18  Price_at_H+19  Price_at_H+20  \\\n",
       "2014-08-21 00:00:00          42.15          43.34          39.73   \n",
       "2014-08-21 01:00:00          43.34          39.73          39.03   \n",
       "2014-08-21 02:00:00          39.73          39.03          38.04   \n",
       "2014-08-21 03:00:00          39.03          38.04          36.47   \n",
       "2014-08-21 04:00:00          38.04          36.47          35.12   \n",
       "2014-08-21 05:00:00          36.47          35.12          33.97   \n",
       "2014-08-21 06:00:00          35.12          33.97          33.52   \n",
       "2014-08-21 07:00:00          33.97          33.52          33.52   \n",
       "2014-08-21 08:00:00          33.52          33.52          34.16   \n",
       "2014-08-21 09:00:00          33.52          34.16          35.42   \n",
       "2014-08-21 10:00:00          34.16          35.42          35.56   \n",
       "2014-08-21 11:00:00          35.42          35.56          41.95   \n",
       "2014-08-21 12:00:00          35.56          41.95          49.93   \n",
       "2014-08-21 13:00:00          41.95          49.93          49.93   \n",
       "2014-08-21 14:00:00          49.93          49.93          47.83   \n",
       "2014-08-21 15:00:00          49.93          47.83          40.25   \n",
       "2014-08-21 16:00:00          47.83          40.25          34.90   \n",
       "2014-08-21 17:00:00          40.25          34.90          33.08   \n",
       "2014-08-21 18:00:00          34.90          33.08          33.09   \n",
       "2014-08-21 19:00:00          33.08          33.09          35.54   \n",
       "2014-08-21 20:00:00          33.09          35.54          52.02   \n",
       "2014-08-21 21:00:00          35.54          52.02          49.08   \n",
       "2014-08-21 22:00:00          52.02          49.08          41.95   \n",
       "2014-08-21 23:00:00          49.08          41.95          42.45   \n",
       "\n",
       "                     Price_at_H+21  Price_at_H+22  Price_at_H+23  \n",
       "2014-08-21 00:00:00          39.03          38.04          36.47  \n",
       "2014-08-21 01:00:00          38.04          36.47          35.12  \n",
       "2014-08-21 02:00:00          36.47          35.12          33.97  \n",
       "2014-08-21 03:00:00          35.12          33.97          33.52  \n",
       "2014-08-21 04:00:00          33.97          33.52          33.52  \n",
       "2014-08-21 05:00:00          33.52          33.52          34.16  \n",
       "2014-08-21 06:00:00          33.52          34.16          35.42  \n",
       "2014-08-21 07:00:00          34.16          35.42          35.56  \n",
       "2014-08-21 08:00:00          35.42          35.56          41.95  \n",
       "2014-08-21 09:00:00          35.56          41.95          49.93  \n",
       "2014-08-21 10:00:00          41.95          49.93          49.93  \n",
       "2014-08-21 11:00:00          49.93          49.93          47.83  \n",
       "2014-08-21 12:00:00          49.93          47.83          40.25  \n",
       "2014-08-21 13:00:00          47.83          40.25          34.90  \n",
       "2014-08-21 14:00:00          40.25          34.90          33.08  \n",
       "2014-08-21 15:00:00          34.90          33.08          33.09  \n",
       "2014-08-21 16:00:00          33.08          33.09          35.54  \n",
       "2014-08-21 17:00:00          33.09          35.54          52.02  \n",
       "2014-08-21 18:00:00          35.54          52.02          49.08  \n",
       "2014-08-21 19:00:00          52.02          49.08          41.95  \n",
       "2014-08-21 20:00:00          49.08          41.95          42.45  \n",
       "2014-08-21 21:00:00          41.95          42.45          39.49  \n",
       "2014-08-21 22:00:00          42.45          39.49          36.98  \n",
       "2014-08-21 23:00:00          39.49          36.98          51.01  \n",
       "\n",
       "[24 rows x 24 columns]"
      ],
      "text/html": "<div>\n<style scoped>\n    .dataframe tbody tr th:only-of-type {\n        vertical-align: middle;\n    }\n\n    .dataframe tbody tr th {\n        vertical-align: top;\n    }\n\n    .dataframe thead th {\n        text-align: right;\n    }\n</style>\n<table border=\"1\" class=\"dataframe\">\n  <thead>\n    <tr style=\"text-align: right;\">\n      <th></th>\n      <th>Price_at_H+0</th>\n      <th>Price_at_H+1</th>\n      <th>Price_at_H+2</th>\n      <th>Price_at_H+3</th>\n      <th>Price_at_H+4</th>\n      <th>Price_at_H+5</th>\n      <th>Price_at_H+6</th>\n      <th>Price_at_H+7</th>\n      <th>Price_at_H+8</th>\n      <th>Price_at_H+9</th>\n      <th>...</th>\n      <th>Price_at_H+14</th>\n      <th>Price_at_H+15</th>\n      <th>Price_at_H+16</th>\n      <th>Price_at_H+17</th>\n      <th>Price_at_H+18</th>\n      <th>Price_at_H+19</th>\n      <th>Price_at_H+20</th>\n      <th>Price_at_H+21</th>\n      <th>Price_at_H+22</th>\n      <th>Price_at_H+23</th>\n    </tr>\n  </thead>\n  <tbody>\n    <tr>\n      <th>2014-08-21 00:00:00</th>\n      <td>32.51</td>\n      <td>32.36</td>\n      <td>31.94</td>\n      <td>31.00</td>\n      <td>33.90</td>\n      <td>38.01</td>\n      <td>38.71</td>\n      <td>39.51</td>\n      <td>49.53</td>\n      <td>48.47</td>\n      <td>...</td>\n      <td>35.45</td>\n      <td>38.89</td>\n      <td>48.03</td>\n      <td>47.05</td>\n      <td>42.15</td>\n      <td>43.34</td>\n      <td>39.73</td>\n      <td>39.03</td>\n      <td>38.04</td>\n      <td>36.47</td>\n    </tr>\n    <tr>\n      <th>2014-08-21 01:00:00</th>\n      <td>32.36</td>\n      <td>31.94</td>\n      <td>31.00</td>\n      <td>33.90</td>\n      <td>38.01</td>\n      <td>38.71</td>\n      <td>39.51</td>\n      <td>49.53</td>\n      <td>48.47</td>\n      <td>48.47</td>\n      <td>...</td>\n      <td>38.89</td>\n      <td>48.03</td>\n      <td>47.05</td>\n      <td>42.15</td>\n      <td>43.34</td>\n      <td>39.73</td>\n      <td>39.03</td>\n      <td>38.04</td>\n      <td>36.47</td>\n      <td>35.12</td>\n    </tr>\n    <tr>\n      <th>2014-08-21 02:00:00</th>\n      <td>31.94</td>\n      <td>31.00</td>\n      <td>33.90</td>\n      <td>38.01</td>\n      <td>38.71</td>\n      <td>39.51</td>\n      <td>49.53</td>\n      <td>48.47</td>\n      <td>48.47</td>\n      <td>43.21</td>\n      <td>...</td>\n      <td>48.03</td>\n      <td>47.05</td>\n      <td>42.15</td>\n      <td>43.34</td>\n      <td>39.73</td>\n      <td>39.03</td>\n      <td>38.04</td>\n      <td>36.47</td>\n      <td>35.12</td>\n      <td>33.97</td>\n    </tr>\n    <tr>\n      <th>2014-08-21 03:00:00</th>\n      <td>31.00</td>\n      <td>33.90</td>\n      <td>38.01</td>\n      <td>38.71</td>\n      <td>39.51</td>\n      <td>49.53</td>\n      <td>48.47</td>\n      <td>48.47</td>\n      <td>43.21</td>\n      <td>36.01</td>\n      <td>...</td>\n      <td>47.05</td>\n      <td>42.15</td>\n      <td>43.34</td>\n      <td>39.73</td>\n      <td>39.03</td>\n      <td>38.04</td>\n      <td>36.47</td>\n      <td>35.12</td>\n      <td>33.97</td>\n      <td>33.52</td>\n    </tr>\n    <tr>\n      <th>2014-08-21 04:00:00</th>\n      <td>33.90</td>\n      <td>38.01</td>\n      <td>38.71</td>\n      <td>39.51</td>\n      <td>49.53</td>\n      <td>48.47</td>\n      <td>48.47</td>\n      <td>43.21</td>\n      <td>36.01</td>\n      <td>35.09</td>\n      <td>...</td>\n      <td>42.15</td>\n      <td>43.34</td>\n      <td>39.73</td>\n      <td>39.03</td>\n      <td>38.04</td>\n      <td>36.47</td>\n      <td>35.12</td>\n      <td>33.97</td>\n      <td>33.52</td>\n      <td>33.52</td>\n    </tr>\n    <tr>\n      <th>2014-08-21 05:00:00</th>\n      <td>38.01</td>\n      <td>38.71</td>\n      <td>39.51</td>\n      <td>49.53</td>\n      <td>48.47</td>\n      <td>48.47</td>\n      <td>43.21</td>\n      <td>36.01</td>\n      <td>35.09</td>\n      <td>35.45</td>\n      <td>...</td>\n      <td>43.34</td>\n      <td>39.73</td>\n      <td>39.03</td>\n      <td>38.04</td>\n      <td>36.47</td>\n      <td>35.12</td>\n      <td>33.97</td>\n      <td>33.52</td>\n      <td>33.52</td>\n      <td>34.16</td>\n    </tr>\n    <tr>\n      <th>2014-08-21 06:00:00</th>\n      <td>38.71</td>\n      <td>39.51</td>\n      <td>49.53</td>\n      <td>48.47</td>\n      <td>48.47</td>\n      <td>43.21</td>\n      <td>36.01</td>\n      <td>35.09</td>\n      <td>35.45</td>\n      <td>38.89</td>\n      <td>...</td>\n      <td>39.73</td>\n      <td>39.03</td>\n      <td>38.04</td>\n      <td>36.47</td>\n      <td>35.12</td>\n      <td>33.97</td>\n      <td>33.52</td>\n      <td>33.52</td>\n      <td>34.16</td>\n      <td>35.42</td>\n    </tr>\n    <tr>\n      <th>2014-08-21 07:00:00</th>\n      <td>39.51</td>\n      <td>49.53</td>\n      <td>48.47</td>\n      <td>48.47</td>\n      <td>43.21</td>\n      <td>36.01</td>\n      <td>35.09</td>\n      <td>35.45</td>\n      <td>38.89</td>\n      <td>48.03</td>\n      <td>...</td>\n      <td>39.03</td>\n      <td>38.04</td>\n      <td>36.47</td>\n      <td>35.12</td>\n      <td>33.97</td>\n      <td>33.52</td>\n      <td>33.52</td>\n      <td>34.16</td>\n      <td>35.42</td>\n      <td>35.56</td>\n    </tr>\n    <tr>\n      <th>2014-08-21 08:00:00</th>\n      <td>49.53</td>\n      <td>48.47</td>\n      <td>48.47</td>\n      <td>43.21</td>\n      <td>36.01</td>\n      <td>35.09</td>\n      <td>35.45</td>\n      <td>38.89</td>\n      <td>48.03</td>\n      <td>47.05</td>\n      <td>...</td>\n      <td>38.04</td>\n      <td>36.47</td>\n      <td>35.12</td>\n      <td>33.97</td>\n      <td>33.52</td>\n      <td>33.52</td>\n      <td>34.16</td>\n      <td>35.42</td>\n      <td>35.56</td>\n      <td>41.95</td>\n    </tr>\n    <tr>\n      <th>2014-08-21 09:00:00</th>\n      <td>48.47</td>\n      <td>48.47</td>\n      <td>43.21</td>\n      <td>36.01</td>\n      <td>35.09</td>\n      <td>35.45</td>\n      <td>38.89</td>\n      <td>48.03</td>\n      <td>47.05</td>\n      <td>42.15</td>\n      <td>...</td>\n      <td>36.47</td>\n      <td>35.12</td>\n      <td>33.97</td>\n      <td>33.52</td>\n      <td>33.52</td>\n      <td>34.16</td>\n      <td>35.42</td>\n      <td>35.56</td>\n      <td>41.95</td>\n      <td>49.93</td>\n    </tr>\n    <tr>\n      <th>2014-08-21 10:00:00</th>\n      <td>48.47</td>\n      <td>43.21</td>\n      <td>36.01</td>\n      <td>35.09</td>\n      <td>35.45</td>\n      <td>38.89</td>\n      <td>48.03</td>\n      <td>47.05</td>\n      <td>42.15</td>\n      <td>43.34</td>\n      <td>...</td>\n      <td>35.12</td>\n      <td>33.97</td>\n      <td>33.52</td>\n      <td>33.52</td>\n      <td>34.16</td>\n      <td>35.42</td>\n      <td>35.56</td>\n      <td>41.95</td>\n      <td>49.93</td>\n      <td>49.93</td>\n    </tr>\n    <tr>\n      <th>2014-08-21 11:00:00</th>\n      <td>43.21</td>\n      <td>36.01</td>\n      <td>35.09</td>\n      <td>35.45</td>\n      <td>38.89</td>\n      <td>48.03</td>\n      <td>47.05</td>\n      <td>42.15</td>\n      <td>43.34</td>\n      <td>39.73</td>\n      <td>...</td>\n      <td>33.97</td>\n      <td>33.52</td>\n      <td>33.52</td>\n      <td>34.16</td>\n      <td>35.42</td>\n      <td>35.56</td>\n      <td>41.95</td>\n      <td>49.93</td>\n      <td>49.93</td>\n      <td>47.83</td>\n    </tr>\n    <tr>\n      <th>2014-08-21 12:00:00</th>\n      <td>36.01</td>\n      <td>35.09</td>\n      <td>35.45</td>\n      <td>38.89</td>\n      <td>48.03</td>\n      <td>47.05</td>\n      <td>42.15</td>\n      <td>43.34</td>\n      <td>39.73</td>\n      <td>39.03</td>\n      <td>...</td>\n      <td>33.52</td>\n      <td>33.52</td>\n      <td>34.16</td>\n      <td>35.42</td>\n      <td>35.56</td>\n      <td>41.95</td>\n      <td>49.93</td>\n      <td>49.93</td>\n      <td>47.83</td>\n      <td>40.25</td>\n    </tr>\n    <tr>\n      <th>2014-08-21 13:00:00</th>\n      <td>35.09</td>\n      <td>35.45</td>\n      <td>38.89</td>\n      <td>48.03</td>\n      <td>47.05</td>\n      <td>42.15</td>\n      <td>43.34</td>\n      <td>39.73</td>\n      <td>39.03</td>\n      <td>38.04</td>\n      <td>...</td>\n      <td>33.52</td>\n      <td>34.16</td>\n      <td>35.42</td>\n      <td>35.56</td>\n      <td>41.95</td>\n      <td>49.93</td>\n      <td>49.93</td>\n      <td>47.83</td>\n      <td>40.25</td>\n      <td>34.90</td>\n    </tr>\n    <tr>\n      <th>2014-08-21 14:00:00</th>\n      <td>35.45</td>\n      <td>38.89</td>\n      <td>48.03</td>\n      <td>47.05</td>\n      <td>42.15</td>\n      <td>43.34</td>\n      <td>39.73</td>\n      <td>39.03</td>\n      <td>38.04</td>\n      <td>36.47</td>\n      <td>...</td>\n      <td>34.16</td>\n      <td>35.42</td>\n      <td>35.56</td>\n      <td>41.95</td>\n      <td>49.93</td>\n      <td>49.93</td>\n      <td>47.83</td>\n      <td>40.25</td>\n      <td>34.90</td>\n      <td>33.08</td>\n    </tr>\n    <tr>\n      <th>2014-08-21 15:00:00</th>\n      <td>38.89</td>\n      <td>48.03</td>\n      <td>47.05</td>\n      <td>42.15</td>\n      <td>43.34</td>\n      <td>39.73</td>\n      <td>39.03</td>\n      <td>38.04</td>\n      <td>36.47</td>\n      <td>35.12</td>\n      <td>...</td>\n      <td>35.42</td>\n      <td>35.56</td>\n      <td>41.95</td>\n      <td>49.93</td>\n      <td>49.93</td>\n      <td>47.83</td>\n      <td>40.25</td>\n      <td>34.90</td>\n      <td>33.08</td>\n      <td>33.09</td>\n    </tr>\n    <tr>\n      <th>2014-08-21 16:00:00</th>\n      <td>48.03</td>\n      <td>47.05</td>\n      <td>42.15</td>\n      <td>43.34</td>\n      <td>39.73</td>\n      <td>39.03</td>\n      <td>38.04</td>\n      <td>36.47</td>\n      <td>35.12</td>\n      <td>33.97</td>\n      <td>...</td>\n      <td>35.56</td>\n      <td>41.95</td>\n      <td>49.93</td>\n      <td>49.93</td>\n      <td>47.83</td>\n      <td>40.25</td>\n      <td>34.90</td>\n      <td>33.08</td>\n      <td>33.09</td>\n      <td>35.54</td>\n    </tr>\n    <tr>\n      <th>2014-08-21 17:00:00</th>\n      <td>47.05</td>\n      <td>42.15</td>\n      <td>43.34</td>\n      <td>39.73</td>\n      <td>39.03</td>\n      <td>38.04</td>\n      <td>36.47</td>\n      <td>35.12</td>\n      <td>33.97</td>\n      <td>33.52</td>\n      <td>...</td>\n      <td>41.95</td>\n      <td>49.93</td>\n      <td>49.93</td>\n      <td>47.83</td>\n      <td>40.25</td>\n      <td>34.90</td>\n      <td>33.08</td>\n      <td>33.09</td>\n      <td>35.54</td>\n      <td>52.02</td>\n    </tr>\n    <tr>\n      <th>2014-08-21 18:00:00</th>\n      <td>42.15</td>\n      <td>43.34</td>\n      <td>39.73</td>\n      <td>39.03</td>\n      <td>38.04</td>\n      <td>36.47</td>\n      <td>35.12</td>\n      <td>33.97</td>\n      <td>33.52</td>\n      <td>33.52</td>\n      <td>...</td>\n      <td>49.93</td>\n      <td>49.93</td>\n      <td>47.83</td>\n      <td>40.25</td>\n      <td>34.90</td>\n      <td>33.08</td>\n      <td>33.09</td>\n      <td>35.54</td>\n      <td>52.02</td>\n      <td>49.08</td>\n    </tr>\n    <tr>\n      <th>2014-08-21 19:00:00</th>\n      <td>43.34</td>\n      <td>39.73</td>\n      <td>39.03</td>\n      <td>38.04</td>\n      <td>36.47</td>\n      <td>35.12</td>\n      <td>33.97</td>\n      <td>33.52</td>\n      <td>33.52</td>\n      <td>34.16</td>\n      <td>...</td>\n      <td>49.93</td>\n      <td>47.83</td>\n      <td>40.25</td>\n      <td>34.90</td>\n      <td>33.08</td>\n      <td>33.09</td>\n      <td>35.54</td>\n      <td>52.02</td>\n      <td>49.08</td>\n      <td>41.95</td>\n    </tr>\n    <tr>\n      <th>2014-08-21 20:00:00</th>\n      <td>39.73</td>\n      <td>39.03</td>\n      <td>38.04</td>\n      <td>36.47</td>\n      <td>35.12</td>\n      <td>33.97</td>\n      <td>33.52</td>\n      <td>33.52</td>\n      <td>34.16</td>\n      <td>35.42</td>\n      <td>...</td>\n      <td>47.83</td>\n      <td>40.25</td>\n      <td>34.90</td>\n      <td>33.08</td>\n      <td>33.09</td>\n      <td>35.54</td>\n      <td>52.02</td>\n      <td>49.08</td>\n      <td>41.95</td>\n      <td>42.45</td>\n    </tr>\n    <tr>\n      <th>2014-08-21 21:00:00</th>\n      <td>39.03</td>\n      <td>38.04</td>\n      <td>36.47</td>\n      <td>35.12</td>\n      <td>33.97</td>\n      <td>33.52</td>\n      <td>33.52</td>\n      <td>34.16</td>\n      <td>35.42</td>\n      <td>35.56</td>\n      <td>...</td>\n      <td>40.25</td>\n      <td>34.90</td>\n      <td>33.08</td>\n      <td>33.09</td>\n      <td>35.54</td>\n      <td>52.02</td>\n      <td>49.08</td>\n      <td>41.95</td>\n      <td>42.45</td>\n      <td>39.49</td>\n    </tr>\n    <tr>\n      <th>2014-08-21 22:00:00</th>\n      <td>38.04</td>\n      <td>36.47</td>\n      <td>35.12</td>\n      <td>33.97</td>\n      <td>33.52</td>\n      <td>33.52</td>\n      <td>34.16</td>\n      <td>35.42</td>\n      <td>35.56</td>\n      <td>41.95</td>\n      <td>...</td>\n      <td>34.90</td>\n      <td>33.08</td>\n      <td>33.09</td>\n      <td>35.54</td>\n      <td>52.02</td>\n      <td>49.08</td>\n      <td>41.95</td>\n      <td>42.45</td>\n      <td>39.49</td>\n      <td>36.98</td>\n    </tr>\n    <tr>\n      <th>2014-08-21 23:00:00</th>\n      <td>36.47</td>\n      <td>35.12</td>\n      <td>33.97</td>\n      <td>33.52</td>\n      <td>33.52</td>\n      <td>34.16</td>\n      <td>35.42</td>\n      <td>35.56</td>\n      <td>41.95</td>\n      <td>49.93</td>\n      <td>...</td>\n      <td>33.08</td>\n      <td>33.09</td>\n      <td>35.54</td>\n      <td>52.02</td>\n      <td>49.08</td>\n      <td>41.95</td>\n      <td>42.45</td>\n      <td>39.49</td>\n      <td>36.98</td>\n      <td>51.01</td>\n    </tr>\n  </tbody>\n</table>\n<p>24 rows × 24 columns</p>\n</div>"
     },
     "metadata": {},
     "execution_count": 36
    }
   ],
   "source": [
    "price = recommend.electricity_prices_from_start_time(\"2014-08-21\")\n",
    "price\n",
    "#H0 prices for next 24 hours start at 00:00\n",
    "#H1 prices for next 24 hours start at 01:00"
   ]
  },
  {
   "cell_type": "markdown",
   "metadata": {
    "id": "5RwCKzj96MNC"
   },
   "source": [
    "#### **2.2.2 Device Launching Cost By Hour Of The Day**\n",
    "We compute the cost of operating the device at every given hour by multiplying the **day ahead electricity price** with the device's **typical load profile**. The latter typical load profile is generated by the **Load Agent** (for details see the Load Agent's notebook).\n",
    "\n",
    "As an output, we get the typical costs of operating the device for all possible 24 staring times."
   ]
  },
  {
   "cell_type": "markdown",
   "metadata": {},
   "source": [
    "**Note:** The Recommendation Agent's pipeline functions can be sped up by providing the predecessing agents' outputs directly. This Functionality will be used to evaluate the recommender systems performance."
   ]
  },
  {
   "cell_type": "code",
   "execution_count": 41,
   "metadata": {
    "id": "Sw6_cZkTxcGN"
   },
   "outputs": [],
   "source": [
    "def cost_by_starting_time(self, date, device, evaluation=False):\n",
    "    import numpy as np\n",
    "    import pandas as pd\n",
    "\n",
    "    # get electriciy prices following every device starting hour with previously defined function\n",
    "    prices = self.electricity_prices_from_start_time(date)\n",
    "\n",
    "    # build up table with typical load profile repeated for every hour (see Load_Agent)\n",
    "    if not evaluation:\n",
    "        device_load = self.Load_Agent.pipeline(self.load_input, date, self.shiftable_devices).loc[device]\n",
    "    else:\n",
    "        # get device load for one date\n",
    "        device_load = evaluation[\"load\"][date].loc[device]\n",
    "\n",
    "    device_load = pd.concat([device_load] * 24, axis=1)\n",
    "\n",
    "    # multiply both tables and aggregate costs for each starting hour\n",
    "    costs = np.array(prices) * np.array(device_load)\n",
    "    costs = np.sum(costs, axis=0)\n",
    "\n",
    "    # return an array of size 24 containing the total cost at each staring hour.\n",
    "    return costs\n",
    "\n",
    "setattr(Recommendation_Agent, 'cost_by_starting_time', cost_by_starting_time)\n",
    "del cost_by_starting_time"
   ]
  },
  {
   "cell_type": "markdown",
   "metadata": {
    "id": "gB-CZm3N3cGA"
   },
   "source": [
    "As can be seen below, the output returns the cost associated with starting the \"Washing machine\" on each hour of the \"2014-02-20\"."
   ]
  },
  {
   "cell_type": "code",
   "execution_count": 3,
   "metadata": {
    "colab": {
     "base_uri": "https://localhost:8080/"
    },
    "executionInfo": {
     "elapsed": 1771,
     "status": "ok",
     "timestamp": 1607623110516,
     "user": {
      "displayName": "Felix Germaine",
      "photoUrl": "",
      "userId": "07033484937606028650"
     },
     "user_tz": -60
    },
    "id": "d8YIwxgo1TQp",
    "outputId": "5414778a-785b-421e-eaf2-f2b04ff196a3"
   },
   "outputs": [
    {
     "ename": "NameError",
     "evalue": "name 'recommend' is not defined",
     "output_type": "error",
     "traceback": [
      "\u001B[1;31m---------------------------------------------------------------------------\u001B[0m",
      "\u001B[1;31mNameError\u001B[0m                                 Traceback (most recent call last)",
      "\u001B[1;32m<ipython-input-3-60a77f52054a>\u001B[0m in \u001B[0;36m<module>\u001B[1;34m\u001B[0m\n\u001B[1;32m----> 1\u001B[1;33m \u001B[0mrecommend\u001B[0m\u001B[1;33m.\u001B[0m\u001B[0mcost_by_starting_time\u001B[0m\u001B[1;33m(\u001B[0m\u001B[1;34m\"2014-02-20\"\u001B[0m\u001B[1;33m,\u001B[0m \u001B[1;34m\"Washing Machine\"\u001B[0m\u001B[1;33m)\u001B[0m\u001B[1;33m\u001B[0m\u001B[1;33m\u001B[0m\u001B[0m\n\u001B[0m\u001B[0;32m      2\u001B[0m \u001B[1;33m\u001B[0m\u001B[0m\n",
      "\u001B[1;31mNameError\u001B[0m: name 'recommend' is not defined"
     ]
    }
   ],
   "source": [
    "recommend.cost_by_starting_time(\"2014-02-20\", \"Washing Machine\")"
   ]
  },
  {
   "cell_type": "markdown",
   "metadata": {
    "id": "1dsiW7ba9CpI"
   },
   "source": [
    "### **2.3 Starting Time Recommendation For Each Device**\n",
    "\n",
    "We create a function that gives a starting time recommendation for a given device.\n",
    "\n",
    "1.   The function loads the **device usage costs associated with each starting time** (see above function).\n",
    "2.   In order **not** to recommend to start the device at an hour where the person is not home or at sleep, we exclude hours that have an  **activity probability below a certain threshold**. These probabilities are computed with the **Activity Agent**.\n",
    "3. In order **not** to make a recommendation when the household is unlikely to use the device on the next day anyway, we set a **device usage probability threshold** under which no recommendation is made. These usage probabilities are computed with the **Usage Agent**.\n"
   ]
  },
  {
   "cell_type": "markdown",
   "metadata": {
    "id": "bXU_oAlpBMjZ"
   },
   "source": [
    "The function outputs a dictionary with the best starting time, among the hours at which activity is likely enough. The output additionaly contains **\"no_recommend\"** flags, in order to signal that no recommendation should be made when :\n",
    "* There is no hour of the day where activity is likely enough (all hours of the day have an activity probability below the set threshold), then the **\"no_recommend_flag_activity\"** turns from 0 to 1.\n",
    "* The device usage is unlikely (below the set threshold), then the **\"no_recommend_flag_usage\"** turns from 0 to 1.\n"
   ]
  },
  {
   "cell_type": "code",
   "execution_count": 49,
   "metadata": {
    "id": "-vmE_0iKrHfS"
   },
   "outputs": [],
   "source": [
    "#return cheapest launching hour from the set of hours satifsfying:  probability of activity > threshold\n",
    "def recommend_by_device(self, date, device,  activity_prob_threshold, usage_prob_threshold, evaluation=False):\n",
    "    import numpy as np\n",
    "\n",
    "    split_params = {\n",
    "        \"train_start\": \"2013-11-01\",\n",
    "        \"test_delta\": {\"days\": 1, \"seconds\": -1},\n",
    "        \"target\": \"activity\",\n",
    "    }\n",
    "\n",
    "    # compute costs by launching time:\n",
    "    costs = self.cost_by_starting_time(date, device, evaluation=evaluation)\n",
    "\n",
    "    # compute activity probabilities\n",
    "    if not evaluation:\n",
    "        activity_probs = self.Activity_Agent.pipeline(self.activity_input, date, 'logit', split_params)\n",
    "    else:\n",
    "        # get activity probs for date\n",
    "        activity_probs = evaluation[\"activity\"][date]\n",
    "\n",
    "    # set values above threshold to 1. Values below to Inf\n",
    "    # (vector will be multiplied by costs, so that hours of little activity likelihood get cost = Inf)\n",
    "    activity_probs = np.where(activity_probs >= activity_prob_threshold, 1, float(\"Inf\"))\n",
    "\n",
    "    # add a flag in case all hours have likelihood smaller than threshold\n",
    "    no_recommend_flag_activity = 0\n",
    "    if np.min(activity_probs) == float(\"Inf\"):\n",
    "        no_recommend_flag_activity = 1\n",
    "\n",
    "    # compute cheapest hour from likely ones\n",
    "    best_hour = np.argmin(np.array(costs) * np.array(activity_probs))\n",
    "\n",
    "    # compute likelihood of usage:\n",
    "    if not evaluation:\n",
    "        usage_prob = self.Usage_Agent[device].pipeline(self.usage_input, date, 'logit', split_params[\"train_start\"])\n",
    "    else:\n",
    "        # get usage probs\n",
    "        name = \"usage_\" + device.replace(\" \", \"_\").replace(\"(\", \"\").replace(\")\", \"\").lower()\n",
    "        usage_prob = evaluation[name][date]\n",
    "\n",
    "    \n",
    "    no_recommend_flag_usage = 0\n",
    "    if usage_prob < usage_prob_threshold:\n",
    "        no_recommend_flag_usage = 1\n",
    "    else:\n",
    "        no_recommend_flag_usage = 0\n",
    "        if usage_prob < usage_prob_threshold:\n",
    "            no_recommend_flag_usage = 1\n",
    "\n",
    "    return {\n",
    "        \"recommendation_date\": [date],\n",
    "        \"device\": [device],\n",
    "        \"best_launch_hour\": [best_hour],\n",
    "        \"no_recommend_flag_activity\": [no_recommend_flag_activity],\n",
    "        \"no_recommend_flag_usage\": [no_recommend_flag_usage],\n",
    "        \"recommendation\": [best_hour if (no_recommend_flag_activity == 0 and no_recommend_flag_usage == 0)else np.nan]\n",
    "    }\n",
    "\n",
    "setattr(Recommendation_Agent, 'recommend_by_device', recommend_by_device)\n",
    "del recommend_by_device"
   ]
  },
  {
   "cell_type": "code",
   "execution_count": 51,
   "metadata": {
    "colab": {
     "base_uri": "https://localhost:8080/"
    },
    "executionInfo": {
     "elapsed": 3287,
     "status": "ok",
     "timestamp": 1607623112044,
     "user": {
      "displayName": "Felix Germaine",
      "photoUrl": "",
      "userId": "07033484937606028650"
     },
     "user_tz": -60
    },
    "id": "lluZpc8F8et9",
    "outputId": "312686b2-ae7e-44de-ee97-05321b9a1d87"
   },
   "outputs": [],
   "source": [
    "recommendation_by_decvice_dict = recommend.recommend_by_device(\"2014-08-21\", \"Dishwasher\", 0.3, 0.3, evaluation=False)"
   ]
  },
  {
   "cell_type": "code",
   "execution_count": 67,
   "metadata": {},
   "outputs": [
    {
     "output_type": "execute_result",
     "data": {
      "text/plain": [
       "{'recommendation_date': ['2014-08-21'],\n",
       " 'device': ['Dishwasher'],\n",
       " 'best_launch_hour': [12],\n",
       " 'no_recommend_flag_activity': [0],\n",
       " 'no_recommend_flag_usage': [0],\n",
       " 'recommendation': [12]}"
      ]
     },
     "metadata": {},
     "execution_count": 67
    }
   ],
   "source": [
    "recommendation_by_decvice_dict"
   ]
  },
  {
   "cell_type": "code",
   "execution_count": 78,
   "metadata": {},
   "outputs": [],
   "source": [
    "def visualize_recommendation_by_device(self, dict):\n",
    "    recommendation_date = str(dict['recommendation_date'][0])\n",
    "    recommendation_date = datetime.strptime(recommendation_date, '%Y-%m-%d')\n",
    "    recommendation_date = recommendation_date.strftime(format = \"%d.%m.%Y %H:%M\")\n",
    "    device = dict['device'][0]\n",
    "    best_launch_hour = dict['best_launch_hour'][0] \n",
    "    if (dict['no_recommend_flag_activity'][0]== 0 and dict['no_recommend_flag_usage'][0]==0) == True:\n",
    "        return print('You have one recommendation for the following device: ' + device + '\\nPlease use it on ' + recommendation_date[0:10] + ' at '+ recommendation_date[11:]+'.')\n",
    "\n",
    "setattr(Recommendation_Agent, 'visualize_recommendation_by_device', visualize_recommendation_by_device)\n",
    "del visualize_recommendation_by_device"
   ]
  },
  {
   "cell_type": "code",
   "execution_count": 2,
   "metadata": {},
   "outputs": [
    {
     "ename": "NameError",
     "evalue": "name 'recommend' is not defined",
     "output_type": "error",
     "traceback": [
      "\u001B[1;31m---------------------------------------------------------------------------\u001B[0m",
      "\u001B[1;31mNameError\u001B[0m                                 Traceback (most recent call last)",
      "\u001B[1;32m<ipython-input-2-ef0c61e0edb8>\u001B[0m in \u001B[0;36m<module>\u001B[1;34m\u001B[0m\n\u001B[1;32m----> 1\u001B[1;33m \u001B[0mrecommend\u001B[0m\u001B[1;33m.\u001B[0m\u001B[0mvisualize_recommendation_by_device\u001B[0m\u001B[1;33m(\u001B[0m\u001B[0mrecommendation_by_decvice_dict\u001B[0m\u001B[1;33m)\u001B[0m\u001B[1;33m\u001B[0m\u001B[1;33m\u001B[0m\u001B[0m\n\u001B[0m\u001B[0;32m      2\u001B[0m \u001B[1;33m\u001B[0m\u001B[0m\n",
      "\u001B[1;31mNameError\u001B[0m: name 'recommend' is not defined"
     ]
    }
   ],
   "source": [
    "recommend.visualize_recommendation_by_device(recommendation_by_decvice_dict)"
   ]
  },
  {
   "cell_type": "markdown",
   "metadata": {
    "id": "CF89d7XZDU4h"
   },
   "source": [
    "### **2.4 Create Recommendation Function For Entire Household**\n",
    "Finally, we wrap up the \"recommend_by_device\" function that makes a recommendation for each device, into the \"pipeline\" function that will make recommendations for all shiftable devices within a household."
   ]
  },
  {
   "cell_type": "code",
   "execution_count": 103,
   "metadata": {
    "id": "sdezBYJB9eLF"
   },
   "outputs": [],
   "source": [
    "def pipeline(self, date, activity_prob_threshold, usage_prob_threshold, evaluation=False, price=price):\n",
    "    import pandas as pd\n",
    "    \n",
    "    recommendations_by_device = self.recommend_by_device(date, self.shiftable_devices[0], model_type, activity_prob_threshold,              usage_prob_threshold, evaluation=evaluation)\n",
    "    recommendations_table = pd.DataFrame.from_dict(recommendations_by_device)\n",
    "\n",
    "    for device in self.shiftable_devices[1:]:\n",
    "        recommendations_by_device = self.recommend_by_device(date, device, , activity_prob_threshold, usage_prob_threshold, evaluation=evaluation)\n",
    "        recommendations_table = recommendations_table.append(pd.DataFrame.from_dict(recommendations_by_device))\n",
    "        #price = price\n",
    "        for i in range(len(recommendations_table)):\n",
    "            date_and_time = recommendations_table.recommendation_date.iloc[i] + ':' + str(recommendations_table.best_launch_hour.iloc[i])\n",
    "            \n",
    "            date_and_time =  datetime.strptime(date_and_time, '%Y-%m-%d:%H')\n",
    "\n",
    "            date_and_time_show = date_and_time.strftime(format = \"%d.%m.%Y %H:%M\") \n",
    "            date_and_time_price = date_and_time.strftime(format = \"%Y-%m-%d %H:%M:%S\") \n",
    "            price = price.filter(like=date_and_time_price, axis=0)['Price_at_H+0'].iloc[0]\t\n",
    "           \n",
    "            if (recommendations_table.no_recommend_flag_activity.iloc[i]==0 and recommendations_table.no_recommend_flag_usage.iloc[i]==0) == True:\n",
    "                output = print('You have a recommendation for the following device: ' + recommendations_table.device.iloc[i]+ '\\n\\n Please use the device on the ' + date_and_time_show[0:10] + ' at ' + date_and_time_show[11:] + ' Uhr because it cost you only ' + str(price) + ' €.\\n') \n",
    "                \n",
    "                return output\n",
    "\n",
    "setattr(Recommendation_Agent, 'pipeline', pipeline)\n",
    "del pipeline"
   ]
  },
  {
   "cell_type": "markdown",
   "metadata": {
    "id": "IeYj-a8Yt9Rt"
   },
   "source": [
    "We can then generate a recommendation for a household by specifying:\n",
    "1. The day to be recommended\n",
    "2. The \"activity_prob_threshold\" (hours that have a smaller probability of household activity are not considered for recommendation)\n",
    "3. The \"usage_probability_threshold\" (devices that have a smaller probability of usage are not considered for recommendation)\n",
    "\n",
    "**Note**:  It remains to be investigated at which value to set these thresholds."
   ]
  },
  {
   "cell_type": "code",
   "execution_count": 108,
   "metadata": {
    "colab": {
     "base_uri": "https://localhost:8080/"
    },
    "executionInfo": {
     "elapsed": 6068,
     "status": "ok",
     "timestamp": 1607623114836,
     "user": {
      "displayName": "Felix Germaine",
      "photoUrl": "",
      "userId": "07033484937606028650"
     },
     "user_tz": -60
    },
    "id": "OgkOjpNEMZTS",
    "outputId": "ba08901e-f70f-497e-852d-dff9836dabb4"
   },
   "outputs": [
    {
     "output_type": "stream",
     "name": "stdout",
     "text": [
      "You have a recommendation for the following device: Tumble Dryer\n\n Please use the device on the 21.08.2014 at 12:00 Uhr because it cost you only 36.01 €.\n\n"
     ]
    }
   ],
   "source": [
    "recommend.pipeline(date = \"2014-08-21\", model_type= \"logit\", activity_prob_threshold = 0.4,  usage_prob_threshold = 0.3, price=price)"
   ]
  },
  {
   "cell_type": "markdown",
   "metadata": {
    "id": "uGUEXy4TuzYZ"
   },
   "source": [
    "Finally, the system recommends to the user the \"best_launch_hour\" on the \"recommendation_date\" if both the \"no_recommend_flag_activity\" and \"no_recommend_flag_usage\" are at 0 for the given device. "
   ]
  },
  {
   "cell_type": "markdown",
   "metadata": {
    "id": "nBoWhJ55U2wb"
   },
   "source": [
    "## **Appendix A1: Complete Recommendation Agent Class**"
   ]
  },
  {
   "cell_type": "code",
   "execution_count": 19,
   "metadata": {
    "id": "4GG0aBAe4ODM"
   },
   "outputs": [],
   "source": [
    "class Recommendation_Agent:\n",
    "    def __init__(\n",
    "        self, activity_input, usage_input, load_input, price_input, shiftable_devices\n",
    "    ):\n",
    "        self.activity_input = activity_input\n",
    "        self.usage_input = usage_input\n",
    "        self.load_input = load_input\n",
    "        self.price_input = price_input\n",
    "        self.shiftable_devices = shiftable_devices\n",
    "        self.Activity_Agent = Activity_Agent(activity_input)\n",
    "        # create dicionnary with Usage_Agent for each device\n",
    "        self.Usage_Agent = {\n",
    "            name: Usage_Agent(usage_input, name) for name in shiftable_devices\n",
    "        }\n",
    "        self.Load_Agent = Load_Agent(load_input)\n",
    "        self.Price_Agent = Price_Agent(price_input)\n",
    "\n",
    "    # calculating costs\n",
    "    # -------------------------------------------------------------------------------------------\n",
    "    def electricity_prices_from_start_time(self, date):\n",
    "        import pandas as pd\n",
    "\n",
    "        prices_48 = self.Price_Agent.return_day_ahead_prices(date)\n",
    "        prices_from_start_time = pd.DataFrame()\n",
    "        for i in range(24):\n",
    "            prices_from_start_time[\"Price_at_H+\" + str(i)] = prices_48.shift(-i)\n",
    "        # delete last 24 hours\n",
    "        prices_from_start_time = prices_from_start_time[:-24]\n",
    "        return prices_from_start_time\n",
    "\n",
    "    def cost_by_starting_time(self, date, device, evaluation=False):\n",
    "        import numpy as np\n",
    "        import pandas as pd\n",
    "\n",
    "        # get electriciy prices following every device starting hour with previously defined function\n",
    "        prices = self.electricity_prices_from_start_time(date)\n",
    "        # build up table with typical load profile repeated for every hour (see Load_Agent)\n",
    "        if not evaluation:\n",
    "            device_load = self.Load_Agent.pipeline(\n",
    "                self.load_input, date, self.shiftable_devices\n",
    "            ).loc[device]\n",
    "        else:\n",
    "            # get device load for one date\n",
    "            device_load = evaluation[\"load\"][date].loc[device]\n",
    "        device_load = pd.concat([device_load] * 24, axis=1)\n",
    "        # multiply both tables and aggregate costs for each starting hour\n",
    "        costs = np.array(prices) * np.array(device_load)\n",
    "        costs = np.sum(costs, axis=0)\n",
    "        # return an array of size 24 containing the total cost at each staring hour.\n",
    "        return costs\n",
    "    \n",
    "    # creating recommendations\n",
    "    # -------------------------------------------------------------------------------------------\n",
    "    def recommend_by_device(\n",
    "        self,\n",
    "        date,\n",
    "        device,\n",
    "        model_type,\n",
    "        activity_prob_threshold,\n",
    "        usage_prob_threshold,\n",
    "        evaluation=False,\n",
    "    ):\n",
    "        import numpy as np\n",
    "\n",
    "        # add split params as input\n",
    "        # IN PARTICULAR --> Specify date to start training\n",
    "        split_params = {\n",
    "            \"train_start\": \"2013-11-01\",\n",
    "            \"test_delta\": {\"days\": 1, \"seconds\": -1},\n",
    "            \"target\": \"activity\",\n",
    "        }\n",
    "        # compute costs by launching time:\n",
    "        costs = self.cost_by_starting_time(date, device, evaluation=evaluation)\n",
    "        # compute activity probabilities\n",
    "        if not evaluation:\n",
    "            activity_probs = self.Activity_Agent.pipeline(self.activity_input, date, model_type, split_params)\n",
    "        else:\n",
    "            # get activity probs for date\n",
    "            activity_probs = evaluation[\"activity\"][date]\n",
    "\n",
    "        # set values above threshold to 1. Values below to Inf\n",
    "        # (vector will be multiplied by costs, so that hours of little activity likelihood get cost = Inf)\n",
    "        activity_probs = np.where(activity_probs >= activity_prob_threshold, 1, float(\"Inf\"))\n",
    "\n",
    "        # add a flag in case all hours have likelihood smaller than threshold\n",
    "        no_recommend_flag_activity = 0\n",
    "        if np.min(activity_probs) == float(\"Inf\"):\n",
    "            no_recommend_flag_activity = 1\n",
    "\n",
    "        # compute cheapest hour from likely ones\n",
    "        best_hour = np.argmin(np.array(costs) * np.array(activity_probs))\n",
    "\n",
    "        # compute likelihood of usage:\n",
    "        if not evaluation:\n",
    "            usage_prob = self.Usage_Agent[device].pipeline(self.usage_input, date, model_type, split_params[\"train_start\"])\n",
    "        else:\n",
    "            # get usage probs\n",
    "            name = (\"usage_\"+ device.replace(\" \", \"_\").replace(\"(\", \"\").replace(\")\", \"\").lower())\n",
    "            usage_prob = evaluation[name][date]\n",
    "\n",
    "        if model_type == 'logit':\n",
    "            no_recommend_flag_usage = 0\n",
    "            if (usage_prob < usage_prob_threshold).bool():\n",
    "            no_recommend_flag_usage = 1\n",
    "        else:\n",
    "            no_recommend_flag_usage = 0\n",
    "            if usage_prob < usage_prob_threshold:\n",
    "                no_recommend_flag_usage = 1\n",
    "\n",
    "        return {\n",
    "            \"recommendation_date\": [date],\n",
    "            \"device\": [device],\n",
    "            \"best_launch_hour\": [best_hour],\n",
    "            \"no_recommend_flag_activity\": [no_recommend_flag_activity],\n",
    "            \"no_recommend_flag_usage\": [no_recommend_flag_usage],\n",
    "            \"recommendation\": [\n",
    "                best_hour\n",
    "                if (no_recommend_flag_activity == 0 and no_recommend_flag_usage == 0)\n",
    "                else np.nan\n",
    "            ],\n",
    "        }\n",
    "\n",
    "    # vizualizing the recommendations\n",
    "    # -------------------------------------------------------------------------------------------\n",
    "    def recommendations_on_date_range(\n",
    "        self, date_range, activity_prob_threshold=0.6, usage_prob_threshold=0.5\n",
    "    ):\n",
    "        import pandas as pd\n",
    "\n",
    "        recommendations = []\n",
    "        for date in date_range:\n",
    "            recommendations.append(self.pipeline(date, activity_prob_threshold, usage_prob_threshold))\n",
    "            output = pd.concat(recommendations)\n",
    "        return output\n",
    "\n",
    "    def visualize_recommendations_on_date_range(self, recs):\n",
    "        import plotly.express as px\n",
    "        import plotly.graph_objects as go\n",
    "\n",
    "        fig = go.Figure()\n",
    "\n",
    "        for device in recs[\"device\"].unique():\n",
    "            plot_device = recs[recs[\"device\"] == device]\n",
    "            fig.add_trace(\n",
    "                go.Scatter(\n",
    "                    x=plot_device[\"recommendation_date\"],\n",
    "                    y=plot_device[\"recommendation\"],\n",
    "                    mode=\"lines\",\n",
    "                    name=device,\n",
    "                )\n",
    "            )\n",
    "        fig.show()\n",
    "\n",
    "    def histogram_recommendation_hour(self, recs):\n",
    "        import seaborn as sns\n",
    "\n",
    "        ax = sns.displot(recs, x=\"recommendation\", binwidth=1)\n",
    "        ax.set(xlabel=\"Hour of Recommendation\", ylabel=\"counts\")\n",
    "    \n",
    "    # pipeline function: create recommendations\n",
    "    # -------------------------------------------------------------------------------------------\n",
    "   def pipeline(self, date, model_type, activity_prob_threshold, usage_prob_threshold, evaluation=False, price=price):\n",
    "    import pandas as pd\n",
    "    \n",
    "    recommendations_by_device = self.recommend_by_device(date, self.shiftable_devices[0], model_type, activity_prob_threshold,              usage_prob_threshold, evaluation=evaluation)\n",
    "    recommendations_table = pd.DataFrame.from_dict(recommendations_by_device)\n",
    "\n",
    "    for device in self.shiftable_devices[1:]:\n",
    "        recommendations_by_device = self.recommend_by_device(date, device, model_type, activity_prob_threshold, usage_prob_threshold, evaluation=evaluation)\n",
    "        recommendations_table = recommendations_table.append(pd.DataFrame.from_dict(recommendations_by_device))\n",
    "        #price = price\n",
    "        for i in range(len(recommendations_table)):\n",
    "            date_and_time = recommendations_table.recommendation_date.iloc[i] + ':' + str(recommendations_table.best_launch_hour.iloc[i])\n",
    "            \n",
    "            date_and_time =  datetime.strptime(date_and_time, '%Y-%m-%d:%H')\n",
    "\n",
    "            date_and_time_show = date_and_time.strftime(format = \"%d.%m.%Y %H:%M\") \n",
    "            date_and_time_price = date_and_time.strftime(format = \"%Y-%m-%d %H:%M:%S\") \n",
    "            price = price.filter(like=date_and_time_price, axis=0)['Price_at_H+0'].iloc[0]\t\n",
    "            output = print('You have a recommendation for the following device: ' + recommendations_table.device.iloc[i]+ '\\n\\n Please use the device on the ' + date_and_time_show[0:10] + ' at ' + date_and_time_show[11:] + ' Uhr because it cost you only ' + str(price) + ' €.\\n') \n",
    "            if (recommendations_table.no_recommend_flag_activity.iloc[i]==0 and recommendations_table.no_recommend_flag_usage.iloc[i]==0) == True:\n",
    "                \n",
    "                return output"
   ]
  }
 ],
 "metadata": {
  "colab": {
   "collapsed_sections": [],
   "name": "04_Recommendation_Agent.ipynb",
   "provenance": [
    {
     "file_id": "14_CTWNFpGdlXrPilsUe_TiJhs9Sq9Auv",
     "timestamp": 1607441655852
    }
   ]
  },
  "interpreter": {
   "hash": "4cd7ab41f5fca4b9b44701077e38c5ffd31fe66a6cab21e0214b68d958d0e462"
  },
  "kernelspec": {
   "display_name": "Python 3",
   "name": "python3",
   "language": "python"
  },
  "language_info": {
   "codemirror_mode": {
    "name": "ipython",
    "version": 3
   },
   "file_extension": ".py",
   "mimetype": "text/x-python",
   "name": "python",
   "nbconvert_exporter": "python",
   "pygments_lexer": "ipython3",
   "version": "3.8.10"
  }
 },
 "nbformat": 4,
 "nbformat_minor": 4
}