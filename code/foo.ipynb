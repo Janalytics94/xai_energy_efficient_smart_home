{
 "metadata": {
  "language_info": {
   "codemirror_mode": {
    "name": "ipython",
    "version": 3
   },
   "file_extension": ".py",
   "mimetype": "text/x-python",
   "name": "python",
   "nbconvert_exporter": "python",
   "pygments_lexer": "ipython3",
   "version": "3.7.10-final"
  },
  "orig_nbformat": 2,
  "kernelspec": {
   "name": "venv",
   "display_name": "venv",
   "language": "python"
  }
 },
 "nbformat": 4,
 "nbformat_minor": 2,
 "cells": [
  {
   "cell_type": "code",
   "execution_count": 1,
   "metadata": {},
   "outputs": [],
   "source": [
    "import pandas as pd\n",
    "import numpy as np\n",
    "from sklearn.model_selection import train_test_split\n",
    "from collections import OrderedDict\n",
    "import time\n",
    "from sklearn.metrics import mean_squared_error,roc_auc_score,mean_absolute_error,log_loss\n",
    "\n",
    "from gammli.gammli import GAMMLI\n",
    "from gammli.dataReader import data_initialize\n",
    "from gammli.utils import local_visualize\n",
    "from gammli.utils import global_visualize_density\n",
    "from gammli.utils import feature_importance_visualize\n",
    "from gammli.utils import plot_trajectory\n",
    "from gammli.utils import plot_regularization\n",
    "import tensorflow as tf\n"
   ]
  },
  {
   "cell_type": "code",
   "execution_count": 3,
   "metadata": {},
   "outputs": [],
   "source": [
    "ebm = ExplainableBoostingClassifier()\n"
   ]
  },
  {
   "cell_type": "code",
   "execution_count": 2,
   "metadata": {},
   "outputs": [],
   "source": [
    "random_state = 0\n",
    "#data= pd.read_csv('data/simulation/sim_0.9_new.csv')\n",
    "task_type = \"Regression\"\n",
    "\n",
    "meta_info = OrderedDict()\n",
    "\n",
    "meta_info['x1']={'type': 'continues','source':'user'}\n",
    "meta_info['x2']={'type': 'continues','source':'user'}\n",
    "meta_info['x3']={'type': 'continues','source':'user'}\n",
    "meta_info['x4']={'type': 'continues','source':'user'}\n",
    "meta_info['x5']={'type': 'continues','source':'user'}\n",
    "meta_info['z1']={'type': 'continues','source':'item'}\n",
    "meta_info['z2']={'type': 'continues','source':'item'}\n",
    "meta_info['z3']={'type': 'continues','source':'item'}\n",
    "meta_info['z4']={'type': 'continues','source':'item'}\n",
    "meta_info['z5']={'type': 'continues','source':'item'}\n",
    "meta_info['user_id']={\"type\":\"id\",'source':'user'}\n",
    "meta_info['item_id']={\"type\":\"id\",'source':'item'}\n",
    "meta_info['target']={\"type\":\"target\",'source':''}\n"
   ]
  },
  {
   "cell_type": "code",
   "execution_count": null,
   "metadata": {},
   "outputs": [],
   "source": []
  }
 ]
}