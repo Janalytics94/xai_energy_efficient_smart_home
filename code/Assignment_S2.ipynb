{
 "cells": [
  {
   "cell_type": "markdown",
   "metadata": {},
   "source": [
    "*written by: Julia Knoblauch, Jana Vihs, Annika Boer, Kai Ingo Schewina*"
   ]
  },
  {
   "cell_type": "markdown",
   "metadata": {},
   "source": [
    "# Explainable Recommendation Systems for Energy-Efficient Smart Home"
   ]
  },
  {
   "cell_type": "markdown",
   "metadata": {},
   "source": [
    "requirements.txt"
   ]
  },
  {
   "cell_type": "markdown",
   "metadata": {},
   "source": [
    "# To do:\n",
    "- Annika: xgboost, lime liste von outputs\n",
    "- Jana: GAMMLI - output, recommendation after weather & xai\n",
    "- Julia: activity eval fertig machen, usage eval sobald hourly, shap liste outputs\n",
    "- Kai: usage hourly, weather dass pipeline runnt\n",
    "\n",
    "Weiteres:\n",
    "- EDA: auf germain paper anpassen und für weather updaten\n",
    "- evaluierung runnen für (alle) households\n",
    "- explanability agent erstellen: activity_agent & usage agent zusammenführen für recommendation\n",
    "- hyperparameter tuning: über performance evaluation agent\n",
    "- (other datasets)\n",
    "\n",
    "Sammlung Hinweise:\n",
    "- warning bei usage/load wenn man evaluierung runnt zu format --> beheben?\n",
    "(warning bei auc/load: A column-vector y was passed when a 1d array was expected. Please change the shape of y to (n_samples, ), for example using ravel().)\n",
    "- xgb: use_label_encoder=False eingestellt damit warning weg geht: problem?\n",
    "- explainability evaluation atm only test first 3 rows (set to len(X_test)) for final eval"
   ]
  },
  {
   "cell_type": "markdown",
   "source": [
    "## Abstract\n",
    "should actually be before TOC and not numbered"
   ],
   "metadata": {
    "collapsed": false
   }
  },
  {
   "cell_type": "markdown",
   "source": [
    "## Table of contents\n",
    "\n",
    "1. Introduction:\n",
    "    - Problem setting: ?\n",
    "    - Current Recommender System --> agents + Bild (Jana)\n",
    "\n",
    "2. Literature Review (Kai) --> Tabelle\n",
    "    - Explainable AI (XAI): review zusammenfassen und aktualisieren\n",
    "    - Recommender Systems in SH: Fokus\n",
    "    - Explainability in RS: Fokus\n",
    "3. Methodology (i.e., the ML techniques that you apply)\n",
    "    - Recommender System??\n",
    "    - Algorithms XAI\n",
    "        - Taxonomy (Bild) (Annika)\n",
    "        - Model-intrinsic (Annika)\n",
    "        - Model-agnostic (Machine Learning Interpretability: A Survey on Methods and Metrics)\n",
    "            - LIME (Annika)\n",
    "            - SHAP (Julia)\n",
    "            - other approaches?\n",
    "        - vorgestellte Tabelle aus Präsi formaler --> Vergleich\n",
    "    - Algorithms prediction (Jana, Formel für finales Modell, mit paper)\n",
    "        xgboost, adaboost, knn, logit, rf, glm?\n",
    "\n",
    "4. Experimental Design (including EDA, data organization, performance measures, etc.)\n",
    "    - data organization (+ EDA von denen auf Wetterdaten + NAs Wetterdaten)\n",
    "        - agents system (Bild) (Jana)\n",
    "        - restriction to 2 households\n",
    "        - with & without weather data (EDA, Struktur, Herkunft) (Kai)\n",
    "    - Evaluation\n",
    "        - Performance (Kai?)\n",
    "        - Explainability (feature importance) (Julia, Annika)\n",
    "5. Results\n",
    "    - Performance (Kai?)\n",
    "    - Explainability (Julia, Annika)\n",
    "    - Decision for model & XAI model\n",
    "    - Final result of RS: Recommendation + Explanation (Jana)\n",
    "6. Discussion\n",
    "    - ...\n",
    "    - Contributions\n",
    "    - Limitations\n",
    "    - Implications\n",
    "    - Recommendations\n",
    "    - Future Research: Neural Networks\n",
    "\n",
    "e.g. include:\n",
    "    - no user\n",
    "    - runtime problems\n",
    "        - api weather data \n",
    "        - 4 models, 20 households\n",
    "        - Beispiel, wie lange es dauern würde, eine recommendation zu laden (aber nur 1x am Tag)\n",
    "\n",
    "7. Conclusion\n",
    "References"
   ],
   "metadata": {
    "collapsed": false
   }
  },
  {
   "cell_type": "markdown",
   "source": [
    "## 1. Introduction"
   ],
   "metadata": {
    "collapsed": false,
    "pycharm": {
     "name": "#%% md\n"
    }
   }
  },
  {
   "cell_type": "markdown",
   "source": [
    "## 2. Literature Review\n",
    "https://christophm.github.io/interpretable-ml-book/\n",
    "\n",
    "### Explainable AI (XAI): review zusammenfassen und aktualisieren\n",
    "### Recommender Systems in SH: Fokus\n",
    "#### Explainability in RS: Fokus"
   ],
   "metadata": {
    "collapsed": false
   }
  },
  {
   "cell_type": "markdown",
   "source": [
    "## 3. Methodology\n",
    "\n",
    "### 3.1 Recommender System"
   ],
   "metadata": {
    "collapsed": false,
    "pycharm": {
     "name": "#%% md\n"
    }
   }
  },
  {
   "cell_type": "markdown",
   "source": [
    "### 3.2 XAI Alogorithms\n",
    "### Taxonomy?\n",
    "### Model intrinsic\n",
    "Logit as benchmark?, GAMMLI, Random Forest\n",
    "### Model Agnostic Approaches"
   ],
   "metadata": {
    "collapsed": false,
    "pycharm": {
     "name": "#%% md\n"
    }
   }
  },
  {
   "cell_type": "markdown",
   "source": [
    "### LIME\n",
    "To do:\n",
    "Is mode= 'regression' correct?\n",
    "\n",
    "xgboost: resources to implement\n",
    "https://github.com/marcotcr/lime/issues/334\n",
    "https://github.com/adriamoya/xgboost_default_companies/blob/master/main.py"
   ],
   "metadata": {
    "collapsed": false
   }
  },
  {
   "cell_type": "markdown",
   "source": [
    "### SHAP\n",
    "Aktueller Stand:\n",
    "logit: kernel (linearExplainer möglich aber dann anderes array als output für shapley values)\n",
    "ada: kernel (eigene implementierung in treee shap möglich aber internetversion hat bei mir auf die schnelle nicht funktioniert)\n",
    "knn: kernel, mask doesnt work\n",
    "rf: tree without predict proba\n",
    "xgb: tree\n",
    "\n",
    "Möglichkeit:\n",
    "X_test ganz berechnen: aber glaub gar nicht so viel schneller und\n",
    "Zeit wäre verzerrt\n",
    "\n",
    "Aktuell implementiert für KernelExplainer: vorher kmeans weil viel schneller\n",
    "aber keine info zu tradeoff und keine wirklichen recommendations wie k= gesetzt werden sollte\n"
   ],
   "metadata": {
    "collapsed": false
   }
  },
  {
   "cell_type": "markdown",
   "source": [
    "### Other approaches to research:\n",
    "https://www.linkedin.com/posts/hima-lakkaraju-b130217_himachilpptx-activity-6814735906092703744-fOYe/\n",
    "https://interpretable-ml-class.github.io/\n",
    "https://github.com/anguyen8/XAI-papers\n",
    "https://towardsdatascience.com/the-how-of-explainable-ai-explainable-modelling-55c8c43d7bed\n",
    "https://github.com/SeldonIO/alibi\n",
    "https://github.com/pbiecek/xai_resources\n",
    "https://github.com/interpretml/interpret\n",
    "\n",
    "**MUSE**\n",
    "chrome-extension://efaidnbmnnnibpcajpcglclefindmkaj/viewer.html?pdfurl=https%3A%2F%2Fcs.stanford.edu%2Fpeople%2Fjure%2Fpubs%2Fexplanations-aies19.pdf&clen=1929781&chunk=true\n",
    "\n",
    "**BETA**\n",
    "https://arxiv.org/pdf/1707.01154.pdf\n",
    "\n",
    "**Anchors**\n",
    "https://homes.cs.washington.edu/~marcotcr/aaai18.pdf\n",
    "https://github.com/marcotcr/anchor"
   ],
   "metadata": {
    "collapsed": false
   }
  },
  {
   "cell_type": "markdown",
   "source": [
    "### 3.3 Prediction Algorithms\n",
    "**XGBoost**\n",
    "\n",
    "**AdaBoost**\n",
    "\n",
    "**K-Nearest-Neighbour**\n",
    "\n",
    "**Logistic Regression**\n",
    "\n",
    "**Random Forest**"
   ],
   "metadata": {
    "collapsed": false,
    "pycharm": {
     "name": "#%% md\n"
    }
   },
   "outputs": [],
   "execution_count": 1
  },
  {
   "cell_type": "markdown",
   "source": [
    "### XGBoost\n",
    "\n",
    "Achtung: depreciation warning for XGB\n",
    "--> label encoder = False eingestellt\n",
    "--> noch mehr verändern?"
   ],
   "metadata": {
    "collapsed": false,
    "pycharm": {
     "name": "#%% md\n"
    }
   }
  },
  {
   "cell_type": "markdown",
   "source": [],
   "metadata": {
    "collapsed": false,
    "pycharm": {
     "name": "#%% md\n"
    }
   }
  },
  {
   "cell_type": "markdown",
   "source": [],
   "metadata": {
    "collapsed": false,
    "pycharm": {
     "name": "#%% md\n"
    }
   }
  },
  {
   "cell_type": "markdown",
   "source": [
    "## 6. Discussion and Limitations"
   ],
   "metadata": {
    "collapsed": false,
    "pycharm": {
     "name": "#%% md\n"
    }
   }
  },
  {
   "cell_type": "markdown",
   "source": [],
   "metadata": {
    "collapsed": false,
    "pycharm": {
     "name": "#%% md\n"
    }
   }
  },
  {
   "cell_type": "markdown",
   "source": [
    "## 7. Conclusion"
   ],
   "metadata": {
    "collapsed": false,
    "pycharm": {
     "name": "#%% md\n"
    }
   }
  },
  {
   "cell_type": "markdown",
   "source": [
    "## References"
   ],
   "metadata": {
    "collapsed": false,
    "pycharm": {
     "name": "#%% md\n"
    }
   }
  }
 ],
 "metadata": {
  "kernelspec": {
   "display_name": "Python 3",
   "language": "python",
   "name": "python3"
  },
  "language_info": {
   "codemirror_mode": {
    "name": "ipython",
    "version": 3
   },
   "file_extension": ".py",
   "mimetype": "text/x-python",
   "name": "python",
   "nbconvert_exporter": "python",
   "pygments_lexer": "ipython3",
   "version": "3.8.3"
  }
 },
 "nbformat": 4,
 "nbformat_minor": 4
}