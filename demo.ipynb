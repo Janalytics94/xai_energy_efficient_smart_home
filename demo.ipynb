{
 "metadata": {
  "language_info": {
   "codemirror_mode": {
    "name": "ipython",
    "version": 3
   },
   "file_extension": ".py",
   "mimetype": "text/x-python",
   "name": "python",
   "nbconvert_exporter": "python",
   "pygments_lexer": "ipython3",
   "version": "3.7.6"
  },
  "orig_nbformat": 2,
  "kernelspec": {
   "name": "python376jvsc74a57bd0071f8e175e610456ffef36eadb93170812a404d84379bd5715daa9aecae9ca07",
   "display_name": "Python 3.7.6 64-bit ('base': conda)"
  }
 },
 "nbformat": 4,
 "nbformat_minor": 2,
 "cells": [
  {
   "source": [
    "# Explainable Recommendation Systems in Energy‐Efficient Smart Home\n",
    "\n",
    "- **Table of Contents:**\n",
    "\n",
    "    - Introduction\n",
    "    - Review of related literature\n",
    "    - Methodology (i.e., the ML techniques that you apply)\n",
    "    - Experimental design (including EDA, data organization, performance measures, etc.)\n",
    "    - Presentation and discussion of empirical results \n",
    "    - Conclusions\n"
   ],
   "cell_type": "markdown",
   "metadata": {}
  },
  {
   "cell_type": "code",
   "execution_count": null,
   "metadata": {},
   "outputs": [],
   "source": []
  },
  {
   "cell_type": "code",
   "execution_count": null,
   "metadata": {},
   "outputs": [],
   "source": []
  }
 ]
}